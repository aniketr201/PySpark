{
 "cells": [
  {
   "cell_type": "markdown",
   "id": "23ac4e0c",
   "metadata": {},
   "source": [
    "<H1 align = 'Center'> Spark Higher Level APIs </H1>\n",
    "<H3> => Assignment 1 : Spark Tables </H3>\n",
    "<BR>"
   ]
  },
  {
   "cell_type": "code",
   "execution_count": 1,
   "id": "41e40be3",
   "metadata": {},
   "outputs": [],
   "source": [
    "from pyspark.sql import SparkSession"
   ]
  },
  {
   "cell_type": "code",
   "execution_count": 2,
   "id": "d161d29c",
   "metadata": {},
   "outputs": [],
   "source": [
    "spark = SparkSession.builder. \\\n",
    "config(\"spark.ui.port\",\"0\"). \\\n",
    "config(\"spark.sql.warehouse.dir\",\"/user/itv012857/warehouse\"). \\\n",
    "enableHiveSupport(). \\\n",
    "master(\"yarn\"). \\\n",
    "getOrCreate()"
   ]
  },
  {
   "cell_type": "code",
   "execution_count": null,
   "id": "bd2bbf36",
   "metadata": {},
   "outputs": [],
   "source": [
    "spark.sql(\"create database itv012857_groceries\")"
   ]
  },
  {
   "cell_type": "code",
   "execution_count": 30,
   "id": "ea1d1e82",
   "metadata": {},
   "outputs": [
    {
     "data": {
      "text/html": [
       "<table border='1'>\n",
       "<tr><th></th></tr>\n",
       "</table>\n"
      ],
      "text/plain": [
       "++\n",
       "||\n",
       "++\n",
       "++"
      ]
     },
     "execution_count": 30,
     "metadata": {},
     "output_type": "execute_result"
    }
   ],
   "source": [
    "spark.sql(\"use itv012857_groceries\")"
   ]
  },
  {
   "cell_type": "markdown",
   "id": "2e1bda8c",
   "metadata": {},
   "source": [
    "### 1. Create a Managed Spark table using the file - /public/trendytech/groceries.csv"
   ]
  },
  {
   "cell_type": "code",
   "execution_count": 31,
   "id": "1dcaa20e",
   "metadata": {},
   "outputs": [],
   "source": [
    "spark.sql(\"DROP TABLE groceries;\");"
   ]
  },
  {
   "cell_type": "code",
   "execution_count": 32,
   "id": "84d62881",
   "metadata": {},
   "outputs": [
    {
     "data": {
      "text/html": [
       "<table border='1'>\n",
       "<tr><th></th></tr>\n",
       "</table>\n"
      ],
      "text/plain": [
       "++\n",
       "||\n",
       "++\n",
       "++"
      ]
     },
     "execution_count": 32,
     "metadata": {},
     "output_type": "execute_result"
    }
   ],
   "source": [
    "spark.sql(\"CREATE TABLE groceries(order_id string, \\\n",
    "            location string, item string, order_date date, \\\n",
    "            quantity int) \\\n",
    "          \")"
   ]
  },
  {
   "cell_type": "code",
   "execution_count": 33,
   "id": "cae2806c",
   "metadata": {},
   "outputs": [
    {
     "name": "stdout",
     "output_type": "stream",
     "text": [
      "+----------------------------+---------------------------------------------------------------------------------------+-------+\n",
      "|col_name                    |data_type                                                                              |comment|\n",
      "+----------------------------+---------------------------------------------------------------------------------------+-------+\n",
      "|order_id                    |string                                                                                 |null   |\n",
      "|location                    |string                                                                                 |null   |\n",
      "|item                        |string                                                                                 |null   |\n",
      "|order_date                  |date                                                                                   |null   |\n",
      "|quantity                    |int                                                                                    |null   |\n",
      "|                            |                                                                                       |       |\n",
      "|# Detailed Table Information|                                                                                       |       |\n",
      "|Database                    |itv012857_groceries                                                                    |       |\n",
      "|Table                       |groceries                                                                              |       |\n",
      "|Owner                       |itv012857                                                                              |       |\n",
      "|Created Time                |Wed Jul 10 02:09:23 EDT 2024                                                           |       |\n",
      "|Last Access                 |UNKNOWN                                                                                |       |\n",
      "|Created By                  |Spark 3.1.2                                                                            |       |\n",
      "|Type                        |MANAGED                                                                                |       |\n",
      "|Provider                    |hive                                                                                   |       |\n",
      "|Table Properties            |[transient_lastDdlTime=1720591763]                                                     |       |\n",
      "|Location                    |hdfs://m01.itversity.com:9000/user/itv012857/warehouse/itv012857_groceries.db/groceries|       |\n",
      "|Serde Library               |org.apache.hadoop.hive.serde2.lazy.LazySimpleSerDe                                     |       |\n",
      "|InputFormat                 |org.apache.hadoop.mapred.TextInputFormat                                               |       |\n",
      "|OutputFormat                |org.apache.hadoop.hive.ql.io.HiveIgnoreKeyTextOutputFormat                             |       |\n",
      "+----------------------------+---------------------------------------------------------------------------------------+-------+\n",
      "only showing top 20 rows\n",
      "\n"
     ]
    }
   ],
   "source": [
    "spark.sql(\"describe extended groceries\").show(truncate = False)"
   ]
  },
  {
   "cell_type": "code",
   "execution_count": 34,
   "id": "607de2e0",
   "metadata": {},
   "outputs": [],
   "source": [
    "groceries_df = spark.read.csv(\"/public/trendytech/groceries.csv\", header = \"true\")"
   ]
  },
  {
   "cell_type": "code",
   "execution_count": 35,
   "id": "e7a3aa95",
   "metadata": {},
   "outputs": [
    {
     "name": "stdout",
     "output_type": "stream",
     "text": [
      "root\n",
      " |-- order_id: string (nullable = true)\n",
      " |-- location: string (nullable = true)\n",
      " |-- item: string (nullable = true)\n",
      " |-- order_date: string (nullable = true)\n",
      " |-- quantity: string (nullable = true)\n",
      "\n"
     ]
    }
   ],
   "source": [
    "groceries_df.printSchema()"
   ]
  },
  {
   "cell_type": "code",
   "execution_count": 36,
   "id": "3e7e9f96",
   "metadata": {},
   "outputs": [
    {
     "name": "stdout",
     "output_type": "stream",
     "text": [
      "+--------+---------+--------+----------+--------+\n",
      "|order_id| location|    item|order_date|quantity|\n",
      "+--------+---------+--------+----------+--------+\n",
      "|      o1|  Seattle| Bananas|01/01/2017|       7|\n",
      "|      o2|     Kent|  Apples|02/01/2017|      20|\n",
      "|      o3| Bellevue| Flowers|02/01/2017|      10|\n",
      "|      o4|  Redmond|    Meat|03/01/2017|      40|\n",
      "|      o5|  Seattle|Potatoes|04/01/2017|       9|\n",
      "|      o6| Bellevue|   Bread|04/01/2017|       5|\n",
      "|      o7|  Redmond|   Bread|05/01/2017|       5|\n",
      "|      o8| Issaquah|   Onion|05/01/2017|       4|\n",
      "|      o9|  Redmond|  Cheese|05/01/2017|      15|\n",
      "|     o10| Issaquah|   Onion|06/01/2017|       4|\n",
      "|     o11|   Renton|   Bread|05/01/2017|       5|\n",
      "|     o12| Issaquah|   Onion|07/01/2017|       4|\n",
      "|     o13|Sammamish|   Bread|07/01/2017|       5|\n",
      "|     o14| Issaquah|  Tomato|07/01/2017|       6|\n",
      "|     o15| Issaquah|    Meat|08/01/2017|       3|\n",
      "|     o16| Issaquah|    Meat|09/01/2017|       5|\n",
      "|     o17| Issaquah|    Meat|10/01/2017|       6|\n",
      "|     o18| Bellevue|   Bread|11/01/2017|       7|\n",
      "|     o19| Bellevue|   Bread|12/01/2017|      54|\n",
      "|     o20| Bellevue|   Bread|13/01/2017|      34|\n",
      "+--------+---------+--------+----------+--------+\n",
      "only showing top 20 rows\n",
      "\n"
     ]
    }
   ],
   "source": [
    "groceries_df.show()"
   ]
  },
  {
   "cell_type": "code",
   "execution_count": 37,
   "id": "a7cc1ac0",
   "metadata": {},
   "outputs": [],
   "source": [
    "groceries_df.createOrReplaceTempView(\"groceries_view\")"
   ]
  },
  {
   "cell_type": "code",
   "execution_count": 38,
   "id": "f7dabbb0",
   "metadata": {},
   "outputs": [
    {
     "data": {
      "text/html": [
       "<table border='1'>\n",
       "<tr><th>col_name</th><th>data_type</th><th>comment</th></tr>\n",
       "<tr><td>order_id</td><td>string</td><td>null</td></tr>\n",
       "<tr><td>location</td><td>string</td><td>null</td></tr>\n",
       "<tr><td>item</td><td>string</td><td>null</td></tr>\n",
       "<tr><td>order_date</td><td>string</td><td>null</td></tr>\n",
       "<tr><td>quantity</td><td>string</td><td>null</td></tr>\n",
       "</table>\n"
      ],
      "text/plain": [
       "+----------+---------+-------+\n",
       "|  col_name|data_type|comment|\n",
       "+----------+---------+-------+\n",
       "|  order_id|   string|   null|\n",
       "|  location|   string|   null|\n",
       "|      item|   string|   null|\n",
       "|order_date|   string|   null|\n",
       "|  quantity|   string|   null|\n",
       "+----------+---------+-------+"
      ]
     },
     "execution_count": 38,
     "metadata": {},
     "output_type": "execute_result"
    }
   ],
   "source": [
    "spark.sql(\"describe table groceries_view\")"
   ]
  },
  {
   "cell_type": "code",
   "execution_count": 39,
   "id": "caad9741",
   "metadata": {},
   "outputs": [
    {
     "data": {
      "text/html": [
       "<table border='1'>\n",
       "<tr><th></th></tr>\n",
       "</table>\n"
      ],
      "text/plain": [
       "++\n",
       "||\n",
       "++\n",
       "++"
      ]
     },
     "execution_count": 39,
     "metadata": {},
     "output_type": "execute_result"
    }
   ],
   "source": [
    "spark.sql(\"INSERT INTO groceries \\\n",
    "           SELECT order_id, location, item, to_date(order_date,'dd/mm/yyyy'), CAST(quantity as int) \\\n",
    "              FROM groceries_view\")"
   ]
  },
  {
   "cell_type": "code",
   "execution_count": 40,
   "id": "b5cb80be",
   "metadata": {},
   "outputs": [
    {
     "data": {
      "text/html": [
       "<table border='1'>\n",
       "<tr><th>order_id</th><th>location</th><th>item</th><th>order_date</th><th>quantity</th></tr>\n",
       "<tr><td>o1</td><td>Seattle</td><td>Bananas</td><td>2017-01-01</td><td>7</td></tr>\n",
       "<tr><td>o2</td><td>Kent</td><td>Apples</td><td>2017-01-02</td><td>20</td></tr>\n",
       "<tr><td>o3</td><td>Bellevue</td><td>Flowers</td><td>2017-01-02</td><td>10</td></tr>\n",
       "<tr><td>o4</td><td>Redmond</td><td>Meat</td><td>2017-01-03</td><td>40</td></tr>\n",
       "<tr><td>o5</td><td>Seattle</td><td>Potatoes</td><td>2017-01-04</td><td>9</td></tr>\n",
       "<tr><td>o6</td><td>Bellevue</td><td>Bread</td><td>2017-01-04</td><td>5</td></tr>\n",
       "<tr><td>o7</td><td>Redmond</td><td>Bread</td><td>2017-01-05</td><td>5</td></tr>\n",
       "<tr><td>o8</td><td>Issaquah</td><td>Onion</td><td>2017-01-05</td><td>4</td></tr>\n",
       "<tr><td>o9</td><td>Redmond</td><td>Cheese</td><td>2017-01-05</td><td>15</td></tr>\n",
       "<tr><td>o10</td><td>Issaquah</td><td>Onion</td><td>2017-01-06</td><td>4</td></tr>\n",
       "<tr><td>o11</td><td>Renton</td><td>Bread</td><td>2017-01-05</td><td>5</td></tr>\n",
       "<tr><td>o12</td><td>Issaquah</td><td>Onion</td><td>2017-01-07</td><td>4</td></tr>\n",
       "<tr><td>o13</td><td>Sammamish</td><td>Bread</td><td>2017-01-07</td><td>5</td></tr>\n",
       "<tr><td>o14</td><td>Issaquah</td><td>Tomato</td><td>2017-01-07</td><td>6</td></tr>\n",
       "<tr><td>o15</td><td>Issaquah</td><td>Meat</td><td>2017-01-08</td><td>3</td></tr>\n",
       "<tr><td>o16</td><td>Issaquah</td><td>Meat</td><td>2017-01-09</td><td>5</td></tr>\n",
       "<tr><td>o17</td><td>Issaquah</td><td>Meat</td><td>2017-01-10</td><td>6</td></tr>\n",
       "<tr><td>o18</td><td>Bellevue</td><td>Bread</td><td>2017-01-11</td><td>7</td></tr>\n",
       "<tr><td>o19</td><td>Bellevue</td><td>Bread</td><td>2017-01-12</td><td>54</td></tr>\n",
       "<tr><td>o20</td><td>Bellevue</td><td>Bread</td><td>2017-01-13</td><td>34</td></tr>\n",
       "</table>\n",
       "only showing top 20 rows\n"
      ],
      "text/plain": [
       "+--------+---------+--------+----------+--------+\n",
       "|order_id| location|    item|order_date|quantity|\n",
       "+--------+---------+--------+----------+--------+\n",
       "|      o1|  Seattle| Bananas|2017-01-01|       7|\n",
       "|      o2|     Kent|  Apples|2017-01-02|      20|\n",
       "|      o3| Bellevue| Flowers|2017-01-02|      10|\n",
       "|      o4|  Redmond|    Meat|2017-01-03|      40|\n",
       "|      o5|  Seattle|Potatoes|2017-01-04|       9|\n",
       "|      o6| Bellevue|   Bread|2017-01-04|       5|\n",
       "|      o7|  Redmond|   Bread|2017-01-05|       5|\n",
       "|      o8| Issaquah|   Onion|2017-01-05|       4|\n",
       "|      o9|  Redmond|  Cheese|2017-01-05|      15|\n",
       "|     o10| Issaquah|   Onion|2017-01-06|       4|\n",
       "|     o11|   Renton|   Bread|2017-01-05|       5|\n",
       "|     o12| Issaquah|   Onion|2017-01-07|       4|\n",
       "|     o13|Sammamish|   Bread|2017-01-07|       5|\n",
       "|     o14| Issaquah|  Tomato|2017-01-07|       6|\n",
       "|     o15| Issaquah|    Meat|2017-01-08|       3|\n",
       "|     o16| Issaquah|    Meat|2017-01-09|       5|\n",
       "|     o17| Issaquah|    Meat|2017-01-10|       6|\n",
       "|     o18| Bellevue|   Bread|2017-01-11|       7|\n",
       "|     o19| Bellevue|   Bread|2017-01-12|      54|\n",
       "|     o20| Bellevue|   Bread|2017-01-13|      34|\n",
       "+--------+---------+--------+----------+--------+\n",
       "only showing top 20 rows"
      ]
     },
     "execution_count": 40,
     "metadata": {},
     "output_type": "execute_result"
    }
   ],
   "source": [
    "spark.sql(\"SELECT * FROM groceries\")"
   ]
  },
  {
   "cell_type": "markdown",
   "id": "82de5030",
   "metadata": {},
   "source": [
    "### 2. Create an External Spark table using the same file - /public/trendytech/groceries.csv"
   ]
  },
  {
   "cell_type": "code",
   "execution_count": 41,
   "id": "7234e4ef",
   "metadata": {},
   "outputs": [
    {
     "data": {
      "text/html": [
       "<table border='1'>\n",
       "<tr><th></th></tr>\n",
       "</table>\n"
      ],
      "text/plain": [
       "++\n",
       "||\n",
       "++\n",
       "++"
      ]
     },
     "execution_count": 41,
     "metadata": {},
     "output_type": "execute_result"
    }
   ],
   "source": [
    "spark.sql(\"DROP TABLE ext_groceries\")"
   ]
  },
  {
   "cell_type": "code",
   "execution_count": 42,
   "id": "5ebe1f64",
   "metadata": {},
   "outputs": [
    {
     "data": {
      "text/html": [
       "<table border='1'>\n",
       "<tr><th></th></tr>\n",
       "</table>\n"
      ],
      "text/plain": [
       "++\n",
       "||\n",
       "++\n",
       "++"
      ]
     },
     "execution_count": 42,
     "metadata": {},
     "output_type": "execute_result"
    }
   ],
   "source": [
    "spark.sql(\"CREATE TABLE ext_groceries(order_id string, \\\n",
    "            location string, item string, order_date string, \\\n",
    "            quantity int) \\\n",
    "            USING CSV \\\n",
    "            LOCATION '/public/trendytech/groceries.csv' \\\n",
    "            OPTIONS ( header 'true') \\\n",
    "          \")"
   ]
  },
  {
   "cell_type": "code",
   "execution_count": 43,
   "id": "5c668f1c",
   "metadata": {},
   "outputs": [
    {
     "data": {
      "text/html": [
       "<table border='1'>\n",
       "<tr><th>order_id</th><th>location</th><th>item</th><th>order_date</th><th>quantity</th></tr>\n",
       "<tr><td>o1</td><td>Seattle</td><td>Bananas</td><td>01/01/2017</td><td>7</td></tr>\n",
       "<tr><td>o2</td><td>Kent</td><td>Apples</td><td>02/01/2017</td><td>20</td></tr>\n",
       "<tr><td>o3</td><td>Bellevue</td><td>Flowers</td><td>02/01/2017</td><td>10</td></tr>\n",
       "<tr><td>o4</td><td>Redmond</td><td>Meat</td><td>03/01/2017</td><td>40</td></tr>\n",
       "<tr><td>o5</td><td>Seattle</td><td>Potatoes</td><td>04/01/2017</td><td>9</td></tr>\n",
       "<tr><td>o6</td><td>Bellevue</td><td>Bread</td><td>04/01/2017</td><td>5</td></tr>\n",
       "<tr><td>o7</td><td>Redmond</td><td>Bread</td><td>05/01/2017</td><td>5</td></tr>\n",
       "<tr><td>o8</td><td>Issaquah</td><td>Onion</td><td>05/01/2017</td><td>4</td></tr>\n",
       "<tr><td>o9</td><td>Redmond</td><td>Cheese</td><td>05/01/2017</td><td>15</td></tr>\n",
       "<tr><td>o10</td><td>Issaquah</td><td>Onion</td><td>06/01/2017</td><td>4</td></tr>\n",
       "<tr><td>o11</td><td>Renton</td><td>Bread</td><td>05/01/2017</td><td>5</td></tr>\n",
       "<tr><td>o12</td><td>Issaquah</td><td>Onion</td><td>07/01/2017</td><td>4</td></tr>\n",
       "<tr><td>o13</td><td>Sammamish</td><td>Bread</td><td>07/01/2017</td><td>5</td></tr>\n",
       "<tr><td>o14</td><td>Issaquah</td><td>Tomato</td><td>07/01/2017</td><td>6</td></tr>\n",
       "<tr><td>o15</td><td>Issaquah</td><td>Meat</td><td>08/01/2017</td><td>3</td></tr>\n",
       "<tr><td>o16</td><td>Issaquah</td><td>Meat</td><td>09/01/2017</td><td>5</td></tr>\n",
       "<tr><td>o17</td><td>Issaquah</td><td>Meat</td><td>10/01/2017</td><td>6</td></tr>\n",
       "<tr><td>o18</td><td>Bellevue</td><td>Bread</td><td>11/01/2017</td><td>7</td></tr>\n",
       "<tr><td>o19</td><td>Bellevue</td><td>Bread</td><td>12/01/2017</td><td>54</td></tr>\n",
       "<tr><td>o20</td><td>Bellevue</td><td>Bread</td><td>13/01/2017</td><td>34</td></tr>\n",
       "</table>\n",
       "only showing top 20 rows\n"
      ],
      "text/plain": [
       "+--------+---------+--------+----------+--------+\n",
       "|order_id| location|    item|order_date|quantity|\n",
       "+--------+---------+--------+----------+--------+\n",
       "|      o1|  Seattle| Bananas|01/01/2017|       7|\n",
       "|      o2|     Kent|  Apples|02/01/2017|      20|\n",
       "|      o3| Bellevue| Flowers|02/01/2017|      10|\n",
       "|      o4|  Redmond|    Meat|03/01/2017|      40|\n",
       "|      o5|  Seattle|Potatoes|04/01/2017|       9|\n",
       "|      o6| Bellevue|   Bread|04/01/2017|       5|\n",
       "|      o7|  Redmond|   Bread|05/01/2017|       5|\n",
       "|      o8| Issaquah|   Onion|05/01/2017|       4|\n",
       "|      o9|  Redmond|  Cheese|05/01/2017|      15|\n",
       "|     o10| Issaquah|   Onion|06/01/2017|       4|\n",
       "|     o11|   Renton|   Bread|05/01/2017|       5|\n",
       "|     o12| Issaquah|   Onion|07/01/2017|       4|\n",
       "|     o13|Sammamish|   Bread|07/01/2017|       5|\n",
       "|     o14| Issaquah|  Tomato|07/01/2017|       6|\n",
       "|     o15| Issaquah|    Meat|08/01/2017|       3|\n",
       "|     o16| Issaquah|    Meat|09/01/2017|       5|\n",
       "|     o17| Issaquah|    Meat|10/01/2017|       6|\n",
       "|     o18| Bellevue|   Bread|11/01/2017|       7|\n",
       "|     o19| Bellevue|   Bread|12/01/2017|      54|\n",
       "|     o20| Bellevue|   Bread|13/01/2017|      34|\n",
       "+--------+---------+--------+----------+--------+\n",
       "only showing top 20 rows"
      ]
     },
     "execution_count": 43,
     "metadata": {},
     "output_type": "execute_result"
    }
   ],
   "source": [
    "spark.sql(\"SELECT * FROM ext_groceries\")"
   ]
  },
  {
   "cell_type": "code",
   "execution_count": 44,
   "id": "6cc4aad5",
   "metadata": {},
   "outputs": [
    {
     "name": "stdout",
     "output_type": "stream",
     "text": [
      "+----------------------------+-------------------------------------------------------------+-------+\n",
      "|col_name                    |data_type                                                    |comment|\n",
      "+----------------------------+-------------------------------------------------------------+-------+\n",
      "|order_id                    |string                                                       |null   |\n",
      "|location                    |string                                                       |null   |\n",
      "|item                        |string                                                       |null   |\n",
      "|order_date                  |string                                                       |null   |\n",
      "|quantity                    |int                                                          |null   |\n",
      "|                            |                                                             |       |\n",
      "|# Detailed Table Information|                                                             |       |\n",
      "|Database                    |itv012857_groceries                                          |       |\n",
      "|Table                       |ext_groceries                                                |       |\n",
      "|Owner                       |itv012857                                                    |       |\n",
      "|Created Time                |Wed Jul 10 02:09:56 EDT 2024                                 |       |\n",
      "|Last Access                 |UNKNOWN                                                      |       |\n",
      "|Created By                  |Spark 3.1.2                                                  |       |\n",
      "|Type                        |EXTERNAL                                                     |       |\n",
      "|Provider                    |CSV                                                          |       |\n",
      "|Location                    |hdfs://m01.itversity.com:9000/public/trendytech/groceries.csv|       |\n",
      "|Serde Library               |org.apache.hadoop.hive.serde2.lazy.LazySimpleSerDe           |       |\n",
      "|InputFormat                 |org.apache.hadoop.mapred.SequenceFileInputFormat             |       |\n",
      "|OutputFormat                |org.apache.hadoop.hive.ql.io.HiveSequenceFileOutputFormat    |       |\n",
      "|Storage Properties          |[header=true]                                                |       |\n",
      "+----------------------------+-------------------------------------------------------------+-------+\n",
      "\n"
     ]
    }
   ],
   "source": [
    "spark.sql(\"describe extended ext_groceries\").show(truncate = False)"
   ]
  },
  {
   "cell_type": "markdown",
   "id": "2053c8fa",
   "metadata": {},
   "source": [
    "<H3> 3. Create a Managed & External Spark table using the JSON file - <H4>/public/trendytech/orders_wh.json/part-00000-68544d18-9a34-443f-bf0e-1dd8103ff94e-c000.json <BR>"
   ]
  },
  {
   "cell_type": "code",
   "execution_count": 5,
   "id": "6d9d9a88",
   "metadata": {},
   "outputs": [],
   "source": [
    "orders_df = spark.read.json(\"/public/trendytech/orders_wh.json/part-00000-68544d18-9a34-443f-bf0e-1dd8103ff94e-c000.json\")"
   ]
  },
  {
   "cell_type": "code",
   "execution_count": 6,
   "id": "c16df884",
   "metadata": {},
   "outputs": [
    {
     "name": "stdout",
     "output_type": "stream",
     "text": [
      "+-----------+---------------------+--------+---------------+\n",
      "|customer_id|order_date           |order_id|order_status   |\n",
      "+-----------+---------------------+--------+---------------+\n",
      "|11599      |2013-07-25 00:00:00.0|1       |CLOSED         |\n",
      "|256        |2013-07-25 00:00:00.0|2       |PENDING_PAYMENT|\n",
      "|12111      |2013-07-25 00:00:00.0|3       |COMPLETE       |\n",
      "|8827       |2013-07-25 00:00:00.0|4       |CLOSED         |\n",
      "|11318      |2013-07-25 00:00:00.0|5       |COMPLETE       |\n",
      "|7130       |2013-07-25 00:00:00.0|6       |COMPLETE       |\n",
      "|4530       |2013-07-25 00:00:00.0|7       |COMPLETE       |\n",
      "|2911       |2013-07-25 00:00:00.0|8       |PROCESSING     |\n",
      "|5657       |2013-07-25 00:00:00.0|9       |PENDING_PAYMENT|\n",
      "|5648       |2013-07-25 00:00:00.0|10      |PENDING_PAYMENT|\n",
      "|918        |2013-07-25 00:00:00.0|11      |PAYMENT_REVIEW |\n",
      "|1837       |2013-07-25 00:00:00.0|12      |CLOSED         |\n",
      "|9149       |2013-07-25 00:00:00.0|13      |PENDING_PAYMENT|\n",
      "|9842       |2013-07-25 00:00:00.0|14      |PROCESSING     |\n",
      "|2568       |2013-07-25 00:00:00.0|15      |COMPLETE       |\n",
      "|7276       |2013-07-25 00:00:00.0|16      |PENDING_PAYMENT|\n",
      "|2667       |2013-07-25 00:00:00.0|17      |COMPLETE       |\n",
      "|1205       |2013-07-25 00:00:00.0|18      |CLOSED         |\n",
      "|9488       |2013-07-25 00:00:00.0|19      |PENDING_PAYMENT|\n",
      "|9198       |2013-07-25 00:00:00.0|20      |PROCESSING     |\n",
      "+-----------+---------------------+--------+---------------+\n",
      "only showing top 20 rows\n",
      "\n"
     ]
    }
   ],
   "source": [
    "orders_df.show(truncate = False)"
   ]
  },
  {
   "cell_type": "code",
   "execution_count": 7,
   "id": "59bea8ec",
   "metadata": {},
   "outputs": [],
   "source": [
    "orders_df.createOrReplaceTempView(\"orders_view\")"
   ]
  },
  {
   "cell_type": "code",
   "execution_count": 8,
   "id": "2b6cbce6",
   "metadata": {},
   "outputs": [
    {
     "data": {
      "text/html": [
       "<table border='1'>\n",
       "<tr><th>customer_id</th><th>order_date</th><th>order_id</th><th>order_status</th></tr>\n",
       "<tr><td>11599</td><td>2013-07-25 00:00:...</td><td>1</td><td>CLOSED</td></tr>\n",
       "<tr><td>256</td><td>2013-07-25 00:00:...</td><td>2</td><td>PENDING_PAYMENT</td></tr>\n",
       "<tr><td>12111</td><td>2013-07-25 00:00:...</td><td>3</td><td>COMPLETE</td></tr>\n",
       "<tr><td>8827</td><td>2013-07-25 00:00:...</td><td>4</td><td>CLOSED</td></tr>\n",
       "<tr><td>11318</td><td>2013-07-25 00:00:...</td><td>5</td><td>COMPLETE</td></tr>\n",
       "<tr><td>7130</td><td>2013-07-25 00:00:...</td><td>6</td><td>COMPLETE</td></tr>\n",
       "<tr><td>4530</td><td>2013-07-25 00:00:...</td><td>7</td><td>COMPLETE</td></tr>\n",
       "<tr><td>2911</td><td>2013-07-25 00:00:...</td><td>8</td><td>PROCESSING</td></tr>\n",
       "<tr><td>5657</td><td>2013-07-25 00:00:...</td><td>9</td><td>PENDING_PAYMENT</td></tr>\n",
       "<tr><td>5648</td><td>2013-07-25 00:00:...</td><td>10</td><td>PENDING_PAYMENT</td></tr>\n",
       "<tr><td>918</td><td>2013-07-25 00:00:...</td><td>11</td><td>PAYMENT_REVIEW</td></tr>\n",
       "<tr><td>1837</td><td>2013-07-25 00:00:...</td><td>12</td><td>CLOSED</td></tr>\n",
       "<tr><td>9149</td><td>2013-07-25 00:00:...</td><td>13</td><td>PENDING_PAYMENT</td></tr>\n",
       "<tr><td>9842</td><td>2013-07-25 00:00:...</td><td>14</td><td>PROCESSING</td></tr>\n",
       "<tr><td>2568</td><td>2013-07-25 00:00:...</td><td>15</td><td>COMPLETE</td></tr>\n",
       "<tr><td>7276</td><td>2013-07-25 00:00:...</td><td>16</td><td>PENDING_PAYMENT</td></tr>\n",
       "<tr><td>2667</td><td>2013-07-25 00:00:...</td><td>17</td><td>COMPLETE</td></tr>\n",
       "<tr><td>1205</td><td>2013-07-25 00:00:...</td><td>18</td><td>CLOSED</td></tr>\n",
       "<tr><td>9488</td><td>2013-07-25 00:00:...</td><td>19</td><td>PENDING_PAYMENT</td></tr>\n",
       "<tr><td>9198</td><td>2013-07-25 00:00:...</td><td>20</td><td>PROCESSING</td></tr>\n",
       "</table>\n",
       "only showing top 20 rows\n"
      ],
      "text/plain": [
       "+-----------+--------------------+--------+---------------+\n",
       "|customer_id|          order_date|order_id|   order_status|\n",
       "+-----------+--------------------+--------+---------------+\n",
       "|      11599|2013-07-25 00:00:...|       1|         CLOSED|\n",
       "|        256|2013-07-25 00:00:...|       2|PENDING_PAYMENT|\n",
       "|      12111|2013-07-25 00:00:...|       3|       COMPLETE|\n",
       "|       8827|2013-07-25 00:00:...|       4|         CLOSED|\n",
       "|      11318|2013-07-25 00:00:...|       5|       COMPLETE|\n",
       "|       7130|2013-07-25 00:00:...|       6|       COMPLETE|\n",
       "|       4530|2013-07-25 00:00:...|       7|       COMPLETE|\n",
       "|       2911|2013-07-25 00:00:...|       8|     PROCESSING|\n",
       "|       5657|2013-07-25 00:00:...|       9|PENDING_PAYMENT|\n",
       "|       5648|2013-07-25 00:00:...|      10|PENDING_PAYMENT|\n",
       "|        918|2013-07-25 00:00:...|      11| PAYMENT_REVIEW|\n",
       "|       1837|2013-07-25 00:00:...|      12|         CLOSED|\n",
       "|       9149|2013-07-25 00:00:...|      13|PENDING_PAYMENT|\n",
       "|       9842|2013-07-25 00:00:...|      14|     PROCESSING|\n",
       "|       2568|2013-07-25 00:00:...|      15|       COMPLETE|\n",
       "|       7276|2013-07-25 00:00:...|      16|PENDING_PAYMENT|\n",
       "|       2667|2013-07-25 00:00:...|      17|       COMPLETE|\n",
       "|       1205|2013-07-25 00:00:...|      18|         CLOSED|\n",
       "|       9488|2013-07-25 00:00:...|      19|PENDING_PAYMENT|\n",
       "|       9198|2013-07-25 00:00:...|      20|     PROCESSING|\n",
       "+-----------+--------------------+--------+---------------+\n",
       "only showing top 20 rows"
      ]
     },
     "execution_count": 8,
     "metadata": {},
     "output_type": "execute_result"
    }
   ],
   "source": [
    "spark.sql(\"select * from orders_view\")"
   ]
  },
  {
   "cell_type": "code",
   "execution_count": 9,
   "id": "d568895e",
   "metadata": {},
   "outputs": [
    {
     "data": {
      "text/html": [
       "<table border='1'>\n",
       "<tr><th>namespace</th></tr>\n",
       "<tr><td>itv012857_groceries</td></tr>\n",
       "<tr><td>itv012857_orders</td></tr>\n",
       "</table>\n"
      ],
      "text/plain": [
       "+-------------------+\n",
       "|          namespace|\n",
       "+-------------------+\n",
       "|itv012857_groceries|\n",
       "|   itv012857_orders|\n",
       "+-------------------+"
      ]
     },
     "execution_count": 9,
     "metadata": {},
     "output_type": "execute_result"
    }
   ],
   "source": [
    "spark.sql(\"SHOW DATABASES\").filter(\"namespace like 'itv012857%'\")"
   ]
  },
  {
   "cell_type": "code",
   "execution_count": null,
   "id": "bbd2ac40",
   "metadata": {},
   "outputs": [],
   "source": [
    "spark.sql(\"CREATE DATABASE itv012857_orders\")"
   ]
  },
  {
   "cell_type": "code",
   "execution_count": 10,
   "id": "ad8adfc6",
   "metadata": {},
   "outputs": [
    {
     "data": {
      "text/html": [
       "<table border='1'>\n",
       "<tr><th></th></tr>\n",
       "</table>\n"
      ],
      "text/plain": [
       "++\n",
       "||\n",
       "++\n",
       "++"
      ]
     },
     "execution_count": 10,
     "metadata": {},
     "output_type": "execute_result"
    }
   ],
   "source": [
    "spark.sql(\"USE itv012857_orders\")"
   ]
  },
  {
   "cell_type": "code",
   "execution_count": 16,
   "id": "6061d923",
   "metadata": {},
   "outputs": [
    {
     "data": {
      "text/html": [
       "<table border='1'>\n",
       "<tr><th></th></tr>\n",
       "</table>\n"
      ],
      "text/plain": [
       "++\n",
       "||\n",
       "++\n",
       "++"
      ]
     },
     "execution_count": 16,
     "metadata": {},
     "output_type": "execute_result"
    }
   ],
   "source": [
    "spark.sql(\"DROP TABLE orders\")"
   ]
  },
  {
   "cell_type": "code",
   "execution_count": 17,
   "id": "8ae261f7",
   "metadata": {},
   "outputs": [
    {
     "data": {
      "text/html": [
       "<table border='1'>\n",
       "<tr><th>database</th><th>tableName</th><th>isTemporary</th></tr>\n",
       "<tr><td></td><td>orders_view</td><td>true</td></tr>\n",
       "</table>\n"
      ],
      "text/plain": [
       "+--------+-----------+-----------+\n",
       "|database|  tableName|isTemporary|\n",
       "+--------+-----------+-----------+\n",
       "|        |orders_view|       true|\n",
       "+--------+-----------+-----------+"
      ]
     },
     "execution_count": 17,
     "metadata": {},
     "output_type": "execute_result"
    }
   ],
   "source": [
    "spark.sql(\"SHOW TABLES\")"
   ]
  },
  {
   "cell_type": "code",
   "execution_count": 18,
   "id": "260cf069",
   "metadata": {},
   "outputs": [
    {
     "data": {
      "text/html": [
       "<table border='1'>\n",
       "<tr><th></th></tr>\n",
       "</table>\n"
      ],
      "text/plain": [
       "++\n",
       "||\n",
       "++\n",
       "++"
      ]
     },
     "execution_count": 18,
     "metadata": {},
     "output_type": "execute_result"
    }
   ],
   "source": [
    "spark.sql(\"CREATE TABLE orders(order_id string, \\\n",
    "            order_date string, \\\n",
    "            customer_id string, \\\n",
    "            order_status string) \\\n",
    "          \")"
   ]
  },
  {
   "cell_type": "code",
   "execution_count": 15,
   "id": "ccf639ca",
   "metadata": {},
   "outputs": [
    {
     "data": {
      "text/html": [
       "<table border='1'>\n",
       "<tr><th>database</th><th>tableName</th><th>isTemporary</th></tr>\n",
       "<tr><td>itv012857_orders</td><td>orders</td><td>false</td></tr>\n",
       "<tr><td></td><td>orders_view</td><td>true</td></tr>\n",
       "</table>\n"
      ],
      "text/plain": [
       "+----------------+-----------+-----------+\n",
       "|        database|  tableName|isTemporary|\n",
       "+----------------+-----------+-----------+\n",
       "|itv012857_orders|     orders|      false|\n",
       "|                |orders_view|       true|\n",
       "+----------------+-----------+-----------+"
      ]
     },
     "execution_count": 15,
     "metadata": {},
     "output_type": "execute_result"
    }
   ],
   "source": [
    "spark.sql(\"SHOW TABLES\")"
   ]
  },
  {
   "cell_type": "code",
   "execution_count": 19,
   "id": "04c6c48b",
   "metadata": {},
   "outputs": [
    {
     "name": "stdout",
     "output_type": "stream",
     "text": [
      "+----------------------------+---------------------------------------------------------------------------------+-------+\n",
      "|col_name                    |data_type                                                                        |comment|\n",
      "+----------------------------+---------------------------------------------------------------------------------+-------+\n",
      "|order_id                    |string                                                                           |null   |\n",
      "|order_date                  |string                                                                           |null   |\n",
      "|customer_id                 |string                                                                           |null   |\n",
      "|order_status                |string                                                                           |null   |\n",
      "|                            |                                                                                 |       |\n",
      "|# Detailed Table Information|                                                                                 |       |\n",
      "|Database                    |itv012857_orders                                                                 |       |\n",
      "|Table                       |orders                                                                           |       |\n",
      "|Owner                       |itv012857                                                                        |       |\n",
      "|Created Time                |Wed Jul 10 02:05:34 EDT 2024                                                     |       |\n",
      "|Last Access                 |UNKNOWN                                                                          |       |\n",
      "|Created By                  |Spark 3.1.2                                                                      |       |\n",
      "|Type                        |MANAGED                                                                          |       |\n",
      "|Provider                    |hive                                                                             |       |\n",
      "|Table Properties            |[transient_lastDdlTime=1720591534]                                               |       |\n",
      "|Location                    |hdfs://m01.itversity.com:9000/user/itv012857/warehouse/itv012857_orders.db/orders|       |\n",
      "|Serde Library               |org.apache.hadoop.hive.serde2.lazy.LazySimpleSerDe                               |       |\n",
      "|InputFormat                 |org.apache.hadoop.mapred.TextInputFormat                                         |       |\n",
      "|OutputFormat                |org.apache.hadoop.hive.ql.io.HiveIgnoreKeyTextOutputFormat                       |       |\n",
      "|Storage Properties          |[serialization.format=1]                                                         |       |\n",
      "+----------------------------+---------------------------------------------------------------------------------+-------+\n",
      "only showing top 20 rows\n",
      "\n"
     ]
    }
   ],
   "source": [
    "spark.sql(\"describe extended orders\").show(truncate = False)"
   ]
  },
  {
   "cell_type": "code",
   "execution_count": 20,
   "id": "bf416e19",
   "metadata": {},
   "outputs": [
    {
     "data": {
      "text/html": [
       "<table border='1'>\n",
       "<tr><th>order_id</th><th>order_date</th><th>customer_id</th><th>order_status</th></tr>\n",
       "</table>\n"
      ],
      "text/plain": [
       "+--------+----------+-----------+------------+\n",
       "|order_id|order_date|customer_id|order_status|\n",
       "+--------+----------+-----------+------------+\n",
       "+--------+----------+-----------+------------+"
      ]
     },
     "execution_count": 20,
     "metadata": {},
     "output_type": "execute_result"
    }
   ],
   "source": [
    "spark.sql(\"SELECT * FROM orders\")"
   ]
  },
  {
   "cell_type": "code",
   "execution_count": 22,
   "id": "e860d542",
   "metadata": {},
   "outputs": [
    {
     "data": {
      "text/html": [
       "<table border='1'>\n",
       "<tr><th></th></tr>\n",
       "</table>\n"
      ],
      "text/plain": [
       "++\n",
       "||\n",
       "++\n",
       "++"
      ]
     },
     "execution_count": 22,
     "metadata": {},
     "output_type": "execute_result"
    }
   ],
   "source": [
    "spark.sql(\"INSERT INTO orders SELECT * FROM orders_view\")"
   ]
  },
  {
   "cell_type": "code",
   "execution_count": 23,
   "id": "323f641e",
   "metadata": {},
   "outputs": [
    {
     "data": {
      "text/html": [
       "<table border='1'>\n",
       "<tr><th>order_id</th><th>order_date</th><th>customer_id</th><th>order_status</th></tr>\n",
       "<tr><td>11599</td><td>2013-07-25 00:00:...</td><td>1</td><td>CLOSED</td></tr>\n",
       "<tr><td>256</td><td>2013-07-25 00:00:...</td><td>2</td><td>PENDING_PAYMENT</td></tr>\n",
       "<tr><td>12111</td><td>2013-07-25 00:00:...</td><td>3</td><td>COMPLETE</td></tr>\n",
       "<tr><td>8827</td><td>2013-07-25 00:00:...</td><td>4</td><td>CLOSED</td></tr>\n",
       "<tr><td>11318</td><td>2013-07-25 00:00:...</td><td>5</td><td>COMPLETE</td></tr>\n",
       "<tr><td>7130</td><td>2013-07-25 00:00:...</td><td>6</td><td>COMPLETE</td></tr>\n",
       "<tr><td>4530</td><td>2013-07-25 00:00:...</td><td>7</td><td>COMPLETE</td></tr>\n",
       "<tr><td>2911</td><td>2013-07-25 00:00:...</td><td>8</td><td>PROCESSING</td></tr>\n",
       "<tr><td>5657</td><td>2013-07-25 00:00:...</td><td>9</td><td>PENDING_PAYMENT</td></tr>\n",
       "<tr><td>5648</td><td>2013-07-25 00:00:...</td><td>10</td><td>PENDING_PAYMENT</td></tr>\n",
       "<tr><td>918</td><td>2013-07-25 00:00:...</td><td>11</td><td>PAYMENT_REVIEW</td></tr>\n",
       "<tr><td>1837</td><td>2013-07-25 00:00:...</td><td>12</td><td>CLOSED</td></tr>\n",
       "<tr><td>9149</td><td>2013-07-25 00:00:...</td><td>13</td><td>PENDING_PAYMENT</td></tr>\n",
       "<tr><td>9842</td><td>2013-07-25 00:00:...</td><td>14</td><td>PROCESSING</td></tr>\n",
       "<tr><td>2568</td><td>2013-07-25 00:00:...</td><td>15</td><td>COMPLETE</td></tr>\n",
       "<tr><td>7276</td><td>2013-07-25 00:00:...</td><td>16</td><td>PENDING_PAYMENT</td></tr>\n",
       "<tr><td>2667</td><td>2013-07-25 00:00:...</td><td>17</td><td>COMPLETE</td></tr>\n",
       "<tr><td>1205</td><td>2013-07-25 00:00:...</td><td>18</td><td>CLOSED</td></tr>\n",
       "<tr><td>9488</td><td>2013-07-25 00:00:...</td><td>19</td><td>PENDING_PAYMENT</td></tr>\n",
       "<tr><td>9198</td><td>2013-07-25 00:00:...</td><td>20</td><td>PROCESSING</td></tr>\n",
       "</table>\n",
       "only showing top 20 rows\n"
      ],
      "text/plain": [
       "+--------+--------------------+-----------+---------------+\n",
       "|order_id|          order_date|customer_id|   order_status|\n",
       "+--------+--------------------+-----------+---------------+\n",
       "|   11599|2013-07-25 00:00:...|          1|         CLOSED|\n",
       "|     256|2013-07-25 00:00:...|          2|PENDING_PAYMENT|\n",
       "|   12111|2013-07-25 00:00:...|          3|       COMPLETE|\n",
       "|    8827|2013-07-25 00:00:...|          4|         CLOSED|\n",
       "|   11318|2013-07-25 00:00:...|          5|       COMPLETE|\n",
       "|    7130|2013-07-25 00:00:...|          6|       COMPLETE|\n",
       "|    4530|2013-07-25 00:00:...|          7|       COMPLETE|\n",
       "|    2911|2013-07-25 00:00:...|          8|     PROCESSING|\n",
       "|    5657|2013-07-25 00:00:...|          9|PENDING_PAYMENT|\n",
       "|    5648|2013-07-25 00:00:...|         10|PENDING_PAYMENT|\n",
       "|     918|2013-07-25 00:00:...|         11| PAYMENT_REVIEW|\n",
       "|    1837|2013-07-25 00:00:...|         12|         CLOSED|\n",
       "|    9149|2013-07-25 00:00:...|         13|PENDING_PAYMENT|\n",
       "|    9842|2013-07-25 00:00:...|         14|     PROCESSING|\n",
       "|    2568|2013-07-25 00:00:...|         15|       COMPLETE|\n",
       "|    7276|2013-07-25 00:00:...|         16|PENDING_PAYMENT|\n",
       "|    2667|2013-07-25 00:00:...|         17|       COMPLETE|\n",
       "|    1205|2013-07-25 00:00:...|         18|         CLOSED|\n",
       "|    9488|2013-07-25 00:00:...|         19|PENDING_PAYMENT|\n",
       "|    9198|2013-07-25 00:00:...|         20|     PROCESSING|\n",
       "+--------+--------------------+-----------+---------------+\n",
       "only showing top 20 rows"
      ]
     },
     "execution_count": 23,
     "metadata": {},
     "output_type": "execute_result"
    }
   ],
   "source": [
    "spark.sql(\"SELECT * FROM orders\")"
   ]
  },
  {
   "cell_type": "code",
   "execution_count": 25,
   "id": "e5087d3a",
   "metadata": {},
   "outputs": [
    {
     "data": {
      "text/html": [
       "<table border='1'>\n",
       "<tr><th></th></tr>\n",
       "</table>\n"
      ],
      "text/plain": [
       "++\n",
       "||\n",
       "++\n",
       "++"
      ]
     },
     "execution_count": 25,
     "metadata": {},
     "output_type": "execute_result"
    }
   ],
   "source": [
    "spark.sql(\"CREATE TABLE orders_external_table(order_id string, \\\n",
    "            order_date string, \\\n",
    "            customer_id string, \\\n",
    "            order_status string) \\\n",
    "            USING JSON \\\n",
    "            LOCATION '/public/trendytech/orders_wh.json/part-00000-68544d18-9a34-443f-bf0e-1dd8103ff94e-c000.json' \\\n",
    "          \")"
   ]
  },
  {
   "cell_type": "code",
   "execution_count": 27,
   "id": "d3c503c4",
   "metadata": {},
   "outputs": [
    {
     "name": "stdout",
     "output_type": "stream",
     "text": [
      "+--------------------+--------------------+-------+\n",
      "|            col_name|           data_type|comment|\n",
      "+--------------------+--------------------+-------+\n",
      "|            order_id|              string|   null|\n",
      "|          order_date|              string|   null|\n",
      "|         customer_id|              string|   null|\n",
      "|        order_status|              string|   null|\n",
      "|                    |                    |       |\n",
      "|# Detailed Table ...|                    |       |\n",
      "|            Database|    itv012857_orders|       |\n",
      "|               Table|orders_external_t...|       |\n",
      "|               Owner|           itv012857|       |\n",
      "|        Created Time|Wed Jul 10 02:07:...|       |\n",
      "|         Last Access|             UNKNOWN|       |\n",
      "|          Created By|         Spark 3.1.2|       |\n",
      "|                Type|            EXTERNAL|       |\n",
      "|            Provider|                JSON|       |\n",
      "|            Location|hdfs://m01.itvers...|       |\n",
      "|       Serde Library|org.apache.hadoop...|       |\n",
      "|         InputFormat|org.apache.hadoop...|       |\n",
      "|        OutputFormat|org.apache.hadoop...|       |\n",
      "+--------------------+--------------------+-------+\n",
      "\n"
     ]
    }
   ],
   "source": [
    "spark.sql(\"describe extended orders_external_table\").show()"
   ]
  },
  {
   "cell_type": "code",
   "execution_count": 28,
   "id": "bff66ebf",
   "metadata": {},
   "outputs": [
    {
     "data": {
      "text/html": [
       "<table border='1'>\n",
       "<tr><th>order_id</th><th>order_date</th><th>customer_id</th><th>order_status</th></tr>\n",
       "<tr><td>1</td><td>2013-07-25 00:00:...</td><td>11599</td><td>CLOSED</td></tr>\n",
       "<tr><td>2</td><td>2013-07-25 00:00:...</td><td>256</td><td>PENDING_PAYMENT</td></tr>\n",
       "<tr><td>3</td><td>2013-07-25 00:00:...</td><td>12111</td><td>COMPLETE</td></tr>\n",
       "<tr><td>4</td><td>2013-07-25 00:00:...</td><td>8827</td><td>CLOSED</td></tr>\n",
       "<tr><td>5</td><td>2013-07-25 00:00:...</td><td>11318</td><td>COMPLETE</td></tr>\n",
       "<tr><td>6</td><td>2013-07-25 00:00:...</td><td>7130</td><td>COMPLETE</td></tr>\n",
       "<tr><td>7</td><td>2013-07-25 00:00:...</td><td>4530</td><td>COMPLETE</td></tr>\n",
       "<tr><td>8</td><td>2013-07-25 00:00:...</td><td>2911</td><td>PROCESSING</td></tr>\n",
       "<tr><td>9</td><td>2013-07-25 00:00:...</td><td>5657</td><td>PENDING_PAYMENT</td></tr>\n",
       "<tr><td>10</td><td>2013-07-25 00:00:...</td><td>5648</td><td>PENDING_PAYMENT</td></tr>\n",
       "<tr><td>11</td><td>2013-07-25 00:00:...</td><td>918</td><td>PAYMENT_REVIEW</td></tr>\n",
       "<tr><td>12</td><td>2013-07-25 00:00:...</td><td>1837</td><td>CLOSED</td></tr>\n",
       "<tr><td>13</td><td>2013-07-25 00:00:...</td><td>9149</td><td>PENDING_PAYMENT</td></tr>\n",
       "<tr><td>14</td><td>2013-07-25 00:00:...</td><td>9842</td><td>PROCESSING</td></tr>\n",
       "<tr><td>15</td><td>2013-07-25 00:00:...</td><td>2568</td><td>COMPLETE</td></tr>\n",
       "<tr><td>16</td><td>2013-07-25 00:00:...</td><td>7276</td><td>PENDING_PAYMENT</td></tr>\n",
       "<tr><td>17</td><td>2013-07-25 00:00:...</td><td>2667</td><td>COMPLETE</td></tr>\n",
       "<tr><td>18</td><td>2013-07-25 00:00:...</td><td>1205</td><td>CLOSED</td></tr>\n",
       "<tr><td>19</td><td>2013-07-25 00:00:...</td><td>9488</td><td>PENDING_PAYMENT</td></tr>\n",
       "<tr><td>20</td><td>2013-07-25 00:00:...</td><td>9198</td><td>PROCESSING</td></tr>\n",
       "</table>\n",
       "only showing top 20 rows\n"
      ],
      "text/plain": [
       "+--------+--------------------+-----------+---------------+\n",
       "|order_id|          order_date|customer_id|   order_status|\n",
       "+--------+--------------------+-----------+---------------+\n",
       "|       1|2013-07-25 00:00:...|      11599|         CLOSED|\n",
       "|       2|2013-07-25 00:00:...|        256|PENDING_PAYMENT|\n",
       "|       3|2013-07-25 00:00:...|      12111|       COMPLETE|\n",
       "|       4|2013-07-25 00:00:...|       8827|         CLOSED|\n",
       "|       5|2013-07-25 00:00:...|      11318|       COMPLETE|\n",
       "|       6|2013-07-25 00:00:...|       7130|       COMPLETE|\n",
       "|       7|2013-07-25 00:00:...|       4530|       COMPLETE|\n",
       "|       8|2013-07-25 00:00:...|       2911|     PROCESSING|\n",
       "|       9|2013-07-25 00:00:...|       5657|PENDING_PAYMENT|\n",
       "|      10|2013-07-25 00:00:...|       5648|PENDING_PAYMENT|\n",
       "|      11|2013-07-25 00:00:...|        918| PAYMENT_REVIEW|\n",
       "|      12|2013-07-25 00:00:...|       1837|         CLOSED|\n",
       "|      13|2013-07-25 00:00:...|       9149|PENDING_PAYMENT|\n",
       "|      14|2013-07-25 00:00:...|       9842|     PROCESSING|\n",
       "|      15|2013-07-25 00:00:...|       2568|       COMPLETE|\n",
       "|      16|2013-07-25 00:00:...|       7276|PENDING_PAYMENT|\n",
       "|      17|2013-07-25 00:00:...|       2667|       COMPLETE|\n",
       "|      18|2013-07-25 00:00:...|       1205|         CLOSED|\n",
       "|      19|2013-07-25 00:00:...|       9488|PENDING_PAYMENT|\n",
       "|      20|2013-07-25 00:00:...|       9198|     PROCESSING|\n",
       "+--------+--------------------+-----------+---------------+\n",
       "only showing top 20 rows"
      ]
     },
     "execution_count": 28,
     "metadata": {},
     "output_type": "execute_result"
    }
   ],
   "source": [
    "spark.sql(\"select * from orders_external_table\")"
   ]
  },
  {
   "cell_type": "code",
   "execution_count": null,
   "id": "31dcd313",
   "metadata": {},
   "outputs": [],
   "source": [
    "spark.stop()"
   ]
  }
 ],
 "metadata": {
  "kernelspec": {
   "display_name": "Pyspark 3",
   "language": "python",
   "name": "pyspark3"
  },
  "language_info": {
   "codemirror_mode": {
    "name": "ipython",
    "version": 3
   },
   "file_extension": ".py",
   "mimetype": "text/x-python",
   "name": "python",
   "nbconvert_exporter": "python",
   "pygments_lexer": "ipython3",
   "version": "3.6.12"
  }
 },
 "nbformat": 4,
 "nbformat_minor": 5
}
