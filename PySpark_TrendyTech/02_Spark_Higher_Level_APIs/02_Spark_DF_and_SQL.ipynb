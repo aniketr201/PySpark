{
 "cells": [
  {
   "cell_type": "markdown",
   "id": "7210b66e",
   "metadata": {},
   "source": [
    "<H2 align = \"Center\"> Spark Dataframe & Spark SQL </H2>\n",
    "\n",
    "#### Answering questions regarding Order Dataset using both Spark Dataframe and Spark SQL\n",
    "<BR>"
   ]
  },
  {
   "cell_type": "code",
   "execution_count": 1,
   "id": "ac758913",
   "metadata": {},
   "outputs": [],
   "source": [
    "from pyspark.sql import SparkSession\n",
    "import getpass\n",
    "username = getpass.getuser()"
   ]
  },
  {
   "cell_type": "code",
   "execution_count": 2,
   "id": "9c17f607",
   "metadata": {},
   "outputs": [],
   "source": [
    "spark = SparkSession. \\\n",
    "builder. \\\n",
    "config('spark.ui.port', '0'). \\\n",
    "config(\"spark.sql.warehouse.dir\", f\"/user/{username}/warehouse\"). \\\n",
    "enableHiveSupport(). \\\n",
    "master('yarn'). \\\n",
    "getOrCreate()"
   ]
  },
  {
   "cell_type": "code",
   "execution_count": 3,
   "id": "009c5b43",
   "metadata": {},
   "outputs": [],
   "source": [
    "orders_df = spark.read \\\n",
    ".format(\"csv\") \\\n",
    ".option(\"header\", \"true\") \\\n",
    ".option(\"inferSchema\",\"true\") \\\n",
    ".load(\"/public/trendytech/orders_wh/*\")"
   ]
  },
  {
   "cell_type": "code",
   "execution_count": 4,
   "id": "71756218",
   "metadata": {},
   "outputs": [],
   "source": [
    "orders_df.createOrReplaceTempView(\"Orders\")"
   ]
  },
  {
   "cell_type": "code",
   "execution_count": 5,
   "id": "eac89a1e",
   "metadata": {},
   "outputs": [
    {
     "name": "stdout",
     "output_type": "stream",
     "text": [
      "root\n",
      " |-- order_id: integer (nullable = true)\n",
      " |-- order_date: string (nullable = true)\n",
      " |-- customer_id: integer (nullable = true)\n",
      " |-- order_status: string (nullable = true)\n",
      "\n"
     ]
    }
   ],
   "source": [
    "orders_df.printSchema()"
   ]
  },
  {
   "cell_type": "code",
   "execution_count": 6,
   "id": "243a77f3",
   "metadata": {},
   "outputs": [
    {
     "name": "stdout",
     "output_type": "stream",
     "text": [
      "+--------+---------------------+-----------+---------------+\n",
      "|order_id|order_date           |customer_id|order_status   |\n",
      "+--------+---------------------+-----------+---------------+\n",
      "|1       |2013-07-25 00:00:00.0|11599      |CLOSED         |\n",
      "|2       |2013-07-25 00:00:00.0|256        |PENDING_PAYMENT|\n",
      "|3       |2013-07-25 00:00:00.0|12111      |COMPLETE       |\n",
      "|4       |2013-07-25 00:00:00.0|8827       |CLOSED         |\n",
      "|5       |2013-07-25 00:00:00.0|11318      |COMPLETE       |\n",
      "|6       |2013-07-25 00:00:00.0|7130       |COMPLETE       |\n",
      "|7       |2013-07-25 00:00:00.0|4530       |COMPLETE       |\n",
      "|8       |2013-07-25 00:00:00.0|2911       |PROCESSING     |\n",
      "|9       |2013-07-25 00:00:00.0|5657       |PENDING_PAYMENT|\n",
      "|10      |2013-07-25 00:00:00.0|5648       |PENDING_PAYMENT|\n",
      "|11      |2013-07-25 00:00:00.0|918        |PAYMENT_REVIEW |\n",
      "|12      |2013-07-25 00:00:00.0|1837       |CLOSED         |\n",
      "|13      |2013-07-25 00:00:00.0|9149       |PENDING_PAYMENT|\n",
      "|14      |2013-07-25 00:00:00.0|9842       |PROCESSING     |\n",
      "|15      |2013-07-25 00:00:00.0|2568       |COMPLETE       |\n",
      "|16      |2013-07-25 00:00:00.0|7276       |PENDING_PAYMENT|\n",
      "|17      |2013-07-25 00:00:00.0|2667       |COMPLETE       |\n",
      "|18      |2013-07-25 00:00:00.0|1205       |CLOSED         |\n",
      "|19      |2013-07-25 00:00:00.0|9488       |PENDING_PAYMENT|\n",
      "|20      |2013-07-25 00:00:00.0|9198       |PROCESSING     |\n",
      "+--------+---------------------+-----------+---------------+\n",
      "only showing top 20 rows\n",
      "\n"
     ]
    }
   ],
   "source": [
    "orders_df.show(truncate = False)"
   ]
  },
  {
   "cell_type": "code",
   "execution_count": 12,
   "id": "32705da5",
   "metadata": {},
   "outputs": [
    {
     "data": {
      "text/html": [
       "<table border='1'>\n",
       "<tr><th>order_id</th><th>order_date</th><th>customer_id</th><th>order_status</th></tr>\n",
       "<tr><td>1</td><td>2013-07-25 00:00:...</td><td>11599</td><td>CLOSED</td></tr>\n",
       "<tr><td>2</td><td>2013-07-25 00:00:...</td><td>256</td><td>PENDING_PAYMENT</td></tr>\n",
       "<tr><td>3</td><td>2013-07-25 00:00:...</td><td>12111</td><td>COMPLETE</td></tr>\n",
       "<tr><td>4</td><td>2013-07-25 00:00:...</td><td>8827</td><td>CLOSED</td></tr>\n",
       "<tr><td>5</td><td>2013-07-25 00:00:...</td><td>11318</td><td>COMPLETE</td></tr>\n",
       "<tr><td>6</td><td>2013-07-25 00:00:...</td><td>7130</td><td>COMPLETE</td></tr>\n",
       "<tr><td>7</td><td>2013-07-25 00:00:...</td><td>4530</td><td>COMPLETE</td></tr>\n",
       "<tr><td>8</td><td>2013-07-25 00:00:...</td><td>2911</td><td>PROCESSING</td></tr>\n",
       "<tr><td>9</td><td>2013-07-25 00:00:...</td><td>5657</td><td>PENDING_PAYMENT</td></tr>\n",
       "<tr><td>10</td><td>2013-07-25 00:00:...</td><td>5648</td><td>PENDING_PAYMENT</td></tr>\n",
       "<tr><td>11</td><td>2013-07-25 00:00:...</td><td>918</td><td>PAYMENT_REVIEW</td></tr>\n",
       "<tr><td>12</td><td>2013-07-25 00:00:...</td><td>1837</td><td>CLOSED</td></tr>\n",
       "<tr><td>13</td><td>2013-07-25 00:00:...</td><td>9149</td><td>PENDING_PAYMENT</td></tr>\n",
       "<tr><td>14</td><td>2013-07-25 00:00:...</td><td>9842</td><td>PROCESSING</td></tr>\n",
       "<tr><td>15</td><td>2013-07-25 00:00:...</td><td>2568</td><td>COMPLETE</td></tr>\n",
       "<tr><td>16</td><td>2013-07-25 00:00:...</td><td>7276</td><td>PENDING_PAYMENT</td></tr>\n",
       "<tr><td>17</td><td>2013-07-25 00:00:...</td><td>2667</td><td>COMPLETE</td></tr>\n",
       "<tr><td>18</td><td>2013-07-25 00:00:...</td><td>1205</td><td>CLOSED</td></tr>\n",
       "<tr><td>19</td><td>2013-07-25 00:00:...</td><td>9488</td><td>PENDING_PAYMENT</td></tr>\n",
       "<tr><td>20</td><td>2013-07-25 00:00:...</td><td>9198</td><td>PROCESSING</td></tr>\n",
       "</table>\n",
       "only showing top 20 rows\n"
      ],
      "text/plain": [
       "+--------+--------------------+-----------+---------------+\n",
       "|order_id|          order_date|customer_id|   order_status|\n",
       "+--------+--------------------+-----------+---------------+\n",
       "|       1|2013-07-25 00:00:...|      11599|         CLOSED|\n",
       "|       2|2013-07-25 00:00:...|        256|PENDING_PAYMENT|\n",
       "|       3|2013-07-25 00:00:...|      12111|       COMPLETE|\n",
       "|       4|2013-07-25 00:00:...|       8827|         CLOSED|\n",
       "|       5|2013-07-25 00:00:...|      11318|       COMPLETE|\n",
       "|       6|2013-07-25 00:00:...|       7130|       COMPLETE|\n",
       "|       7|2013-07-25 00:00:...|       4530|       COMPLETE|\n",
       "|       8|2013-07-25 00:00:...|       2911|     PROCESSING|\n",
       "|       9|2013-07-25 00:00:...|       5657|PENDING_PAYMENT|\n",
       "|      10|2013-07-25 00:00:...|       5648|PENDING_PAYMENT|\n",
       "|      11|2013-07-25 00:00:...|        918| PAYMENT_REVIEW|\n",
       "|      12|2013-07-25 00:00:...|       1837|         CLOSED|\n",
       "|      13|2013-07-25 00:00:...|       9149|PENDING_PAYMENT|\n",
       "|      14|2013-07-25 00:00:...|       9842|     PROCESSING|\n",
       "|      15|2013-07-25 00:00:...|       2568|       COMPLETE|\n",
       "|      16|2013-07-25 00:00:...|       7276|PENDING_PAYMENT|\n",
       "|      17|2013-07-25 00:00:...|       2667|       COMPLETE|\n",
       "|      18|2013-07-25 00:00:...|       1205|         CLOSED|\n",
       "|      19|2013-07-25 00:00:...|       9488|PENDING_PAYMENT|\n",
       "|      20|2013-07-25 00:00:...|       9198|     PROCESSING|\n",
       "+--------+--------------------+-----------+---------------+\n",
       "only showing top 20 rows"
      ]
     },
     "execution_count": 12,
     "metadata": {},
     "output_type": "execute_result"
    }
   ],
   "source": [
    "spark.sql(\"Select * from Orders\")"
   ]
  },
  {
   "cell_type": "markdown",
   "id": "dff69ee5",
   "metadata": {},
   "source": [
    "#### 1. Top 15 customers who placed most number of orders"
   ]
  },
  {
   "cell_type": "code",
   "execution_count": 13,
   "id": "9657552d",
   "metadata": {},
   "outputs": [
    {
     "data": {
      "text/html": [
       "<table border='1'>\n",
       "<tr><th>customer_id</th><th>count</th></tr>\n",
       "<tr><td>5897</td><td>16</td></tr>\n",
       "<tr><td>12431</td><td>16</td></tr>\n",
       "<tr><td>569</td><td>16</td></tr>\n",
       "<tr><td>6316</td><td>16</td></tr>\n",
       "<tr><td>12284</td><td>15</td></tr>\n",
       "<tr><td>4320</td><td>15</td></tr>\n",
       "<tr><td>5624</td><td>15</td></tr>\n",
       "<tr><td>5283</td><td>15</td></tr>\n",
       "<tr><td>221</td><td>15</td></tr>\n",
       "<tr><td>5654</td><td>15</td></tr>\n",
       "<tr><td>6248</td><td>14</td></tr>\n",
       "<tr><td>3708</td><td>14</td></tr>\n",
       "<tr><td>1011</td><td>14</td></tr>\n",
       "<tr><td>8652</td><td>14</td></tr>\n",
       "<tr><td>4517</td><td>14</td></tr>\n",
       "</table>\n"
      ],
      "text/plain": [
       "+-----------+-----+\n",
       "|customer_id|count|\n",
       "+-----------+-----+\n",
       "|       5897|   16|\n",
       "|      12431|   16|\n",
       "|        569|   16|\n",
       "|       6316|   16|\n",
       "|      12284|   15|\n",
       "|       4320|   15|\n",
       "|       5624|   15|\n",
       "|       5283|   15|\n",
       "|        221|   15|\n",
       "|       5654|   15|\n",
       "|       6248|   14|\n",
       "|       3708|   14|\n",
       "|       1011|   14|\n",
       "|       8652|   14|\n",
       "|       4517|   14|\n",
       "+-----------+-----+"
      ]
     },
     "execution_count": 13,
     "metadata": {},
     "output_type": "execute_result"
    }
   ],
   "source": [
    "orders_df.groupBy(\"customer_id\").count().sort(\"count\",ascending = False).limit(15)"
   ]
  },
  {
   "cell_type": "code",
   "execution_count": 20,
   "id": "6124df76",
   "metadata": {},
   "outputs": [
    {
     "data": {
      "text/html": [
       "<table border='1'>\n",
       "<tr><th>customer_id</th><th>count(1)</th></tr>\n",
       "<tr><td>6316</td><td>16</td></tr>\n",
       "<tr><td>12431</td><td>16</td></tr>\n",
       "<tr><td>5897</td><td>16</td></tr>\n",
       "<tr><td>569</td><td>16</td></tr>\n",
       "<tr><td>4320</td><td>15</td></tr>\n",
       "<tr><td>221</td><td>15</td></tr>\n",
       "<tr><td>12284</td><td>15</td></tr>\n",
       "<tr><td>5283</td><td>15</td></tr>\n",
       "<tr><td>5654</td><td>15</td></tr>\n",
       "<tr><td>5624</td><td>15</td></tr>\n",
       "<tr><td>8652</td><td>14</td></tr>\n",
       "<tr><td>3708</td><td>14</td></tr>\n",
       "<tr><td>4249</td><td>14</td></tr>\n",
       "<tr><td>3710</td><td>14</td></tr>\n",
       "<tr><td>6248</td><td>14</td></tr>\n",
       "</table>\n"
      ],
      "text/plain": [
       "+-----------+--------+\n",
       "|customer_id|count(1)|\n",
       "+-----------+--------+\n",
       "|       5897|      16|\n",
       "|      12431|      16|\n",
       "|        569|      16|\n",
       "|       6316|      16|\n",
       "|       4320|      15|\n",
       "|      12284|      15|\n",
       "|       5624|      15|\n",
       "|        221|      15|\n",
       "|       5654|      15|\n",
       "|       5283|      15|\n",
       "|      11689|      14|\n",
       "|        791|      14|\n",
       "|       6248|      14|\n",
       "|       5582|      14|\n",
       "|       4249|      14|\n",
       "+-----------+--------+"
      ]
     },
     "execution_count": 20,
     "metadata": {},
     "output_type": "execute_result"
    }
   ],
   "source": [
    "spark.sql(\"SELECT customer_id, count(1) \\\n",
    "            FROM Orders \\\n",
    "            GROUP BY customer_id \\\n",
    "            ORDER BY count(1) desc \\\n",
    "            LIMIT 15\")"
   ]
  },
  {
   "cell_type": "markdown",
   "id": "7a7b3849",
   "metadata": {},
   "source": [
    "#### 2. Find the number of orders under each order status"
   ]
  },
  {
   "cell_type": "code",
   "execution_count": 24,
   "id": "7ce07991",
   "metadata": {},
   "outputs": [
    {
     "name": "stdout",
     "output_type": "stream",
     "text": [
      "+---------------+-----+\n",
      "|   order_status|count|\n",
      "+---------------+-----+\n",
      "|       COMPLETE|22899|\n",
      "|PENDING_PAYMENT|15030|\n",
      "|     PROCESSING| 8275|\n",
      "|        PENDING| 7610|\n",
      "|         CLOSED| 7556|\n",
      "|        ON_HOLD| 3798|\n",
      "|SUSPECTED_FRAUD| 1558|\n",
      "|       CANCELED| 1428|\n",
      "| PAYMENT_REVIEW|  729|\n",
      "+---------------+-----+\n",
      "\n"
     ]
    }
   ],
   "source": [
    "orders_df.groupBy(\"order_status\").count().sort(\"count\",ascending = False).show()"
   ]
  },
  {
   "cell_type": "code",
   "execution_count": 28,
   "id": "b4c1ade4",
   "metadata": {},
   "outputs": [
    {
     "data": {
      "text/html": [
       "<table border='1'>\n",
       "<tr><th>order_status</th><th>count(1)</th></tr>\n",
       "<tr><td>COMPLETE</td><td>22899</td></tr>\n",
       "<tr><td>PENDING_PAYMENT</td><td>15030</td></tr>\n",
       "<tr><td>PROCESSING</td><td>8275</td></tr>\n",
       "<tr><td>PENDING</td><td>7610</td></tr>\n",
       "<tr><td>CLOSED</td><td>7556</td></tr>\n",
       "<tr><td>ON_HOLD</td><td>3798</td></tr>\n",
       "<tr><td>SUSPECTED_FRAUD</td><td>1558</td></tr>\n",
       "<tr><td>CANCELED</td><td>1428</td></tr>\n",
       "<tr><td>PAYMENT_REVIEW</td><td>729</td></tr>\n",
       "</table>\n"
      ],
      "text/plain": [
       "+---------------+--------+\n",
       "|   order_status|count(1)|\n",
       "+---------------+--------+\n",
       "|       COMPLETE|   22899|\n",
       "|PENDING_PAYMENT|   15030|\n",
       "|     PROCESSING|    8275|\n",
       "|        PENDING|    7610|\n",
       "|         CLOSED|    7556|\n",
       "|        ON_HOLD|    3798|\n",
       "|SUSPECTED_FRAUD|    1558|\n",
       "|       CANCELED|    1428|\n",
       "| PAYMENT_REVIEW|     729|\n",
       "+---------------+--------+"
      ]
     },
     "execution_count": 28,
     "metadata": {},
     "output_type": "execute_result"
    }
   ],
   "source": [
    "spark.sql(\"SELECT order_status, count(1) \\\n",
    "           FROM Orders \\\n",
    "           GROUP BY order_status \\\n",
    "           ORDER BY count(1) DESC \\\n",
    "          \")"
   ]
  },
  {
   "cell_type": "markdown",
   "id": "bf02baa8",
   "metadata": {},
   "source": [
    "#### 3. Number of active customers(customers who have placed atleast one order)"
   ]
  },
  {
   "cell_type": "code",
   "execution_count": 38,
   "id": "9762b628",
   "metadata": {},
   "outputs": [
    {
     "data": {
      "text/plain": [
       "12405"
      ]
     },
     "execution_count": 38,
     "metadata": {},
     "output_type": "execute_result"
    }
   ],
   "source": [
    "orders_df.select(\"customer_id\").distinct().count()"
   ]
  },
  {
   "cell_type": "code",
   "execution_count": 34,
   "id": "d9a2bb29",
   "metadata": {},
   "outputs": [
    {
     "data": {
      "text/html": [
       "<table border='1'>\n",
       "<tr><th>count(DISTINCT customer_id)</th></tr>\n",
       "<tr><td>12405</td></tr>\n",
       "</table>\n"
      ],
      "text/plain": [
       "+---------------------------+\n",
       "|count(DISTINCT customer_id)|\n",
       "+---------------------------+\n",
       "|                      12405|\n",
       "+---------------------------+"
      ]
     },
     "execution_count": 34,
     "metadata": {},
     "output_type": "execute_result"
    }
   ],
   "source": [
    "spark.sql(\"SELECT count(distinct customer_id) FROM Orders\")"
   ]
  },
  {
   "cell_type": "markdown",
   "id": "aeba6b0d",
   "metadata": {},
   "source": [
    "#### 4. Customers with most number of closed orders"
   ]
  },
  {
   "cell_type": "code",
   "execution_count": 41,
   "id": "cfb2ded3",
   "metadata": {},
   "outputs": [
    {
     "data": {
      "text/html": [
       "<table border='1'>\n",
       "<tr><th>customer_id</th><th>count</th></tr>\n",
       "<tr><td>1833</td><td>6</td></tr>\n",
       "<tr><td>1363</td><td>5</td></tr>\n",
       "<tr><td>1687</td><td>5</td></tr>\n",
       "<tr><td>5493</td><td>5</td></tr>\n",
       "<tr><td>7948</td><td>4</td></tr>\n",
       "<tr><td>2768</td><td>4</td></tr>\n",
       "<tr><td>10263</td><td>4</td></tr>\n",
       "<tr><td>7850</td><td>4</td></tr>\n",
       "<tr><td>2403</td><td>4</td></tr>\n",
       "<tr><td>437</td><td>4</td></tr>\n",
       "<tr><td>4573</td><td>4</td></tr>\n",
       "<tr><td>3631</td><td>4</td></tr>\n",
       "<tr><td>12431</td><td>4</td></tr>\n",
       "<tr><td>1521</td><td>4</td></tr>\n",
       "<tr><td>10111</td><td>4</td></tr>\n",
       "<tr><td>7879</td><td>4</td></tr>\n",
       "<tr><td>10018</td><td>4</td></tr>\n",
       "<tr><td>5319</td><td>4</td></tr>\n",
       "<tr><td>2236</td><td>4</td></tr>\n",
       "<tr><td>2774</td><td>4</td></tr>\n",
       "</table>\n",
       "only showing top 20 rows\n"
      ],
      "text/plain": [
       "+-----------+-----+\n",
       "|customer_id|count|\n",
       "+-----------+-----+\n",
       "|       1833|    6|\n",
       "|       1363|    5|\n",
       "|       1687|    5|\n",
       "|       5493|    5|\n",
       "|       7948|    4|\n",
       "|       2768|    4|\n",
       "|      10263|    4|\n",
       "|       2236|    4|\n",
       "|       2403|    4|\n",
       "|       7879|    4|\n",
       "|       4573|    4|\n",
       "|       7850|    4|\n",
       "|      12431|    4|\n",
       "|       1521|    4|\n",
       "|      10111|    4|\n",
       "|        437|    4|\n",
       "|      10018|    4|\n",
       "|       5319|    4|\n",
       "|       2774|    4|\n",
       "|       3631|    4|\n",
       "+-----------+-----+\n",
       "only showing top 20 rows"
      ]
     },
     "execution_count": 41,
     "metadata": {},
     "output_type": "execute_result"
    }
   ],
   "source": [
    "orders_df.filter(\"order_status = 'CLOSED'\").groupBy(\"customer_id\").count().sort(\"count\",ascending = False)"
   ]
  },
  {
   "cell_type": "code",
   "execution_count": 43,
   "id": "051650e0",
   "metadata": {},
   "outputs": [
    {
     "data": {
      "text/html": [
       "<table border='1'>\n",
       "<tr><th>customer_id</th><th>count(1)</th></tr>\n",
       "<tr><td>1833</td><td>6</td></tr>\n",
       "<tr><td>1687</td><td>5</td></tr>\n",
       "<tr><td>1363</td><td>5</td></tr>\n",
       "<tr><td>5493</td><td>5</td></tr>\n",
       "<tr><td>7948</td><td>4</td></tr>\n",
       "<tr><td>2768</td><td>4</td></tr>\n",
       "<tr><td>10263</td><td>4</td></tr>\n",
       "<tr><td>2236</td><td>4</td></tr>\n",
       "<tr><td>2403</td><td>4</td></tr>\n",
       "<tr><td>437</td><td>4</td></tr>\n",
       "<tr><td>4573</td><td>4</td></tr>\n",
       "<tr><td>7850</td><td>4</td></tr>\n",
       "<tr><td>12431</td><td>4</td></tr>\n",
       "<tr><td>1521</td><td>4</td></tr>\n",
       "<tr><td>10111</td><td>4</td></tr>\n",
       "<tr><td>7879</td><td>4</td></tr>\n",
       "<tr><td>10018</td><td>4</td></tr>\n",
       "<tr><td>5319</td><td>4</td></tr>\n",
       "<tr><td>3631</td><td>4</td></tr>\n",
       "<tr><td>2774</td><td>4</td></tr>\n",
       "</table>\n",
       "only showing top 20 rows\n"
      ],
      "text/plain": [
       "+-----------+--------+\n",
       "|customer_id|count(1)|\n",
       "+-----------+--------+\n",
       "|       1833|       6|\n",
       "|       1687|       5|\n",
       "|       1363|       5|\n",
       "|       5493|       5|\n",
       "|       7948|       4|\n",
       "|       2768|       4|\n",
       "|      10263|       4|\n",
       "|       2236|       4|\n",
       "|       2403|       4|\n",
       "|       7879|       4|\n",
       "|       4573|       4|\n",
       "|       7850|       4|\n",
       "|      12431|       4|\n",
       "|       1521|       4|\n",
       "|      10111|       4|\n",
       "|        437|       4|\n",
       "|      10018|       4|\n",
       "|       5319|       4|\n",
       "|       3631|       4|\n",
       "|       2774|       4|\n",
       "+-----------+--------+\n",
       "only showing top 20 rows"
      ]
     },
     "execution_count": 43,
     "metadata": {},
     "output_type": "execute_result"
    }
   ],
   "source": [
    "spark.sql(\"SELECT customer_id, count(1) \\\n",
    "           FROM Orders \\\n",
    "           WHERE order_status = 'CLOSED' \\\n",
    "           GROUP BY 1 \\\n",
    "           ORDER BY 2 DESC\\\n",
    "          \")"
   ]
  }
 ],
 "metadata": {
  "kernelspec": {
   "display_name": "Pyspark 3",
   "language": "python",
   "name": "pyspark3"
  },
  "language_info": {
   "codemirror_mode": {
    "name": "ipython",
    "version": 3
   },
   "file_extension": ".py",
   "mimetype": "text/x-python",
   "name": "python",
   "nbconvert_exporter": "python",
   "pygments_lexer": "ipython3",
   "version": "3.6.12"
  }
 },
 "nbformat": 4,
 "nbformat_minor": 5
}
