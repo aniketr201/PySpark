{
 "cells": [
  {
   "cell_type": "markdown",
   "id": "5d92153d",
   "metadata": {},
   "source": [
    "<h2 align = 'center'> Spark Core API Assignment # 1 </h2>\n",
    "<br>\n",
    "<h4> Answer the following retail_db related questions using Spark RDDs. "
   ]
  },
  {
   "cell_type": "code",
   "execution_count": 1,
   "id": "78607a70",
   "metadata": {},
   "outputs": [],
   "source": [
    "from pyspark.sql import SparkSession"
   ]
  },
  {
   "cell_type": "code",
   "execution_count": 2,
   "id": "355683a4",
   "metadata": {},
   "outputs": [],
   "source": [
    "spark = SparkSession. \\\n",
    "builder. \\\n",
    "config(\"spark.ui.port\",\"0\"). \\\n",
    "config(\"spark.sql.warehouse.dir\",\"/user/itv012857/warehouse\"). \\\n",
    "enableHiveSupport(). \\\n",
    "master(\"yarn\"). \\\n",
    "getOrCreate()"
   ]
  },
  {
   "cell_type": "code",
   "execution_count": 3,
   "id": "483bb503",
   "metadata": {},
   "outputs": [],
   "source": [
    "orders_rdd = spark.sparkContext.textFile(\"/public/trendytech/retail_db/orders/*\")"
   ]
  },
  {
   "cell_type": "markdown",
   "id": "a7882a13",
   "metadata": {},
   "source": [
    "<b> Orders: order_id,order_date,order_customer_id,order_status </b>"
   ]
  },
  {
   "cell_type": "code",
   "execution_count": 5,
   "id": "e0ff6f36",
   "metadata": {},
   "outputs": [
    {
     "data": {
      "text/plain": [
       "['1,2013-07-25 00:00:00.0,11599,CLOSED',\n",
       " '2,2013-07-25 00:00:00.0,256,PENDING_PAYMENT',\n",
       " '3,2013-07-25 00:00:00.0,12111,COMPLETE',\n",
       " '4,2013-07-25 00:00:00.0,8827,CLOSED',\n",
       " '5,2013-07-25 00:00:00.0,11318,COMPLETE']"
      ]
     },
     "execution_count": 5,
     "metadata": {},
     "output_type": "execute_result"
    }
   ],
   "source": [
    "orders_rdd.take(5)"
   ]
  },
  {
   "cell_type": "code",
   "execution_count": 6,
   "id": "188686d4",
   "metadata": {},
   "outputs": [],
   "source": [
    "order_items = spark.sparkContext.textFile(\"/public/trendytech/retail_db/order_items/*\")"
   ]
  },
  {
   "cell_type": "markdown",
   "id": "8072b281",
   "metadata": {},
   "source": [
    "<b> Order Items: order_item_id,order_id,order_item_product_id,order_item_quantity,order_item_subtotal,order_item_product_price"
   ]
  },
  {
   "cell_type": "code",
   "execution_count": 8,
   "id": "57f2a20e",
   "metadata": {},
   "outputs": [
    {
     "data": {
      "text/plain": [
       "['1,1,957,1,299.98,299.98',\n",
       " '2,2,1073,1,199.99,199.99',\n",
       " '3,2,502,5,250.0,50.0',\n",
       " '4,2,403,1,129.99,129.99',\n",
       " '5,4,897,2,49.98,24.99']"
      ]
     },
     "execution_count": 8,
     "metadata": {},
     "output_type": "execute_result"
    }
   ],
   "source": [
    "order_items.take(5)"
   ]
  },
  {
   "cell_type": "code",
   "execution_count": 9,
   "id": "dfb745da",
   "metadata": {},
   "outputs": [],
   "source": [
    "customers = spark.sparkContext.textFile(\"/public/trendytech/retail_db/customers/*\")"
   ]
  },
  {
   "cell_type": "markdown",
   "id": "d0124620",
   "metadata": {},
   "source": [
    "<b> Customers: customer_id,customer_fname,customer_lname,customer_email,customer_password,customer_street,customer_city,customer_state,customer_zipcode"
   ]
  },
  {
   "cell_type": "code",
   "execution_count": 11,
   "id": "dc7e81f9",
   "metadata": {},
   "outputs": [
    {
     "data": {
      "text/plain": [
       "['1,Richard,Hernandez,XXXXXXXXX,XXXXXXXXX,6303 Heather Plaza,Brownsville,TX,78521',\n",
       " '2,Mary,Barrett,XXXXXXXXX,XXXXXXXXX,9526 Noble Embers Ridge,Littleton,CO,80126',\n",
       " '3,Ann,Smith,XXXXXXXXX,XXXXXXXXX,3422 Blue Pioneer Bend,Caguas,PR,00725',\n",
       " '4,Mary,Jones,XXXXXXXXX,XXXXXXXXX,8324 Little Common,San Marcos,CA,92069',\n",
       " '5,Robert,Hudson,XXXXXXXXX,XXXXXXXXX,\"10 Crystal River Mall \",Caguas,PR,00725']"
      ]
     },
     "execution_count": 11,
     "metadata": {},
     "output_type": "execute_result"
    }
   ],
   "source": [
    "customers.take(5)"
   ]
  },
  {
   "cell_type": "markdown",
   "id": "60de01e3",
   "metadata": {},
   "source": [
    "<h4> 1. Find the top 10 customer who have spent the most amount"
   ]
  },
  {
   "cell_type": "code",
   "execution_count": 12,
   "id": "974edff2",
   "metadata": {},
   "outputs": [],
   "source": [
    "order_customer = orders_rdd.map(lambda x: (int(x.split(\",\")[0]),int(x.split(\",\")[2])))"
   ]
  },
  {
   "cell_type": "code",
   "execution_count": 13,
   "id": "4cccf56e",
   "metadata": {},
   "outputs": [],
   "source": [
    "order_amount = order_items.map(lambda x: (int(x.split(\",\")[1]),float(x.split(\",\")[4])))"
   ]
  },
  {
   "cell_type": "code",
   "execution_count": 14,
   "id": "903f07bf",
   "metadata": {},
   "outputs": [
    {
     "data": {
      "text/plain": [
       "[(1, 299.98), (2, 199.99), (2, 250.0), (2, 129.99), (4, 49.98)]"
      ]
     },
     "execution_count": 14,
     "metadata": {},
     "output_type": "execute_result"
    }
   ],
   "source": [
    "order_amount.take(5)"
   ]
  },
  {
   "cell_type": "code",
   "execution_count": 15,
   "id": "50ca62bd",
   "metadata": {},
   "outputs": [],
   "source": [
    "orders_joined = order_customer.join(order_amount)"
   ]
  },
  {
   "cell_type": "code",
   "execution_count": 16,
   "id": "66287e28",
   "metadata": {},
   "outputs": [],
   "source": [
    "cust_amount = orders_joined.map(lambda x: (x[1][0],x[1][1]))"
   ]
  },
  {
   "cell_type": "code",
   "execution_count": 17,
   "id": "cba090d3",
   "metadata": {},
   "outputs": [
    {
     "data": {
      "text/plain": [
       "[(8827, 49.98), (8827, 299.95), (8827, 150.0), (8827, 199.92), (2911, 179.97)]"
      ]
     },
     "execution_count": 17,
     "metadata": {},
     "output_type": "execute_result"
    }
   ],
   "source": [
    "cust_amount.take(5)"
   ]
  },
  {
   "cell_type": "code",
   "execution_count": 18,
   "id": "4c1ae71e",
   "metadata": {},
   "outputs": [],
   "source": [
    "agg_cust_amount = cust_amount.reduceByKey(lambda x,y: x+y)"
   ]
  },
  {
   "cell_type": "code",
   "execution_count": 19,
   "id": "648784bc",
   "metadata": {},
   "outputs": [
    {
     "data": {
      "text/plain": [
       "[(791, 10524.169999999996),\n",
       " (9371, 9299.029999999999),\n",
       " (8766, 9296.14),\n",
       " (1657, 9223.71),\n",
       " (2641, 9130.92),\n",
       " (1288, 9019.11),\n",
       " (3710, 9019.099999999999),\n",
       " (4249, 8918.85),\n",
       " (5654, 8904.95),\n",
       " (5624, 8761.98)]"
      ]
     },
     "execution_count": 19,
     "metadata": {},
     "output_type": "execute_result"
    }
   ],
   "source": [
    "agg_cust_amount.sortBy(lambda x: x[1],False).take(10)"
   ]
  },
  {
   "cell_type": "markdown",
   "id": "9fc3f94e",
   "metadata": {},
   "source": [
    "<h4> 2. Top 10 Product IDs with most quantities sold"
   ]
  },
  {
   "cell_type": "markdown",
   "id": "8280e07f",
   "metadata": {},
   "source": [
    "<b> Order Item : order_item_id,order_id,order_item_product_id,order_item_quantity,order_item_subtotal,order_item_product_price </b>"
   ]
  },
  {
   "cell_type": "code",
   "execution_count": 20,
   "id": "62c98602",
   "metadata": {},
   "outputs": [],
   "source": [
    "product_qty = order_items.map(lambda x:(int(x.split(\",\")[2]),int(x.split(\",\")[3])))"
   ]
  },
  {
   "cell_type": "code",
   "execution_count": 21,
   "id": "11859155",
   "metadata": {},
   "outputs": [
    {
     "data": {
      "text/plain": [
       "[(957, 1), (1073, 1), (502, 5), (403, 1), (897, 2)]"
      ]
     },
     "execution_count": 21,
     "metadata": {},
     "output_type": "execute_result"
    }
   ],
   "source": [
    "product_qty.take(5)"
   ]
  },
  {
   "cell_type": "code",
   "execution_count": 22,
   "id": "b7b2c61a",
   "metadata": {},
   "outputs": [
    {
     "data": {
      "text/plain": [
       "[(365, 73698),\n",
       " (502, 62956),\n",
       " (1014, 57803),\n",
       " (191, 36680),\n",
       " (627, 31735),\n",
       " (403, 22246),\n",
       " (1004, 17325),\n",
       " (1073, 15500),\n",
       " (957, 13729),\n",
       " (977, 998)]"
      ]
     },
     "execution_count": 22,
     "metadata": {},
     "output_type": "execute_result"
    }
   ],
   "source": [
    "product_qty.reduceByKey(lambda x,y: x+y).sortBy(lambda x:x[1],False).take(10)"
   ]
  },
  {
   "cell_type": "markdown",
   "id": "35b96eea",
   "metadata": {},
   "source": [
    "<h4> 3. How many customers are from Caguas city?"
   ]
  },
  {
   "cell_type": "markdown",
   "id": "7b4df12d",
   "metadata": {},
   "source": [
    "<b> Customers : customer_id,customer_fname,customer_lname,customer_email,customer_password,customer_street,customer_city,customer_state,customer_zipcode"
   ]
  },
  {
   "cell_type": "code",
   "execution_count": 23,
   "id": "c0b5d52b",
   "metadata": {},
   "outputs": [
    {
     "data": {
      "text/plain": [
       "4584"
      ]
     },
     "execution_count": 23,
     "metadata": {},
     "output_type": "execute_result"
    }
   ],
   "source": [
    "customers.filter(lambda x: x.split(\",\")[6]=='Caguas').count()"
   ]
  },
  {
   "cell_type": "markdown",
   "id": "3a92dfcd",
   "metadata": {},
   "source": [
    "<h4> 4. Top 3 States with Maximum Customers"
   ]
  },
  {
   "cell_type": "code",
   "execution_count": 24,
   "id": "9604f25a",
   "metadata": {},
   "outputs": [
    {
     "data": {
      "text/plain": [
       "[('PR', 4771), ('CA', 2012), ('NY', 775)]"
      ]
     },
     "execution_count": 24,
     "metadata": {},
     "output_type": "execute_result"
    }
   ],
   "source": [
    "customers.map(lambda x: (x.split(\",\")[7],1)).reduceByKey(lambda x,y:x+y).sortBy(lambda x:x[1],False).take(3)"
   ]
  },
  {
   "cell_type": "markdown",
   "id": "9ee4d497",
   "metadata": {},
   "source": [
    "<h4> 5. How many customer have spent more than $1000 in total?"
   ]
  },
  {
   "cell_type": "code",
   "execution_count": 25,
   "id": "fa54ed33",
   "metadata": {},
   "outputs": [
    {
     "data": {
      "text/plain": [
       "[(7276, 2489.63),\n",
       " (656, 4455.39),\n",
       " (10500, 5567.5),\n",
       " (4320, 5016.34),\n",
       " (6932, 4405.5)]"
      ]
     },
     "execution_count": 25,
     "metadata": {},
     "output_type": "execute_result"
    }
   ],
   "source": [
    "# Using agg_cust_amount RDD created above as it has both customer and total amount spent\n",
    "\n",
    "agg_cust_amount.take(5)\n",
    "\n",
    "# Following Data is - Customer ID, Total Amount Spent"
   ]
  },
  {
   "cell_type": "code",
   "execution_count": 26,
   "id": "528ddd26",
   "metadata": {},
   "outputs": [
    {
     "data": {
      "text/plain": [
       "11148"
      ]
     },
     "execution_count": 26,
     "metadata": {},
     "output_type": "execute_result"
    }
   ],
   "source": [
    "agg_cust_amount.filter(lambda x:x[1] > 1000).count()"
   ]
  },
  {
   "cell_type": "markdown",
   "id": "95406721",
   "metadata": {},
   "source": [
    "<h3> 6. Which State has Most Number of Orders in Closed Status?"
   ]
  },
  {
   "cell_type": "markdown",
   "id": "177face0",
   "metadata": {},
   "source": [
    "<b> Orders: order_id,order_date,order_customer_id,order_status </b>"
   ]
  },
  {
   "cell_type": "code",
   "execution_count": 30,
   "id": "83bb84fa",
   "metadata": {},
   "outputs": [],
   "source": [
    "closed_orders = orders_rdd.filter(lambda x: x.split(\",\")[3] == 'CLOSED')"
   ]
  },
  {
   "cell_type": "code",
   "execution_count": 80,
   "id": "f3d3f846",
   "metadata": {},
   "outputs": [],
   "source": [
    "closed_orders_customers = closed_orders.map(lambda x:(int(x.split(\",\")[2]),1))"
   ]
  },
  {
   "cell_type": "code",
   "execution_count": 81,
   "id": "36e7a236",
   "metadata": {},
   "outputs": [
    {
     "data": {
      "text/plain": [
       "[(11599, 1),\n",
       " (8827, 1),\n",
       " (1837, 1),\n",
       " (1205, 1),\n",
       " (11441, 1),\n",
       " (9503, 1),\n",
       " (5863, 1),\n",
       " (12271, 1),\n",
       " (7073, 1),\n",
       " (4791, 1)]"
      ]
     },
     "execution_count": 81,
     "metadata": {},
     "output_type": "execute_result"
    }
   ],
   "source": [
    "closed_orders_customers.take(10)"
   ]
  },
  {
   "cell_type": "markdown",
   "id": "b6bb65f1",
   "metadata": {},
   "source": [
    "<b> Customers : customer_id,customer_fname,customer_lname,customer_email,customer_password,customer_street,customer_city,customer_state,customer_zipcode"
   ]
  },
  {
   "cell_type": "code",
   "execution_count": 82,
   "id": "39d153c8",
   "metadata": {},
   "outputs": [],
   "source": [
    "customer_state = customers.map(lambda x: (int(x.split(\",\")[0]),x.split(\",\")[7]))"
   ]
  },
  {
   "cell_type": "code",
   "execution_count": 83,
   "id": "1fa7ce68",
   "metadata": {},
   "outputs": [
    {
     "data": {
      "text/plain": [
       "[(1, 'TX'), (2, 'CO'), (3, 'PR'), (4, 'CA'), (5, 'PR')]"
      ]
     },
     "execution_count": 83,
     "metadata": {},
     "output_type": "execute_result"
    }
   ],
   "source": [
    "customer_state.take(5)"
   ]
  },
  {
   "cell_type": "code",
   "execution_count": 84,
   "id": "5ef68df2",
   "metadata": {},
   "outputs": [],
   "source": [
    "closed_orders_state = customer_state.join(closed_orders_customers)"
   ]
  },
  {
   "cell_type": "code",
   "execution_count": 85,
   "id": "b71b5a88",
   "metadata": {},
   "outputs": [
    {
     "data": {
      "text/plain": [
       "[(4, ('CA', 1)),\n",
       " (8, ('MA', 1)),\n",
       " (12, ('TX', 1)),\n",
       " (16, ('PR', 1)),\n",
       " (20, ('NJ', 1)),\n",
       " (28, ('WA', 1)),\n",
       " (32, ('PR', 1)),\n",
       " (36, ('PR', 1)),\n",
       " (40, ('CA', 1)),\n",
       " (60, ('NY', 1))]"
      ]
     },
     "execution_count": 85,
     "metadata": {},
     "output_type": "execute_result"
    }
   ],
   "source": [
    "closed_orders_state.take(10)"
   ]
  },
  {
   "cell_type": "code",
   "execution_count": 86,
   "id": "a76d4be2",
   "metadata": {},
   "outputs": [
    {
     "data": {
      "text/plain": [
       "[('PR', 2891)]"
      ]
     },
     "execution_count": 86,
     "metadata": {},
     "output_type": "execute_result"
    }
   ],
   "source": [
    "closed_orders_state.map(lambda x:(x[1][0],x[1][1])).reduceByKey(lambda x,y: x+y).sortBy(lambda x:x[1],False).take(1)"
   ]
  },
  {
   "cell_type": "markdown",
   "id": "8845ecf6",
   "metadata": {},
   "source": [
    "<h3> 7. How many customers are active? </h3>\n",
    "Active customer are customers who have placed atleast one order."
   ]
  },
  {
   "cell_type": "code",
   "execution_count": 92,
   "id": "417a3454",
   "metadata": {},
   "outputs": [
    {
     "data": {
      "text/plain": [
       "12405"
      ]
     },
     "execution_count": 92,
     "metadata": {},
     "output_type": "execute_result"
    }
   ],
   "source": [
    "orders_rdd.map(lambda x:x.split(\",\")[2]).distinct().count()"
   ]
  },
  {
   "cell_type": "markdown",
   "id": "0da2bd0c",
   "metadata": {},
   "source": [
    "<h3> 8. What is the revenue generated by each state in descending order?    "
   ]
  },
  {
   "cell_type": "code",
   "execution_count": 56,
   "id": "01948213",
   "metadata": {},
   "outputs": [
    {
     "data": {
      "text/plain": [
       "[(7276, 2489.63),\n",
       " (656, 4455.39),\n",
       " (10500, 5567.5),\n",
       " (4320, 5016.34),\n",
       " (6932, 4405.5),\n",
       " (356, 3159.44),\n",
       " (5200, 5679.24),\n",
       " (11116, 4799.4400000000005),\n",
       " (7604, 3752.55),\n",
       " (1780, 7071.280000000001)]"
      ]
     },
     "execution_count": 56,
     "metadata": {},
     "output_type": "execute_result"
    }
   ],
   "source": [
    "# Using agg_cust_amount RDD created above as it has both customer and total amount spent\n",
    "# Joining it with Customer RDD to get the state\n",
    "\n",
    "agg_cust_amount.take(10)"
   ]
  },
  {
   "cell_type": "code",
   "execution_count": 72,
   "id": "ef496a96",
   "metadata": {},
   "outputs": [
    {
     "data": {
      "text/plain": [
       "[(1, 'TX'), (2, 'CO'), (3, 'PR'), (4, 'CA'), (5, 'PR')]"
      ]
     },
     "execution_count": 72,
     "metadata": {},
     "output_type": "execute_result"
    }
   ],
   "source": [
    "# Also using customer_state RDD created above as it already has Customer & State relationship\n",
    "customer_state.take(5)"
   ]
  },
  {
   "cell_type": "code",
   "execution_count": 73,
   "id": "aae06c5f",
   "metadata": {},
   "outputs": [],
   "source": [
    "customer_state_amount = customer_state.join(agg_cust_amount)"
   ]
  },
  {
   "cell_type": "code",
   "execution_count": 74,
   "id": "160229ea",
   "metadata": {},
   "outputs": [
    {
     "data": {
      "text/plain": [
       "[(6, ('NJ', 3259.51)),\n",
       " (12, ('TX', 6009.35)),\n",
       " (18, ('CA', 3519.6)),\n",
       " (24, ('PR', 2769.47)),\n",
       " (30, ('PR', 1105.89))]"
      ]
     },
     "execution_count": 74,
     "metadata": {},
     "output_type": "execute_result"
    }
   ],
   "source": [
    "customer_state_amount.take(5)"
   ]
  },
  {
   "cell_type": "code",
   "execution_count": 77,
   "id": "177f2f0c",
   "metadata": {},
   "outputs": [
    {
     "data": {
      "text/plain": [
       "[('PR', 13208867.690000003),\n",
       " ('CA', 5542722.999999998),\n",
       " ('NY', 2152706.74),\n",
       " ('TX', 1731407.4900000002),\n",
       " ('IL', 1457225.83),\n",
       " ('FL', 1048609.77),\n",
       " ('OH', 773804.1100000001),\n",
       " ('MI', 730078.9700000001),\n",
       " ('PA', 724375.9299999998),\n",
       " ('NJ', 606550.9900000001),\n",
       " ('AZ', 566459.29),\n",
       " ('GA', 467765.1800000001),\n",
       " ('MD', 456100.42000000004),\n",
       " ('NC', 378877.64),\n",
       " ('CO', 358310.60000000003),\n",
       " ('VA', 344824.35000000003),\n",
       " ('OR', 315239.51),\n",
       " ('MA', 306025.73000000004),\n",
       " ('TN', 297614.41000000003),\n",
       " ('NV', 276364.97),\n",
       " ('MO', 260417.28000000003),\n",
       " ('HI', 238208.11000000002),\n",
       " ('CT', 211264.24000000002),\n",
       " ('UT', 184356.83),\n",
       " ('LA', 182954.74000000002),\n",
       " ('NM', 181366.65),\n",
       " ('WA', 172982.45),\n",
       " ('WI', 164058.32),\n",
       " ('MN', 133183.97),\n",
       " ('SC', 129411.79000000001),\n",
       " ('IN', 110015.14000000001),\n",
       " ('DC', 108841.48000000001),\n",
       " ('KY', 94894.75000000001),\n",
       " ('KS', 85865.07),\n",
       " ('DE', 48873.25),\n",
       " ('RI', 47439.35),\n",
       " ('OK', 43493.32),\n",
       " ('WV', 43452.670000000006),\n",
       " ('ND', 41221.97),\n",
       " ('ID', 31791.199999999997),\n",
       " ('AR', 29241.609999999997),\n",
       " ('MT', 16189.98),\n",
       " ('IA', 12761.740000000002),\n",
       " ('AL', 6401.400000000001)]"
      ]
     },
     "execution_count": 77,
     "metadata": {},
     "output_type": "execute_result"
    }
   ],
   "source": [
    "customer_state_amount.map(lambda x: (x[1][0],x[1][1])).reduceByKey(lambda x,y:x+y).sortBy(lambda x: x[1],False).collect()"
   ]
  }
 ],
 "metadata": {
  "kernelspec": {
   "display_name": "Pyspark 3",
   "language": "python",
   "name": "pyspark3"
  },
  "language_info": {
   "codemirror_mode": {
    "name": "ipython",
    "version": 3
   },
   "file_extension": ".py",
   "mimetype": "text/x-python",
   "name": "python",
   "nbconvert_exporter": "python",
   "pygments_lexer": "ipython3",
   "version": "3.6.12"
  }
 },
 "nbformat": 4,
 "nbformat_minor": 5
}
