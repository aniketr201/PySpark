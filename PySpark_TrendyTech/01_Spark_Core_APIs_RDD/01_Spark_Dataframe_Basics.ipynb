{
 "cells": [
  {
   "cell_type": "markdown",
   "id": "02207c0b",
   "metadata": {},
   "source": [
    "<H1 align=\"Center\"> Spark Dataframe Basics </H1>\n",
    "This Spark Program shows how to create a Spark Dataframe from - CSV, JSON or Parquet file; and also from a Spark Temp Table.\n",
    "<BR><BR>"
   ]
  },
  {
   "cell_type": "code",
   "execution_count": 1,
   "id": "044e24df",
   "metadata": {},
   "outputs": [],
   "source": [
    "from pyspark.sql import SparkSession"
   ]
  },
  {
   "cell_type": "code",
   "execution_count": 2,
   "id": "2f1e401b",
   "metadata": {},
   "outputs": [],
   "source": [
    "import getpass\n",
    "username = getpass.getuser()"
   ]
  },
  {
   "cell_type": "code",
   "execution_count": 3,
   "id": "08184ab2",
   "metadata": {},
   "outputs": [],
   "source": [
    "spark = SparkSession. \\\n",
    "builder. \\\n",
    "config('spark.ui.port', '0'). \\\n",
    "config(\"spark.sql.warehouse.dir\", f\"/user/{username}/warehouse\"). \\\n",
    "enableHiveSupport(). \\\n",
    "master('yarn'). \\\n",
    "getOrCreate()"
   ]
  },
  {
   "cell_type": "code",
   "execution_count": 13,
   "id": "fb69e052",
   "metadata": {},
   "outputs": [],
   "source": [
    "orders_df = spark.read \\\n",
    ".format(\"csv\") \\\n",
    ".option(\"header\",\"True\") \\\n",
    ".option(\"inferSchema\",\"True\") \\\n",
    ".load(\"/public/trendytech/orders_wh/*\")"
   ]
  },
  {
   "cell_type": "code",
   "execution_count": 14,
   "id": "ced81f58",
   "metadata": {},
   "outputs": [
    {
     "name": "stdout",
     "output_type": "stream",
     "text": [
      "+--------+---------------------+-----------+---------------+\n",
      "|order_id|order_date           |customer_id|order_status   |\n",
      "+--------+---------------------+-----------+---------------+\n",
      "|1       |2013-07-25 00:00:00.0|11599      |CLOSED         |\n",
      "|2       |2013-07-25 00:00:00.0|256        |PENDING_PAYMENT|\n",
      "|3       |2013-07-25 00:00:00.0|12111      |COMPLETE       |\n",
      "|4       |2013-07-25 00:00:00.0|8827       |CLOSED         |\n",
      "|5       |2013-07-25 00:00:00.0|11318      |COMPLETE       |\n",
      "|6       |2013-07-25 00:00:00.0|7130       |COMPLETE       |\n",
      "|7       |2013-07-25 00:00:00.0|4530       |COMPLETE       |\n",
      "|8       |2013-07-25 00:00:00.0|2911       |PROCESSING     |\n",
      "|9       |2013-07-25 00:00:00.0|5657       |PENDING_PAYMENT|\n",
      "|10      |2013-07-25 00:00:00.0|5648       |PENDING_PAYMENT|\n",
      "|11      |2013-07-25 00:00:00.0|918        |PAYMENT_REVIEW |\n",
      "|12      |2013-07-25 00:00:00.0|1837       |CLOSED         |\n",
      "|13      |2013-07-25 00:00:00.0|9149       |PENDING_PAYMENT|\n",
      "|14      |2013-07-25 00:00:00.0|9842       |PROCESSING     |\n",
      "|15      |2013-07-25 00:00:00.0|2568       |COMPLETE       |\n",
      "|16      |2013-07-25 00:00:00.0|7276       |PENDING_PAYMENT|\n",
      "|17      |2013-07-25 00:00:00.0|2667       |COMPLETE       |\n",
      "|18      |2013-07-25 00:00:00.0|1205       |CLOSED         |\n",
      "|19      |2013-07-25 00:00:00.0|9488       |PENDING_PAYMENT|\n",
      "|20      |2013-07-25 00:00:00.0|9198       |PROCESSING     |\n",
      "+--------+---------------------+-----------+---------------+\n",
      "only showing top 20 rows\n",
      "\n"
     ]
    }
   ],
   "source": [
    "orders_df.show(truncate = False)"
   ]
  },
  {
   "cell_type": "code",
   "execution_count": 27,
   "id": "c0ccf9ef",
   "metadata": {},
   "outputs": [],
   "source": [
    "json_df = spark.read \\\n",
    ".json(\"/public/trendytech/datasets/orders.json\")"
   ]
  },
  {
   "cell_type": "code",
   "execution_count": 41,
   "id": "3ae679ce",
   "metadata": {},
   "outputs": [
    {
     "name": "stdout",
     "output_type": "stream",
     "text": [
      "+-----------+---------------------+--------+---------------+\n",
      "|customer_id|order_date           |order_id|order_status   |\n",
      "+-----------+---------------------+--------+---------------+\n",
      "|11599      |2013-07-25 00:00:00.0|1       |CLOSED         |\n",
      "|256        |2013-07-25 00:00:00.0|2       |PENDING_PAYMENT|\n",
      "|12111      |2013-07-25 00:00:00.0|3       |COMPLETE       |\n",
      "|8827       |2013-07-25 00:00:00.0|4       |CLOSED         |\n",
      "|11318      |2013-07-25 00:00:00.0|5       |COMPLETE       |\n",
      "|7130       |2013-07-25 00:00:00.0|6       |COMPLETE       |\n",
      "|4530       |2013-07-25 00:00:00.0|7       |COMPLETE       |\n",
      "|2911       |2013-07-25 00:00:00.0|8       |PROCESSING     |\n",
      "|5657       |2013-07-25 00:00:00.0|9       |PENDING_PAYMENT|\n",
      "|5648       |2013-07-25 00:00:00.0|10      |PENDING_PAYMENT|\n",
      "|918        |2013-07-25 00:00:00.0|11      |PAYMENT_REVIEW |\n",
      "|1837       |2013-07-25 00:00:00.0|12      |CLOSED         |\n",
      "|9149       |2013-07-25 00:00:00.0|13      |PENDING_PAYMENT|\n",
      "|9842       |2013-07-25 00:00:00.0|14      |PROCESSING     |\n",
      "|2568       |2013-07-25 00:00:00.0|15      |COMPLETE       |\n",
      "|7276       |2013-07-25 00:00:00.0|16      |PENDING_PAYMENT|\n",
      "|2667       |2013-07-25 00:00:00.0|17      |COMPLETE       |\n",
      "|1205       |2013-07-25 00:00:00.0|18      |CLOSED         |\n",
      "|9488       |2013-07-25 00:00:00.0|19      |PENDING_PAYMENT|\n",
      "|9198       |2013-07-25 00:00:00.0|20      |PROCESSING     |\n",
      "+-----------+---------------------+--------+---------------+\n",
      "only showing top 20 rows\n",
      "\n"
     ]
    }
   ],
   "source": [
    "json_df.show(truncate = False)"
   ]
  },
  {
   "cell_type": "code",
   "execution_count": 42,
   "id": "681d16cb",
   "metadata": {},
   "outputs": [],
   "source": [
    "parquet_ds = spark.read.parquet(\"/public/trendytech/datasets/ordersparquet\")"
   ]
  },
  {
   "cell_type": "code",
   "execution_count": 44,
   "id": "f5b7762a",
   "metadata": {},
   "outputs": [
    {
     "name": "stdout",
     "output_type": "stream",
     "text": [
      "+-----------+---------------------+--------+---------------+\n",
      "|customer_id|order_date           |order_id|order_status   |\n",
      "+-----------+---------------------+--------+---------------+\n",
      "|11599      |2013-07-25 00:00:00.0|1       |CLOSED         |\n",
      "|256        |2013-07-25 00:00:00.0|2       |PENDING_PAYMENT|\n",
      "|12111      |2013-07-25 00:00:00.0|3       |COMPLETE       |\n",
      "|8827       |2013-07-25 00:00:00.0|4       |CLOSED         |\n",
      "|11318      |2013-07-25 00:00:00.0|5       |COMPLETE       |\n",
      "|7130       |2013-07-25 00:00:00.0|6       |COMPLETE       |\n",
      "|4530       |2013-07-25 00:00:00.0|7       |COMPLETE       |\n",
      "|2911       |2013-07-25 00:00:00.0|8       |PROCESSING     |\n",
      "|5657       |2013-07-25 00:00:00.0|9       |PENDING_PAYMENT|\n",
      "|5648       |2013-07-25 00:00:00.0|10      |PENDING_PAYMENT|\n",
      "|918        |2013-07-25 00:00:00.0|11      |PAYMENT_REVIEW |\n",
      "|1837       |2013-07-25 00:00:00.0|12      |CLOSED         |\n",
      "|9149       |2013-07-25 00:00:00.0|13      |PENDING_PAYMENT|\n",
      "|9842       |2013-07-25 00:00:00.0|14      |PROCESSING     |\n",
      "|2568       |2013-07-25 00:00:00.0|15      |COMPLETE       |\n",
      "|7276       |2013-07-25 00:00:00.0|16      |PENDING_PAYMENT|\n",
      "|2667       |2013-07-25 00:00:00.0|17      |COMPLETE       |\n",
      "|1205       |2013-07-25 00:00:00.0|18      |CLOSED         |\n",
      "|9488       |2013-07-25 00:00:00.0|19      |PENDING_PAYMENT|\n",
      "|9198       |2013-07-25 00:00:00.0|20      |PROCESSING     |\n",
      "+-----------+---------------------+--------+---------------+\n",
      "only showing top 20 rows\n",
      "\n"
     ]
    }
   ],
   "source": [
    "parquet_ds.show(truncate = False)"
   ]
  },
  {
   "cell_type": "code",
   "execution_count": 31,
   "id": "616d8e73",
   "metadata": {},
   "outputs": [],
   "source": [
    "parquet_ds.createOrReplaceTempView(\"Orders\")"
   ]
  },
  {
   "cell_type": "code",
   "execution_count": 34,
   "id": "dc2a3001",
   "metadata": {},
   "outputs": [
    {
     "data": {
      "text/html": [
       "<table border='1'>\n",
       "<tr><th>customer_id</th><th>order_date</th><th>order_id</th><th>order_status</th></tr>\n",
       "<tr><td>11599</td><td>2013-07-25 00:00:...</td><td>1</td><td>CLOSED</td></tr>\n",
       "<tr><td>8827</td><td>2013-07-25 00:00:...</td><td>4</td><td>CLOSED</td></tr>\n",
       "<tr><td>1837</td><td>2013-07-25 00:00:...</td><td>12</td><td>CLOSED</td></tr>\n",
       "<tr><td>1205</td><td>2013-07-25 00:00:...</td><td>18</td><td>CLOSED</td></tr>\n",
       "<tr><td>11441</td><td>2013-07-25 00:00:...</td><td>24</td><td>CLOSED</td></tr>\n",
       "<tr><td>9503</td><td>2013-07-25 00:00:...</td><td>25</td><td>CLOSED</td></tr>\n",
       "<tr><td>5863</td><td>2013-07-25 00:00:...</td><td>37</td><td>CLOSED</td></tr>\n",
       "<tr><td>12271</td><td>2013-07-25 00:00:...</td><td>51</td><td>CLOSED</td></tr>\n",
       "<tr><td>7073</td><td>2013-07-25 00:00:...</td><td>57</td><td>CLOSED</td></tr>\n",
       "<tr><td>4791</td><td>2013-07-25 00:00:...</td><td>61</td><td>CLOSED</td></tr>\n",
       "<tr><td>9111</td><td>2013-07-25 00:00:...</td><td>62</td><td>CLOSED</td></tr>\n",
       "<tr><td>3065</td><td>2013-07-25 00:00:...</td><td>87</td><td>CLOSED</td></tr>\n",
       "<tr><td>9131</td><td>2013-07-25 00:00:...</td><td>90</td><td>CLOSED</td></tr>\n",
       "<tr><td>5116</td><td>2013-07-25 00:00:...</td><td>101</td><td>CLOSED</td></tr>\n",
       "<tr><td>8763</td><td>2013-07-26 00:00:...</td><td>116</td><td>CLOSED</td></tr>\n",
       "<tr><td>9937</td><td>2013-07-26 00:00:...</td><td>129</td><td>CLOSED</td></tr>\n",
       "<tr><td>10604</td><td>2013-07-26 00:00:...</td><td>133</td><td>CLOSED</td></tr>\n",
       "<tr><td>16</td><td>2013-07-26 00:00:...</td><td>191</td><td>CLOSED</td></tr>\n",
       "<tr><td>9055</td><td>2013-07-26 00:00:...</td><td>201</td><td>CLOSED</td></tr>\n",
       "<tr><td>10372</td><td>2013-07-26 00:00:...</td><td>211</td><td>CLOSED</td></tr>\n",
       "</table>\n",
       "only showing top 20 rows\n"
      ],
      "text/plain": [
       "+-----------+--------------------+--------+------------+\n",
       "|customer_id|          order_date|order_id|order_status|\n",
       "+-----------+--------------------+--------+------------+\n",
       "|      11599|2013-07-25 00:00:...|       1|      CLOSED|\n",
       "|       8827|2013-07-25 00:00:...|       4|      CLOSED|\n",
       "|       1837|2013-07-25 00:00:...|      12|      CLOSED|\n",
       "|       1205|2013-07-25 00:00:...|      18|      CLOSED|\n",
       "|      11441|2013-07-25 00:00:...|      24|      CLOSED|\n",
       "|       9503|2013-07-25 00:00:...|      25|      CLOSED|\n",
       "|       5863|2013-07-25 00:00:...|      37|      CLOSED|\n",
       "|      12271|2013-07-25 00:00:...|      51|      CLOSED|\n",
       "|       7073|2013-07-25 00:00:...|      57|      CLOSED|\n",
       "|       4791|2013-07-25 00:00:...|      61|      CLOSED|\n",
       "|       9111|2013-07-25 00:00:...|      62|      CLOSED|\n",
       "|       3065|2013-07-25 00:00:...|      87|      CLOSED|\n",
       "|       9131|2013-07-25 00:00:...|      90|      CLOSED|\n",
       "|       5116|2013-07-25 00:00:...|     101|      CLOSED|\n",
       "|       8763|2013-07-26 00:00:...|     116|      CLOSED|\n",
       "|       9937|2013-07-26 00:00:...|     129|      CLOSED|\n",
       "|      10604|2013-07-26 00:00:...|     133|      CLOSED|\n",
       "|         16|2013-07-26 00:00:...|     191|      CLOSED|\n",
       "|       9055|2013-07-26 00:00:...|     201|      CLOSED|\n",
       "|      10372|2013-07-26 00:00:...|     211|      CLOSED|\n",
       "+-----------+--------------------+--------+------------+\n",
       "only showing top 20 rows"
      ]
     },
     "execution_count": 34,
     "metadata": {},
     "output_type": "execute_result"
    }
   ],
   "source": [
    "spark.sql(\"Select * from Orders WHERE order_status = 'CLOSED'\")"
   ]
  },
  {
   "cell_type": "code",
   "execution_count": 39,
   "id": "c39e4d81",
   "metadata": {},
   "outputs": [],
   "source": [
    "table_ds = spark.read.table(\"Orders\")"
   ]
  },
  {
   "cell_type": "code",
   "execution_count": 40,
   "id": "8322052c",
   "metadata": {},
   "outputs": [
    {
     "name": "stdout",
     "output_type": "stream",
     "text": [
      "+-----------+--------------------+--------+---------------+\n",
      "|customer_id|          order_date|order_id|   order_status|\n",
      "+-----------+--------------------+--------+---------------+\n",
      "|      11599|2013-07-25 00:00:...|       1|         CLOSED|\n",
      "|        256|2013-07-25 00:00:...|       2|PENDING_PAYMENT|\n",
      "|      12111|2013-07-25 00:00:...|       3|       COMPLETE|\n",
      "|       8827|2013-07-25 00:00:...|       4|         CLOSED|\n",
      "|      11318|2013-07-25 00:00:...|       5|       COMPLETE|\n",
      "|       7130|2013-07-25 00:00:...|       6|       COMPLETE|\n",
      "|       4530|2013-07-25 00:00:...|       7|       COMPLETE|\n",
      "|       2911|2013-07-25 00:00:...|       8|     PROCESSING|\n",
      "|       5657|2013-07-25 00:00:...|       9|PENDING_PAYMENT|\n",
      "|       5648|2013-07-25 00:00:...|      10|PENDING_PAYMENT|\n",
      "|        918|2013-07-25 00:00:...|      11| PAYMENT_REVIEW|\n",
      "|       1837|2013-07-25 00:00:...|      12|         CLOSED|\n",
      "|       9149|2013-07-25 00:00:...|      13|PENDING_PAYMENT|\n",
      "|       9842|2013-07-25 00:00:...|      14|     PROCESSING|\n",
      "|       2568|2013-07-25 00:00:...|      15|       COMPLETE|\n",
      "|       7276|2013-07-25 00:00:...|      16|PENDING_PAYMENT|\n",
      "|       2667|2013-07-25 00:00:...|      17|       COMPLETE|\n",
      "|       1205|2013-07-25 00:00:...|      18|         CLOSED|\n",
      "|       9488|2013-07-25 00:00:...|      19|PENDING_PAYMENT|\n",
      "|       9198|2013-07-25 00:00:...|      20|     PROCESSING|\n",
      "+-----------+--------------------+--------+---------------+\n",
      "only showing top 20 rows\n",
      "\n"
     ]
    }
   ],
   "source": [
    "table_ds.show()"
   ]
  }
 ],
 "metadata": {
  "kernelspec": {
   "display_name": "Pyspark 3",
   "language": "python",
   "name": "pyspark3"
  },
  "language_info": {
   "codemirror_mode": {
    "name": "ipython",
    "version": 3
   },
   "file_extension": ".py",
   "mimetype": "text/x-python",
   "name": "python",
   "nbconvert_exporter": "python",
   "pygments_lexer": "ipython3",
   "version": "3.6.12"
  }
 },
 "nbformat": 4,
 "nbformat_minor": 5
}
