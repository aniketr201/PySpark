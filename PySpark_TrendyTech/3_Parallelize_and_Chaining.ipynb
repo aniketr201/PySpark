{
 "cells": [
  {
   "cell_type": "markdown",
   "id": "df5b2752",
   "metadata": {},
   "source": [
    "<H3> Parallelize & Chaining </H3>\n",
    "\n",
    "<b> Parallelize </b> is used to convert a local Python collection into a RDD. This is used to convert a sample data into a RDD and to test the logic/transformations so that we don't need to test the logic on a huge file (say 10TB large file).\n",
    "\n",
    "<b> Chaining </b>: We can chain the Spark functions calls to together to write concise code. It is a good idea to seperate the transformations from the actions so that we can add on more transformation in future if we need to"
   ]
  },
  {
   "cell_type": "code",
   "execution_count": 1,
   "id": "f8e1d0b6",
   "metadata": {},
   "outputs": [],
   "source": [
    "from pyspark.sql import SparkSession\n",
    "import getpass\n",
    "username = getpass.getuser()\n",
    "spark = SparkSession. \\\n",
    "builder. \\\n",
    "config('spark.ui.port', '0'). \\\n",
    "config(\"spark.sql.warehouse.dir\", f\"/user/{username}/warehouse\"). \\\n",
    "enableHiveSupport(). \\\n",
    "master('yarn'). \\\n",
    "getOrCreate()"
   ]
  },
  {
   "cell_type": "code",
   "execution_count": 4,
   "id": "3a7a9f98",
   "metadata": {},
   "outputs": [],
   "source": [
    "words = (\"big\",\"Data\",\"Is\",\"SUPER\",\"Interesting\",\"BIG\",\"data\",\"IS\",\"A\",\"Trending\",\"technology\")"
   ]
  },
  {
   "cell_type": "code",
   "execution_count": 5,
   "id": "8fb87d7d",
   "metadata": {},
   "outputs": [
    {
     "data": {
      "text/plain": [
       "('big',\n",
       " 'Data',\n",
       " 'Is',\n",
       " 'SUPER',\n",
       " 'Interesting',\n",
       " 'BIG',\n",
       " 'data',\n",
       " 'IS',\n",
       " 'A',\n",
       " 'Trending',\n",
       " 'technology')"
      ]
     },
     "execution_count": 5,
     "metadata": {},
     "output_type": "execute_result"
    }
   ],
   "source": [
    "words"
   ]
  },
  {
   "cell_type": "code",
   "execution_count": 6,
   "id": "b0edec36",
   "metadata": {},
   "outputs": [],
   "source": [
    "words_rdd = spark.sparkContext.parallelize(words)"
   ]
  },
  {
   "cell_type": "code",
   "execution_count": 8,
   "id": "32b1d512",
   "metadata": {},
   "outputs": [
    {
     "data": {
      "text/plain": [
       "['big',\n",
       " 'Data',\n",
       " 'Is',\n",
       " 'SUPER',\n",
       " 'Interesting',\n",
       " 'BIG',\n",
       " 'data',\n",
       " 'IS',\n",
       " 'A',\n",
       " 'Trending',\n",
       " 'technology']"
      ]
     },
     "execution_count": 8,
     "metadata": {},
     "output_type": "execute_result"
    }
   ],
   "source": [
    "words_rdd.collect()"
   ]
  },
  {
   "cell_type": "code",
   "execution_count": 9,
   "id": "cf35df8a",
   "metadata": {},
   "outputs": [],
   "source": [
    "words_lower_rdd = words_rdd.map(lambda x: x.lower())"
   ]
  },
  {
   "cell_type": "code",
   "execution_count": 10,
   "id": "16d0ab7d",
   "metadata": {},
   "outputs": [
    {
     "data": {
      "text/plain": [
       "['big',\n",
       " 'data',\n",
       " 'is',\n",
       " 'super',\n",
       " 'interesting',\n",
       " 'big',\n",
       " 'data',\n",
       " 'is',\n",
       " 'a',\n",
       " 'trending',\n",
       " 'technology']"
      ]
     },
     "execution_count": 10,
     "metadata": {},
     "output_type": "execute_result"
    }
   ],
   "source": [
    "words_lower_rdd.collect()"
   ]
  },
  {
   "cell_type": "code",
   "execution_count": 11,
   "id": "61d65a3c",
   "metadata": {},
   "outputs": [],
   "source": [
    "mapped_words = words_lower_rdd.map(lambda x:(x,1))"
   ]
  },
  {
   "cell_type": "code",
   "execution_count": 12,
   "id": "f9eb44c3",
   "metadata": {},
   "outputs": [],
   "source": [
    "word_count = mapped_words.reduceByKey(lambda x,y:x+y)"
   ]
  },
  {
   "cell_type": "code",
   "execution_count": 13,
   "id": "c809902c",
   "metadata": {},
   "outputs": [
    {
     "data": {
      "text/plain": [
       "[('is', 2),\n",
       " ('super', 1),\n",
       " ('interesting', 1),\n",
       " ('trending', 1),\n",
       " ('technology', 1),\n",
       " ('big', 2),\n",
       " ('data', 2),\n",
       " ('a', 1)]"
      ]
     },
     "execution_count": 13,
     "metadata": {},
     "output_type": "execute_result"
    }
   ],
   "source": [
    "word_count.collect()"
   ]
  },
  {
   "cell_type": "markdown",
   "id": "0df58d8e",
   "metadata": {},
   "source": [
    "<H3> Chaining"
   ]
  },
  {
   "cell_type": "code",
   "execution_count": 14,
   "id": "02734554",
   "metadata": {},
   "outputs": [],
   "source": [
    "result = spark. \\\n",
    "sparkContext. \\\n",
    "parallelize(words). \\\n",
    "map(lambda x:x.lower()). \\\n",
    "map(lambda x:(x,1)). \\\n",
    "reduceByKey(lambda x,y:x+y)"
   ]
  },
  {
   "cell_type": "code",
   "execution_count": 15,
   "id": "1adb7c42",
   "metadata": {},
   "outputs": [
    {
     "data": {
      "text/plain": [
       "[('is', 2),\n",
       " ('trending', 1),\n",
       " ('technology', 1),\n",
       " ('super', 1),\n",
       " ('interesting', 1),\n",
       " ('big', 2),\n",
       " ('data', 2),\n",
       " ('a', 1)]"
      ]
     },
     "execution_count": 15,
     "metadata": {},
     "output_type": "execute_result"
    }
   ],
   "source": [
    "result.collect()"
   ]
  }
 ],
 "metadata": {
  "kernelspec": {
   "display_name": "Pyspark 3",
   "language": "python",
   "name": "pyspark3"
  },
  "language_info": {
   "codemirror_mode": {
    "name": "ipython",
    "version": 3
   },
   "file_extension": ".py",
   "mimetype": "text/x-python",
   "name": "python",
   "nbconvert_exporter": "python",
   "pygments_lexer": "ipython3",
   "version": "3.6.12"
  }
 },
 "nbformat": 4,
 "nbformat_minor": 5
}
