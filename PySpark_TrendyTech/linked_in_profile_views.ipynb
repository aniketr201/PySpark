{
 "cells": [
  {
   "cell_type": "code",
   "execution_count": 1,
   "id": "284be0ee",
   "metadata": {},
   "outputs": [],
   "source": [
    "from pyspark.sql import SparkSession\n",
    "import getpass\n",
    "username = getpass.getuser()\n",
    "spark = SparkSession. \\\n",
    "builder. \\\n",
    "config('spark.ui.port', '0'). \\\n",
    "config(\"spark.sql.warehouse.dir\", f\"/user/{username}/warehouse\"). \\\n",
    "enableHiveSupport(). \\\n",
    "master('yarn'). \\\n",
    "getOrCreate()"
   ]
  },
  {
   "cell_type": "code",
   "execution_count": 6,
   "id": "b7c0efc6",
   "metadata": {},
   "outputs": [],
   "source": [
    "rdd1 = spark.sparkContext.textFile(\"/user/itv012857/data/input/linkedin_views.csv\")"
   ]
  },
  {
   "cell_type": "code",
   "execution_count": 7,
   "id": "0f590881",
   "metadata": {},
   "outputs": [
    {
     "data": {
      "text/plain": [
       "['1,Manasa,Sumit',\n",
       " '2,Deepa,Sumit',\n",
       " '3,Sumit,Manasa',\n",
       " '4,Manasa,Deepa',\n",
       " '5,Deepa,Manasa',\n",
       " '6,Shilpy,Manasa']"
      ]
     },
     "execution_count": 7,
     "metadata": {},
     "output_type": "execute_result"
    }
   ],
   "source": [
    "rdd1.collect()"
   ]
  },
  {
   "cell_type": "code",
   "execution_count": 10,
   "id": "5cfdee11",
   "metadata": {},
   "outputs": [],
   "source": [
    "rdd2 = rdd1.map(lambda line : line.split(\",\")[2])"
   ]
  },
  {
   "cell_type": "code",
   "execution_count": 11,
   "id": "1423f15d",
   "metadata": {},
   "outputs": [
    {
     "data": {
      "text/plain": [
       "[['1', 'Manasa', 'Sumit'],\n",
       " ['2', 'Deepa', 'Sumit'],\n",
       " ['3', 'Sumit', 'Manasa'],\n",
       " ['4', 'Manasa', 'Deepa'],\n",
       " ['5', 'Deepa', 'Manasa'],\n",
       " ['6', 'Shilpy', 'Manasa']]"
      ]
     },
     "execution_count": 11,
     "metadata": {},
     "output_type": "execute_result"
    }
   ],
   "source": [
    "rdd2.collect()"
   ]
  },
  {
   "cell_type": "code",
   "execution_count": 24,
   "id": "97d3a32e",
   "metadata": {},
   "outputs": [],
   "source": [
    "rdd3 = rdd2.map(lambda l : (l[2],1))"
   ]
  },
  {
   "cell_type": "code",
   "execution_count": 25,
   "id": "02c34767",
   "metadata": {},
   "outputs": [
    {
     "data": {
      "text/plain": [
       "[('Sumit', 1),\n",
       " ('Sumit', 1),\n",
       " ('Manasa', 1),\n",
       " ('Deepa', 1),\n",
       " ('Manasa', 1),\n",
       " ('Manasa', 1)]"
      ]
     },
     "execution_count": 25,
     "metadata": {},
     "output_type": "execute_result"
    }
   ],
   "source": [
    "rdd3.collect()"
   ]
  },
  {
   "cell_type": "code",
   "execution_count": 26,
   "id": "c9d1ae2c",
   "metadata": {},
   "outputs": [],
   "source": [
    "rdd4 = rdd3.reduceByKey(lambda x,y : x+y)"
   ]
  },
  {
   "cell_type": "code",
   "execution_count": 27,
   "id": "04e452ce",
   "metadata": {},
   "outputs": [
    {
     "data": {
      "text/plain": [
       "[('Sumit', 2), ('Deepa', 1), ('Manasa', 3)]"
      ]
     },
     "execution_count": 27,
     "metadata": {},
     "output_type": "execute_result"
    }
   ],
   "source": [
    "rdd4.collect()"
   ]
  },
  {
   "cell_type": "code",
   "execution_count": 29,
   "id": "d7d0f8e6",
   "metadata": {},
   "outputs": [],
   "source": [
    "rdd4.saveAsTextFile(\"/user/itv012857/data/newoutput/\")"
   ]
  },
  {
   "cell_type": "code",
   "execution_count": null,
   "id": "c61457a0",
   "metadata": {},
   "outputs": [],
   "source": []
  }
 ],
 "metadata": {
  "kernelspec": {
   "display_name": "Pyspark 3",
   "language": "python",
   "name": "pyspark3"
  },
  "language_info": {
   "codemirror_mode": {
    "name": "ipython",
    "version": 3
   },
   "file_extension": ".py",
   "mimetype": "text/x-python",
   "name": "python",
   "nbconvert_exporter": "python",
   "pygments_lexer": "ipython3",
   "version": "3.6.12"
  }
 },
 "nbformat": 4,
 "nbformat_minor": 5
}
