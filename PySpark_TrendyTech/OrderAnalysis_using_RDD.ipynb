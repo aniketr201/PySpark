{
 "cells": [
  {
   "cell_type": "markdown",
   "id": "723379fb",
   "metadata": {},
   "source": [
    "<H3> Exercise : Using Orders Data print the following. Use Spark Core APIs (RDD Level). </H3>\n",
    "<ol>\n",
    "<li>Total # of orders in each stage (status). </li>\n",
    "<li>Top 10 customers by # of orders placed. </li>\n",
    "<li>Count of distinct customer who have placed at least one order. </li>\n",
    "<li>Customer with the maximum number of closed orders.</li>\n",
    "</ol>"
   ]
  },
  {
   "cell_type": "code",
   "execution_count": 1,
   "id": "00005c4a",
   "metadata": {},
   "outputs": [],
   "source": [
    "from pyspark.sql import SparkSession"
   ]
  },
  {
   "cell_type": "code",
   "execution_count": 2,
   "id": "ab54cc28",
   "metadata": {},
   "outputs": [],
   "source": [
    "import getpass\n",
    "username = getpass.getuser()"
   ]
  },
  {
   "cell_type": "code",
   "execution_count": 3,
   "id": "2b0ecca7",
   "metadata": {},
   "outputs": [],
   "source": [
    "spark = SparkSession. \\\n",
    "builder. \\\n",
    "config('spark.ui.port', '0'). \\\n",
    "config(\"spark.sql.warehouse.dir\", f\"/user/{username}/warehouse\"). \\\n",
    "enableHiveSupport(). \\\n",
    "master('yarn'). \\\n",
    "getOrCreate()"
   ]
  },
  {
   "cell_type": "code",
   "execution_count": 4,
   "id": "2b263ccf",
   "metadata": {},
   "outputs": [
    {
     "data": {
      "text/html": [
       "\n",
       "            <div>\n",
       "                <p><b>SparkSession - hive</b></p>\n",
       "                \n",
       "        <div>\n",
       "            <p><b>SparkContext</b></p>\n",
       "\n",
       "            <p><a href=\"http://g02.itversity.com:35699\">Spark UI</a></p>\n",
       "\n",
       "            <dl>\n",
       "              <dt>Version</dt>\n",
       "                <dd><code>v3.1.2</code></dd>\n",
       "              <dt>Master</dt>\n",
       "                <dd><code>yarn</code></dd>\n",
       "              <dt>AppName</dt>\n",
       "                <dd><code>pyspark-shell</code></dd>\n",
       "            </dl>\n",
       "        </div>\n",
       "        \n",
       "            </div>\n",
       "        "
      ],
      "text/plain": [
       "<pyspark.sql.session.SparkSession at 0x7f6fe14871d0>"
      ]
     },
     "execution_count": 4,
     "metadata": {},
     "output_type": "execute_result"
    }
   ],
   "source": [
    "spark"
   ]
  },
  {
   "cell_type": "code",
   "execution_count": 5,
   "id": "53354cd7",
   "metadata": {},
   "outputs": [],
   "source": [
    "orders_rdd = spark.sparkContext.textFile(\"/public/trendytech/retail_db/orders/part-00000\")"
   ]
  },
  {
   "cell_type": "code",
   "execution_count": 17,
   "id": "c8f6f5ef",
   "metadata": {},
   "outputs": [
    {
     "data": {
      "text/plain": [
       "['1,2013-07-25 00:00:00.0,11599,CLOSED',\n",
       " '2,2013-07-25 00:00:00.0,256,PENDING_PAYMENT',\n",
       " '3,2013-07-25 00:00:00.0,12111,COMPLETE',\n",
       " '4,2013-07-25 00:00:00.0,8827,CLOSED',\n",
       " '5,2013-07-25 00:00:00.0,11318,COMPLETE']"
      ]
     },
     "execution_count": 17,
     "metadata": {},
     "output_type": "execute_result"
    }
   ],
   "source": [
    "orders_rdd.take(5)"
   ]
  },
  {
   "cell_type": "code",
   "execution_count": 13,
   "id": "e2341f4b",
   "metadata": {},
   "outputs": [],
   "source": [
    "orders_split = orders_rdd.map(lambda line: line.split(\",\"))"
   ]
  },
  {
   "cell_type": "code",
   "execution_count": 18,
   "id": "d24d073f",
   "metadata": {},
   "outputs": [
    {
     "data": {
      "text/plain": [
       "[['1', '2013-07-25 00:00:00.0', '11599', 'CLOSED'],\n",
       " ['2', '2013-07-25 00:00:00.0', '256', 'PENDING_PAYMENT'],\n",
       " ['3', '2013-07-25 00:00:00.0', '12111', 'COMPLETE'],\n",
       " ['4', '2013-07-25 00:00:00.0', '8827', 'CLOSED'],\n",
       " ['5', '2013-07-25 00:00:00.0', '11318', 'COMPLETE']]"
      ]
     },
     "execution_count": 18,
     "metadata": {},
     "output_type": "execute_result"
    }
   ],
   "source": [
    "orders_split.take(5)"
   ]
  },
  {
   "cell_type": "code",
   "execution_count": 19,
   "id": "387d6603",
   "metadata": {},
   "outputs": [],
   "source": [
    "order_count_by_status1 = orders_split.map(lambda line: (line[3],1))"
   ]
  },
  {
   "cell_type": "code",
   "execution_count": 20,
   "id": "36dbf5ac",
   "metadata": {},
   "outputs": [],
   "source": [
    "order_count_by_status2 = order_count_by_status1.reduceByKey(lambda x,y: x+y)"
   ]
  },
  {
   "cell_type": "code",
   "execution_count": 21,
   "id": "fd7c0236",
   "metadata": {},
   "outputs": [
    {
     "data": {
      "text/plain": [
       "[('CLOSED', 7556),\n",
       " ('CANCELED', 1428),\n",
       " ('PENDING_PAYMENT', 15030),\n",
       " ('COMPLETE', 22899),\n",
       " ('PROCESSING', 8275),\n",
       " ('PAYMENT_REVIEW', 729),\n",
       " ('PENDING', 7610),\n",
       " ('ON_HOLD', 3798),\n",
       " ('SUSPECTED_FRAUD', 1558)]"
      ]
     },
     "execution_count": 21,
     "metadata": {},
     "output_type": "execute_result"
    }
   ],
   "source": [
    "order_count_by_status2.collect()"
   ]
  },
  {
   "cell_type": "code",
   "execution_count": 31,
   "id": "0af412d1",
   "metadata": {},
   "outputs": [],
   "source": [
    "top_10_customers1 = orders_split.map(lambda line:(line[2],1))"
   ]
  },
  {
   "cell_type": "code",
   "execution_count": 32,
   "id": "4e2c4d46",
   "metadata": {},
   "outputs": [
    {
     "data": {
      "text/plain": [
       "[('11599', 1), ('256', 1), ('12111', 1), ('8827', 1), ('11318', 1)]"
      ]
     },
     "execution_count": 32,
     "metadata": {},
     "output_type": "execute_result"
    }
   ],
   "source": [
    "top_10_customers1.take(5)"
   ]
  },
  {
   "cell_type": "code",
   "execution_count": 33,
   "id": "2a9aecd1",
   "metadata": {},
   "outputs": [],
   "source": [
    "top_10_customers2 = top_10_customers1.reduceByKey(lambda x,y: x+y)"
   ]
  },
  {
   "cell_type": "code",
   "execution_count": 34,
   "id": "52d38c9f",
   "metadata": {},
   "outputs": [
    {
     "data": {
      "text/plain": [
       "[('3066', 6), ('3159', 7), ('8135', 11), ('2248', 4), ('6117', 6)]"
      ]
     },
     "execution_count": 34,
     "metadata": {},
     "output_type": "execute_result"
    }
   ],
   "source": [
    "top_10_customers2.take(5)"
   ]
  },
  {
   "cell_type": "code",
   "execution_count": 48,
   "id": "84f41cd3",
   "metadata": {},
   "outputs": [],
   "source": [
    "top_10_customers3 = top_10_customers2.sortBy(lambda x: x[1], ascending=False)"
   ]
  },
  {
   "cell_type": "code",
   "execution_count": 50,
   "id": "0edcb242",
   "metadata": {},
   "outputs": [
    {
     "data": {
      "text/plain": [
       "[('5897', 16),\n",
       " ('6316', 16),\n",
       " ('12431', 16),\n",
       " ('569', 16),\n",
       " ('4320', 15),\n",
       " ('221', 15),\n",
       " ('5624', 15),\n",
       " ('5283', 15),\n",
       " ('12284', 15),\n",
       " ('5654', 15)]"
      ]
     },
     "execution_count": 50,
     "metadata": {},
     "output_type": "execute_result"
    }
   ],
   "source": [
    "top_10_customers3.take(10)"
   ]
  },
  {
   "cell_type": "code",
   "execution_count": 55,
   "id": "16fe9a71",
   "metadata": {},
   "outputs": [],
   "source": [
    "cust_count_atlest_one_order1 = orders_split.map(lambda line:line[2]).distinct()"
   ]
  },
  {
   "cell_type": "code",
   "execution_count": 56,
   "id": "95a15e48",
   "metadata": {},
   "outputs": [
    {
     "data": {
      "text/plain": [
       "['256', '12111', '11318', '7130', '2911']"
      ]
     },
     "execution_count": 56,
     "metadata": {},
     "output_type": "execute_result"
    }
   ],
   "source": [
    "cust_count_atlest_one_order1.take(5)"
   ]
  },
  {
   "cell_type": "code",
   "execution_count": 57,
   "id": "04d13152",
   "metadata": {},
   "outputs": [
    {
     "data": {
      "text/plain": [
       "12405"
      ]
     },
     "execution_count": 57,
     "metadata": {},
     "output_type": "execute_result"
    }
   ],
   "source": [
    "cust_count_atlest_one_order1.count()"
   ]
  },
  {
   "cell_type": "code",
   "execution_count": 58,
   "id": "587353fc",
   "metadata": {},
   "outputs": [],
   "source": [
    "closed_orders = orders_split.filter(lambda line: line[3] == 'CLOSED')"
   ]
  },
  {
   "cell_type": "code",
   "execution_count": 59,
   "id": "d897a8a0",
   "metadata": {},
   "outputs": [
    {
     "data": {
      "text/plain": [
       "[['1', '2013-07-25 00:00:00.0', '11599', 'CLOSED'],\n",
       " ['4', '2013-07-25 00:00:00.0', '8827', 'CLOSED'],\n",
       " ['12', '2013-07-25 00:00:00.0', '1837', 'CLOSED'],\n",
       " ['18', '2013-07-25 00:00:00.0', '1205', 'CLOSED'],\n",
       " ['24', '2013-07-25 00:00:00.0', '11441', 'CLOSED']]"
      ]
     },
     "execution_count": 59,
     "metadata": {},
     "output_type": "execute_result"
    }
   ],
   "source": [
    "closed_orders.take(5)"
   ]
  },
  {
   "cell_type": "code",
   "execution_count": 60,
   "id": "00e3c480",
   "metadata": {},
   "outputs": [],
   "source": [
    "cust_count_closed = closed_orders.map(lambda line: (line[2],1))"
   ]
  },
  {
   "cell_type": "code",
   "execution_count": 61,
   "id": "c65aec13",
   "metadata": {},
   "outputs": [],
   "source": [
    "cust_count_closed_agg = cust_count_closed.reduceByKey(lambda x,y: x+y)"
   ]
  },
  {
   "cell_type": "code",
   "execution_count": 64,
   "id": "e92b912b",
   "metadata": {},
   "outputs": [
    {
     "data": {
      "text/plain": [
       "[('1833', 6)]"
      ]
     },
     "execution_count": 64,
     "metadata": {},
     "output_type": "execute_result"
    }
   ],
   "source": [
    "cust_count_closed_agg.sortBy(lambda x: x[1],False).take(1)"
   ]
  },
  {
   "cell_type": "code",
   "execution_count": null,
   "id": "ab0485da",
   "metadata": {},
   "outputs": [],
   "source": []
  }
 ],
 "metadata": {
  "kernelspec": {
   "display_name": "Pyspark 3",
   "language": "python",
   "name": "pyspark3"
  },
  "language_info": {
   "codemirror_mode": {
    "name": "ipython",
    "version": 3
   },
   "file_extension": ".py",
   "mimetype": "text/x-python",
   "name": "python",
   "nbconvert_exporter": "python",
   "pygments_lexer": "ipython3",
   "version": "3.6.12"
  }
 },
 "nbformat": 4,
 "nbformat_minor": 5
}
