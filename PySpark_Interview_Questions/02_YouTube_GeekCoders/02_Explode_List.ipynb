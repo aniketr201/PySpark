{
 "cells": [
  {
   "cell_type": "code",
   "execution_count": 1,
   "id": "721a6714",
   "metadata": {},
   "outputs": [],
   "source": [
    "from pyspark.sql import SparkSession"
   ]
  },
  {
   "cell_type": "code",
   "execution_count": 2,
   "id": "bbc601a6",
   "metadata": {},
   "outputs": [],
   "source": [
    "spark = SparkSession.builder.appName(\"Spark_Interview_Questions\").getOrCreate()"
   ]
  },
  {
   "cell_type": "code",
   "execution_count": 3,
   "id": "23ebf2c0",
   "metadata": {},
   "outputs": [],
   "source": [
    "columns = [\"dept_id\", \"e_id\"]"
   ]
  },
  {
   "cell_type": "code",
   "execution_count": 11,
   "id": "e566f777",
   "metadata": {},
   "outputs": [],
   "source": [
    "data1 = [\n",
    "            (101, [10101, 10102, 10103]),\n",
    "            (102,[10201, 10202])\n",
    "]"
   ]
  },
  {
   "cell_type": "code",
   "execution_count": 12,
   "id": "c050b07e",
   "metadata": {},
   "outputs": [
    {
     "data": {
      "text/plain": [
       "[(101, [10101, 10102, 10103]), (102, [10201, 10202])]"
      ]
     },
     "execution_count": 12,
     "metadata": {},
     "output_type": "execute_result"
    }
   ],
   "source": [
    "data1"
   ]
  },
  {
   "cell_type": "code",
   "execution_count": 13,
   "id": "6c47045c",
   "metadata": {},
   "outputs": [],
   "source": [
    "df1 = spark.createDataFrame(data1, schema = columns)"
   ]
  },
  {
   "cell_type": "code",
   "execution_count": 14,
   "id": "867c334b",
   "metadata": {},
   "outputs": [
    {
     "name": "stdout",
     "output_type": "stream",
     "text": [
      "+-------+--------------------+\n",
      "|dept_id|                e_id|\n",
      "+-------+--------------------+\n",
      "|    101|[10101, 10102, 10...|\n",
      "|    102|      [10201, 10202]|\n",
      "+-------+--------------------+\n",
      "\n"
     ]
    }
   ],
   "source": [
    "df1.show()"
   ]
  },
  {
   "cell_type": "code",
   "execution_count": 15,
   "id": "192efd05",
   "metadata": {},
   "outputs": [
    {
     "name": "stdout",
     "output_type": "stream",
     "text": [
      "root\n",
      " |-- dept_id: long (nullable = true)\n",
      " |-- e_id: array (nullable = true)\n",
      " |    |-- element: long (containsNull = true)\n",
      "\n"
     ]
    }
   ],
   "source": [
    "df1.printSchema()"
   ]
  },
  {
   "cell_type": "code",
   "execution_count": 9,
   "id": "a6cab32e",
   "metadata": {},
   "outputs": [],
   "source": [
    "from pyspark.sql.functions import explode"
   ]
  },
  {
   "cell_type": "code",
   "execution_count": 17,
   "id": "db52e873",
   "metadata": {},
   "outputs": [
    {
     "name": "stdout",
     "output_type": "stream",
     "text": [
      "+-------+-----+\n",
      "|dept_id|  col|\n",
      "+-------+-----+\n",
      "|    101|10101|\n",
      "|    101|10102|\n",
      "|    101|10103|\n",
      "|    102|10201|\n",
      "|    102|10202|\n",
      "+-------+-----+\n",
      "\n"
     ]
    }
   ],
   "source": [
    "df1.select(\"dept_id\",explode(\"e_id\")).show()"
   ]
  },
  {
   "cell_type": "code",
   "execution_count": null,
   "id": "b86a666f",
   "metadata": {},
   "outputs": [],
   "source": []
  }
 ],
 "metadata": {
  "kernelspec": {
   "display_name": "Pyspark 3",
   "language": "python",
   "name": "pyspark3"
  },
  "language_info": {
   "codemirror_mode": {
    "name": "ipython",
    "version": 3
   },
   "file_extension": ".py",
   "mimetype": "text/x-python",
   "name": "python",
   "nbconvert_exporter": "python",
   "pygments_lexer": "ipython3",
   "version": "3.6.12"
  }
 },
 "nbformat": 4,
 "nbformat_minor": 5
}
