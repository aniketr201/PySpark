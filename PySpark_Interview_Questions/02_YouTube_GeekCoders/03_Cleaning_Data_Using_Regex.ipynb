{
 "cells": [
  {
   "cell_type": "code",
   "execution_count": 1,
   "id": "21a63087",
   "metadata": {},
   "outputs": [],
   "source": [
    "from pyspark.sql import SparkSession"
   ]
  },
  {
   "cell_type": "code",
   "execution_count": 2,
   "id": "d5bf9345",
   "metadata": {},
   "outputs": [],
   "source": [
    "spark = SparkSession.builder.appName(\"Spark_Interview_Questions\").getOrCreate()"
   ]
  },
  {
   "cell_type": "code",
   "execution_count": 9,
   "id": "1d5fd413",
   "metadata": {},
   "outputs": [],
   "source": [
    "students = [\n",
    "    (\"101\", \"Alice\", \"1234567890\"),        # Valid data\n",
    "    (\"102\", \"Bob\", \"0987654321\"),          # Valid data\n",
    "    (\"A103\", \"Charlie\", \"12345ABCDE\"),   # Bad data: alphanumeric phone number and alphanumeric ID\n",
    "    (\"104\", \"David\", \"12345678\"),          # Bad data: phone number too short\n",
    "    (\"105B\", \"Eve\", \"12345678901\"),      # Bad data: alphanumeric ID, phone number too long\n",
    "    (\"106\", \"Frank\", \"987654321a\"),        # Bad data: phone number contains non-numeric character\n",
    "    (\"107\", \"Grace\", \"1234567890\"),        # Valid data\n",
    "    (\"X108\", \"Hank\", \"abcdefghij\"),      # Bad data: alphanumeric phone number and alphanumeric ID\n",
    "    (\"109\", \"Ivy\", \"2468135790\"),          # Valid data\n",
    "    (\"110\", \"Jack\", \"1112223334\")          # Valid data\n",
    "]"
   ]
  },
  {
   "cell_type": "code",
   "execution_count": 6,
   "id": "4ef6540f",
   "metadata": {},
   "outputs": [],
   "source": [
    "df1_schema = \"id string, name string, phone_no string\""
   ]
  },
  {
   "cell_type": "code",
   "execution_count": 10,
   "id": "bab00c51",
   "metadata": {},
   "outputs": [],
   "source": [
    "columns = [\"id\" , \"name\" ,\"phone_no\"]"
   ]
  },
  {
   "cell_type": "code",
   "execution_count": 11,
   "id": "b75eda93",
   "metadata": {},
   "outputs": [],
   "source": [
    "df1 = spark.createDataFrame(students, schema = columns)"
   ]
  },
  {
   "cell_type": "code",
   "execution_count": 12,
   "id": "9896c0e6",
   "metadata": {},
   "outputs": [
    {
     "name": "stdout",
     "output_type": "stream",
     "text": [
      "+----+-------+-----------+\n",
      "|  id|   name|   phone_no|\n",
      "+----+-------+-----------+\n",
      "| 101|  Alice| 1234567890|\n",
      "| 102|    Bob| 0987654321|\n",
      "|A103|Charlie| 12345ABCDE|\n",
      "| 104|  David|   12345678|\n",
      "|105B|    Eve|12345678901|\n",
      "| 106|  Frank| 987654321a|\n",
      "| 107|  Grace| 1234567890|\n",
      "|X108|   Hank| abcdefghij|\n",
      "| 109|    Ivy| 2468135790|\n",
      "| 110|   Jack| 1112223334|\n",
      "+----+-------+-----------+\n",
      "\n"
     ]
    }
   ],
   "source": [
    "df1.show()"
   ]
  },
  {
   "cell_type": "markdown",
   "id": "e2286bc3",
   "metadata": {},
   "source": [
    "#### Data Cleansing step 1 : Remove rows with invalid \"id\" column"
   ]
  },
  {
   "cell_type": "code",
   "execution_count": 15,
   "id": "b2e103d9",
   "metadata": {},
   "outputs": [],
   "source": [
    "from pyspark.sql.functions import col"
   ]
  },
  {
   "cell_type": "code",
   "execution_count": 16,
   "id": "1b0cb763",
   "metadata": {},
   "outputs": [],
   "source": [
    "df2 = df1.filter(col(\"id\").rlike(\"^[0-9]*$\"))"
   ]
  },
  {
   "cell_type": "code",
   "execution_count": 24,
   "id": "33170abb",
   "metadata": {},
   "outputs": [
    {
     "name": "stdout",
     "output_type": "stream",
     "text": [
      "+---+-----+----------+\n",
      "| id| name|  phone_no|\n",
      "+---+-----+----------+\n",
      "|101|Alice|1234567890|\n",
      "|102|  Bob|0987654321|\n",
      "|104|David|  12345678|\n",
      "|106|Frank|987654321a|\n",
      "|107|Grace|1234567890|\n",
      "|109|  Ivy|2468135790|\n",
      "|110| Jack|1112223334|\n",
      "+---+-----+----------+\n",
      "\n"
     ]
    }
   ],
   "source": [
    "df2.show()"
   ]
  },
  {
   "cell_type": "code",
   "execution_count": 25,
   "id": "28de5cc0",
   "metadata": {},
   "outputs": [
    {
     "data": {
      "text/plain": [
       "7"
      ]
     },
     "execution_count": 25,
     "metadata": {},
     "output_type": "execute_result"
    }
   ],
   "source": [
    "df2.count()"
   ]
  },
  {
   "cell_type": "code",
   "execution_count": 28,
   "id": "0ab1716a",
   "metadata": {},
   "outputs": [
    {
     "name": "stdout",
     "output_type": "stream",
     "text": [
      "+---+-----+----------+\n",
      "| id| name|  phone_no|\n",
      "+---+-----+----------+\n",
      "|101|Alice|1234567890|\n",
      "|102|  Bob|0987654321|\n",
      "|107|Grace|1234567890|\n",
      "|109|  Ivy|2468135790|\n",
      "|110| Jack|1112223334|\n",
      "+---+-----+----------+\n",
      "\n"
     ]
    }
   ],
   "source": [
    "df2.filter(col(\"phone_no\").rlike(\"^[0-9]{10}$\")\n",
    "           # & col(\"phone_no\").rlike(\"^[0-9]{10}$\")\n",
    "          ).show()"
   ]
  },
  {
   "cell_type": "markdown",
   "id": "08280693",
   "metadata": {},
   "source": [
    "#### Or in one step"
   ]
  },
  {
   "cell_type": "code",
   "execution_count": 31,
   "id": "8f8d873a",
   "metadata": {},
   "outputs": [
    {
     "name": "stdout",
     "output_type": "stream",
     "text": [
      "+---+-----+----------+\n",
      "| id| name|  phone_no|\n",
      "+---+-----+----------+\n",
      "|101|Alice|1234567890|\n",
      "|102|  Bob|0987654321|\n",
      "|107|Grace|1234567890|\n",
      "|109|  Ivy|2468135790|\n",
      "|110| Jack|1112223334|\n",
      "+---+-----+----------+\n",
      "\n"
     ]
    }
   ],
   "source": [
    "df1.filter(col(\"id\").rlike(\"^[0-9]*$\")\n",
    "            & col(\"phone_no\").rlike(\"^[0-9]{10}$\")\n",
    "    ).show()"
   ]
  },
  {
   "cell_type": "code",
   "execution_count": null,
   "id": "3747e5dc",
   "metadata": {},
   "outputs": [],
   "source": []
  }
 ],
 "metadata": {
  "kernelspec": {
   "display_name": "Pyspark 3",
   "language": "python",
   "name": "pyspark3"
  },
  "language_info": {
   "codemirror_mode": {
    "name": "ipython",
    "version": 3
   },
   "file_extension": ".py",
   "mimetype": "text/x-python",
   "name": "python",
   "nbconvert_exporter": "python",
   "pygments_lexer": "ipython3",
   "version": "3.6.12"
  }
 },
 "nbformat": 4,
 "nbformat_minor": 5
}
