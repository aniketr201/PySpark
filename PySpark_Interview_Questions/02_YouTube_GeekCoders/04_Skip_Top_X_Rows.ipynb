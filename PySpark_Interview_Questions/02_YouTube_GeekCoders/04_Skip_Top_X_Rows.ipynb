{
 "cells": [
  {
   "cell_type": "code",
   "execution_count": 1,
   "id": "c5b7502e",
   "metadata": {},
   "outputs": [],
   "source": [
    "from pyspark.sql import SparkSession"
   ]
  },
  {
   "cell_type": "code",
   "execution_count": 2,
   "id": "690585f3",
   "metadata": {},
   "outputs": [],
   "source": [
    "spark = SparkSession.builder.appName(\"Spark_Interview_Questions\").getOrCreate()"
   ]
  },
  {
   "cell_type": "code",
   "execution_count": 15,
   "id": "a5db9967",
   "metadata": {},
   "outputs": [],
   "source": [
    "data = [\n",
    "    (\"RC=5\",None),\n",
    "    (\"Unstructured2\", \"RandomDataB\"),\n",
    "    (\"Unstructured3\", \"RandomDataC\"),\n",
    "    (\"Unstructured4\", \"RandomDataD\"),\n",
    "    (\"Unstructured5\", \"RandomDataE\"),\n",
    "    (\"1\", \"Alice\"),\n",
    "    (\"2\", \"Bob\"),\n",
    "    (\"3\", \"Charlie\"),\n",
    "    (\"4\", \"David\"),\n",
    "    (\"5\", \"Eva\")\n",
    "]"
   ]
  },
  {
   "cell_type": "code",
   "execution_count": 10,
   "id": "3913e675",
   "metadata": {},
   "outputs": [
    {
     "data": {
      "text/plain": [
       "[('RC=5', ''),\n",
       " ('Unstructured2', 'RandomDataB'),\n",
       " ('Unstructured3', 'RandomDataC'),\n",
       " ('Unstructured4', 'RandomDataD'),\n",
       " ('Unstructured5', 'RandomDataE'),\n",
       " ('1', 'Alice'),\n",
       " ('2', 'Bob'),\n",
       " ('3', 'Charlie'),\n",
       " ('4', 'David'),\n",
       " ('5', 'Eva')]"
      ]
     },
     "execution_count": 10,
     "metadata": {},
     "output_type": "execute_result"
    }
   ],
   "source": [
    "data"
   ]
  },
  {
   "cell_type": "code",
   "execution_count": 16,
   "id": "9d79e650",
   "metadata": {},
   "outputs": [],
   "source": [
    "df = spark.createDataFrame(data, schema = [\"col1\" , \"col2\"])"
   ]
  },
  {
   "cell_type": "code",
   "execution_count": 17,
   "id": "eb670995",
   "metadata": {},
   "outputs": [
    {
     "name": "stdout",
     "output_type": "stream",
     "text": [
      "+-------------+-----------+\n",
      "|         col1|       col2|\n",
      "+-------------+-----------+\n",
      "|         RC=5|       null|\n",
      "|Unstructured2|RandomDataB|\n",
      "|Unstructured3|RandomDataC|\n",
      "|Unstructured4|RandomDataD|\n",
      "|Unstructured5|RandomDataE|\n",
      "|            1|      Alice|\n",
      "|            2|        Bob|\n",
      "|            3|    Charlie|\n",
      "|            4|      David|\n",
      "|            5|        Eva|\n",
      "+-------------+-----------+\n",
      "\n"
     ]
    }
   ],
   "source": [
    "df.show()"
   ]
  },
  {
   "cell_type": "code",
   "execution_count": 21,
   "id": "2ed76366",
   "metadata": {},
   "outputs": [
    {
     "name": "stdout",
     "output_type": "stream",
     "text": [
      "+----+-------+\n",
      "|col1|   col2|\n",
      "+----+-------+\n",
      "|   5|    Eva|\n",
      "|   3|Charlie|\n",
      "|   2|    Bob|\n",
      "|   1|  Alice|\n",
      "|   4|  David|\n",
      "+----+-------+\n",
      "\n"
     ]
    }
   ],
   "source": [
    "df.subtract(df.limit(5)).show()"
   ]
  },
  {
   "cell_type": "code",
   "execution_count": null,
   "id": "ae7166cc",
   "metadata": {},
   "outputs": [],
   "source": []
  }
 ],
 "metadata": {
  "kernelspec": {
   "display_name": "Pyspark 3",
   "language": "python",
   "name": "pyspark3"
  },
  "language_info": {
   "codemirror_mode": {
    "name": "ipython",
    "version": 3
   },
   "file_extension": ".py",
   "mimetype": "text/x-python",
   "name": "python",
   "nbconvert_exporter": "python",
   "pygments_lexer": "ipython3",
   "version": "3.6.12"
  }
 },
 "nbformat": 4,
 "nbformat_minor": 5
}
