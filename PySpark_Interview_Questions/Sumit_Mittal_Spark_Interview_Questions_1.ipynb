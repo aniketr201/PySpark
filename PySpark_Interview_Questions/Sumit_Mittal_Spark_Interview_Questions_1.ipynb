{
 "cells": [
  {
   "cell_type": "code",
   "execution_count": 79,
   "id": "11149fe0",
   "metadata": {},
   "outputs": [],
   "source": [
    "from pyspark.sql import SparkSession"
   ]
  },
  {
   "cell_type": "code",
   "execution_count": 80,
   "id": "8af08b89",
   "metadata": {},
   "outputs": [],
   "source": [
    "spark = SparkSession.builder.appName(\"Spark_Interview_Questions\").getOrCreate()"
   ]
  },
  {
   "cell_type": "markdown",
   "id": "b4c8614c",
   "metadata": {},
   "source": [
    "### 1. Read Parquet file with Duplicate records, dedup and write back to HDFS."
   ]
  },
  {
   "cell_type": "code",
   "execution_count": 27,
   "id": "d85be83c",
   "metadata": {},
   "outputs": [],
   "source": [
    "orders_df = spark.read.parquet(\"/user/itv012857/data/orders_parquet\")"
   ]
  },
  {
   "cell_type": "code",
   "execution_count": 28,
   "id": "15518b64",
   "metadata": {},
   "outputs": [
    {
     "name": "stdout",
     "output_type": "stream",
     "text": [
      "root\n",
      " |-- customer_id: long (nullable = true)\n",
      " |-- order_date: string (nullable = true)\n",
      " |-- order_id: long (nullable = true)\n",
      " |-- order_status: string (nullable = true)\n",
      "\n"
     ]
    }
   ],
   "source": [
    "orders_df.printSchema()"
   ]
  },
  {
   "cell_type": "code",
   "execution_count": 29,
   "id": "514cb523",
   "metadata": {},
   "outputs": [
    {
     "name": "stdout",
     "output_type": "stream",
     "text": [
      "+-----------+--------------------+--------+---------------+\n",
      "|customer_id|          order_date|order_id|   order_status|\n",
      "+-----------+--------------------+--------+---------------+\n",
      "|      11599|2013-07-25 00:00:...|       1|         CLOSED|\n",
      "|        256|2013-07-25 00:00:...|       2|PENDING_PAYMENT|\n",
      "|      12111|2013-07-25 00:00:...|       3|       COMPLETE|\n",
      "|       8827|2013-07-25 00:00:...|       4|         CLOSED|\n",
      "|      11318|2013-07-25 00:00:...|       5|       COMPLETE|\n",
      "|       7130|2013-07-25 00:00:...|       6|       COMPLETE|\n",
      "|       4530|2013-07-25 00:00:...|       7|       COMPLETE|\n",
      "|       2911|2013-07-25 00:00:...|       8|     PROCESSING|\n",
      "|       5657|2013-07-25 00:00:...|       9|PENDING_PAYMENT|\n",
      "|       5648|2013-07-25 00:00:...|      10|PENDING_PAYMENT|\n",
      "|        918|2013-07-25 00:00:...|      11| PAYMENT_REVIEW|\n",
      "|       1837|2013-07-25 00:00:...|      12|         CLOSED|\n",
      "|       9149|2013-07-25 00:00:...|      13|PENDING_PAYMENT|\n",
      "|       9842|2013-07-25 00:00:...|      14|     PROCESSING|\n",
      "|       2568|2013-07-25 00:00:...|      15|       COMPLETE|\n",
      "|       7276|2013-07-25 00:00:...|      16|PENDING_PAYMENT|\n",
      "|       2667|2013-07-25 00:00:...|      17|       COMPLETE|\n",
      "|       1205|2013-07-25 00:00:...|      18|         CLOSED|\n",
      "|       9488|2013-07-25 00:00:...|      19|PENDING_PAYMENT|\n",
      "|       9198|2013-07-25 00:00:...|      20|     PROCESSING|\n",
      "+-----------+--------------------+--------+---------------+\n",
      "only showing top 20 rows\n",
      "\n"
     ]
    }
   ],
   "source": [
    "orders_df.show()"
   ]
  },
  {
   "cell_type": "code",
   "execution_count": 30,
   "id": "67b0eba5",
   "metadata": {},
   "outputs": [
    {
     "data": {
      "text/plain": [
       "178715"
      ]
     },
     "execution_count": 30,
     "metadata": {},
     "output_type": "execute_result"
    }
   ],
   "source": [
    "orders_df.count()"
   ]
  },
  {
   "cell_type": "code",
   "execution_count": 31,
   "id": "c383f950",
   "metadata": {},
   "outputs": [],
   "source": [
    "#distinct_orders_df = orders_df.distinct()  -- This also works\n",
    "\n",
    "distinct_orders_df = orders_df.dropDuplicates()"
   ]
  },
  {
   "cell_type": "code",
   "execution_count": 32,
   "id": "973f6cc8",
   "metadata": {},
   "outputs": [
    {
     "data": {
      "text/plain": [
       "68883"
      ]
     },
     "execution_count": 32,
     "metadata": {},
     "output_type": "execute_result"
    }
   ],
   "source": [
    "distinct_orders_df.count()"
   ]
  },
  {
   "cell_type": "code",
   "execution_count": 33,
   "id": "28aa3856",
   "metadata": {},
   "outputs": [],
   "source": [
    "distinct_orders_df.write \\\n",
    ".format(\"parquet\") \\\n",
    ".mode(\"overwrite\") \\\n",
    ".option(\"path\",\"/user/itv012857/data/distinct_orders_parquet\") \\\n",
    ".save()"
   ]
  },
  {
   "cell_type": "markdown",
   "id": "d52e3ee3",
   "metadata": {},
   "source": [
    "### 2. Pivot the input data, granlarity - col1 and col2\n",
    "Schema : col1 string, col2 string, col3 int\n",
    "\n",
    "Output required:\n",
    "            \n",
    "    col1,col2,col3\n",
    "     a,aa,[1,2]\n",
    "     b,bb,[5,4,3] "
   ]
  },
  {
   "cell_type": "code",
   "execution_count": 4,
   "id": "dac2aabd",
   "metadata": {},
   "outputs": [],
   "source": [
    "input_data = [(\"a\",\"aa\",1),\n",
    "              (\"a\",\"aa\",2),\n",
    "              (\"b\",\"bb\",5),\n",
    "              (\"b\",\"bb\",4),\n",
    "              (\"b\",\"bb\",3)\n",
    "             ] "
   ]
  },
  {
   "cell_type": "code",
   "execution_count": 5,
   "id": "aff0dde1",
   "metadata": {},
   "outputs": [],
   "source": [
    "input_schema = \"col1 string, col2 string, col3 int\""
   ]
  },
  {
   "cell_type": "code",
   "execution_count": 7,
   "id": "e41f585d",
   "metadata": {},
   "outputs": [],
   "source": [
    "input_df = spark.createDataFrame(input_data,schema = input_schema)"
   ]
  },
  {
   "cell_type": "code",
   "execution_count": 8,
   "id": "3dc9a4fc",
   "metadata": {},
   "outputs": [
    {
     "name": "stdout",
     "output_type": "stream",
     "text": [
      "+----+----+----+\n",
      "|col1|col2|col3|\n",
      "+----+----+----+\n",
      "|   a|  aa|   1|\n",
      "|   a|  aa|   2|\n",
      "|   b|  bb|   5|\n",
      "|   b|  bb|   4|\n",
      "|   b|  bb|   3|\n",
      "+----+----+----+\n",
      "\n"
     ]
    }
   ],
   "source": [
    "input_df.show()"
   ]
  },
  {
   "cell_type": "code",
   "execution_count": 17,
   "id": "b9b7eac8",
   "metadata": {},
   "outputs": [],
   "source": [
    "from pyspark.sql.functions import collect_list, concat_ws"
   ]
  },
  {
   "cell_type": "code",
   "execution_count": 14,
   "id": "71622946",
   "metadata": {},
   "outputs": [],
   "source": [
    "output_df = input_df.groupBy(\"col1\",\"col2\") \\\n",
    "                    .agg(collect_list(\"col3\").alias(\"col3\"))"
   ]
  },
  {
   "cell_type": "code",
   "execution_count": 15,
   "id": "d8984c56",
   "metadata": {},
   "outputs": [
    {
     "name": "stdout",
     "output_type": "stream",
     "text": [
      "+----+----+---------+\n",
      "|col1|col2|     col3|\n",
      "+----+----+---------+\n",
      "|   a|  aa|   [1, 2]|\n",
      "|   b|  bb|[5, 4, 3]|\n",
      "+----+----+---------+\n",
      "\n"
     ]
    }
   ],
   "source": [
    "output_df.show()"
   ]
  },
  {
   "cell_type": "code",
   "execution_count": 18,
   "id": "15876021",
   "metadata": {},
   "outputs": [],
   "source": [
    "output_df_pipe = input_df.groupBy(\"col1\",\"col2\") \\\n",
    "                    .agg(concat_ws(\"|\",collect_list(\"col3\")).alias(\"col3\"))"
   ]
  },
  {
   "cell_type": "code",
   "execution_count": 20,
   "id": "853142b6",
   "metadata": {},
   "outputs": [
    {
     "name": "stdout",
     "output_type": "stream",
     "text": [
      "+----+----+-----+\n",
      "|col1|col2| col3|\n",
      "+----+----+-----+\n",
      "|   a|  aa|  1|2|\n",
      "|   b|  bb|5|4|3|\n",
      "+----+----+-----+\n",
      "\n"
     ]
    }
   ],
   "source": [
    "output_df_pipe.show()"
   ]
  },
  {
   "cell_type": "markdown",
   "id": "059077b0",
   "metadata": {},
   "source": [
    "### 3. Explode or Unpivot employee id into different rows, one row per emp id\n",
    "\n",
    "Input JSON: <br>\n",
    "{ “dept_id”:101,”e_id”:[10101,10102,10103]} <br>\n",
    "{ “dept_id”:102,”e_id”:[10201,10202]} <br>"
   ]
  },
  {
   "cell_type": "code",
   "execution_count": 12,
   "id": "293a7796",
   "metadata": {},
   "outputs": [],
   "source": [
    "from pyspark.sql.functions import explode"
   ]
  },
  {
   "cell_type": "code",
   "execution_count": 10,
   "id": "227f9f3c",
   "metadata": {},
   "outputs": [],
   "source": [
    "input_df = spark.read.json(\"/user/itv012857/data/input/input.json\")"
   ]
  },
  {
   "cell_type": "code",
   "execution_count": 11,
   "id": "4d3b7aa8",
   "metadata": {},
   "outputs": [
    {
     "name": "stdout",
     "output_type": "stream",
     "text": [
      "+-------+---------------------+\n",
      "|dept_id|e_id                 |\n",
      "+-------+---------------------+\n",
      "|101    |[10101, 10102, 10103]|\n",
      "|102    |[10201, 10202]       |\n",
      "+-------+---------------------+\n",
      "\n"
     ]
    }
   ],
   "source": [
    "input_df.show(truncate = False)"
   ]
  },
  {
   "cell_type": "code",
   "execution_count": 14,
   "id": "d6da3e4e",
   "metadata": {},
   "outputs": [],
   "source": [
    "output_df = input_df.select(\"dept_id\", explode(\"e_id\").alias(\"eid\"))"
   ]
  },
  {
   "cell_type": "code",
   "execution_count": 15,
   "id": "6a237865",
   "metadata": {},
   "outputs": [
    {
     "name": "stdout",
     "output_type": "stream",
     "text": [
      "+-------+-----+\n",
      "|dept_id|  eid|\n",
      "+-------+-----+\n",
      "|    101|10101|\n",
      "|    101|10102|\n",
      "|    101|10103|\n",
      "|    102|10201|\n",
      "|    102|10202|\n",
      "+-------+-----+\n",
      "\n"
     ]
    }
   ],
   "source": [
    "output_df.show()"
   ]
  },
  {
   "cell_type": "code",
   "execution_count": 18,
   "id": "38362c2d",
   "metadata": {},
   "outputs": [],
   "source": [
    "input_df.createOrReplaceTempView(\"input_date\")"
   ]
  },
  {
   "cell_type": "code",
   "execution_count": 20,
   "id": "f9e23d5f",
   "metadata": {},
   "outputs": [
    {
     "data": {
      "text/html": [
       "<table border='1'>\n",
       "<tr><th>dept_id</th><th>eid</th></tr>\n",
       "<tr><td>101</td><td>10101</td></tr>\n",
       "<tr><td>101</td><td>10102</td></tr>\n",
       "<tr><td>101</td><td>10103</td></tr>\n",
       "<tr><td>102</td><td>10201</td></tr>\n",
       "<tr><td>102</td><td>10202</td></tr>\n",
       "</table>\n"
      ],
      "text/plain": [
       "+-------+-----+\n",
       "|dept_id|  eid|\n",
       "+-------+-----+\n",
       "|    101|10101|\n",
       "|    101|10102|\n",
       "|    101|10103|\n",
       "|    102|10201|\n",
       "|    102|10202|\n",
       "+-------+-----+"
      ]
     },
     "execution_count": 20,
     "metadata": {},
     "output_type": "execute_result"
    }
   ],
   "source": [
    "spark.sql(\"\"\" SELECT\n",
    "                dept_id,\n",
    "                explode(e_id) AS eid\n",
    "                FROM input_date\"\"\")"
   ]
  },
  {
   "cell_type": "markdown",
   "id": "b3b35ca7",
   "metadata": {},
   "source": [
    "### 4. Avg of Item Sales per Day and Max of Avg Sales overall"
   ]
  },
  {
   "cell_type": "code",
   "execution_count": 107,
   "id": "58f6e880",
   "metadata": {},
   "outputs": [],
   "source": [
    "from pyspark.sql.functions import to_date, to_timestamp, expr, round, avg, max"
   ]
  },
  {
   "cell_type": "code",
   "execution_count": 95,
   "id": "cbd6f252",
   "metadata": {},
   "outputs": [],
   "source": [
    "orders_schema = \"invoice_no long, stock_code string, description string, quantity int, invoice_date string, unit_price double, customer_id long, country string\""
   ]
  },
  {
   "cell_type": "code",
   "execution_count": 96,
   "id": "c978af95",
   "metadata": {},
   "outputs": [],
   "source": [
    "orders_df = spark.read.csv(\"/public/trendytech/datasets/order_data.csv\",schema = orders_schema, header = True)"
   ]
  },
  {
   "cell_type": "code",
   "execution_count": 97,
   "id": "f730f0fd",
   "metadata": {},
   "outputs": [
    {
     "name": "stdout",
     "output_type": "stream",
     "text": [
      "root\n",
      " |-- invoice_no: long (nullable = true)\n",
      " |-- stock_code: string (nullable = true)\n",
      " |-- description: string (nullable = true)\n",
      " |-- quantity: integer (nullable = true)\n",
      " |-- invoice_date: string (nullable = true)\n",
      " |-- unit_price: double (nullable = true)\n",
      " |-- customer_id: long (nullable = true)\n",
      " |-- country: string (nullable = true)\n",
      "\n"
     ]
    }
   ],
   "source": [
    "orders_df.printSchema()"
   ]
  },
  {
   "cell_type": "code",
   "execution_count": 98,
   "id": "be302fc6",
   "metadata": {},
   "outputs": [
    {
     "name": "stdout",
     "output_type": "stream",
     "text": [
      "+----------+----------+-----------------------------------+--------+---------------+----------+-----------+--------------+\n",
      "|invoice_no|stock_code|description                        |quantity|invoice_date   |unit_price|customer_id|country       |\n",
      "+----------+----------+-----------------------------------+--------+---------------+----------+-----------+--------------+\n",
      "|536378    |null      |PACK OF 60 DINOSAUR CAKE CASES     |24      |01-12-2010 9.37|0.55      |14688      |United Kingdom|\n",
      "|536378    |null      |PACK OF 60 PINK PAISLEY CAKE CASES |24      |01-12-2010 9.37|0.55      |14688      |United Kingdom|\n",
      "|536378    |84991     |60 TEATIME FAIRY CAKE CASES        |24      |01-12-2010 9.37|0.55      |14688      |United Kingdom|\n",
      "|536378    |84519A    |TOMATO CHARLIE+LOLA COASTER SET    |6       |01-12-2010 9.37|2.95      |14688      |United Kingdom|\n",
      "|536378    |85183B    |CHARLIE & LOLA WASTEPAPER BIN FLORA|48      |01-12-2010 9.37|1.25      |14688      |United Kingdom|\n",
      "|536378    |85071B    |RED CHARLIE+LOLA PERSONAL DOORSIGN |96      |01-12-2010 9.37|0.38      |14688      |United Kingdom|\n",
      "|536378    |21931     |JUMBO STORAGE BAG SUKI             |10      |01-12-2010 9.37|1.95      |14688      |United Kingdom|\n",
      "|536378    |21929     |JUMBO BAG PINK VINTAGE PAISLEY     |10      |01-12-2010 9.37|1.95      |14688      |United Kingdom|\n",
      "|536380    |22961     |JAM MAKING SET PRINTED             |24      |01-12-2010 9.41|1.45      |17809      |United Kingdom|\n",
      "|536381    |22139     |RETROSPOT TEA SET CERAMIC 11 PC    |23      |01-12-2010 9.41|4.25      |15311      |United Kingdom|\n",
      "|536381    |84854     |GIRLY PINK TOOL SET                |5       |01-12-2010 9.41|4.95      |15311      |United Kingdom|\n",
      "|536381    |22411     |JUMBO SHOPPER VINTAGE RED PAISLEY  |10      |01-12-2010 9.41|1.95      |15311      |United Kingdom|\n",
      "|536381    |82567     |AIRLINE LOUNGE,METAL SIGN          |2       |01-12-2010 9.41|2.1       |15311      |United Kingdom|\n",
      "|536381    |21672     |WHITE SPOT RED CERAMIC DRAWER KNOB |6       |01-12-2010 9.41|1.25      |15311      |United Kingdom|\n",
      "|536381    |22774     |RED DRAWER KNOB ACRYLIC EDWARDIAN  |24      |01-12-2010 9.41|1.25      |15311      |United Kingdom|\n",
      "|536381    |22771     |CLEAR DRAWER KNOB ACRYLIC EDWARDIAN|24      |01-12-2010 9.41|1.25      |15311      |United Kingdom|\n",
      "|536381    |71270     |PHOTO CLIP LINE                    |1       |01-12-2010 9.41|1.25      |15311      |United Kingdom|\n",
      "|536381    |22262     |FELT EGG COSY CHICKEN              |1       |01-12-2010 9.41|0.85      |15311      |United Kingdom|\n",
      "|536381    |22637     |PIGGY BANK RETROSPOT               |1       |01-12-2010 9.41|2.55      |15311      |United Kingdom|\n",
      "|536381    |21934     |SKULL SHOULDER BAG                 |10      |01-12-2010 9.41|1.65      |15311      |United Kingdom|\n",
      "+----------+----------+-----------------------------------+--------+---------------+----------+-----------+--------------+\n",
      "only showing top 20 rows\n",
      "\n"
     ]
    }
   ],
   "source": [
    "orders_df.show(truncate = False)"
   ]
  },
  {
   "cell_type": "code",
   "execution_count": 99,
   "id": "b63db0f6",
   "metadata": {},
   "outputs": [],
   "source": [
    "orders_df1 = orders_df.withColumn(\"invoice_timestamp\", to_timestamp(\"invoice_date\",\"dd-MM-yyyy H.mm\")) \\\n",
    "                      .withColumn(\"invoice_date\", to_date(\"invoice_date\",\"dd-MM-yyyy H.mm\")) \\\n",
    "                      .withColumn(\"amount\", round(expr(\"unit_price * quantity\"),2))"
   ]
  },
  {
   "cell_type": "code",
   "execution_count": 100,
   "id": "1ef37308",
   "metadata": {},
   "outputs": [
    {
     "name": "stdout",
     "output_type": "stream",
     "text": [
      "+----------+----------+--------------------+--------+------------+----------+-----------+--------------+-------------------+------+\n",
      "|invoice_no|stock_code|         description|quantity|invoice_date|unit_price|customer_id|       country|  invoice_timestamp|amount|\n",
      "+----------+----------+--------------------+--------+------------+----------+-----------+--------------+-------------------+------+\n",
      "|    536378|      null|PACK OF 60 DINOSA...|      24|  2010-12-01|      0.55|      14688|United Kingdom|2010-12-01 09:37:00|  13.2|\n",
      "|    536378|      null|PACK OF 60 PINK P...|      24|  2010-12-01|      0.55|      14688|United Kingdom|2010-12-01 09:37:00|  13.2|\n",
      "|    536378|     84991|60 TEATIME FAIRY ...|      24|  2010-12-01|      0.55|      14688|United Kingdom|2010-12-01 09:37:00|  13.2|\n",
      "|    536378|    84519A|TOMATO CHARLIE+LO...|       6|  2010-12-01|      2.95|      14688|United Kingdom|2010-12-01 09:37:00|  17.7|\n",
      "|    536378|    85183B|CHARLIE & LOLA WA...|      48|  2010-12-01|      1.25|      14688|United Kingdom|2010-12-01 09:37:00|  60.0|\n",
      "|    536378|    85071B|RED CHARLIE+LOLA ...|      96|  2010-12-01|      0.38|      14688|United Kingdom|2010-12-01 09:37:00| 36.48|\n",
      "|    536378|     21931|JUMBO STORAGE BAG...|      10|  2010-12-01|      1.95|      14688|United Kingdom|2010-12-01 09:37:00|  19.5|\n",
      "|    536378|     21929|JUMBO BAG PINK VI...|      10|  2010-12-01|      1.95|      14688|United Kingdom|2010-12-01 09:37:00|  19.5|\n",
      "|    536380|     22961|JAM MAKING SET PR...|      24|  2010-12-01|      1.45|      17809|United Kingdom|2010-12-01 09:41:00|  34.8|\n",
      "|    536381|     22139|RETROSPOT TEA SET...|      23|  2010-12-01|      4.25|      15311|United Kingdom|2010-12-01 09:41:00| 97.75|\n",
      "|    536381|     84854| GIRLY PINK TOOL SET|       5|  2010-12-01|      4.95|      15311|United Kingdom|2010-12-01 09:41:00| 24.75|\n",
      "|    536381|     22411|JUMBO SHOPPER VIN...|      10|  2010-12-01|      1.95|      15311|United Kingdom|2010-12-01 09:41:00|  19.5|\n",
      "|    536381|     82567|AIRLINE LOUNGE,ME...|       2|  2010-12-01|       2.1|      15311|United Kingdom|2010-12-01 09:41:00|   4.2|\n",
      "|    536381|     21672|WHITE SPOT RED CE...|       6|  2010-12-01|      1.25|      15311|United Kingdom|2010-12-01 09:41:00|   7.5|\n",
      "|    536381|     22774|RED DRAWER KNOB A...|      24|  2010-12-01|      1.25|      15311|United Kingdom|2010-12-01 09:41:00|  30.0|\n",
      "|    536381|     22771|CLEAR DRAWER KNOB...|      24|  2010-12-01|      1.25|      15311|United Kingdom|2010-12-01 09:41:00|  30.0|\n",
      "|    536381|     71270|     PHOTO CLIP LINE|       1|  2010-12-01|      1.25|      15311|United Kingdom|2010-12-01 09:41:00|  1.25|\n",
      "|    536381|     22262|FELT EGG COSY CHI...|       1|  2010-12-01|      0.85|      15311|United Kingdom|2010-12-01 09:41:00|  0.85|\n",
      "|    536381|     22637|PIGGY BANK RETROS...|       1|  2010-12-01|      2.55|      15311|United Kingdom|2010-12-01 09:41:00|  2.55|\n",
      "|    536381|     21934|  SKULL SHOULDER BAG|      10|  2010-12-01|      1.65|      15311|United Kingdom|2010-12-01 09:41:00|  16.5|\n",
      "+----------+----------+--------------------+--------+------------+----------+-----------+--------------+-------------------+------+\n",
      "only showing top 20 rows\n",
      "\n"
     ]
    }
   ],
   "source": [
    "orders_df1.show()"
   ]
  },
  {
   "cell_type": "code",
   "execution_count": 101,
   "id": "2ca26f41",
   "metadata": {},
   "outputs": [],
   "source": [
    "orders_df_avg_amount = orders_df1.groupBy(\"description\",\"invoice_date\") \\\n",
    "                     .agg(\n",
    "                             round(avg(\"amount\"),2).alias(\"avg_amount\")\n",
    "                         )"
   ]
  },
  {
   "cell_type": "code",
   "execution_count": 102,
   "id": "2e9f3002",
   "metadata": {},
   "outputs": [
    {
     "name": "stdout",
     "output_type": "stream",
     "text": [
      "+---------------------------------+------------+----------+\n",
      "|description                      |invoice_date|avg_amount|\n",
      "+---------------------------------+------------+----------+\n",
      "|CAKE STAND WHITE TWO TIER LACE   |2011-12-09  |17.7      |\n",
      "|SET OF 3 BLACK FLYING DUCKS      |2011-12-09  |8.18      |\n",
      "|RED DINER WALL CLOCK             |2011-12-09  |16.63     |\n",
      "|GREEN ENAMEL FLOWER RING         |2011-12-09  |2.9       |\n",
      "|DIAMANTE HAIR GRIP PACK/2 RUBY   |2011-12-09  |1.65      |\n",
      "|TOXIC AREA  DOOR HANGER          |2011-12-09  |6.32      |\n",
      "|SPACEBOY CHILDRENS CUP           |2011-12-09  |2.46      |\n",
      "|12 MESSAGE CARDS WITH ENVELOPES  |2011-12-09  |1.65      |\n",
      "|PAPER CHAIN KIT RETROSPOT        |2011-12-09  |11.69     |\n",
      "|VINTAGE BEAD PINK PURSE          |2011-12-09  |3.26      |\n",
      "|ZINC HEART FLOWER T-LIGHT HOLDER |2011-12-09  |2.46      |\n",
      "|GLITTER CHRISTMAS TREE WITH BELLS|2011-12-09  |19.56     |\n",
      "|SLATE TILE NATURAL HANGING       |2011-12-09  |9.48      |\n",
      "|STAR T-LIGHT HOLDER WILLIE WINKIE|2011-12-09  |11.54     |\n",
      "|SET OF 3 CAKE TINS PANTRY DESIGN |2011-12-09  |44.79     |\n",
      "|STAR WOODEN CHRISTMAS DECORATION |2011-12-09  |5.03      |\n",
      "|GARLAND WITH HEARTS AND BELLS    |2011-12-09  |23.03     |\n",
      "|VICTORIAN SEWING BOX LARGE       |2011-12-09  |20.83     |\n",
      "|MOTHER'S KITCHEN SPOON REST      |2011-12-09  |22.38     |\n",
      "|CAMOUFLAGE EAR MUFF HEADPHONES   |2011-12-09  |10.79     |\n",
      "+---------------------------------+------------+----------+\n",
      "only showing top 20 rows\n",
      "\n"
     ]
    }
   ],
   "source": [
    "orders_df_avg_amount.orderBy(\"invoice_date\", ascending = False).show(truncate = False)"
   ]
  },
  {
   "cell_type": "code",
   "execution_count": 103,
   "id": "c1e61e61",
   "metadata": {},
   "outputs": [
    {
     "name": "stdout",
     "output_type": "stream",
     "text": [
      "+----------+----------+--------------------+--------+------------+----------+-----------+--------------+-------------------+------+\n",
      "|invoice_no|stock_code|         description|quantity|invoice_date|unit_price|customer_id|       country|  invoice_timestamp|amount|\n",
      "+----------+----------+--------------------+--------+------------+----------+-----------+--------------+-------------------+------+\n",
      "|    581492|     21620|SET OF 4 ROSE BOT...|       5|  2011-12-09|      3.29|       null|United Kingdom|2011-12-09 10:03:00| 16.45|\n",
      "|    581516|     21620|SET OF 4 ROSE BOT...|      12|  2011-12-09|      1.25|      14422|United Kingdom|2011-12-09 11:26:00|  15.0|\n",
      "+----------+----------+--------------------+--------+------------+----------+-----------+--------------+-------------------+------+\n",
      "\n"
     ]
    }
   ],
   "source": [
    "orders_df1.filter(\"description = 'SET OF 4 ROSE BOTANICAL CANDLES' AND invoice_date = '2011-12-09'\").show()"
   ]
  },
  {
   "cell_type": "code",
   "execution_count": 104,
   "id": "185941ac",
   "metadata": {},
   "outputs": [
    {
     "name": "stdout",
     "output_type": "stream",
     "text": [
      "15.725\n"
     ]
    }
   ],
   "source": [
    "print((16.45+15)/2)"
   ]
  },
  {
   "cell_type": "code",
   "execution_count": 106,
   "id": "9310bcba",
   "metadata": {},
   "outputs": [
    {
     "name": "stdout",
     "output_type": "stream",
     "text": [
      "root\n",
      " |-- description: string (nullable = true)\n",
      " |-- invoice_date: date (nullable = true)\n",
      " |-- avg_amount: double (nullable = true)\n",
      "\n"
     ]
    }
   ],
   "source": [
    "orders_df_avg_amount.printSchema()"
   ]
  },
  {
   "cell_type": "code",
   "execution_count": 108,
   "id": "a4f833f5",
   "metadata": {},
   "outputs": [],
   "source": [
    "df_max_avg_per_item = orders_df_avg_amount.groupBy(\"description\") \\\n",
    "                                          .agg(max(\"avg_amount\").alias(\"max_avg_per_item\"))"
   ]
  },
  {
   "cell_type": "code",
   "execution_count": 111,
   "id": "21b76c3a",
   "metadata": {},
   "outputs": [
    {
     "name": "stdout",
     "output_type": "stream",
     "text": [
      "+-----------------------------------+----------------+\n",
      "|description                        |max_avg_per_item|\n",
      "+-----------------------------------+----------------+\n",
      "|MAGNETS PACK OF 4 VINTAGE LABELS   |27.75           |\n",
      "|SILVER FABRIC MIRROR               |29.75           |\n",
      "|DECORATION SITTING BUNNY           |18.24           |\n",
      "|VINTAGE LEAF CHOPPING BOARD        |49.72           |\n",
      "|SET/3 RED GINGHAM ROSE STORAGE BOX |1220.4          |\n",
      "|WOVEN BERRIES CUSHION COVER        |33.04           |\n",
      "|10 COLOUR SPACEBOY PEN             |207.36          |\n",
      "|SET/10 BLUE POLKADOT PARTY CANDLES |305.28          |\n",
      "|WHITE/PINK MINI CRYSTALS NECKLACE  |19.8            |\n",
      "|WHITE FRANGIPANI NECKLACE          |19.84           |\n",
      "|PINK  HONEYCOMB PAPER FAN          |57.82           |\n",
      "|PAPERWEIGHT KINGS CHOICE           |30.6            |\n",
      "|SNACK TRAY I LOVE LONDON           |34.2            |\n",
      "|WHITE CHRYSANTHEMUMS ART FLOWER    |37.8            |\n",
      "|ANTIQUE MID BLUE FLOWER EARRINGS   |8.5             |\n",
      "|POTTING SHED SOW 'N' GROW SET      |8.47            |\n",
      "|GLASS CAKE COVER AND PLATE         |29.9            |\n",
      "|BLACK CHERRY LIGHTS                |13.5            |\n",
      "|DECROTIVEVINTAGE COFFEE GRINDER BOX|14.85           |\n",
      "|PINK BOUDOIR T-LIGHT HOLDER        |10.2            |\n",
      "+-----------------------------------+----------------+\n",
      "only showing top 20 rows\n",
      "\n"
     ]
    }
   ],
   "source": [
    "df_max_avg_per_item.show(truncate = False)"
   ]
  },
  {
   "cell_type": "code",
   "execution_count": 114,
   "id": "e5ba33bd",
   "metadata": {},
   "outputs": [
    {
     "name": "stdout",
     "output_type": "stream",
     "text": [
      "+--------------------+------------+----------+\n",
      "|         description|invoice_date|avg_amount|\n",
      "+--------------------+------------+----------+\n",
      "|SILVER FABRIC MIRROR|  2010-12-23|     29.75|\n",
      "|SILVER FABRIC MIRROR|  2011-11-16|      23.4|\n",
      "|SILVER FABRIC MIRROR|  2011-11-30|      23.4|\n",
      "|SILVER FABRIC MIRROR|  2011-11-01|      23.4|\n",
      "|SILVER FABRIC MIRROR|  2011-11-20|     12.67|\n",
      "|SILVER FABRIC MIRROR|  2011-07-22|      7.51|\n",
      "|SILVER FABRIC MIRROR|  2011-09-28|      5.13|\n",
      "|SILVER FABRIC MIRROR|  2011-07-08|      5.07|\n",
      "|SILVER FABRIC MIRROR|  2010-12-14|       5.0|\n",
      "|SILVER FABRIC MIRROR|  2011-01-18|      4.98|\n",
      "|SILVER FABRIC MIRROR|  2011-11-28|       3.9|\n",
      "|SILVER FABRIC MIRROR|  2011-03-09|      3.75|\n",
      "|SILVER FABRIC MIRROR|  2011-01-06|       3.4|\n",
      "|SILVER FABRIC MIRROR|  2011-10-27|      3.12|\n",
      "|SILVER FABRIC MIRROR|  2011-11-21|      2.54|\n",
      "|SILVER FABRIC MIRROR|  2010-12-10|       2.5|\n",
      "|SILVER FABRIC MIRROR|  2011-11-23|      2.46|\n",
      "|SILVER FABRIC MIRROR|  2011-11-22|      2.46|\n",
      "|SILVER FABRIC MIRROR|  2011-10-30|      2.34|\n",
      "|SILVER FABRIC MIRROR|  2011-06-09|      1.95|\n",
      "+--------------------+------------+----------+\n",
      "only showing top 20 rows\n",
      "\n"
     ]
    }
   ],
   "source": [
    "orders_df_avg_amount.filter(\"description = 'SILVER FABRIC MIRROR'\") \\\n",
    "                    .orderBy(\"avg_amount\", ascending = False) \\\n",
    "                    .show()"
   ]
  },
  {
   "cell_type": "code",
   "execution_count": null,
   "id": "6ee7ca58",
   "metadata": {},
   "outputs": [],
   "source": [
    "spark.stop()"
   ]
  }
 ],
 "metadata": {
  "kernelspec": {
   "display_name": "Pyspark 3",
   "language": "python",
   "name": "pyspark3"
  },
  "language_info": {
   "codemirror_mode": {
    "name": "ipython",
    "version": 3
   },
   "file_extension": ".py",
   "mimetype": "text/x-python",
   "name": "python",
   "nbconvert_exporter": "python",
   "pygments_lexer": "ipython3",
   "version": "3.6.12"
  }
 },
 "nbformat": 4,
 "nbformat_minor": 5
}
