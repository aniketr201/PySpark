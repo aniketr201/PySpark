{
 "cells": [
  {
   "cell_type": "markdown",
   "id": "13a2afd0",
   "metadata": {},
   "source": [
    "<H1 align = 'Center'> Spark Higher Level APIs </H1>\n",
    "<H3> => Assignment 2 : Questions regarding Product Catalog</H3>\n",
    "<BR>"
   ]
  },
  {
   "cell_type": "code",
   "execution_count": 1,
   "id": "36a80d22",
   "metadata": {},
   "outputs": [],
   "source": [
    "from pyspark.sql import SparkSession\n",
    "from pyspark.sql.types import StructType, StructField, IntegerType, StringType, FloatType"
   ]
  },
  {
   "cell_type": "code",
   "execution_count": 2,
   "id": "674b1c47",
   "metadata": {},
   "outputs": [],
   "source": [
    "spark = SparkSession.builder. \\\n",
    "appName(\"productCatalog\"). \\\n",
    "config(\"spark.ui.port\",\"0\"). \\\n",
    "config(\"spark.sql.warehouse.dir\",\"/user/itv012857/warehouse\"). \\\n",
    "enableHiveSupport(). \\\n",
    "master(\"yarn\"). \\\n",
    "getOrCreate()"
   ]
  },
  {
   "cell_type": "code",
   "execution_count": 3,
   "id": "58f72e37",
   "metadata": {},
   "outputs": [
    {
     "data": {
      "text/html": [
       "\n",
       "            <div>\n",
       "                <p><b>SparkSession - hive</b></p>\n",
       "                \n",
       "        <div>\n",
       "            <p><b>SparkContext</b></p>\n",
       "\n",
       "            <p><a href=\"http://g02.itversity.com:45213\">Spark UI</a></p>\n",
       "\n",
       "            <dl>\n",
       "              <dt>Version</dt>\n",
       "                <dd><code>v3.1.2</code></dd>\n",
       "              <dt>Master</dt>\n",
       "                <dd><code>yarn</code></dd>\n",
       "              <dt>AppName</dt>\n",
       "                <dd><code>productCatalog</code></dd>\n",
       "            </dl>\n",
       "        </div>\n",
       "        \n",
       "            </div>\n",
       "        "
      ],
      "text/plain": [
       "<pyspark.sql.session.SparkSession at 0x7f9851d5b320>"
      ]
     },
     "execution_count": 3,
     "metadata": {},
     "output_type": "execute_result"
    }
   ],
   "source": [
    "spark"
   ]
  },
  {
   "cell_type": "markdown",
   "id": "f2321384",
   "metadata": {},
   "source": [
    "### => Setting up the Dataframe"
   ]
  },
  {
   "cell_type": "code",
   "execution_count": 4,
   "id": "57546ffe",
   "metadata": {},
   "outputs": [],
   "source": [
    "# StructType(List or Tuple of class:`StructField`)\n",
    "# StructField(name: string, dataType: class `DataType`, nullable: bool, metadata: dict)"
   ]
  },
  {
   "cell_type": "code",
   "execution_count": 5,
   "id": "3a87a273",
   "metadata": {},
   "outputs": [],
   "source": [
    "productSchema = StructType(\n",
    "                            (StructField('product_id',IntegerType(),False),\n",
    "                             StructField('category',IntegerType(),False),\n",
    "                             StructField('product_name',StringType(),False),\n",
    "                             StructField('description',StringType(),True),\n",
    "                             StructField('price',FloatType(),False),\n",
    "                             StructField('image_url',StringType(),True)\n",
    "                            )\n",
    "                          )"
   ]
  },
  {
   "cell_type": "code",
   "execution_count": 6,
   "id": "674be6b5",
   "metadata": {},
   "outputs": [],
   "source": [
    "products_df = spark.read.csv(\"/public/trendytech/retail_db/products/part-00000\", \\\n",
    "                             schema = productSchema)"
   ]
  },
  {
   "cell_type": "code",
   "execution_count": 7,
   "id": "ff5032ba",
   "metadata": {},
   "outputs": [
    {
     "name": "stdout",
     "output_type": "stream",
     "text": [
      "root\n",
      " |-- product_id: integer (nullable = true)\n",
      " |-- category: integer (nullable = true)\n",
      " |-- product_name: string (nullable = true)\n",
      " |-- description: string (nullable = true)\n",
      " |-- price: float (nullable = true)\n",
      " |-- image_url: string (nullable = true)\n",
      "\n"
     ]
    }
   ],
   "source": [
    "products_df.printSchema()"
   ]
  },
  {
   "cell_type": "code",
   "execution_count": 8,
   "id": "ea550679",
   "metadata": {},
   "outputs": [
    {
     "name": "stdout",
     "output_type": "stream",
     "text": [
      "+----------+--------+--------------------+-----------+------+--------------------+\n",
      "|product_id|category|        product_name|description| price|           image_url|\n",
      "+----------+--------+--------------------+-----------+------+--------------------+\n",
      "|         1|       2|Quest Q64 10 FT. ...|       null| 59.98|http://images.acm...|\n",
      "|         2|       2|Under Armour Men'...|       null|129.99|http://images.acm...|\n",
      "|         3|       2|Under Armour Men'...|       null| 89.99|http://images.acm...|\n",
      "|         4|       2|Under Armour Men'...|       null| 89.99|http://images.acm...|\n",
      "|         5|       2|Riddell Youth Rev...|       null|199.99|http://images.acm...|\n",
      "|         6|       2|Jordan Men's VI R...|       null|134.99|http://images.acm...|\n",
      "|         7|       2|Schutt Youth Recr...|       null| 99.99|http://images.acm...|\n",
      "|         8|       2|Nike Men's Vapor ...|       null|129.99|http://images.acm...|\n",
      "|         9|       2|Nike Adult Vapor ...|       null|  50.0|http://images.acm...|\n",
      "|        10|       2|Under Armour Men'...|       null|129.99|http://images.acm...|\n",
      "|        11|       2|Fitness Gear 300 ...|       null|209.99|http://images.acm...|\n",
      "|        12|       2|Under Armour Men'...|       null|139.99|http://images.acm...|\n",
      "|        13|       2|Under Armour Men'...|       null| 89.99|http://images.acm...|\n",
      "|        14|       2|Quik Shade Summit...|       null|199.99|http://images.acm...|\n",
      "|        15|       2|Under Armour Kids...|       null| 59.99|http://images.acm...|\n",
      "|        16|       2|Riddell Youth 360...|       null|299.99|http://images.acm...|\n",
      "|        17|       2|Under Armour Men'...|       null|129.99|http://images.acm...|\n",
      "|        18|       2|Reebok Men's Full...|       null| 29.97|http://images.acm...|\n",
      "|        19|       2|Nike Men's Finger...|       null|124.99|http://images.acm...|\n",
      "|        20|       2|Under Armour Men'...|       null|129.99|http://images.acm...|\n",
      "+----------+--------+--------------------+-----------+------+--------------------+\n",
      "only showing top 20 rows\n",
      "\n"
     ]
    }
   ],
   "source": [
    "products_df.show()"
   ]
  },
  {
   "cell_type": "code",
   "execution_count": 9,
   "id": "eb699eef",
   "metadata": {},
   "outputs": [],
   "source": [
    "products_df.createOrReplaceTempView('product_catalog')"
   ]
  },
  {
   "cell_type": "code",
   "execution_count": 10,
   "id": "b46c8342",
   "metadata": {},
   "outputs": [
    {
     "name": "stdout",
     "output_type": "stream",
     "text": [
      "+------------+---------+-------+\n",
      "|    col_name|data_type|comment|\n",
      "+------------+---------+-------+\n",
      "|  product_id|      int|   null|\n",
      "|    category|      int|   null|\n",
      "|product_name|   string|   null|\n",
      "| description|   string|   null|\n",
      "|       price|    float|   null|\n",
      "|   image_url|   string|   null|\n",
      "+------------+---------+-------+\n",
      "\n"
     ]
    }
   ],
   "source": [
    "spark.sql(\"describe extended product_catalog\").show()"
   ]
  },
  {
   "cell_type": "markdown",
   "id": "f47bccb7",
   "metadata": {},
   "source": [
    "<h3> 1. Find the total no. of products in the dataset"
   ]
  },
  {
   "cell_type": "code",
   "execution_count": 24,
   "id": "0864f746",
   "metadata": {},
   "outputs": [
    {
     "data": {
      "text/plain": [
       "750"
      ]
     },
     "execution_count": 24,
     "metadata": {},
     "output_type": "execute_result"
    }
   ],
   "source": [
    "products_df.select(\"product_name\").distinct().count()"
   ]
  },
  {
   "cell_type": "code",
   "execution_count": 25,
   "id": "0d9103fc",
   "metadata": {},
   "outputs": [
    {
     "data": {
      "text/html": [
       "<table border='1'>\n",
       "<tr><th>count(DISTINCT product_name)</th></tr>\n",
       "<tr><td>750</td></tr>\n",
       "</table>\n"
      ],
      "text/plain": [
       "+----------------------------+\n",
       "|count(DISTINCT product_name)|\n",
       "+----------------------------+\n",
       "|                         750|\n",
       "+----------------------------+"
      ]
     },
     "execution_count": 25,
     "metadata": {},
     "output_type": "execute_result"
    }
   ],
   "source": [
    "spark.sql(\"SELECT COUNT(DISTINCT(product_name)) FROM product_catalog\")"
   ]
  },
  {
   "cell_type": "code",
   "execution_count": 26,
   "id": "6be7b734",
   "metadata": {},
   "outputs": [
    {
     "name": "stdout",
     "output_type": "stream",
     "text": [
      "+---------------------------------------------+--------+\n",
      "|product_name                                 |count(1)|\n",
      "+---------------------------------------------+--------+\n",
      "|Fitness Gear Heavy Bag Stand                 |2       |\n",
      "|Callaway X Hot Laser Rangefinder             |3       |\n",
      "|adidas Men's 2014 MLS All-Star Game Rose City|3       |\n",
      "|Top Flite Kids' 2014 XLj Complete Set (Height|5       |\n",
      "|YETI Roadie 20 Chest Cooler                  |2       |\n",
      "|Nike Hyper Elite Crew Basketball Sock        |3       |\n",
      "|Merrell Women's Azura Hiking Shoe            |2       |\n",
      "|Merrell Men's Moab Rover Waterproof Wide Hiki|4       |\n",
      "|Diamondback Adult Response XE Mountain Bike 2|3       |\n",
      "|Nike Men's Vapor Carbon Elite TD Football Cle|4       |\n",
      "|Schutt Youth Recruit Hybrid Custom Football H|3       |\n",
      "|Fitbit Flex Wireless Activity & Sleep Wristba|13      |\n",
      "|Majestic Youth Replica New York Yankees Derek|2       |\n",
      "|LIJA Women's Golf Beanie                     |2       |\n",
      "|Nike Adult Pro Combat Hyperstrong Girdle     |2       |\n",
      "|Lotto Men's Zhero Gravity V 700 TF Soccer Cle|6       |\n",
      "|Merrell Men's Chameleon Prime Stretch Realtre|2       |\n",
      "|Nike Youth Home Game Jersey Cleveland Browns |2       |\n",
      "|Nike Men's Cleveland Browns Johnny Football O|2       |\n",
      "|Diamondback Adult Outlook Mountain Bike 2014 |3       |\n",
      "+---------------------------------------------+--------+\n",
      "only showing top 20 rows\n",
      "\n"
     ]
    }
   ],
   "source": [
    "spark.sql(\"SELECT product_name, count(1) \\\n",
    "            FROM product_catalog \\\n",
    "            GROUP BY 1 \\\n",
    "            HAVING COUNT(1) > 1\").show(truncate = False)"
   ]
  },
  {
   "cell_type": "code",
   "execution_count": 27,
   "id": "9497f24c",
   "metadata": {},
   "outputs": [
    {
     "name": "stdout",
     "output_type": "stream",
     "text": [
      "+----------+--------+--------------------+-----------+-----+--------------------+\n",
      "|product_id|category|        product_name|description|price|           image_url|\n",
      "+----------+--------+--------------------+-----------+-----+--------------------+\n",
      "|       120|       6|Nike Hyper Elite ...|       null| 18.0|http://images.acm...|\n",
      "|       474|      21|Nike Hyper Elite ...|       null| 18.0|http://images.acm...|\n",
      "|       617|      41|Nike Hyper Elite ...|       null| 18.0|http://images.acm...|\n",
      "+----------+--------+--------------------+-----------+-----+--------------------+\n",
      "\n"
     ]
    }
   ],
   "source": [
    "spark.sql(\"select * from product_catalog \\\n",
    "            where product_name = 'Nike Hyper Elite Crew Basketball Sock'\").show()"
   ]
  },
  {
   "cell_type": "markdown",
   "id": "e09f04a0",
   "metadata": {},
   "source": [
    "<H4> So, there are 750 unique products. Many of them get repeated in different categories, but there are 750 unique products <BR>"
   ]
  },
  {
   "cell_type": "markdown",
   "id": "7da18d2f",
   "metadata": {},
   "source": [
    "<H3> 2. Find the number of unique categories of products in the dataset"
   ]
  },
  {
   "cell_type": "code",
   "execution_count": 28,
   "id": "f6eeff66",
   "metadata": {},
   "outputs": [
    {
     "data": {
      "text/plain": [
       "55"
      ]
     },
     "execution_count": 28,
     "metadata": {},
     "output_type": "execute_result"
    }
   ],
   "source": [
    "products_df.select(\"category\").distinct().count()"
   ]
  },
  {
   "cell_type": "code",
   "execution_count": 29,
   "id": "8b88e2bb",
   "metadata": {},
   "outputs": [
    {
     "data": {
      "text/html": [
       "<table border='1'>\n",
       "<tr><th>count(DISTINCT category)</th></tr>\n",
       "<tr><td>55</td></tr>\n",
       "</table>\n"
      ],
      "text/plain": [
       "+------------------------+\n",
       "|count(DISTINCT category)|\n",
       "+------------------------+\n",
       "|                      55|\n",
       "+------------------------+"
      ]
     },
     "execution_count": 29,
     "metadata": {},
     "output_type": "execute_result"
    }
   ],
   "source": [
    "spark.sql(\"SELECT COUNT(DISTINCT category) FROM product_catalog\")"
   ]
  },
  {
   "cell_type": "markdown",
   "id": "dce5b13d",
   "metadata": {},
   "source": [
    "<H4> There are 55 unique categories"
   ]
  },
  {
   "cell_type": "markdown",
   "id": "d2d1044b",
   "metadata": {},
   "source": [
    "<H3> Find the top 5 most expensive products based on their price, along with their product name, category, and imageURL."
   ]
  },
  {
   "cell_type": "code",
   "execution_count": 30,
   "id": "fbc59ee5",
   "metadata": {},
   "outputs": [
    {
     "data": {
      "text/html": [
       "<table border='1'>\n",
       "<tr><th>product_name</th><th>category</th><th>price</th><th>image_url</th></tr>\n",
       "<tr><td>SOLE E35 Elliptical</td><td>10</td><td>1999.99</td><td>http://images.acm...</td></tr>\n",
       "<tr><td>SOLE F85 Treadmill</td><td>4</td><td>1799.99</td><td>http://images.acm...</td></tr>\n",
       "<tr><td>SOLE F85 Treadmill</td><td>10</td><td>1799.99</td><td>http://images.acm...</td></tr>\n",
       "<tr><td>SOLE F85 Treadmill</td><td>22</td><td>1799.99</td><td>http://images.acm...</td></tr>\n",
       "<tr><td>&quot;Spalding Beast 6...</td><td>47</td><td>1099.99</td><td>http://images.acm...</td></tr>\n",
       "</table>\n"
      ],
      "text/plain": [
       "+--------------------+--------+-------+--------------------+\n",
       "|        product_name|category|  price|           image_url|\n",
       "+--------------------+--------+-------+--------------------+\n",
       "| SOLE E35 Elliptical|      10|1999.99|http://images.acm...|\n",
       "|  SOLE F85 Treadmill|       4|1799.99|http://images.acm...|\n",
       "|  SOLE F85 Treadmill|      10|1799.99|http://images.acm...|\n",
       "|  SOLE F85 Treadmill|      22|1799.99|http://images.acm...|\n",
       "|\"Spalding Beast 6...|      47|1099.99|http://images.acm...|\n",
       "+--------------------+--------+-------+--------------------+"
      ]
     },
     "execution_count": 30,
     "metadata": {},
     "output_type": "execute_result"
    }
   ],
   "source": [
    "products_df.select(\"product_name\",\"category\",\"price\",\"image_url\") \\\n",
    "            .sort(\"Price\", ascending = False) \\\n",
    "            .limit(5)"
   ]
  },
  {
   "cell_type": "code",
   "execution_count": 31,
   "id": "f224c42d",
   "metadata": {},
   "outputs": [
    {
     "data": {
      "text/html": [
       "<table border='1'>\n",
       "<tr><th>product_name</th><th>category</th><th>price</th><th>image_url</th></tr>\n",
       "<tr><td>SOLE E35 Elliptical</td><td>10</td><td>1999.99</td><td>http://images.acm...</td></tr>\n",
       "<tr><td>SOLE F85 Treadmill</td><td>4</td><td>1799.99</td><td>http://images.acm...</td></tr>\n",
       "<tr><td>SOLE F85 Treadmill</td><td>10</td><td>1799.99</td><td>http://images.acm...</td></tr>\n",
       "<tr><td>SOLE F85 Treadmill</td><td>22</td><td>1799.99</td><td>http://images.acm...</td></tr>\n",
       "<tr><td>&quot;Spalding Beast 6...</td><td>47</td><td>1099.99</td><td>http://images.acm...</td></tr>\n",
       "</table>\n"
      ],
      "text/plain": [
       "+--------------------+--------+-------+--------------------+\n",
       "|        product_name|category|  price|           image_url|\n",
       "+--------------------+--------+-------+--------------------+\n",
       "| SOLE E35 Elliptical|      10|1999.99|http://images.acm...|\n",
       "|  SOLE F85 Treadmill|       4|1799.99|http://images.acm...|\n",
       "|  SOLE F85 Treadmill|      10|1799.99|http://images.acm...|\n",
       "|  SOLE F85 Treadmill|      22|1799.99|http://images.acm...|\n",
       "|\"Spalding Beast 6...|      47|1099.99|http://images.acm...|\n",
       "+--------------------+--------+-------+--------------------+"
      ]
     },
     "execution_count": 31,
     "metadata": {},
     "output_type": "execute_result"
    }
   ],
   "source": [
    "spark.sql(\"SELECT product_name, category, price, image_url \\\n",
    "            FROM product_catalog \\\n",
    "            ORDER BY price DESC \\\n",
    "            LIMIT 5 \\\n",
    "          \")"
   ]
  },
  {
   "cell_type": "markdown",
   "id": "9da9f890",
   "metadata": {},
   "source": [
    "### 4. Find the number of products in each category that have a price greater than $100. Display the results in a tabular format that shows the category and the number of products that satisfy the condition"
   ]
  },
  {
   "cell_type": "code",
   "execution_count": 32,
   "id": "2e1505f9",
   "metadata": {},
   "outputs": [
    {
     "name": "stdout",
     "output_type": "stream",
     "text": [
      "+--------+-----+\n",
      "|category|count|\n",
      "+--------+-----+\n",
      "|      31|   17|\n",
      "|      53|   16|\n",
      "|      34|   15|\n",
      "|      44|    9|\n",
      "|      12|    3|\n",
      "|      22|    4|\n",
      "|      47|   10|\n",
      "|      52|    5|\n",
      "|      13|    1|\n",
      "|       6|    5|\n",
      "|      16|   11|\n",
      "|       3|    5|\n",
      "|      20|    7|\n",
      "|      57|    6|\n",
      "|      54|    6|\n",
      "|      48|   17|\n",
      "|       5|   11|\n",
      "|      19|   13|\n",
      "|      41|   11|\n",
      "|      43|   23|\n",
      "+--------+-----+\n",
      "only showing top 20 rows\n",
      "\n"
     ]
    }
   ],
   "source": [
    "products_df.filter(\"price > 100\") \\\n",
    "            .groupBy(\"category\") \\\n",
    "            .count() \\\n",
    "            .show()"
   ]
  },
  {
   "cell_type": "code",
   "execution_count": 33,
   "id": "0744b2b6",
   "metadata": {},
   "outputs": [
    {
     "data": {
      "text/html": [
       "<table border='1'>\n",
       "<tr><th>category</th><th>count(1)</th></tr>\n",
       "<tr><td>31</td><td>17</td></tr>\n",
       "<tr><td>53</td><td>16</td></tr>\n",
       "<tr><td>34</td><td>15</td></tr>\n",
       "<tr><td>44</td><td>9</td></tr>\n",
       "<tr><td>12</td><td>3</td></tr>\n",
       "<tr><td>22</td><td>4</td></tr>\n",
       "<tr><td>47</td><td>10</td></tr>\n",
       "<tr><td>52</td><td>5</td></tr>\n",
       "<tr><td>13</td><td>1</td></tr>\n",
       "<tr><td>6</td><td>5</td></tr>\n",
       "<tr><td>16</td><td>11</td></tr>\n",
       "<tr><td>3</td><td>5</td></tr>\n",
       "<tr><td>20</td><td>7</td></tr>\n",
       "<tr><td>57</td><td>6</td></tr>\n",
       "<tr><td>54</td><td>6</td></tr>\n",
       "<tr><td>48</td><td>17</td></tr>\n",
       "<tr><td>5</td><td>11</td></tr>\n",
       "<tr><td>19</td><td>13</td></tr>\n",
       "<tr><td>41</td><td>11</td></tr>\n",
       "<tr><td>43</td><td>23</td></tr>\n",
       "</table>\n",
       "only showing top 20 rows\n"
      ],
      "text/plain": [
       "+--------+--------+\n",
       "|category|count(1)|\n",
       "+--------+--------+\n",
       "|      31|      17|\n",
       "|      53|      16|\n",
       "|      34|      15|\n",
       "|      44|       9|\n",
       "|      12|       3|\n",
       "|      22|       4|\n",
       "|      47|      10|\n",
       "|      52|       5|\n",
       "|      13|       1|\n",
       "|       6|       5|\n",
       "|      16|      11|\n",
       "|       3|       5|\n",
       "|      20|       7|\n",
       "|      57|       6|\n",
       "|      54|       6|\n",
       "|      48|      17|\n",
       "|       5|      11|\n",
       "|      19|      13|\n",
       "|      41|      11|\n",
       "|      43|      23|\n",
       "+--------+--------+\n",
       "only showing top 20 rows"
      ]
     },
     "execution_count": 33,
     "metadata": {},
     "output_type": "execute_result"
    }
   ],
   "source": [
    "spark.sql(\"SELECT category, count(1) \\\n",
    "            FROM product_catalog \\\n",
    "            WHERE price > 100 \\\n",
    "            GROUP BY category\")"
   ]
  },
  {
   "cell_type": "markdown",
   "id": "dad799ab",
   "metadata": {},
   "source": [
    "### 5. What are the product names and prices of products that have a price greater than $200 and belong to category 5?"
   ]
  },
  {
   "cell_type": "code",
   "execution_count": 34,
   "id": "3fb4e0ad",
   "metadata": {},
   "outputs": [
    {
     "data": {
      "text/html": [
       "<table border='1'>\n",
       "<tr><th>product_name</th><th>price</th></tr>\n",
       "<tr><td>&quot;Goaliath 54&quot;&quot; In...</td><td>499.99</td></tr>\n",
       "<tr><td>Fitness Gear 300 ...</td><td>209.99</td></tr>\n",
       "<tr><td>Teeter Hang Ups N...</td><td>299.99</td></tr>\n",
       "</table>\n"
      ],
      "text/plain": [
       "+--------------------+------+\n",
       "|        product_name| price|\n",
       "+--------------------+------+\n",
       "|\"Goaliath 54\"\" In...|499.99|\n",
       "|Fitness Gear 300 ...|209.99|\n",
       "|Teeter Hang Ups N...|299.99|\n",
       "+--------------------+------+"
      ]
     },
     "execution_count": 34,
     "metadata": {},
     "output_type": "execute_result"
    }
   ],
   "source": [
    "products_df.filter(\"price > 200 and category = 5\") \\\n",
    "            .select(\"product_name\",\"price\")"
   ]
  },
  {
   "cell_type": "code",
   "execution_count": 35,
   "id": "b2482796",
   "metadata": {},
   "outputs": [
    {
     "data": {
      "text/html": [
       "<table border='1'>\n",
       "<tr><th>product_name</th><th>price</th></tr>\n",
       "<tr><td>&quot;Goaliath 54&quot;&quot; In...</td><td>499.99</td></tr>\n",
       "<tr><td>Fitness Gear 300 ...</td><td>209.99</td></tr>\n",
       "<tr><td>Teeter Hang Ups N...</td><td>299.99</td></tr>\n",
       "</table>\n"
      ],
      "text/plain": [
       "+--------------------+------+\n",
       "|        product_name| price|\n",
       "+--------------------+------+\n",
       "|\"Goaliath 54\"\" In...|499.99|\n",
       "|Fitness Gear 300 ...|209.99|\n",
       "|Teeter Hang Ups N...|299.99|\n",
       "+--------------------+------+"
      ]
     },
     "execution_count": 35,
     "metadata": {},
     "output_type": "execute_result"
    }
   ],
   "source": [
    "spark.sql(\"SELECT product_name, price \\\n",
    "           FROM product_catalog \\\n",
    "           WHERE price > 200 AND category =5\")"
   ]
  },
  {
   "cell_type": "code",
   "execution_count": 36,
   "id": "0e46e512",
   "metadata": {},
   "outputs": [],
   "source": [
    "spark.stop()"
   ]
  },
  {
   "cell_type": "code",
   "execution_count": null,
   "id": "3e8cf29a",
   "metadata": {},
   "outputs": [],
   "source": []
  }
 ],
 "metadata": {
  "kernelspec": {
   "display_name": "Pyspark 3",
   "language": "python",
   "name": "pyspark3"
  },
  "language_info": {
   "codemirror_mode": {
    "name": "ipython",
    "version": 3
   },
   "file_extension": ".py",
   "mimetype": "text/x-python",
   "name": "python",
   "nbconvert_exporter": "python",
   "pygments_lexer": "ipython3",
   "version": "3.6.12"
  }
 },
 "nbformat": 4,
 "nbformat_minor": 5
}
