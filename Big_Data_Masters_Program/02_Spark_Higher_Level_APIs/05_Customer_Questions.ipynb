{
 "cells": [
  {
   "cell_type": "markdown",
   "id": "b68a3406",
   "metadata": {},
   "source": [
    "<H1 align = 'Center'> Spark Higher Level APIs </H1>\n",
    "<H3> => Assignment 3 : Answer questions regarding Customers </H3>\n",
    "<BR>"
   ]
  },
  {
   "cell_type": "code",
   "execution_count": 1,
   "id": "61f5443a",
   "metadata": {},
   "outputs": [],
   "source": [
    "from pyspark.sql import SparkSession"
   ]
  },
  {
   "cell_type": "code",
   "execution_count": 2,
   "id": "194a6112",
   "metadata": {},
   "outputs": [],
   "source": [
    "spark = SparkSession.builder. \\\n",
    "appName(\"productCatalog\"). \\\n",
    "config(\"spark.ui.port\",\"0\"). \\\n",
    "config(\"spark.sql.warehouse.dir\",\"/user/itv012857/warehouse\"). \\\n",
    "enableHiveSupport(). \\\n",
    "master(\"yarn\"). \\\n",
    "getOrCreate()"
   ]
  },
  {
   "cell_type": "code",
   "execution_count": 5,
   "id": "c1431571",
   "metadata": {},
   "outputs": [
    {
     "name": "stdout",
     "output_type": "stream",
     "text": [
      "1,Richard,Hernandez,XXXXXXXXX,XXXXXXXXX,6303 Heather Plaza,Brownsville,TX,78521\n",
      "2,Mary,Barrett,XXXXXXXXX,XXXXXXXXX,9526 Noble Embers Ridge,Littleton,CO,80126\n",
      "3,Ann,Smith,XXXXXXXXX,XXXXXXXXX,3422 Blue Pioneer Bend,Caguas,PR,00725\n",
      "4,Mary,Jones,XXXXXXXXX,XXXXXXXXX,8324 Little Common,San Marcos,CA,92069\n",
      "5,Robert,Hudson,XXXXXXXXX,XXXXXXXXX,\"10 Crystal River Mall \",Caguas,PR,00725\n",
      "6,Mary,Smith,XXXXXXXXX,XXXXXXXXX,3151 Sleepy Quail Promenade,Passaic,NJ,07055\n",
      "7,Melissa,Wilcox,XXXXXXXXX,XXXXXXXXX,9453 High Concession,Caguas,PR,00725\n",
      "8,Megan,Smith,XXXXXXXXX,XXXXXXXXX,3047 Foggy Forest Plaza,Lawrence,MA,01841\n",
      "9,Mary,Perez,XXXXXXXXX,XXXXXXXXX,3616 Quaking Street,Caguas,PR,00725\n",
      "10,Melissa,Smith,XXXXXXXXX,XXXXXXXXX,8598 Harvest Beacon Plaza,Stafford,VA,22554\n",
      "11,Mary,Huffman,XXXXXXXXX,XXXXXXXXX,3169 Stony Woods,Caguas,PR,00725\n",
      "12,Christopher,Smith,XXXXXXXXX,XXXXXXXXX,5594 Jagged Embers By-pass,San Antonio,TX,78227\n",
      "13,Mary,Baldwin,XXXXXXXXX,XXXXXXXXX,7922 Iron Oak Gardens,Caguas,PR,00725\n",
      "14,Katherine,Smith,XXXXXXXXX,XXXXXXX"
     ]
    }
   ],
   "source": [
    "! hadoop fs -head /public/trendytech/retail_db/customers/part-00000"
   ]
  },
  {
   "cell_type": "code",
   "execution_count": 11,
   "id": "c36998c7",
   "metadata": {},
   "outputs": [],
   "source": [
    "customer_schema = \"cust_id int, cust_fname string, cust_lname string, email string, \\\n",
    "password string, street string, city string, state string, zipcode int\""
   ]
  },
  {
   "cell_type": "code",
   "execution_count": 12,
   "id": "a3aea75e",
   "metadata": {},
   "outputs": [
    {
     "name": "stdout",
     "output_type": "stream",
     "text": [
      "cust_id int, cust_fname string, cust_lname string, email string, password string, street string, city string, state string, zipcode int\n"
     ]
    }
   ],
   "source": [
    "print(customer_schema)"
   ]
  },
  {
   "cell_type": "code",
   "execution_count": 13,
   "id": "30ab267f",
   "metadata": {},
   "outputs": [],
   "source": [
    "cust_df = spark.read.csv(\"/public/trendytech/retail_db/customers/*\", schema=customer_schema)"
   ]
  },
  {
   "cell_type": "code",
   "execution_count": 14,
   "id": "318262a8",
   "metadata": {},
   "outputs": [
    {
     "name": "stdout",
     "output_type": "stream",
     "text": [
      "+-------+-----------+----------+---------+---------+--------------------+-------------+-----+-------+\n",
      "|cust_id| cust_fname|cust_lname|    email| password|              street|         city|state|zipcode|\n",
      "+-------+-----------+----------+---------+---------+--------------------+-------------+-----+-------+\n",
      "|      1|    Richard| Hernandez|XXXXXXXXX|XXXXXXXXX|  6303 Heather Plaza|  Brownsville|   TX|  78521|\n",
      "|      2|       Mary|   Barrett|XXXXXXXXX|XXXXXXXXX|9526 Noble Embers...|    Littleton|   CO|  80126|\n",
      "|      3|        Ann|     Smith|XXXXXXXXX|XXXXXXXXX|3422 Blue Pioneer...|       Caguas|   PR|    725|\n",
      "|      4|       Mary|     Jones|XXXXXXXXX|XXXXXXXXX|  8324 Little Common|   San Marcos|   CA|  92069|\n",
      "|      5|     Robert|    Hudson|XXXXXXXXX|XXXXXXXXX|10 Crystal River ...|       Caguas|   PR|    725|\n",
      "|      6|       Mary|     Smith|XXXXXXXXX|XXXXXXXXX|3151 Sleepy Quail...|      Passaic|   NJ|   7055|\n",
      "|      7|    Melissa|    Wilcox|XXXXXXXXX|XXXXXXXXX|9453 High Concession|       Caguas|   PR|    725|\n",
      "|      8|      Megan|     Smith|XXXXXXXXX|XXXXXXXXX|3047 Foggy Forest...|     Lawrence|   MA|   1841|\n",
      "|      9|       Mary|     Perez|XXXXXXXXX|XXXXXXXXX| 3616 Quaking Street|       Caguas|   PR|    725|\n",
      "|     10|    Melissa|     Smith|XXXXXXXXX|XXXXXXXXX|8598 Harvest Beac...|     Stafford|   VA|  22554|\n",
      "|     11|       Mary|   Huffman|XXXXXXXXX|XXXXXXXXX|    3169 Stony Woods|       Caguas|   PR|    725|\n",
      "|     12|Christopher|     Smith|XXXXXXXXX|XXXXXXXXX|5594 Jagged Ember...|  San Antonio|   TX|  78227|\n",
      "|     13|       Mary|   Baldwin|XXXXXXXXX|XXXXXXXXX|7922 Iron Oak Gar...|       Caguas|   PR|    725|\n",
      "|     14|  Katherine|     Smith|XXXXXXXXX|XXXXXXXXX|5666 Hazy Pony Sq...|  Pico Rivera|   CA|  90660|\n",
      "|     15|       Jane|      Luna|XXXXXXXXX|XXXXXXXXX|    673 Burning Glen|      Fontana|   CA|  92336|\n",
      "|     16|    Tiffany|     Smith|XXXXXXXXX|XXXXXXXXX|      6651 Iron Port|       Caguas|   PR|    725|\n",
      "|     17|       Mary|  Robinson|XXXXXXXXX|XXXXXXXXX|     1325 Noble Pike|       Taylor|   MI|  48180|\n",
      "|     18|     Robert|     Smith|XXXXXXXXX|XXXXXXXXX|2734 Hazy Butterf...|     Martinez|   CA|  94553|\n",
      "|     19|  Stephanie|  Mitchell|XXXXXXXXX|XXXXXXXXX|3543 Red Treasure...|       Caguas|   PR|    725|\n",
      "|     20|       Mary|     Ellis|XXXXXXXXX|XXXXXXXXX|      4703 Old Route|West New York|   NJ|   7093|\n",
      "+-------+-----------+----------+---------+---------+--------------------+-------------+-----+-------+\n",
      "only showing top 20 rows\n",
      "\n"
     ]
    }
   ],
   "source": [
    "cust_df.show()"
   ]
  },
  {
   "cell_type": "code",
   "execution_count": 17,
   "id": "6fceb772",
   "metadata": {},
   "outputs": [],
   "source": [
    "cust_df.createOrReplaceTempView(\"cust_view\")"
   ]
  },
  {
   "cell_type": "markdown",
   "id": "cde1e90b",
   "metadata": {},
   "source": [
    "<H3> 1. Find the total number of customers in each state."
   ]
  },
  {
   "cell_type": "code",
   "execution_count": 54,
   "id": "ea03c06a",
   "metadata": {},
   "outputs": [
    {
     "name": "stdout",
     "output_type": "stream",
     "text": [
      "+-----+-----+\n",
      "|state|count|\n",
      "+-----+-----+\n",
      "|   PR| 4771|\n",
      "|   CA| 2012|\n",
      "|   NY|  775|\n",
      "|   TX|  635|\n",
      "|   IL|  523|\n",
      "|   FL|  374|\n",
      "|   OH|  276|\n",
      "|   PA|  261|\n",
      "|   MI|  254|\n",
      "|   NJ|  219|\n",
      "|   AZ|  213|\n",
      "|   GA|  169|\n",
      "|   MD|  164|\n",
      "|   NC|  150|\n",
      "|   VA|  136|\n",
      "|   CO|  122|\n",
      "|   OR|  119|\n",
      "|   MA|  113|\n",
      "|   TN|  104|\n",
      "|   NV|  103|\n",
      "+-----+-----+\n",
      "only showing top 20 rows\n",
      "\n"
     ]
    }
   ],
   "source": [
    "cust_df.groupBy(\"state\").count().sort(\"count\", ascending = False).show()"
   ]
  },
  {
   "cell_type": "code",
   "execution_count": 19,
   "id": "20659080",
   "metadata": {},
   "outputs": [
    {
     "data": {
      "text/html": [
       "<table border='1'>\n",
       "<tr><th>state</th><th>count(1)</th></tr>\n",
       "<tr><td>PR</td><td>4771</td></tr>\n",
       "<tr><td>CA</td><td>2012</td></tr>\n",
       "<tr><td>NY</td><td>775</td></tr>\n",
       "<tr><td>TX</td><td>635</td></tr>\n",
       "<tr><td>IL</td><td>523</td></tr>\n",
       "<tr><td>FL</td><td>374</td></tr>\n",
       "<tr><td>OH</td><td>276</td></tr>\n",
       "<tr><td>PA</td><td>261</td></tr>\n",
       "<tr><td>MI</td><td>254</td></tr>\n",
       "<tr><td>NJ</td><td>219</td></tr>\n",
       "<tr><td>AZ</td><td>213</td></tr>\n",
       "<tr><td>GA</td><td>169</td></tr>\n",
       "<tr><td>MD</td><td>164</td></tr>\n",
       "<tr><td>NC</td><td>150</td></tr>\n",
       "<tr><td>VA</td><td>136</td></tr>\n",
       "<tr><td>CO</td><td>122</td></tr>\n",
       "<tr><td>OR</td><td>119</td></tr>\n",
       "<tr><td>MA</td><td>113</td></tr>\n",
       "<tr><td>TN</td><td>104</td></tr>\n",
       "<tr><td>NV</td><td>103</td></tr>\n",
       "</table>\n",
       "only showing top 20 rows\n"
      ],
      "text/plain": [
       "+-----+--------+\n",
       "|state|count(1)|\n",
       "+-----+--------+\n",
       "|   PR|    4771|\n",
       "|   CA|    2012|\n",
       "|   NY|     775|\n",
       "|   TX|     635|\n",
       "|   IL|     523|\n",
       "|   FL|     374|\n",
       "|   OH|     276|\n",
       "|   PA|     261|\n",
       "|   MI|     254|\n",
       "|   NJ|     219|\n",
       "|   AZ|     213|\n",
       "|   GA|     169|\n",
       "|   MD|     164|\n",
       "|   NC|     150|\n",
       "|   VA|     136|\n",
       "|   CO|     122|\n",
       "|   OR|     119|\n",
       "|   MA|     113|\n",
       "|   TN|     104|\n",
       "|   NV|     103|\n",
       "+-----+--------+\n",
       "only showing top 20 rows"
      ]
     },
     "execution_count": 19,
     "metadata": {},
     "output_type": "execute_result"
    }
   ],
   "source": [
    "spark.sql(\"SELECT state, count(1) FROM cust_view\\\n",
    "            GROUP BY state\n",
    "            ORDER BY count(1) DESC\")"
   ]
  },
  {
   "cell_type": "markdown",
   "id": "07dae8c7",
   "metadata": {},
   "source": [
    "<H3> 2. Find the top 5 most common last names among the customers."
   ]
  },
  {
   "cell_type": "code",
   "execution_count": 21,
   "id": "b25a343a",
   "metadata": {},
   "outputs": [
    {
     "name": "stdout",
     "output_type": "stream",
     "text": [
      "+----------+-----+\n",
      "|cust_lname|count|\n",
      "+----------+-----+\n",
      "|     Smith| 4626|\n",
      "|   Johnson|   76|\n",
      "|  Williams|   69|\n",
      "|     Jones|   65|\n",
      "|     Brown|   62|\n",
      "+----------+-----+\n",
      "\n"
     ]
    }
   ],
   "source": [
    "cust_df.groupBy(\"cust_lname\").count().sort(\"count\", ascending = False).limit(5).show()"
   ]
  },
  {
   "cell_type": "code",
   "execution_count": 25,
   "id": "cc78ee21",
   "metadata": {},
   "outputs": [
    {
     "data": {
      "text/html": [
       "<table border='1'>\n",
       "<tr><th>cust_lname</th><th>count(1)</th></tr>\n",
       "<tr><td>Smith</td><td>4626</td></tr>\n",
       "<tr><td>Johnson</td><td>76</td></tr>\n",
       "<tr><td>Williams</td><td>69</td></tr>\n",
       "<tr><td>Jones</td><td>65</td></tr>\n",
       "<tr><td>Brown</td><td>62</td></tr>\n",
       "</table>\n"
      ],
      "text/plain": [
       "+----------+--------+\n",
       "|cust_lname|count(1)|\n",
       "+----------+--------+\n",
       "|     Smith|    4626|\n",
       "|   Johnson|      76|\n",
       "|  Williams|      69|\n",
       "|     Jones|      65|\n",
       "|     Brown|      62|\n",
       "+----------+--------+"
      ]
     },
     "execution_count": 25,
     "metadata": {},
     "output_type": "execute_result"
    }
   ],
   "source": [
    "spark.sql(\"SELECT cust_lname, count(1) FROM cust_view \\\n",
    "            GROUP BY cust_lname \\\n",
    "            ORDER BY COUNT(1) DESC \\\n",
    "            LIMIT 5 \\\n",
    "          \")"
   ]
  },
  {
   "cell_type": "markdown",
   "id": "8c7c8cae",
   "metadata": {},
   "source": [
    "### 3. Check whether there are any customers whose zip codes are not valid."
   ]
  },
  {
   "cell_type": "code",
   "execution_count": 28,
   "id": "e9a70e8b",
   "metadata": {},
   "outputs": [
    {
     "data": {
      "text/plain": [
       "5191"
      ]
     },
     "execution_count": 28,
     "metadata": {},
     "output_type": "execute_result"
    }
   ],
   "source": [
    "cust_df.filter(\"length(zipcode) != 5\").count()"
   ]
  },
  {
   "cell_type": "code",
   "execution_count": 29,
   "id": "3a4080f9",
   "metadata": {},
   "outputs": [
    {
     "data": {
      "text/plain": [
       "12435"
      ]
     },
     "execution_count": 29,
     "metadata": {},
     "output_type": "execute_result"
    }
   ],
   "source": [
    "cust_df.count()"
   ]
  },
  {
   "cell_type": "code",
   "execution_count": 41,
   "id": "b980f838",
   "metadata": {},
   "outputs": [
    {
     "data": {
      "text/html": [
       "<table border='1'>\n",
       "<tr><th>total_customers</th><th>invalid_zipcode</th><th>per</th></tr>\n",
       "<tr><td>12435</td><td>5191</td><td>41.74507438681142</td></tr>\n",
       "</table>\n"
      ],
      "text/plain": [
       "+---------------+---------------+-----------------+\n",
       "|total_customers|invalid_zipcode|              per|\n",
       "+---------------+---------------+-----------------+\n",
       "|          12435|           5191|41.74507438681142|\n",
       "+---------------+---------------+-----------------+"
      ]
     },
     "execution_count": 41,
     "metadata": {},
     "output_type": "execute_result"
    }
   ],
   "source": [
    "spark.sql(\"SELECT COUNT(1) total_customers, \\\n",
    "            SUM(CASE WHEN length(zipcode) != 5 THEN 1 ELSE 0 END) invalid_zipcode, \\\n",
    "            SUM(CASE WHEN length(zipcode) != 5 THEN 1 ELSE 0 END)/COUNT(1)*100 as per \\\n",
    "            FROM cust_view\")"
   ]
  },
  {
   "cell_type": "markdown",
   "id": "6a4ec34c",
   "metadata": {},
   "source": [
    "<H4> Out of 12,435 customer, the zip code of 5,191 (41.75%) customers is invalid."
   ]
  },
  {
   "cell_type": "markdown",
   "id": "d002e8ea",
   "metadata": {},
   "source": [
    "### 4. Count the number of customers who have valid zipcodes"
   ]
  },
  {
   "cell_type": "code",
   "execution_count": 42,
   "id": "0efcac00",
   "metadata": {},
   "outputs": [
    {
     "data": {
      "text/plain": [
       "7244"
      ]
     },
     "execution_count": 42,
     "metadata": {},
     "output_type": "execute_result"
    }
   ],
   "source": [
    "cust_df.filter(\"length(zipcode) = 5\").count()"
   ]
  },
  {
   "cell_type": "code",
   "execution_count": 43,
   "id": "c9ba4416",
   "metadata": {},
   "outputs": [
    {
     "data": {
      "text/html": [
       "<table border='1'>\n",
       "<tr><th>total_customers</th><th>invalid_zipcode</th><th>per</th></tr>\n",
       "<tr><td>12435</td><td>7244</td><td>58.25492561318858</td></tr>\n",
       "</table>\n"
      ],
      "text/plain": [
       "+---------------+---------------+-----------------+\n",
       "|total_customers|invalid_zipcode|              per|\n",
       "+---------------+---------------+-----------------+\n",
       "|          12435|           7244|58.25492561318858|\n",
       "+---------------+---------------+-----------------+"
      ]
     },
     "execution_count": 43,
     "metadata": {},
     "output_type": "execute_result"
    }
   ],
   "source": [
    "spark.sql(\"SELECT COUNT(1) total_customers, \\\n",
    "            SUM(CASE WHEN length(zipcode) = 5 THEN 1 ELSE 0 END) invalid_zipcode, \\\n",
    "            SUM(CASE WHEN length(zipcode) = 5 THEN 1 ELSE 0 END)/COUNT(1)*100 as per \\\n",
    "            FROM cust_view\")"
   ]
  },
  {
   "cell_type": "markdown",
   "id": "8f514235",
   "metadata": {},
   "source": [
    "### 5. Find the number of customers from each city in the state of California(CA)."
   ]
  },
  {
   "cell_type": "code",
   "execution_count": 47,
   "id": "a8bfb341",
   "metadata": {},
   "outputs": [
    {
     "name": "stdout",
     "output_type": "stream",
     "text": [
      "+-------------+-----+\n",
      "|city         |count|\n",
      "+-------------+-----+\n",
      "|Corona       |14   |\n",
      "|Pittsburg    |4    |\n",
      "|Compton      |19   |\n",
      "|Palo Alto    |6    |\n",
      "|Hanford      |9    |\n",
      "|Anaheim      |19   |\n",
      "|Folsom       |6    |\n",
      "|Napa         |8    |\n",
      "|Temecula     |6    |\n",
      "|Reseda       |6    |\n",
      "|Encinitas    |17   |\n",
      "|Oceanside    |24   |\n",
      "|Cupertino    |9    |\n",
      "|Oakland      |3    |\n",
      "|Davis        |9    |\n",
      "|Fontana      |18   |\n",
      "|Mission Viejo|26   |\n",
      "|Madera       |5    |\n",
      "|Elk Grove    |10   |\n",
      "|Bakersfield  |41   |\n",
      "+-------------+-----+\n",
      "only showing top 20 rows\n",
      "\n"
     ]
    }
   ],
   "source": [
    "cust_df.filter(\"state = 'CA'\").groupBy(\"city\").count().show()"
   ]
  },
  {
   "cell_type": "code",
   "execution_count": 50,
   "id": "adb01df9",
   "metadata": {},
   "outputs": [
    {
     "data": {
      "text/html": [
       "<table border='1'>\n",
       "<tr><th>city</th><th>count(1)</th></tr>\n",
       "<tr><td>Corona</td><td>14</td></tr>\n",
       "<tr><td>Pittsburg</td><td>4</td></tr>\n",
       "<tr><td>Compton</td><td>19</td></tr>\n",
       "<tr><td>Palo Alto</td><td>6</td></tr>\n",
       "<tr><td>Hanford</td><td>9</td></tr>\n",
       "<tr><td>Anaheim</td><td>19</td></tr>\n",
       "<tr><td>Folsom</td><td>6</td></tr>\n",
       "<tr><td>Napa</td><td>8</td></tr>\n",
       "<tr><td>Temecula</td><td>6</td></tr>\n",
       "<tr><td>Reseda</td><td>6</td></tr>\n",
       "<tr><td>Encinitas</td><td>17</td></tr>\n",
       "<tr><td>Oceanside</td><td>24</td></tr>\n",
       "<tr><td>Cupertino</td><td>9</td></tr>\n",
       "<tr><td>Oakland</td><td>3</td></tr>\n",
       "<tr><td>Davis</td><td>9</td></tr>\n",
       "<tr><td>Fontana</td><td>18</td></tr>\n",
       "<tr><td>Mission Viejo</td><td>26</td></tr>\n",
       "<tr><td>Madera</td><td>5</td></tr>\n",
       "<tr><td>Elk Grove</td><td>10</td></tr>\n",
       "<tr><td>Bakersfield</td><td>41</td></tr>\n",
       "</table>\n",
       "only showing top 20 rows\n"
      ],
      "text/plain": [
       "+-------------+--------+\n",
       "|         city|count(1)|\n",
       "+-------------+--------+\n",
       "|       Corona|      14|\n",
       "|    Pittsburg|       4|\n",
       "|      Compton|      19|\n",
       "|    Palo Alto|       6|\n",
       "|      Hanford|       9|\n",
       "|      Anaheim|      19|\n",
       "|       Folsom|       6|\n",
       "|         Napa|       8|\n",
       "|     Temecula|       6|\n",
       "|       Reseda|       6|\n",
       "|    Encinitas|      17|\n",
       "|    Oceanside|      24|\n",
       "|    Cupertino|       9|\n",
       "|      Oakland|       3|\n",
       "|        Davis|       9|\n",
       "|      Fontana|      18|\n",
       "|Mission Viejo|      26|\n",
       "|       Madera|       5|\n",
       "|    Elk Grove|      10|\n",
       "|  Bakersfield|      41|\n",
       "+-------------+--------+\n",
       "only showing top 20 rows"
      ]
     },
     "execution_count": 50,
     "metadata": {},
     "output_type": "execute_result"
    }
   ],
   "source": [
    "spark.sql(\"SELECT city, count(1) FROM cust_view \\\n",
    "            WHERE state='CA' \\\n",
    "            GROUP BY city \\\n",
    "          \")"
   ]
  },
  {
   "cell_type": "code",
   "execution_count": 55,
   "id": "9dd489f3",
   "metadata": {},
   "outputs": [],
   "source": [
    "spark.stop()"
   ]
  }
 ],
 "metadata": {
  "kernelspec": {
   "display_name": "Pyspark 3",
   "language": "python",
   "name": "pyspark3"
  },
  "language_info": {
   "codemirror_mode": {
    "name": "ipython",
    "version": 3
   },
   "file_extension": ".py",
   "mimetype": "text/x-python",
   "name": "python",
   "nbconvert_exporter": "python",
   "pygments_lexer": "ipython3",
   "version": "3.6.12"
  }
 },
 "nbformat": 4,
 "nbformat_minor": 5
}
