{
 "cells": [
  {
   "cell_type": "code",
   "execution_count": 1,
   "id": "75cbbf18",
   "metadata": {},
   "outputs": [],
   "source": [
    "from pyspark.sql import SparkSession"
   ]
  },
  {
   "cell_type": "code",
   "execution_count": 2,
   "id": "44ff4056",
   "metadata": {},
   "outputs": [],
   "source": [
    "spark = SparkSession.builder.appName(\"Aggregation\"). \\\n",
    "        master(\"yarn\"). \\\n",
    "        getOrCreate()"
   ]
  },
  {
   "cell_type": "code",
   "execution_count": 3,
   "id": "ad0b3cad",
   "metadata": {},
   "outputs": [],
   "source": [
    "hotel_bookings_schema = \"booking_id int, guest_name string, checkin_date date, checkout_date date, room_type string, total_price double\""
   ]
  },
  {
   "cell_type": "code",
   "execution_count": 4,
   "id": "ee69aaec",
   "metadata": {},
   "outputs": [],
   "source": [
    "hotel_bookings = spark.read.csv(\"/public/trendytech/datasets/hotel_data.csv\", schema = hotel_bookings_schema)"
   ]
  },
  {
   "cell_type": "code",
   "execution_count": 5,
   "id": "478850f3",
   "metadata": {},
   "outputs": [
    {
     "name": "stdout",
     "output_type": "stream",
     "text": [
      "+----------+-----------------+------------+-------------+---------+-----------+\n",
      "|booking_id|       guest_name|checkin_date|checkout_date|room_type|total_price|\n",
      "+----------+-----------------+------------+-------------+---------+-----------+\n",
      "|         1|         John Doe|  2023-05-01|   2023-05-05| Standard|      400.0|\n",
      "|         2|       Jane Smith|  2023-05-02|   2023-05-06|   Deluxe|      600.0|\n",
      "|         3|     Mark Johnson|  2023-05-03|   2023-05-08| Standard|      450.0|\n",
      "|         4|     Sarah Wilson|  2023-05-04|   2023-05-07|Executive|      750.0|\n",
      "|         5|      Emily Brown|  2023-05-06|   2023-05-09|   Deluxe|      550.0|\n",
      "|         6|    Michael Davis|  2023-05-07|   2023-05-10| Standard|      400.0|\n",
      "|         7|Samantha Thompson|  2023-05-08|   2023-05-12|   Deluxe|      600.0|\n",
      "|         8|      William Lee|  2023-05-10|   2023-05-13| Standard|      450.0|\n",
      "|         9|    Amanda Harris|  2023-05-11|   2023-05-16|Executive|      750.0|\n",
      "|        10|  David Rodriguez|  2023-05-12|   2023-05-15|   Deluxe|      550.0|\n",
      "|        11|     Linda Wilson|  2023-05-14|   2023-05-18| Standard|      400.0|\n",
      "|        12|   Robert Johnson|  2023-05-15|   2023-05-20|   Deluxe|      600.0|\n",
      "|        13|  Sophia Anderson|  2023-05-16|   2023-05-21| Standard|      450.0|\n",
      "|        14|      James Smith|  2023-05-17|   2023-05-23|Executive|      750.0|\n",
      "|        15|     Olivia Brown|  2023-05-19|   2023-05-24|   Deluxe|      550.0|\n",
      "|        16|    Michael Davis|  2023-05-20|   2023-05-25| Standard|      400.0|\n",
      "|        17|   Emily Thompson|  2023-05-21|   2023-05-27|   Deluxe|      600.0|\n",
      "|        18|      William Lee|  2023-05-23|   2023-05-28| Standard|      450.0|\n",
      "|        19|       Ava Harris|  2023-05-24|   2023-05-30|Executive|      750.0|\n",
      "|        20| Daniel Rodriguez|  2023-05-25|   2023-05-29|   Deluxe|      550.0|\n",
      "+----------+-----------------+------------+-------------+---------+-----------+\n",
      "only showing top 20 rows\n",
      "\n"
     ]
    }
   ],
   "source": [
    "hotel_bookings.show()"
   ]
  },
  {
   "cell_type": "code",
   "execution_count": 6,
   "id": "78e174b9",
   "metadata": {},
   "outputs": [
    {
     "name": "stdout",
     "output_type": "stream",
     "text": [
      "root\n",
      " |-- booking_id: integer (nullable = true)\n",
      " |-- guest_name: string (nullable = true)\n",
      " |-- checkin_date: date (nullable = true)\n",
      " |-- checkout_date: date (nullable = true)\n",
      " |-- room_type: string (nullable = true)\n",
      " |-- total_price: double (nullable = true)\n",
      "\n"
     ]
    }
   ],
   "source": [
    "hotel_bookings.printSchema()"
   ]
  },
  {
   "cell_type": "markdown",
   "id": "704919bd",
   "metadata": {},
   "source": [
    "### 1. Average Order Value of "
   ]
  },
  {
   "cell_type": "code",
   "execution_count": 7,
   "id": "e3bdafad",
   "metadata": {},
   "outputs": [],
   "source": [
    "from pyspark.sql.functions import avg, round, expr, date_sub, datediff, month, count, sum"
   ]
  },
  {
   "cell_type": "code",
   "execution_count": 8,
   "id": "8de60bca",
   "metadata": {},
   "outputs": [],
   "source": [
    "from pyspark.sql import Window"
   ]
  },
  {
   "cell_type": "code",
   "execution_count": 9,
   "id": "980392a6",
   "metadata": {},
   "outputs": [],
   "source": [
    "x = hotel_bookings.agg(round(avg(\"total_price\"),0).alias(\"average_order_value\"))"
   ]
  },
  {
   "cell_type": "code",
   "execution_count": 10,
   "id": "ec54ea37",
   "metadata": {},
   "outputs": [
    {
     "data": {
      "text/html": [
       "<table border='1'>\n",
       "<tr><th>average_order_value</th></tr>\n",
       "<tr><td>546.0</td></tr>\n",
       "</table>\n"
      ],
      "text/plain": [
       "+-------------------+\n",
       "|average_order_value|\n",
       "+-------------------+\n",
       "|              546.0|\n",
       "+-------------------+"
      ]
     },
     "execution_count": 10,
     "metadata": {},
     "output_type": "execute_result"
    }
   ],
   "source": [
    "x"
   ]
  },
  {
   "cell_type": "code",
   "execution_count": 11,
   "id": "bfb6e31f",
   "metadata": {},
   "outputs": [
    {
     "data": {
      "text/plain": [
       "pyspark.sql.dataframe.DataFrame"
      ]
     },
     "execution_count": 11,
     "metadata": {},
     "output_type": "execute_result"
    }
   ],
   "source": [
    "type(x)"
   ]
  },
  {
   "cell_type": "code",
   "execution_count": 12,
   "id": "1b0dddc1",
   "metadata": {},
   "outputs": [],
   "source": [
    "y = x.collect()"
   ]
  },
  {
   "cell_type": "code",
   "execution_count": 13,
   "id": "0bd65c7f",
   "metadata": {},
   "outputs": [
    {
     "data": {
      "text/plain": [
       "list"
      ]
     },
     "execution_count": 13,
     "metadata": {},
     "output_type": "execute_result"
    }
   ],
   "source": [
    "type(y)"
   ]
  },
  {
   "cell_type": "code",
   "execution_count": 14,
   "id": "0cb8a8e8",
   "metadata": {},
   "outputs": [
    {
     "name": "stdout",
     "output_type": "stream",
     "text": [
      "[Row(average_order_value=546.0)] | Row(average_order_value=546.0) | <class 'pyspark.sql.types.Row'> | 546.0\n"
     ]
    }
   ],
   "source": [
    "print(\"{} | {} | {} | {}\".format(y,y[0],type(y[0]),y[0][0]))"
   ]
  },
  {
   "cell_type": "code",
   "execution_count": 15,
   "id": "c3f81fcf",
   "metadata": {},
   "outputs": [
    {
     "name": "stdout",
     "output_type": "stream",
     "text": [
      "Average order values of the hotel bookings is 546.0 Rs.\n"
     ]
    }
   ],
   "source": [
    "print(\"Average order values of the hotel bookings is {} Rs.\".format(x.collect()[0][0]))"
   ]
  },
  {
   "cell_type": "markdown",
   "id": "4aff13fb",
   "metadata": {},
   "source": [
    "### 2. Average Rental Time"
   ]
  },
  {
   "cell_type": "code",
   "execution_count": 16,
   "id": "dea75be4",
   "metadata": {},
   "outputs": [],
   "source": [
    "hb_with_duration = hotel_bookings. \\\n",
    "                    withColumn(\"duration_of_stay\",datediff(hotel_bookings.checkout_date, hotel_bookings.checkin_date))"
   ]
  },
  {
   "cell_type": "code",
   "execution_count": 17,
   "id": "e53b81ef",
   "metadata": {},
   "outputs": [
    {
     "name": "stdout",
     "output_type": "stream",
     "text": [
      "+----------+-----------------+------------+-------------+---------+-----------+----------------+\n",
      "|booking_id|       guest_name|checkin_date|checkout_date|room_type|total_price|duration_of_stay|\n",
      "+----------+-----------------+------------+-------------+---------+-----------+----------------+\n",
      "|         1|         John Doe|  2023-05-01|   2023-05-05| Standard|      400.0|               4|\n",
      "|         2|       Jane Smith|  2023-05-02|   2023-05-06|   Deluxe|      600.0|               4|\n",
      "|         3|     Mark Johnson|  2023-05-03|   2023-05-08| Standard|      450.0|               5|\n",
      "|         4|     Sarah Wilson|  2023-05-04|   2023-05-07|Executive|      750.0|               3|\n",
      "|         5|      Emily Brown|  2023-05-06|   2023-05-09|   Deluxe|      550.0|               3|\n",
      "|         6|    Michael Davis|  2023-05-07|   2023-05-10| Standard|      400.0|               3|\n",
      "|         7|Samantha Thompson|  2023-05-08|   2023-05-12|   Deluxe|      600.0|               4|\n",
      "|         8|      William Lee|  2023-05-10|   2023-05-13| Standard|      450.0|               3|\n",
      "|         9|    Amanda Harris|  2023-05-11|   2023-05-16|Executive|      750.0|               5|\n",
      "|        10|  David Rodriguez|  2023-05-12|   2023-05-15|   Deluxe|      550.0|               3|\n",
      "|        11|     Linda Wilson|  2023-05-14|   2023-05-18| Standard|      400.0|               4|\n",
      "|        12|   Robert Johnson|  2023-05-15|   2023-05-20|   Deluxe|      600.0|               5|\n",
      "|        13|  Sophia Anderson|  2023-05-16|   2023-05-21| Standard|      450.0|               5|\n",
      "|        14|      James Smith|  2023-05-17|   2023-05-23|Executive|      750.0|               6|\n",
      "|        15|     Olivia Brown|  2023-05-19|   2023-05-24|   Deluxe|      550.0|               5|\n",
      "|        16|    Michael Davis|  2023-05-20|   2023-05-25| Standard|      400.0|               5|\n",
      "|        17|   Emily Thompson|  2023-05-21|   2023-05-27|   Deluxe|      600.0|               6|\n",
      "|        18|      William Lee|  2023-05-23|   2023-05-28| Standard|      450.0|               5|\n",
      "|        19|       Ava Harris|  2023-05-24|   2023-05-30|Executive|      750.0|               6|\n",
      "|        20| Daniel Rodriguez|  2023-05-25|   2023-05-29|   Deluxe|      550.0|               4|\n",
      "+----------+-----------------+------------+-------------+---------+-----------+----------------+\n",
      "only showing top 20 rows\n",
      "\n"
     ]
    }
   ],
   "source": [
    "hb_with_duration.show()"
   ]
  },
  {
   "cell_type": "code",
   "execution_count": 18,
   "id": "57a361d4",
   "metadata": {},
   "outputs": [],
   "source": [
    "avg_stay_duration = hb_with_duration.agg(round(avg(\"duration_of_stay\"),0).alias(\"avg_dur_of_stay\"))"
   ]
  },
  {
   "cell_type": "code",
   "execution_count": 19,
   "id": "2ad463f2",
   "metadata": {},
   "outputs": [
    {
     "name": "stdout",
     "output_type": "stream",
     "text": [
      "Average duration of stay is 8 days\n"
     ]
    }
   ],
   "source": [
    "print(\"Average duration of stay is {} days\". \\\n",
    "      format(int(avg_stay_duration.collect()[0][0]))\n",
    "     )\n",
    "\n",
    "# Collect will return a pyspark.sql.Rowspark "
   ]
  },
  {
   "cell_type": "markdown",
   "id": "bffcae50",
   "metadata": {},
   "source": [
    "### 3. Monthly total amount and total bookings for each room type"
   ]
  },
  {
   "cell_type": "code",
   "execution_count": 20,
   "id": "80d26908",
   "metadata": {},
   "outputs": [],
   "source": [
    "hb_with_month = hb_with_duration.withColumn(\"booking_month\",month(\"checkin_date\"))"
   ]
  },
  {
   "cell_type": "code",
   "execution_count": 21,
   "id": "2be11458",
   "metadata": {},
   "outputs": [],
   "source": [
    "monthly_agg = hb_with_month.groupBy(\"room_type\",\"booking_month\") \\\n",
    "              .agg(\n",
    "                   count(\"*\").alias(\"total_bookings\"), \n",
    "                   sum(\"total_price\").alias(\"total_amount\")\n",
    "                 ) \\\n",
    "              .orderBy(\"room_type\",\"booking_month\")"
   ]
  },
  {
   "cell_type": "code",
   "execution_count": 22,
   "id": "e1dd2e9f",
   "metadata": {},
   "outputs": [
    {
     "name": "stdout",
     "output_type": "stream",
     "text": [
      "+---------+-------------+--------------+------------+\n",
      "|room_type|booking_month|total_bookings|total_amount|\n",
      "+---------+-------------+--------------+------------+\n",
      "|   Deluxe|            5|             9|      5200.0|\n",
      "|   Deluxe|            6|            10|      5750.0|\n",
      "|   Deluxe|            7|            16|      9200.0|\n",
      "|   Deluxe|            8|             8|      4600.0|\n",
      "|Executive|            5|             5|      3750.0|\n",
      "|Executive|            6|             5|      3750.0|\n",
      "|Executive|            7|             6|      4500.0|\n",
      "|Executive|            8|             4|      3000.0|\n",
      "| Standard|            5|            10|      4250.0|\n",
      "| Standard|            6|            10|      4250.0|\n",
      "| Standard|            7|            16|      6800.0|\n",
      "| Standard|            8|             8|      3400.0|\n",
      "+---------+-------------+--------------+------------+\n",
      "\n"
     ]
    }
   ],
   "source": [
    "monthly_agg.show()"
   ]
  },
  {
   "cell_type": "code",
   "execution_count": 23,
   "id": "8d845dbd",
   "metadata": {},
   "outputs": [
    {
     "name": "stdout",
     "output_type": "stream",
     "text": [
      "+---------+--------------+------------+\n",
      "|room_type|total_bookings|total_amount|\n",
      "+---------+--------------+------------+\n",
      "|   Deluxe|            43|     24750.0|\n",
      "|Executive|            20|     15000.0|\n",
      "| Standard|            44|     18700.0|\n",
      "+---------+--------------+------------+\n",
      "\n"
     ]
    }
   ],
   "source": [
    "hb_with_month.groupBy(\"room_type\") \\\n",
    "              .agg(\n",
    "                   count(\"*\").alias(\"total_bookings\"), \n",
    "                   sum(\"total_price\").alias(\"total_amount\")\n",
    "                 ) \\\n",
    "              .orderBy(\"room_type\") \\\n",
    "              .show()"
   ]
  },
  {
   "cell_type": "markdown",
   "id": "47acda2b",
   "metadata": {},
   "source": [
    "### 4. Monthly running total amount and running total bookings for each room type"
   ]
  },
  {
   "cell_type": "code",
   "execution_count": 24,
   "id": "28bbd529",
   "metadata": {},
   "outputs": [],
   "source": [
    "window = Window.partitionBy(\"room_type\") \\\n",
    "                .orderBy(\"booking_month\") \\\n",
    "                .rowsBetween(Window.unboundedPreceding, Window.currentRow)"
   ]
  },
  {
   "cell_type": "code",
   "execution_count": 25,
   "id": "7aae779c",
   "metadata": {},
   "outputs": [
    {
     "name": "stdout",
     "output_type": "stream",
     "text": [
      "+---------+-------------+--------------+------------+-----------------------+-------------------------+\n",
      "|room_type|booking_month|total_bookings|total_amount|total_amount_cumulative|total_bookings_cumulative|\n",
      "+---------+-------------+--------------+------------+-----------------------+-------------------------+\n",
      "|Executive|            5|             5|      3750.0|                 3750.0|                        5|\n",
      "|Executive|            6|             5|      3750.0|                 7500.0|                       10|\n",
      "|Executive|            7|             6|      4500.0|                12000.0|                       16|\n",
      "|Executive|            8|             4|      3000.0|                15000.0|                       20|\n",
      "|   Deluxe|            5|             9|      5200.0|                 5200.0|                        9|\n",
      "|   Deluxe|            6|            10|      5750.0|                10950.0|                       19|\n",
      "|   Deluxe|            7|            16|      9200.0|                20150.0|                       35|\n",
      "|   Deluxe|            8|             8|      4600.0|                24750.0|                       43|\n",
      "| Standard|            5|            10|      4250.0|                 4250.0|                       10|\n",
      "| Standard|            6|            10|      4250.0|                 8500.0|                       20|\n",
      "| Standard|            7|            16|      6800.0|                15300.0|                       36|\n",
      "| Standard|            8|             8|      3400.0|                18700.0|                       44|\n",
      "+---------+-------------+--------------+------------+-----------------------+-------------------------+\n",
      "\n"
     ]
    }
   ],
   "source": [
    "monthly_agg.withColumn( \"total_amount_cumulative\",\n",
    "                           sum(\"total_amount\").over(window)\n",
    "                         ) \\\n",
    "            .withColumn(\n",
    "                         \"total_bookings_cumulative\",\n",
    "                         sum(\"total_bookings\").over(window)\n",
    "                        ) \\\n",
    "            .show()"
   ]
  },
  {
   "cell_type": "markdown",
   "id": "a8386739",
   "metadata": {},
   "source": [
    "### 5. Ranking Room Type by monthly booking amount"
   ]
  },
  {
   "cell_type": "code",
   "execution_count": 26,
   "id": "2ea59ca1",
   "metadata": {},
   "outputs": [
    {
     "name": "stdout",
     "output_type": "stream",
     "text": [
      "+---------+-------------+--------------+------------+\n",
      "|room_type|booking_month|total_bookings|total_amount|\n",
      "+---------+-------------+--------------+------------+\n",
      "|   Deluxe|            5|             9|      5200.0|\n",
      "|   Deluxe|            6|            10|      5750.0|\n",
      "|   Deluxe|            7|            16|      9200.0|\n",
      "|   Deluxe|            8|             8|      4600.0|\n",
      "|Executive|            5|             5|      3750.0|\n",
      "|Executive|            6|             5|      3750.0|\n",
      "|Executive|            7|             6|      4500.0|\n",
      "|Executive|            8|             4|      3000.0|\n",
      "| Standard|            5|            10|      4250.0|\n",
      "| Standard|            6|            10|      4250.0|\n",
      "| Standard|            7|            16|      6800.0|\n",
      "| Standard|            8|             8|      3400.0|\n",
      "+---------+-------------+--------------+------------+\n",
      "\n"
     ]
    }
   ],
   "source": [
    "monthly_agg.show()"
   ]
  },
  {
   "cell_type": "code",
   "execution_count": 27,
   "id": "2531e6b6",
   "metadata": {},
   "outputs": [],
   "source": [
    "from pyspark.sql.functions import rank, row_number, dense_rank, lag, lead, when, coalesce, isnull, lit, col"
   ]
  },
  {
   "cell_type": "code",
   "execution_count": 28,
   "id": "63a45f4d",
   "metadata": {},
   "outputs": [],
   "source": [
    "window2 = Window.partitionBy(\"room_type\") \\\n",
    "                .orderBy(\"total_amount\")"
   ]
  },
  {
   "cell_type": "code",
   "execution_count": 29,
   "id": "1eee3cf4",
   "metadata": {},
   "outputs": [
    {
     "name": "stdout",
     "output_type": "stream",
     "text": [
      "+---------+-------------+--------------+------------+----+----------+----------+\n",
      "|room_type|booking_month|total_bookings|total_amount|rank|dense_rank|row_number|\n",
      "+---------+-------------+--------------+------------+----+----------+----------+\n",
      "|Executive|            8|             4|      3000.0|   1|         1|         1|\n",
      "|Executive|            5|             5|      3750.0|   2|         2|         2|\n",
      "|Executive|            6|             5|      3750.0|   2|         2|         3|\n",
      "|Executive|            7|             6|      4500.0|   4|         3|         4|\n",
      "|   Deluxe|            8|             8|      4600.0|   1|         1|         1|\n",
      "|   Deluxe|            5|             9|      5200.0|   2|         2|         2|\n",
      "|   Deluxe|            6|            10|      5750.0|   3|         3|         3|\n",
      "|   Deluxe|            7|            16|      9200.0|   4|         4|         4|\n",
      "| Standard|            8|             8|      3400.0|   1|         1|         1|\n",
      "| Standard|            5|            10|      4250.0|   2|         2|         2|\n",
      "| Standard|            6|            10|      4250.0|   2|         2|         3|\n",
      "| Standard|            7|            16|      6800.0|   4|         3|         4|\n",
      "+---------+-------------+--------------+------------+----+----------+----------+\n",
      "\n"
     ]
    }
   ],
   "source": [
    "monthly_agg.withColumn( \"rank\", \n",
    "                        rank().over(window2)\n",
    "                      ) \\\n",
    "            .withColumn( \"dense_rank\", \n",
    "                        dense_rank().over(window2)\n",
    "                      ) \\\n",
    "            .withColumn( \"row_number\", \n",
    "                        row_number().over(window2)\n",
    "                      ) \\\n",
    "            .show()"
   ]
  },
  {
   "cell_type": "markdown",
   "id": "bfec3345",
   "metadata": {},
   "source": [
    "### 6. Calculate the Month on Month Growth or Decline for each room type"
   ]
  },
  {
   "cell_type": "code",
   "execution_count": 30,
   "id": "5598accf",
   "metadata": {},
   "outputs": [],
   "source": [
    "window3 = Window.partitionBy(\"room_type\") \\\n",
    "                .orderBy(\"booking_month\")"
   ]
  },
  {
   "cell_type": "code",
   "execution_count": 31,
   "id": "afe718fd",
   "metadata": {},
   "outputs": [],
   "source": [
    "monthly_agg_2 = monthly_agg.withColumnRenamed(\"total_amount\",\"current_month_amount\") \\\n",
    "                            .withColumn(\"previous_month_amount\",\n",
    "                                         lag(\"current_month_amount\").over(window3)\n",
    "                                       )"
   ]
  },
  {
   "cell_type": "code",
   "execution_count": 32,
   "id": "1a4013b9",
   "metadata": {},
   "outputs": [
    {
     "name": "stdout",
     "output_type": "stream",
     "text": [
      "+---------+-------------+--------------+--------------------+---------------------+\n",
      "|room_type|booking_month|total_bookings|current_month_amount|previous_month_amount|\n",
      "+---------+-------------+--------------+--------------------+---------------------+\n",
      "|Executive|            5|             5|              3750.0|                 null|\n",
      "|Executive|            6|             5|              3750.0|               3750.0|\n",
      "|Executive|            7|             6|              4500.0|               3750.0|\n",
      "|Executive|            8|             4|              3000.0|               4500.0|\n",
      "|   Deluxe|            5|             9|              5200.0|                 null|\n",
      "|   Deluxe|            6|            10|              5750.0|               5200.0|\n",
      "|   Deluxe|            7|            16|              9200.0|               5750.0|\n",
      "|   Deluxe|            8|             8|              4600.0|               9200.0|\n",
      "| Standard|            5|            10|              4250.0|                 null|\n",
      "| Standard|            6|            10|              4250.0|               4250.0|\n",
      "| Standard|            7|            16|              6800.0|               4250.0|\n",
      "| Standard|            8|             8|              3400.0|               6800.0|\n",
      "+---------+-------------+--------------+--------------------+---------------------+\n",
      "\n"
     ]
    }
   ],
   "source": [
    "monthly_agg_2.show()"
   ]
  },
  {
   "cell_type": "code",
   "execution_count": 33,
   "id": "eb64d5ec",
   "metadata": {},
   "outputs": [
    {
     "name": "stdout",
     "output_type": "stream",
     "text": [
      "root\n",
      " |-- room_type: string (nullable = true)\n",
      " |-- booking_month: integer (nullable = true)\n",
      " |-- total_bookings: long (nullable = false)\n",
      " |-- current_month_amount: double (nullable = true)\n",
      " |-- previous_month_amount: double (nullable = true)\n",
      "\n"
     ]
    }
   ],
   "source": [
    "monthly_agg_2.printSchema()"
   ]
  },
  {
   "cell_type": "code",
   "execution_count": 39,
   "id": "88319364",
   "metadata": {},
   "outputs": [
    {
     "name": "stdout",
     "output_type": "stream",
     "text": [
      "+---------+-------------+--------------+--------------------+---------------------+----------------+------------------+\n",
      "|room_type|booking_month|total_bookings|current_month_amount|previous_month_amount|% Growth/Decline|       performance|\n",
      "+---------+-------------+--------------+--------------------+---------------------+----------------+------------------+\n",
      "|Executive|            5|             5|              3750.0|                 null|             N/A|       First Month|\n",
      "|Executive|            6|             5|              3750.0|               3750.0|             0.0|Same as Prev Month|\n",
      "|Executive|            7|             6|              4500.0|               3750.0|            20.0|            Growth|\n",
      "|Executive|            8|             4|              3000.0|               4500.0|          -33.33|           Decline|\n",
      "|   Deluxe|            5|             9|              5200.0|                 null|             N/A|       First Month|\n",
      "|   Deluxe|            6|            10|              5750.0|               5200.0|           10.58|            Growth|\n",
      "|   Deluxe|            7|            16|              9200.0|               5750.0|            60.0|            Growth|\n",
      "|   Deluxe|            8|             8|              4600.0|               9200.0|           -50.0|           Decline|\n",
      "| Standard|            5|            10|              4250.0|                 null|             N/A|       First Month|\n",
      "| Standard|            6|            10|              4250.0|               4250.0|             0.0|Same as Prev Month|\n",
      "| Standard|            7|            16|              6800.0|               4250.0|            60.0|            Growth|\n",
      "| Standard|            8|             8|              3400.0|               6800.0|           -50.0|           Decline|\n",
      "+---------+-------------+--------------+--------------------+---------------------+----------------+------------------+\n",
      "\n"
     ]
    }
   ],
   "source": [
    "monthly_agg_2.withColumn( \"% Growth/Decline\",\n",
    "                         when(isnull(\"previous_month_amount\"), \"N/A\")\n",
    "                         .otherwise(expr(\n",
    "                                            \"\"\"round(\n",
    "                                                        ((current_month_amount - previous_month_amount) \n",
    "                                                           / previous_month_amount * 100)\n",
    "                                                     ,2)\"\"\"\n",
    "                                         )\n",
    "                                   )\n",
    "                        ) \\\n",
    "            .withColumn( \"performance\",\n",
    "                         when(col(\"% Growth/Decline\") > 0, \"Growth\")\n",
    "                         .when(col(\"% Growth/Decline\") < 0, \"Decline\")\n",
    "                         .when(col(\"% Growth/Decline\") == 0, \"Same as Prev Month\")\n",
    "                         .otherwise(\"First Month\")\n",
    "                       ) \\\n",
    "            .show()"
   ]
  },
  {
   "cell_type": "markdown",
   "id": "df955e40",
   "metadata": {},
   "source": [
    "### 7. Using the input data create a Pivot Table with Room Type as Rows and Month as Cols and Total Amount as values"
   ]
  },
  {
   "cell_type": "code",
   "execution_count": 35,
   "id": "8f2bfea4",
   "metadata": {},
   "outputs": [
    {
     "name": "stdout",
     "output_type": "stream",
     "text": [
      "+----------+-----------------+------------+-------------+---------+-----------+----------------+-------------+\n",
      "|booking_id|       guest_name|checkin_date|checkout_date|room_type|total_price|duration_of_stay|booking_month|\n",
      "+----------+-----------------+------------+-------------+---------+-----------+----------------+-------------+\n",
      "|         1|         John Doe|  2023-05-01|   2023-05-05| Standard|      400.0|               4|            5|\n",
      "|         2|       Jane Smith|  2023-05-02|   2023-05-06|   Deluxe|      600.0|               4|            5|\n",
      "|         3|     Mark Johnson|  2023-05-03|   2023-05-08| Standard|      450.0|               5|            5|\n",
      "|         4|     Sarah Wilson|  2023-05-04|   2023-05-07|Executive|      750.0|               3|            5|\n",
      "|         5|      Emily Brown|  2023-05-06|   2023-05-09|   Deluxe|      550.0|               3|            5|\n",
      "|         6|    Michael Davis|  2023-05-07|   2023-05-10| Standard|      400.0|               3|            5|\n",
      "|         7|Samantha Thompson|  2023-05-08|   2023-05-12|   Deluxe|      600.0|               4|            5|\n",
      "|         8|      William Lee|  2023-05-10|   2023-05-13| Standard|      450.0|               3|            5|\n",
      "|         9|    Amanda Harris|  2023-05-11|   2023-05-16|Executive|      750.0|               5|            5|\n",
      "|        10|  David Rodriguez|  2023-05-12|   2023-05-15|   Deluxe|      550.0|               3|            5|\n",
      "|        11|     Linda Wilson|  2023-05-14|   2023-05-18| Standard|      400.0|               4|            5|\n",
      "|        12|   Robert Johnson|  2023-05-15|   2023-05-20|   Deluxe|      600.0|               5|            5|\n",
      "|        13|  Sophia Anderson|  2023-05-16|   2023-05-21| Standard|      450.0|               5|            5|\n",
      "|        14|      James Smith|  2023-05-17|   2023-05-23|Executive|      750.0|               6|            5|\n",
      "|        15|     Olivia Brown|  2023-05-19|   2023-05-24|   Deluxe|      550.0|               5|            5|\n",
      "|        16|    Michael Davis|  2023-05-20|   2023-05-25| Standard|      400.0|               5|            5|\n",
      "|        17|   Emily Thompson|  2023-05-21|   2023-05-27|   Deluxe|      600.0|               6|            5|\n",
      "|        18|      William Lee|  2023-05-23|   2023-05-28| Standard|      450.0|               5|            5|\n",
      "|        19|       Ava Harris|  2023-05-24|   2023-05-30|Executive|      750.0|               6|            5|\n",
      "|        20| Daniel Rodriguez|  2023-05-25|   2023-05-29|   Deluxe|      550.0|               4|            5|\n",
      "+----------+-----------------+------------+-------------+---------+-----------+----------------+-------------+\n",
      "only showing top 20 rows\n",
      "\n"
     ]
    }
   ],
   "source": [
    "hb_with_month.show()"
   ]
  },
  {
   "cell_type": "code",
   "execution_count": 36,
   "id": "1d0309dc",
   "metadata": {},
   "outputs": [],
   "source": [
    "# It is a best practice to define the column headers before running pivot.\n",
    "# It helps in reducing the overhead of scanning the pivot column values before running the pivot\n",
    "\n",
    "month_values = [5,6,7,8]"
   ]
  },
  {
   "cell_type": "code",
   "execution_count": 42,
   "id": "0219a8ad",
   "metadata": {},
   "outputs": [
    {
     "name": "stdout",
     "output_type": "stream",
     "text": [
      "+---------+------+------+------+------+\n",
      "|room_type|     5|     6|     7|     8|\n",
      "+---------+------+------+------+------+\n",
      "|Executive|3750.0|3750.0|4500.0|3000.0|\n",
      "|   Deluxe|5200.0|5750.0|9200.0|4600.0|\n",
      "| Standard|4250.0|4250.0|6800.0|3400.0|\n",
      "+---------+------+------+------+------+\n",
      "\n"
     ]
    }
   ],
   "source": [
    "hb_with_month.groupBy(\"room_type\") \\\n",
    "             .pivot(\"booking_month\",month_values) \\\n",
    "             .agg(sum(\"total_price\")) \\\n",
    "             .show()"
   ]
  },
  {
   "cell_type": "code",
   "execution_count": 43,
   "id": "be1c2701",
   "metadata": {},
   "outputs": [],
   "source": [
    "spark.stop()"
   ]
  },
  {
   "cell_type": "code",
   "execution_count": null,
   "id": "8aa8060f",
   "metadata": {},
   "outputs": [],
   "source": []
  }
 ],
 "metadata": {
  "kernelspec": {
   "display_name": "Pyspark 3",
   "language": "python",
   "name": "pyspark3"
  },
  "language_info": {
   "codemirror_mode": {
    "name": "ipython",
    "version": 3
   },
   "file_extension": ".py",
   "mimetype": "text/x-python",
   "name": "python",
   "nbconvert_exporter": "python",
   "pygments_lexer": "ipython3",
   "version": "3.6.12"
  }
 },
 "nbformat": 4,
 "nbformat_minor": 5
}
