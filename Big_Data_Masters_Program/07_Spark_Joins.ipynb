{
 "cells": [
  {
   "cell_type": "code",
   "execution_count": 1,
   "id": "71fa1b43",
   "metadata": {},
   "outputs": [],
   "source": [
    "from pyspark.sql import SparkSession\n",
    "from pyspark.sql.types import StructType, StructField, IntegerType, StringType, DateType"
   ]
  },
  {
   "cell_type": "code",
   "execution_count": 2,
   "id": "56b5139a",
   "metadata": {},
   "outputs": [],
   "source": [
    "spark = SparkSession.builder.appName(\"Spark_Joins\") \\\n",
    "                    .config(\"spark.sql.warehouse.dir\",\"/users/itv012857/warehouse\") \\\n",
    "                    .enableHiveSupport() \\\n",
    "                    .master(\"yarn\") \\\n",
    "                    .getOrCreate()"
   ]
  },
  {
   "cell_type": "code",
   "execution_count": 3,
   "id": "e2c33fe8",
   "metadata": {},
   "outputs": [],
   "source": [
    "order_schema = StructType(\n",
    "                            [ StructField(\"order_id\", IntegerType(), False),\n",
    "                              StructField(\"order_date\", DateType(), False),\n",
    "                              StructField(\"customer_id\", IntegerType(), False),\n",
    "                              StructField(\"order_status\", StringType(), False)\n",
    "                            ]\n",
    "                        )"
   ]
  },
  {
   "cell_type": "code",
   "execution_count": 4,
   "id": "2cdc4052",
   "metadata": {},
   "outputs": [],
   "source": [
    "orders_df = spark.read.csv(\"/public/trendytech/orders/orders_1gb.csv\", schema = order_schema)"
   ]
  },
  {
   "cell_type": "code",
   "execution_count": 5,
   "id": "e4749f49",
   "metadata": {},
   "outputs": [
    {
     "name": "stdout",
     "output_type": "stream",
     "text": [
      "root\n",
      " |-- order_id: integer (nullable = true)\n",
      " |-- order_date: date (nullable = true)\n",
      " |-- customer_id: integer (nullable = true)\n",
      " |-- order_status: string (nullable = true)\n",
      "\n"
     ]
    }
   ],
   "source": [
    "orders_df.printSchema()"
   ]
  },
  {
   "cell_type": "code",
   "execution_count": 6,
   "id": "b73a3efa",
   "metadata": {},
   "outputs": [
    {
     "name": "stdout",
     "output_type": "stream",
     "text": [
      "+--------+----------+-----------+---------------+\n",
      "|order_id|order_date|customer_id|   order_status|\n",
      "+--------+----------+-----------+---------------+\n",
      "|       1|2013-07-25|      11599|         CLOSED|\n",
      "|       2|2013-07-25|        256|PENDING_PAYMENT|\n",
      "|       3|2013-07-25|      12111|       COMPLETE|\n",
      "|       4|2013-07-25|       8827|         CLOSED|\n",
      "|       5|2013-07-25|      11318|       COMPLETE|\n",
      "|       6|2013-07-25|       7130|       COMPLETE|\n",
      "|       7|2013-07-25|       4530|       COMPLETE|\n",
      "|       8|2013-07-25|       2911|     PROCESSING|\n",
      "|       9|2013-07-25|       5657|PENDING_PAYMENT|\n",
      "|      10|2013-07-25|       5648|PENDING_PAYMENT|\n",
      "|      11|2013-07-25|        918| PAYMENT_REVIEW|\n",
      "|      12|2013-07-25|       1837|         CLOSED|\n",
      "|      13|2013-07-25|       9149|PENDING_PAYMENT|\n",
      "|      14|2013-07-25|       9842|     PROCESSING|\n",
      "|      15|2013-07-25|       2568|       COMPLETE|\n",
      "|      16|2013-07-25|       7276|PENDING_PAYMENT|\n",
      "|      17|2013-07-25|       2667|       COMPLETE|\n",
      "|      18|2013-07-25|       1205|         CLOSED|\n",
      "|      19|2013-07-25|       9488|PENDING_PAYMENT|\n",
      "|      20|2013-07-25|       9198|     PROCESSING|\n",
      "+--------+----------+-----------+---------------+\n",
      "only showing top 20 rows\n",
      "\n"
     ]
    }
   ],
   "source": [
    "orders_df.show()"
   ]
  },
  {
   "cell_type": "code",
   "execution_count": 7,
   "id": "1b151145",
   "metadata": {},
   "outputs": [
    {
     "data": {
      "text/plain": [
       "9"
      ]
     },
     "execution_count": 7,
     "metadata": {},
     "output_type": "execute_result"
    }
   ],
   "source": [
    "orders_df.rdd.getNumPartitions()"
   ]
  },
  {
   "cell_type": "code",
   "execution_count": 11,
   "id": "984dcd51",
   "metadata": {},
   "outputs": [],
   "source": [
    "customer_schema = StructType(\n",
    "                            [ StructField(\"customer_id\", IntegerType(), False),\n",
    "                              StructField(\"first_name\", StringType(), False),\n",
    "                              StructField(\"last_name\", StringType(), False),\n",
    "                              StructField(\"email\", StringType(), False),\n",
    "                              StructField(\"password\", StringType(), False),\n",
    "                              StructField(\"street\", StringType(), False),\n",
    "                              StructField(\"city\", StringType(), False),\n",
    "                              StructField(\"state\", StringType(), False),\n",
    "                              StructField(\"zipcode\", IntegerType(), False)\n",
    "                            ]\n",
    "                        )"
   ]
  },
  {
   "cell_type": "code",
   "execution_count": 12,
   "id": "bb2be757",
   "metadata": {},
   "outputs": [],
   "source": [
    "cust_df = spark.read.csv(\"/public/trendytech/retail_db/customers\", schema=customer_schema )"
   ]
  },
  {
   "cell_type": "code",
   "execution_count": 13,
   "id": "751295f5",
   "metadata": {},
   "outputs": [
    {
     "name": "stdout",
     "output_type": "stream",
     "text": [
      "root\n",
      " |-- customer_id: integer (nullable = true)\n",
      " |-- first_name: string (nullable = true)\n",
      " |-- last_name: string (nullable = true)\n",
      " |-- email: string (nullable = true)\n",
      " |-- password: string (nullable = true)\n",
      " |-- street: string (nullable = true)\n",
      " |-- city: string (nullable = true)\n",
      " |-- state: string (nullable = true)\n",
      " |-- zipcode: integer (nullable = true)\n",
      "\n"
     ]
    }
   ],
   "source": [
    "cust_df.printSchema()"
   ]
  },
  {
   "cell_type": "code",
   "execution_count": 14,
   "id": "68a4c2ff",
   "metadata": {},
   "outputs": [
    {
     "name": "stdout",
     "output_type": "stream",
     "text": [
      "+-----------+-----------+---------+---------+---------+--------------------+-------------+-----+-------+\n",
      "|customer_id| first_name|last_name|    email| password|              street|         city|state|zipcode|\n",
      "+-----------+-----------+---------+---------+---------+--------------------+-------------+-----+-------+\n",
      "|          1|    Richard|Hernandez|XXXXXXXXX|XXXXXXXXX|  6303 Heather Plaza|  Brownsville|   TX|  78521|\n",
      "|          2|       Mary|  Barrett|XXXXXXXXX|XXXXXXXXX|9526 Noble Embers...|    Littleton|   CO|  80126|\n",
      "|          3|        Ann|    Smith|XXXXXXXXX|XXXXXXXXX|3422 Blue Pioneer...|       Caguas|   PR|    725|\n",
      "|          4|       Mary|    Jones|XXXXXXXXX|XXXXXXXXX|  8324 Little Common|   San Marcos|   CA|  92069|\n",
      "|          5|     Robert|   Hudson|XXXXXXXXX|XXXXXXXXX|10 Crystal River ...|       Caguas|   PR|    725|\n",
      "|          6|       Mary|    Smith|XXXXXXXXX|XXXXXXXXX|3151 Sleepy Quail...|      Passaic|   NJ|   7055|\n",
      "|          7|    Melissa|   Wilcox|XXXXXXXXX|XXXXXXXXX|9453 High Concession|       Caguas|   PR|    725|\n",
      "|          8|      Megan|    Smith|XXXXXXXXX|XXXXXXXXX|3047 Foggy Forest...|     Lawrence|   MA|   1841|\n",
      "|          9|       Mary|    Perez|XXXXXXXXX|XXXXXXXXX| 3616 Quaking Street|       Caguas|   PR|    725|\n",
      "|         10|    Melissa|    Smith|XXXXXXXXX|XXXXXXXXX|8598 Harvest Beac...|     Stafford|   VA|  22554|\n",
      "|         11|       Mary|  Huffman|XXXXXXXXX|XXXXXXXXX|    3169 Stony Woods|       Caguas|   PR|    725|\n",
      "|         12|Christopher|    Smith|XXXXXXXXX|XXXXXXXXX|5594 Jagged Ember...|  San Antonio|   TX|  78227|\n",
      "|         13|       Mary|  Baldwin|XXXXXXXXX|XXXXXXXXX|7922 Iron Oak Gar...|       Caguas|   PR|    725|\n",
      "|         14|  Katherine|    Smith|XXXXXXXXX|XXXXXXXXX|5666 Hazy Pony Sq...|  Pico Rivera|   CA|  90660|\n",
      "|         15|       Jane|     Luna|XXXXXXXXX|XXXXXXXXX|    673 Burning Glen|      Fontana|   CA|  92336|\n",
      "|         16|    Tiffany|    Smith|XXXXXXXXX|XXXXXXXXX|      6651 Iron Port|       Caguas|   PR|    725|\n",
      "|         17|       Mary| Robinson|XXXXXXXXX|XXXXXXXXX|     1325 Noble Pike|       Taylor|   MI|  48180|\n",
      "|         18|     Robert|    Smith|XXXXXXXXX|XXXXXXXXX|2734 Hazy Butterf...|     Martinez|   CA|  94553|\n",
      "|         19|  Stephanie| Mitchell|XXXXXXXXX|XXXXXXXXX|3543 Red Treasure...|       Caguas|   PR|    725|\n",
      "|         20|       Mary|    Ellis|XXXXXXXXX|XXXXXXXXX|      4703 Old Route|West New York|   NJ|   7093|\n",
      "+-----------+-----------+---------+---------+---------+--------------------+-------------+-----+-------+\n",
      "only showing top 20 rows\n",
      "\n"
     ]
    }
   ],
   "source": [
    "cust_df.show()"
   ]
  },
  {
   "cell_type": "code",
   "execution_count": 15,
   "id": "34861a02",
   "metadata": {},
   "outputs": [
    {
     "data": {
      "text/plain": [
       "12435"
      ]
     },
     "execution_count": 15,
     "metadata": {},
     "output_type": "execute_result"
    }
   ],
   "source": [
    "cust_df.count()"
   ]
  },
  {
   "cell_type": "code",
   "execution_count": 16,
   "id": "6a1c3afc",
   "metadata": {},
   "outputs": [
    {
     "data": {
      "text/plain": [
       "1"
      ]
     },
     "execution_count": 16,
     "metadata": {},
     "output_type": "execute_result"
    }
   ],
   "source": [
    "cust_df.rdd.getNumPartitions()"
   ]
  },
  {
   "cell_type": "code",
   "execution_count": null,
   "id": "adbe223c",
   "metadata": {},
   "outputs": [],
   "source": [
    "orders_df.join(cust_df,orders_df.customer_id == cust_df.customer_id, \"inner\").write.mode(\"overwrite\").format(\"noop\").save()"
   ]
  },
  {
   "cell_type": "markdown",
   "id": "31953003",
   "metadata": {},
   "source": [
    "Since the Cust DF is smaller than autoBroadcastJoinThreshold a Broadcast Hash Join was done by Spark. <br>\n",
    "9 Tasks were created corresponding to the 9 Partitions of orders_df. <br>\n",
    "A hash table of Cust DF created and loaded to the driver memory and then the driver broadcasted it to all the 9 executors. <br>\n",
    "Finally a Broadcast hash join took place using the orders_df partitions and cust_df hash table. <BR>\n",
    "Took total 37 secs"
   ]
  },
  {
   "cell_type": "code",
   "execution_count": 17,
   "id": "16fb6cdb",
   "metadata": {},
   "outputs": [
    {
     "data": {
      "text/plain": [
       "'10485760b'"
      ]
     },
     "execution_count": 17,
     "metadata": {},
     "output_type": "execute_result"
    }
   ],
   "source": [
    "spark.conf.get(\"spark.sql.autoBroadcastJoinThreshold\")"
   ]
  },
  {
   "cell_type": "code",
   "execution_count": 18,
   "id": "64745579",
   "metadata": {},
   "outputs": [
    {
     "data": {
      "text/plain": [
       "10.0"
      ]
     },
     "execution_count": 18,
     "metadata": {},
     "output_type": "execute_result"
    }
   ],
   "source": [
    "10485760/(1024*1024)"
   ]
  },
  {
   "cell_type": "code",
   "execution_count": 19,
   "id": "ee763b55",
   "metadata": {},
   "outputs": [],
   "source": [
    "spark.conf.set(\"spark.sql.autoBroadcastJoinThreshold\",\"-1\")"
   ]
  },
  {
   "cell_type": "code",
   "execution_count": 20,
   "id": "5b45a972",
   "metadata": {},
   "outputs": [
    {
     "data": {
      "text/plain": [
       "'-1'"
      ]
     },
     "execution_count": 20,
     "metadata": {},
     "output_type": "execute_result"
    }
   ],
   "source": [
    "spark.conf.get(\"spark.sql.autoBroadcastJoinThreshold\")"
   ]
  },
  {
   "cell_type": "code",
   "execution_count": 23,
   "id": "d7e14afc",
   "metadata": {},
   "outputs": [],
   "source": [
    "orders_df.join(cust_df,orders_df.customer_id == cust_df.customer_id, \"inner\").write.mode(\"overwrite\").format(\"noop\").save()"
   ]
  },
  {
   "cell_type": "markdown",
   "id": "b2131c40",
   "metadata": {},
   "source": [
    "Shuffle sort merge join was implemented by Spark as the autoBroadcastJoinThreshold is set to -1. <BR>\n",
    "This will be implemented by default if the size of both the tables > 10 MB. <BR>\n",
    "Took 1.6 mins"
   ]
  },
  {
   "cell_type": "code",
   "execution_count": 22,
   "id": "72beae1b",
   "metadata": {},
   "outputs": [],
   "source": [
    "orders_df.join(cust_df.hint(\"shuffle_hash\"),orders_df.customer_id == cust_df.customer_id, \"inner\").write.mode(\"overwrite\").format(\"noop\").save()"
   ]
  },
  {
   "attachments": {
    "19a18e91-b4d1-4465-8110-3a7423032def.png": {
     "image/png": "[encoded data removed]"
    }
   },
   "cell_type": "markdown",
   "id": "7a127f4e",
   "metadata": {},
   "source": [
    "Shuffle Hash join is implemented as we have given hint to implement Shuffle Hash Join. This took 1.4 mins.\n",
    "\n",
    "![image.png](attachment:19a18e91-b4d1-4465-8110-3a7423032def.png)"
   ]
  },
  {
   "cell_type": "code",
   "execution_count": 25,
   "id": "597a0d92",
   "metadata": {},
   "outputs": [
    {
     "data": {
      "text/plain": [
       "'false'"
      ]
     },
     "execution_count": 25,
     "metadata": {},
     "output_type": "execute_result"
    }
   ],
   "source": [
    "# Enabling Adaptive Query Execution (AQE)\n",
    "\n",
    "spark.conf.get(\"spark.sql.adaptive.enabled\")"
   ]
  },
  {
   "cell_type": "code",
   "execution_count": 34,
   "id": "c89dcc4f",
   "metadata": {},
   "outputs": [],
   "source": [
    "spark.conf.set(\"spark.sql.adaptive.enabled\",\"true\")"
   ]
  },
  {
   "cell_type": "code",
   "execution_count": 35,
   "id": "990a34a5",
   "metadata": {},
   "outputs": [
    {
     "data": {
      "text/plain": [
       "'true'"
      ]
     },
     "execution_count": 35,
     "metadata": {},
     "output_type": "execute_result"
    }
   ],
   "source": [
    "spark.conf.get(\"spark.sql.adaptive.enabled\")"
   ]
  },
  {
   "cell_type": "code",
   "execution_count": 36,
   "id": "4437020d",
   "metadata": {},
   "outputs": [],
   "source": [
    "orders_df.join(cust_df,orders_df.customer_id == cust_df.customer_id, \"inner\").write.mode(\"overwrite\").format(\"noop\").save()"
   ]
  },
  {
   "cell_type": "markdown",
   "id": "4885009f",
   "metadata": {},
   "source": [
    "Instead of 210-215 tasks, only 11 task are created as AQE is enabled. <BR>\n",
    "Executed in 48 secs."
   ]
  },
  {
   "cell_type": "code",
   "execution_count": 39,
   "id": "58569d28",
   "metadata": {},
   "outputs": [],
   "source": [
    "spark.conf.set(\"spark.sql.autoBroadcastJoinThreshold\",\"10485760b\")"
   ]
  },
  {
   "cell_type": "markdown",
   "id": "ea2f6419",
   "metadata": {},
   "source": [
    "Left Join Demo"
   ]
  },
  {
   "cell_type": "code",
   "execution_count": 40,
   "id": "73fd0a5b",
   "metadata": {},
   "outputs": [
    {
     "name": "stdout",
     "output_type": "stream",
     "text": [
      "+--------+----------+-----------+---------------+-----------+----------+---------+---------+---------+--------------------+-------------+-----+-------+\n",
      "|order_id|order_date|customer_id|   order_status|customer_id|first_name|last_name|    email| password|              street|         city|state|zipcode|\n",
      "+--------+----------+-----------+---------------+-----------+----------+---------+---------+---------+--------------------+-------------+-----+-------+\n",
      "|       1|2013-07-25|      11599|         CLOSED|      11599|      Mary|   Malone|XXXXXXXXX|XXXXXXXXX|8708 Indian Horse...|      Hickory|   NC|  28601|\n",
      "|       2|2013-07-25|        256|PENDING_PAYMENT|        256|     David|Rodriguez|XXXXXXXXX|XXXXXXXXX|7605 Tawny Horse ...|      Chicago|   IL|  60625|\n",
      "|       3|2013-07-25|      12111|       COMPLETE|      12111|     Amber|   Franco|XXXXXXXXX|XXXXXXXXX|8766 Clear Prairi...|   Santa Cruz|   CA|  95060|\n",
      "|       4|2013-07-25|       8827|         CLOSED|       8827|     Brian|   Wilson|XXXXXXXXX|XXXXXXXXX|   8396 High Corners|  San Antonio|   TX|  78240|\n",
      "|       5|2013-07-25|      11318|       COMPLETE|      11318|      Mary|    Henry|XXXXXXXXX|XXXXXXXXX|3047 Silent Ember...|       Caguas|   PR|    725|\n",
      "|       6|2013-07-25|       7130|       COMPLETE|       7130|     Alice|    Smith|XXXXXXXXX|XXXXXXXXX|      8852 Iron Port|     Brooklyn|   NY|  11237|\n",
      "|       7|2013-07-25|       4530|       COMPLETE|       4530|      Mary|    Smith|XXXXXXXXX|XXXXXXXXX|1073 Green Leaf G...|        Miami|   FL|  33161|\n",
      "|       8|2013-07-25|       2911|     PROCESSING|       2911|      Mary|    Smith|XXXXXXXXX|XXXXXXXXX|9166 Golden Necta...|       Caguas|   PR|    725|\n",
      "|       9|2013-07-25|       5657|PENDING_PAYMENT|       5657|      Mary|    James|XXXXXXXXX|XXXXXXXXX|  1389 Dusty Circuit|     Lakewood|   OH|  44107|\n",
      "|      10|2013-07-25|       5648|PENDING_PAYMENT|       5648|    Joshua|    Smith|XXXXXXXXX|XXXXXXXXX|864 Iron Spring S...|      Memphis|   TN|  38111|\n",
      "|      11|2013-07-25|        918| PAYMENT_REVIEW|        918|    Nathan|    Smith|XXXXXXXXX|XXXXXXXXX|    9627 Honey Trail|       Caguas|   PR|    725|\n",
      "|      12|2013-07-25|       1837|         CLOSED|       1837|      Mary|     Vega|XXXXXXXXX|XXXXXXXXX|  4312 Bright Corner|       Caguas|   PR|    725|\n",
      "|      13|2013-07-25|       9149|PENDING_PAYMENT|       9149|    Ronald|Whitehead|XXXXXXXXX|XXXXXXXXX|6789 Round Robin ...|    Santa Ana|   CA|  92705|\n",
      "|      14|2013-07-25|       9842|     PROCESSING|       9842|      Mary|    Smith|XXXXXXXXX|XXXXXXXXX|454 Lazy Branch F...|       Caguas|   PR|    725|\n",
      "|      15|2013-07-25|       2568|       COMPLETE|       2568|     Maria|    Smith|XXXXXXXXX|XXXXXXXXX|   3544 Fallen Mount|      Memphis|   TN|  38127|\n",
      "|      16|2013-07-25|       7276|PENDING_PAYMENT|       7276|    Pamela|    Smith|XXXXXXXXX|XXXXXXXXX|    9243 Old Gardens|       Caguas|   PR|    725|\n",
      "|      17|2013-07-25|       2667|       COMPLETE|       2667|     Tammy|    Smith|XXXXXXXXX|XXXXXXXXX|   8906 Rustic Mall |   Sun Valley|   CA|  91352|\n",
      "|      18|2013-07-25|       1205|         CLOSED|       1205|      Mary|   Powell|XXXXXXXXX|XXXXXXXXX|9299 Quiet Pionee...|        Miami|   FL|  33126|\n",
      "|      19|2013-07-25|       9488|PENDING_PAYMENT|       9488|      Mary|    Smith|XXXXXXXXX|XXXXXXXXX|    9758 Foggy Range|      Hialeah|   FL|  33012|\n",
      "|      20|2013-07-25|       9198|     PROCESSING|       9198|     David|     Kerr|XXXXXXXXX|XXXXXXXXX|7312 Crystal Will...|Bowling Green|   KY|  42101|\n",
      "+--------+----------+-----------+---------------+-----------+----------+---------+---------+---------+--------------------+-------------+-----+-------+\n",
      "only showing top 20 rows\n",
      "\n"
     ]
    }
   ],
   "source": [
    "orders_df.join(cust_df,orders_df.customer_id == cust_df.customer_id, \"left\").show()"
   ]
  },
  {
   "cell_type": "code",
   "execution_count": null,
   "id": "a006bcf1",
   "metadata": {},
   "outputs": [],
   "source": [
    "Left Semi or S"
   ]
  },
  {
   "cell_type": "code",
   "execution_count": null,
   "id": "af47eb68",
   "metadata": {},
   "outputs": [],
   "source": [
    "cust_df.join(orders_df,orders_df.customer_id == cust_df.customer_id, \"semi\").show()"
   ]
  },
  {
   "cell_type": "code",
   "execution_count": null,
   "id": "bbcb3ab6",
   "metadata": {},
   "outputs": [],
   "source": []
  }
 ],
 "metadata": {
  "kernelspec": {
   "display_name": "Python 3 (ipykernel)",
   "language": "python",
   "name": "python3"
  },
  "language_info": {
   "codemirror_mode": {
    "name": "ipython",
    "version": 3
   },
   "file_extension": ".py",
   "mimetype": "text/x-python",
   "name": "python",
   "nbconvert_exporter": "python",
   "pygments_lexer": "ipython3",
   "version": "3.9.7"
  }
 },
 "nbformat": 4,
 "nbformat_minor": 5
}
