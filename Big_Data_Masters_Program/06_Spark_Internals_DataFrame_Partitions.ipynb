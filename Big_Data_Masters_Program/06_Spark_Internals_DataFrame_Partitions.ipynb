{
 "cells": [
  {
   "cell_type": "code",
   "execution_count": 1,
   "id": "4d002987",
   "metadata": {},
   "outputs": [],
   "source": [
    "from pyspark.sql import SparkSession\n",
    "from pyspark.sql.functions import *"
   ]
  },
  {
   "cell_type": "code",
   "execution_count": 40,
   "id": "36469d74",
   "metadata": {},
   "outputs": [],
   "source": [
    "spark = SparkSession.builder.appName(\"Week9_Assignment\"). \\\n",
    "            config(\"spark.dynamicAllocation.enabled\",\"false\"). \\\n",
    "            config(\"spark.sql.files.maxPartitionBytes\",\"146800640b\"). \\\n",
    "            config(\"spark.sql.warehouse.dir\",\"/user/itv012857/warehouse/\"). \\\n",
    "            enableHiveSupport(). \\\n",
    "            master(\"yarn\"). \\\n",
    "            getOrCreate()"
   ]
  },
  {
   "cell_type": "code",
   "execution_count": 3,
   "id": "b762438a",
   "metadata": {},
   "outputs": [
    {
     "data": {
      "text/html": [
       "\n",
       "            <div>\n",
       "                <p><b>SparkSession - hive</b></p>\n",
       "                \n",
       "        <div>\n",
       "            <p><b>SparkContext</b></p>\n",
       "\n",
       "            <p><a href=\"http://g02.itversity.com:4041\">Spark UI</a></p>\n",
       "\n",
       "            <dl>\n",
       "              <dt>Version</dt>\n",
       "                <dd><code>v3.1.2</code></dd>\n",
       "              <dt>Master</dt>\n",
       "                <dd><code>yarn</code></dd>\n",
       "              <dt>AppName</dt>\n",
       "                <dd><code>Week9_Assignment</code></dd>\n",
       "            </dl>\n",
       "        </div>\n",
       "        \n",
       "            </div>\n",
       "        "
      ],
      "text/plain": [
       "<pyspark.sql.session.SparkSession at 0x7f66490cfba8>"
      ]
     },
     "execution_count": 3,
     "metadata": {},
     "output_type": "execute_result"
    }
   ],
   "source": [
    "spark"
   ]
  },
  {
   "cell_type": "code",
   "execution_count": 4,
   "id": "2277ce18",
   "metadata": {},
   "outputs": [],
   "source": [
    "from pyspark.sql.types import StructType, StructField, IntegerType, ArrayType, StringType"
   ]
  },
  {
   "cell_type": "code",
   "execution_count": 5,
   "id": "9b85575c",
   "metadata": {},
   "outputs": [],
   "source": [
    "users_schema = StructType(\n",
    "                    [ StructField(\"user_id\",IntegerType(),False),\n",
    "                      StructField(\"user_first_name\",StringType(),False),\n",
    "                      StructField(\"user_last_name\",StringType(),False),\n",
    "                      StructField(\"user_email\",StringType(),False),\n",
    "                      StructField(\"user_gender\",StringType(),False),\n",
    "                      StructField(\"user_phone_numbers\",ArrayType(StringType()),False),\n",
    "                      StructField(\"user_address\",StructType(\n",
    "                                                              [\n",
    "                                                                  StructField(\"street\", StringType(), False),\n",
    "                                                                  StructField(\"city\", StringType(), False),\n",
    "                                                                  StructField(\"state\", StringType(), False),\n",
    "                                                                  StructField(\"postal_code\", StringType(), False),\n",
    "                                                              ]\n",
    "                                                          \n",
    "                                              )\n",
    "                                  ,False)\n",
    "                    ]\n",
    "                )"
   ]
  },
  {
   "cell_type": "code",
   "execution_count": 6,
   "id": "75d7e2de",
   "metadata": {},
   "outputs": [],
   "source": [
    "sms_users = spark.read.json(\"/public/sms/users/\", schema = users_schema)"
   ]
  },
  {
   "cell_type": "code",
   "execution_count": 7,
   "id": "5ea7fa3a",
   "metadata": {},
   "outputs": [
    {
     "name": "stdout",
     "output_type": "stream",
     "text": [
      "+-------+---------------+--------------+--------------------+-----------+--------------------+--------------------+\n",
      "|user_id|user_first_name|user_last_name|          user_email|user_gender|  user_phone_numbers|        user_address|\n",
      "+-------+---------------+--------------+--------------------+-----------+--------------------+--------------------+\n",
      "| 200001|         Eirena|     Cutsforth|ecutsforth0@wisc.edu|     Female|[4197404036, 9173...|{8 Warrior Drive,...|\n",
      "| 200002|          Marja|      Shopcott|mshopcott1@hexun.com|     Female|[9542037028, 2128...|{66 Prairieview T...|\n",
      "| 200003|           Dawn|       Tointon|  dtointon2@ucsd.edu|     Female|[9523035647, 2134...|{18 Ronald Regan ...|\n",
      "| 200004|          Goldi|        Leaman|     gleaman3@360.cn|     Female|[2027069459, 7042...|{7696 Calypso Jun...|\n",
      "| 200005|       Brewster|      Hallagan|bhallagan4@livejo...|       Male|[8134746319, 2152...|{942 Emmet Park, ...|\n",
      "| 200006|       Florence|       Glashby|fglashby5@deviant...|     Female|[7571763565, 7134...|{664 Ridge Oak Ci...|\n",
      "| 200007|         Zollie|     Philimore|zphilimore6@webed...|       Male|[7865450177, 8019...|{4 Continental Dr...|\n",
      "| 200008|      Ferdinand|       Ramelot| framelot7@alexa.com|       Male|        [8164055187]|{44698 Arapahoe P...|\n",
      "| 200009|          Ruddy|     Greystoke|rgreystoke8@digg.com|       Male|                null|{null, null, null...|\n",
      "| 200010|         Gilles|         Beeho|   gbeeho9@webmd.com|       Male|[5599886694, 5201...|{9430 Reinke Park...|\n",
      "| 200011|           Axel|    Kitchinham|akitchinhama@nave...|       Male|        [2036913158]|{688 Granby Point...|\n",
      "| 200012|         Moreen|      Pearmine|mpearmineb@github...|     Female|        [4047148129]|{3997 Russell Par...|\n",
      "| 200013|       Joceline|       Adshead|jadsheadc@joomla.org|     Female|[3134837460, 3022...|{89 Fair Oaks Ter...|\n",
      "| 200014|          Roxie|       Menichi|rmenichid@nationa...|     Female|[6148474898, 9034...|{3 Green Pass, Fo...|\n",
      "| 200015|         Selena|         Flood|sfloode@delicious...|     Female|[7274706417, 4026...|{2 Butterfield Cr...|\n",
      "| 200016|         Leoine|      Markovic|  lmarkovicf@usa.gov|     Female|                null|{null, null, null...|\n",
      "| 200017|           Judi|      Svanetti|jsvanettig@theglo...|     Female|[2158389703, 8169...|{1 Sheridan Pass,...|\n",
      "| 200018|     Hildegarde|         Hapke|     hhapkeh@nps.gov|     Female|        [8183692525]|{60 Oak Valley St...|\n",
      "| 200019|          Hanni|       Dommett|hdommetti@tinyurl...|     Female|[7868201036, 7048...|{5 Vera Point, Wi...|\n",
      "| 200020|         Rupert|       Gaskoin|rgaskoinj@mozilla...|       Male|[5623065887, 9198...|{52636 Heath Alle...|\n",
      "+-------+---------------+--------------+--------------------+-----------+--------------------+--------------------+\n",
      "only showing top 20 rows\n",
      "\n"
     ]
    }
   ],
   "source": [
    "sms_users.show()"
   ]
  },
  {
   "cell_type": "code",
   "execution_count": 8,
   "id": "9d240097",
   "metadata": {},
   "outputs": [
    {
     "data": {
      "text/plain": [
       "3"
      ]
     },
     "execution_count": 8,
     "metadata": {},
     "output_type": "execute_result"
    }
   ],
   "source": [
    "sms_users.rdd.getNumPartitions()"
   ]
  },
  {
   "cell_type": "code",
   "execution_count": 9,
   "id": "7057458c",
   "metadata": {},
   "outputs": [
    {
     "name": "stdout",
     "output_type": "stream",
     "text": [
      "root\n",
      " |-- user_id: integer (nullable = true)\n",
      " |-- user_first_name: string (nullable = true)\n",
      " |-- user_last_name: string (nullable = true)\n",
      " |-- user_email: string (nullable = true)\n",
      " |-- user_gender: string (nullable = true)\n",
      " |-- user_phone_numbers: array (nullable = true)\n",
      " |    |-- element: string (containsNull = true)\n",
      " |-- user_address: struct (nullable = true)\n",
      " |    |-- street: string (nullable = true)\n",
      " |    |-- city: string (nullable = true)\n",
      " |    |-- state: string (nullable = true)\n",
      " |    |-- postal_code: string (nullable = true)\n",
      "\n"
     ]
    }
   ],
   "source": [
    "sms_users.printSchema()"
   ]
  },
  {
   "cell_type": "code",
   "execution_count": 10,
   "id": "e218f4f3",
   "metadata": {},
   "outputs": [
    {
     "data": {
      "text/plain": [
       "1000000"
      ]
     },
     "execution_count": 10,
     "metadata": {},
     "output_type": "execute_result"
    }
   ],
   "source": [
    "sms_users.count()"
   ]
  },
  {
   "cell_type": "code",
   "execution_count": 11,
   "id": "ef5f0118",
   "metadata": {},
   "outputs": [],
   "source": [
    "sms_users2 = sms_users.withColumn(\"street\",col(\"user_address.street\")) \\\n",
    "                        .withColumn(\"city\",col(\"user_address.city\")) \\\n",
    "                        .withColumn(\"state\",col(\"user_address.state\")) \\\n",
    "                        .withColumn(\"postal_code\",col(\"user_address.postal_code\")) \\\n",
    "                        .drop(\"user_address\")"
   ]
  },
  {
   "cell_type": "code",
   "execution_count": 12,
   "id": "8d2a1e60",
   "metadata": {},
   "outputs": [
    {
     "name": "stdout",
     "output_type": "stream",
     "text": [
      "+-------+---------------+--------------+--------------------+-----------+--------------------+--------------------+-----------------+----------+-----------+\n",
      "|user_id|user_first_name|user_last_name|          user_email|user_gender|  user_phone_numbers|              street|             city|     state|postal_code|\n",
      "+-------+---------------+--------------+--------------------+-----------+--------------------+--------------------+-----------------+----------+-----------+\n",
      "| 200001|         Eirena|     Cutsforth|ecutsforth0@wisc.edu|     Female|[4197404036, 9173...|     8 Warrior Drive|           Dallas|     Texas|      75358|\n",
      "| 200002|          Marja|      Shopcott|mshopcott1@hexun.com|     Female|[9542037028, 2128...|66 Prairieview Te...|           Joliet|  Illinois|      60435|\n",
      "| 200003|           Dawn|       Tointon|  dtointon2@ucsd.edu|     Female|[9523035647, 2134...|18 Ronald Regan Hill|  Shawnee Mission|    Kansas|      66225|\n",
      "| 200004|          Goldi|        Leaman|     gleaman3@360.cn|     Female|[2027069459, 7042...|7696 Calypso Junc...|       Saint Paul| Minnesota|      55166|\n",
      "| 200005|       Brewster|      Hallagan|bhallagan4@livejo...|       Male|[8134746319, 2152...|      942 Emmet Park|      Albuquerque|New Mexico|      87110|\n",
      "| 200006|       Florence|       Glashby|fglashby5@deviant...|     Female|[7571763565, 7134...|664 Ridge Oak Circle|   Virginia Beach|  Virginia|      23454|\n",
      "| 200007|         Zollie|     Philimore|zphilimore6@webed...|       Male|[7865450177, 8019...| 4 Continental Drive|    Young America| Minnesota|      55557|\n",
      "| 200008|      Ferdinand|       Ramelot| framelot7@alexa.com|       Male|        [8164055187]| 44698 Arapahoe Park|           Tucson|   Arizona|      85725|\n",
      "| 200009|          Ruddy|     Greystoke|rgreystoke8@digg.com|       Male|                null|                null|             null|      null|       null|\n",
      "| 200010|         Gilles|         Beeho|   gbeeho9@webmd.com|       Male|[5599886694, 5201...|    9430 Reinke Park|  North Las Vegas|    Nevada|      89087|\n",
      "| 200011|           Axel|    Kitchinham|akitchinhama@nave...|       Male|        [2036913158]|    688 Granby Point|           Warren|      Ohio|      44485|\n",
      "| 200012|         Moreen|      Pearmine|mpearmineb@github...|     Female|        [4047148129]|3997 Russell Parkway|North Little Rock|  Arkansas|      72199|\n",
      "| 200013|       Joceline|       Adshead|jadsheadc@joomla.org|     Female|[3134837460, 3022...|89 Fair Oaks Terrace|  Shawnee Mission|    Kansas|      66220|\n",
      "| 200014|          Roxie|       Menichi|rmenichid@nationa...|     Female|[6148474898, 9034...|        3 Green Pass|       Fort Wayne|   Indiana|      46814|\n",
      "| 200015|         Selena|         Flood|sfloode@delicious...|     Female|[7274706417, 4026...|2 Butterfield Cro...|       Sacramento|California|      94286|\n",
      "| 200016|         Leoine|      Markovic|  lmarkovicf@usa.gov|     Female|                null|                null|             null|      null|       null|\n",
      "| 200017|           Judi|      Svanetti|jsvanettig@theglo...|     Female|[2158389703, 8169...|     1 Sheridan Pass|            Miami|   Florida|      33147|\n",
      "| 200018|     Hildegarde|         Hapke|     hhapkeh@nps.gov|     Female|        [8183692525]|60 Oak Valley Street|         Missoula|   Montana|      59806|\n",
      "| 200019|          Hanni|       Dommett|hdommetti@tinyurl...|     Female|[7868201036, 7048...|        5 Vera Point|    Wichita Falls|     Texas|      76310|\n",
      "| 200020|         Rupert|       Gaskoin|rgaskoinj@mozilla...|       Male|[5623065887, 9198...|   52636 Heath Alley|      Kansas City|  Missouri|      64160|\n",
      "+-------+---------------+--------------+--------------------+-----------+--------------------+--------------------+-----------------+----------+-----------+\n",
      "only showing top 20 rows\n",
      "\n"
     ]
    }
   ],
   "source": [
    "sms_users2.show()"
   ]
  },
  {
   "cell_type": "code",
   "execution_count": 13,
   "id": "6a3de3ee",
   "metadata": {},
   "outputs": [
    {
     "data": {
      "text/plain": [
       "49576"
      ]
     },
     "execution_count": 13,
     "metadata": {},
     "output_type": "execute_result"
    }
   ],
   "source": [
    "sms_users2.filter(\"state == 'New York'\").count()"
   ]
  },
  {
   "cell_type": "code",
   "execution_count": 14,
   "id": "0f5c1d17",
   "metadata": {},
   "outputs": [],
   "source": [
    "from pyspark.sql.functions import *"
   ]
  },
  {
   "cell_type": "code",
   "execution_count": 15,
   "id": "aa604593",
   "metadata": {},
   "outputs": [
    {
     "name": "stdout",
     "output_type": "stream",
     "text": [
      "+----------+-----------------+\n",
      "|     state|postal_code_count|\n",
      "+----------+-----------------+\n",
      "|California|              206|\n",
      "+----------+-----------------+\n",
      "only showing top 1 row\n",
      "\n"
     ]
    }
   ],
   "source": [
    "sms_users2.groupBy(\"state\") \\\n",
    ".agg(\n",
    "        countDistinct(\"postal_code\").alias(\"postal_code_count\")\n",
    ") \\\n",
    ".orderBy(\"postal_code_count\",ascending = False) \\\n",
    ".show(1)"
   ]
  },
  {
   "cell_type": "code",
   "execution_count": 16,
   "id": "8b258c5f",
   "metadata": {},
   "outputs": [
    {
     "name": "stdout",
     "output_type": "stream",
     "text": [
      "+----------+----------+\n",
      "|      city|user_count|\n",
      "+----------+----------+\n",
      "|Washington|     28504|\n",
      "+----------+----------+\n",
      "only showing top 1 row\n",
      "\n"
     ]
    }
   ],
   "source": [
    "sms_users2.filter(\"city is not null\") \\\n",
    ".groupBy(\"city\") \\\n",
    ".agg(\n",
    "        countDistinct(\"user_id\").alias(\"user_count\")\n",
    ") \\\n",
    ".orderBy(\"user_count\",ascending = False) \\\n",
    ".show(1)"
   ]
  },
  {
   "cell_type": "code",
   "execution_count": 17,
   "id": "527734d6",
   "metadata": {},
   "outputs": [
    {
     "data": {
      "text/plain": [
       "2015"
      ]
     },
     "execution_count": 17,
     "metadata": {},
     "output_type": "execute_result"
    }
   ],
   "source": [
    "sms_users2.filter(\"user_email LIKE '%bizjournals.com'\").count()"
   ]
  },
  {
   "cell_type": "code",
   "execution_count": 18,
   "id": "b53b0930",
   "metadata": {},
   "outputs": [
    {
     "data": {
      "text/plain": [
       "179041"
      ]
     },
     "execution_count": 18,
     "metadata": {},
     "output_type": "execute_result"
    }
   ],
   "source": [
    "sms_users2.filter(size(sms_users2[\"user_phone_numbers\"]) == 4).count()"
   ]
  },
  {
   "cell_type": "code",
   "execution_count": 19,
   "id": "6d625d52",
   "metadata": {},
   "outputs": [],
   "source": [
    "sms_users2_w_phoneCount = sms_users2.withColumn(\"phone_number_count\",size(\"user_phone_numbers\"))"
   ]
  },
  {
   "cell_type": "code",
   "execution_count": 20,
   "id": "e8800f74",
   "metadata": {},
   "outputs": [
    {
     "data": {
      "text/plain": [
       "108981"
      ]
     },
     "execution_count": 20,
     "metadata": {},
     "output_type": "execute_result"
    }
   ],
   "source": [
    "sms_users2_w_phoneCount.filter(\"phone_number_count <= 0\").count()"
   ]
  },
  {
   "cell_type": "code",
   "execution_count": 21,
   "id": "022dad68",
   "metadata": {},
   "outputs": [
    {
     "data": {
      "text/plain": [
       "3"
      ]
     },
     "execution_count": 21,
     "metadata": {},
     "output_type": "execute_result"
    }
   ],
   "source": [
    "sms_users.rdd.getNumPartitions()"
   ]
  },
  {
   "cell_type": "code",
   "execution_count": 22,
   "id": "2b38ad26",
   "metadata": {},
   "outputs": [],
   "source": [
    "sms_users.write \\\n",
    ".format(\"parquet\") \\\n",
    ".mode(\"overwrite\") \\\n",
    ".option(\"path\",\"/user/itv012857/data/sms_users/\") \\\n",
    ".save()"
   ]
  },
  {
   "cell_type": "code",
   "execution_count": 23,
   "id": "326a523a",
   "metadata": {},
   "outputs": [
    {
     "data": {
      "text/plain": [
       "'4194304'"
      ]
     },
     "execution_count": 23,
     "metadata": {},
     "output_type": "execute_result"
    }
   ],
   "source": [
    "spark.conf.get(\"spark.sql.files.openCostInBytes\")"
   ]
  },
  {
   "cell_type": "code",
   "execution_count": 24,
   "id": "1e66c9e6",
   "metadata": {},
   "outputs": [
    {
     "data": {
      "text/plain": [
       "'134217728b'"
      ]
     },
     "execution_count": 24,
     "metadata": {},
     "output_type": "execute_result"
    }
   ],
   "source": [
    "spark.conf.get(\"spark.sql.files.maxPartitionBytes\")"
   ]
  },
  {
   "cell_type": "code",
   "execution_count": 25,
   "id": "d51df991",
   "metadata": {},
   "outputs": [
    {
     "name": "stdout",
     "output_type": "stream",
     "text": [
      "+-------+---------------+--------------+--------------------+-----------+--------------------+--------------------+-----------------+----------+-----------+\n",
      "|user_id|user_first_name|user_last_name|          user_email|user_gender|  user_phone_numbers|              street|             city|     state|postal_code|\n",
      "+-------+---------------+--------------+--------------------+-----------+--------------------+--------------------+-----------------+----------+-----------+\n",
      "| 200001|         Eirena|     Cutsforth|ecutsforth0@wisc.edu|     Female|[4197404036, 9173...|     8 Warrior Drive|           Dallas|     Texas|      75358|\n",
      "| 200002|          Marja|      Shopcott|mshopcott1@hexun.com|     Female|[9542037028, 2128...|66 Prairieview Te...|           Joliet|  Illinois|      60435|\n",
      "| 200003|           Dawn|       Tointon|  dtointon2@ucsd.edu|     Female|[9523035647, 2134...|18 Ronald Regan Hill|  Shawnee Mission|    Kansas|      66225|\n",
      "| 200004|          Goldi|        Leaman|     gleaman3@360.cn|     Female|[2027069459, 7042...|7696 Calypso Junc...|       Saint Paul| Minnesota|      55166|\n",
      "| 200005|       Brewster|      Hallagan|bhallagan4@livejo...|       Male|[8134746319, 2152...|      942 Emmet Park|      Albuquerque|New Mexico|      87110|\n",
      "| 200006|       Florence|       Glashby|fglashby5@deviant...|     Female|[7571763565, 7134...|664 Ridge Oak Circle|   Virginia Beach|  Virginia|      23454|\n",
      "| 200007|         Zollie|     Philimore|zphilimore6@webed...|       Male|[7865450177, 8019...| 4 Continental Drive|    Young America| Minnesota|      55557|\n",
      "| 200008|      Ferdinand|       Ramelot| framelot7@alexa.com|       Male|        [8164055187]| 44698 Arapahoe Park|           Tucson|   Arizona|      85725|\n",
      "| 200009|          Ruddy|     Greystoke|rgreystoke8@digg.com|       Male|                null|                null|             null|      null|       null|\n",
      "| 200010|         Gilles|         Beeho|   gbeeho9@webmd.com|       Male|[5599886694, 5201...|    9430 Reinke Park|  North Las Vegas|    Nevada|      89087|\n",
      "| 200011|           Axel|    Kitchinham|akitchinhama@nave...|       Male|        [2036913158]|    688 Granby Point|           Warren|      Ohio|      44485|\n",
      "| 200012|         Moreen|      Pearmine|mpearmineb@github...|     Female|        [4047148129]|3997 Russell Parkway|North Little Rock|  Arkansas|      72199|\n",
      "| 200013|       Joceline|       Adshead|jadsheadc@joomla.org|     Female|[3134837460, 3022...|89 Fair Oaks Terrace|  Shawnee Mission|    Kansas|      66220|\n",
      "| 200014|          Roxie|       Menichi|rmenichid@nationa...|     Female|[6148474898, 9034...|        3 Green Pass|       Fort Wayne|   Indiana|      46814|\n",
      "| 200015|         Selena|         Flood|sfloode@delicious...|     Female|[7274706417, 4026...|2 Butterfield Cro...|       Sacramento|California|      94286|\n",
      "| 200016|         Leoine|      Markovic|  lmarkovicf@usa.gov|     Female|                null|                null|             null|      null|       null|\n",
      "| 200017|           Judi|      Svanetti|jsvanettig@theglo...|     Female|[2158389703, 8169...|     1 Sheridan Pass|            Miami|   Florida|      33147|\n",
      "| 200018|     Hildegarde|         Hapke|     hhapkeh@nps.gov|     Female|        [8183692525]|60 Oak Valley Street|         Missoula|   Montana|      59806|\n",
      "| 200019|          Hanni|       Dommett|hdommetti@tinyurl...|     Female|[7868201036, 7048...|        5 Vera Point|    Wichita Falls|     Texas|      76310|\n",
      "| 200020|         Rupert|       Gaskoin|rgaskoinj@mozilla...|       Male|[5623065887, 9198...|   52636 Heath Alley|      Kansas City|  Missouri|      64160|\n",
      "+-------+---------------+--------------+--------------------+-----------+--------------------+--------------------+-----------------+----------+-----------+\n",
      "only showing top 20 rows\n",
      "\n"
     ]
    }
   ],
   "source": [
    "sms_users2.show()"
   ]
  },
  {
   "cell_type": "code",
   "execution_count": 26,
   "id": "de7e0208",
   "metadata": {},
   "outputs": [],
   "source": [
    "gender = [\"Male\",\"Female\"]"
   ]
  },
  {
   "cell_type": "code",
   "execution_count": 27,
   "id": "abae3214",
   "metadata": {},
   "outputs": [
    {
     "name": "stdout",
     "output_type": "stream",
     "text": [
      "+--------------------+-----+------+\n",
      "|               state| Male|Female|\n",
      "+--------------------+-----+------+\n",
      "|                null|54440| 54541|\n",
      "|             Alabama| 9307|  9178|\n",
      "|              Alaska| 1882|  1938|\n",
      "|             Arizona| 9406|  9543|\n",
      "|            Arkansas| 2420|  2416|\n",
      "|          California|49120| 48716|\n",
      "|            Colorado|10128| 10125|\n",
      "|         Connecticut| 5797|  5917|\n",
      "|            Delaware| 1651|  1654|\n",
      "|District of Columbia|14212| 14292|\n",
      "|             Florida|36692| 36688|\n",
      "|             Georgia|13008| 13028|\n",
      "|              Hawaii| 2172|  2062|\n",
      "|               Idaho| 2058|  2101|\n",
      "|            Illinois|11178| 11267|\n",
      "|             Indiana| 9604|  9676|\n",
      "|                Iowa| 4706|  4726|\n",
      "|              Kansas| 5962|  5776|\n",
      "|            Kentucky| 6216|  6108|\n",
      "|           Louisiana| 8706|  8631|\n",
      "+--------------------+-----+------+\n",
      "only showing top 20 rows\n",
      "\n"
     ]
    }
   ],
   "source": [
    "sms_users2.groupBy(\"state\") \\\n",
    "         .pivot(\"user_gender\",gender) \\\n",
    "         .agg(count(\"*\")) \\\n",
    "         .orderBy(\"state\") \\\n",
    "         .show()"
   ]
  },
  {
   "cell_type": "code",
   "execution_count": 33,
   "id": "5752aa88",
   "metadata": {},
   "outputs": [
    {
     "data": {
      "text/plain": [
       "2"
      ]
     },
     "execution_count": 33,
     "metadata": {},
     "output_type": "execute_result"
    }
   ],
   "source": [
    "spark.sparkContext.defaultParallelism"
   ]
  },
  {
   "cell_type": "code",
   "execution_count": 34,
   "id": "ad3fc7b5",
   "metadata": {},
   "outputs": [],
   "source": [
    "airlines_df = spark.read.csv(\"/public/airlines_all/airlines/\")"
   ]
  },
  {
   "cell_type": "code",
   "execution_count": 35,
   "id": "88f43c53",
   "metadata": {},
   "outputs": [
    {
     "data": {
      "text/plain": [
       "1919"
      ]
     },
     "execution_count": 35,
     "metadata": {},
     "output_type": "execute_result"
    }
   ],
   "source": [
    "airlines_df.rdd.getNumPartitions()"
   ]
  },
  {
   "cell_type": "markdown",
   "id": "a0930e05",
   "metadata": {},
   "source": [
    "Total Number of files\t 1,919 <br>\n",
    "Avg File Size\t64 <br>\n",
    "File Open Overhead\t4 <br>\n",
    "Size of one file\t68 <br>\n",
    "\n",
    "maxPartitionBytes = 128 MB : Only one file can file in one partition so 1919 partitions"
   ]
  },
  {
   "cell_type": "code",
   "execution_count": 37,
   "id": "73af5521",
   "metadata": {},
   "outputs": [
    {
     "data": {
      "text/plain": [
       "'134217728b'"
      ]
     },
     "execution_count": 37,
     "metadata": {},
     "output_type": "execute_result"
    }
   ],
   "source": [
    "spark.conf.get(\"spark.sql.files.maxPartitionBytes\")"
   ]
  },
  {
   "cell_type": "code",
   "execution_count": 38,
   "id": "cd925784",
   "metadata": {},
   "outputs": [
    {
     "data": {
      "text/plain": [
       "146800640"
      ]
     },
     "execution_count": 38,
     "metadata": {},
     "output_type": "execute_result"
    }
   ],
   "source": [
    "140 * 1024 * 1024"
   ]
  },
  {
   "cell_type": "code",
   "execution_count": 40,
   "id": "3d90b8a0",
   "metadata": {},
   "outputs": [],
   "source": [
    "spark = SparkSession.builder.appName(\"Week9_Assignment\"). \\\n",
    "            config(\"spark.dynamicAllocation.enabled\",\"false\"). \\\n",
    "            config(\"spark.sql.files.maxPartitionBytes\",\"146800640b\"). \\\n",
    "            config(\"spark.sql.warehouse.dir\",\"/user/itv012857/warehouse/\"). \\\n",
    "            enableHiveSupport(). \\\n",
    "            master(\"yarn\"). \\\n",
    "            getOrCreate()"
   ]
  },
  {
   "cell_type": "code",
   "execution_count": 42,
   "id": "b55db59e",
   "metadata": {},
   "outputs": [],
   "source": [
    "airlines_df2 = spark.read.csv(\"/public/airlines_all/airlines/\")"
   ]
  },
  {
   "cell_type": "code",
   "execution_count": 44,
   "id": "f87c095c",
   "metadata": {},
   "outputs": [
    {
     "data": {
      "text/plain": [
       "960"
      ]
     },
     "execution_count": 44,
     "metadata": {},
     "output_type": "execute_result"
    }
   ],
   "source": [
    "airlines_df2.rdd.getNumPartitions()"
   ]
  },
  {
   "cell_type": "markdown",
   "id": "00039a61",
   "metadata": {},
   "source": [
    "Two files can fit in one partition so 960 partitions"
   ]
  },
  {
   "cell_type": "code",
   "execution_count": null,
   "id": "cc3eec8a",
   "metadata": {},
   "outputs": [],
   "source": []
  }
 ],
 "metadata": {
  "kernelspec": {
   "display_name": "Pyspark 3",
   "language": "python",
   "name": "pyspark3"
  },
  "language_info": {
   "codemirror_mode": {
    "name": "ipython",
    "version": 3
   },
   "file_extension": ".py",
   "mimetype": "text/x-python",
   "name": "python",
   "nbconvert_exporter": "python",
   "pygments_lexer": "ipython3",
   "version": "3.6.12"
  }
 },
 "nbformat": 4,
 "nbformat_minor": 5
}
