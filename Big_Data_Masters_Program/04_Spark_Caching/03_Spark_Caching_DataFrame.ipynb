{
 "cells": [
  {
   "cell_type": "code",
   "execution_count": 1,
   "id": "174f5120-d750-45b7-83bd-88cd5433b2ec",
   "metadata": {},
   "outputs": [],
   "source": [
    "from pyspark.sql import SparkSession"
   ]
  },
  {
   "cell_type": "code",
   "execution_count": 4,
   "id": "7ebc2137-f3db-40b0-9b35-b9e4a7c3893f",
   "metadata": {},
   "outputs": [
    {
     "name": "stderr",
     "output_type": "stream",
     "text": [
      "24/07/30 14:39:07 WARN Utils: Your hostname, myspark resolves to a loopback address: 127.0.1.1; using 10.0.2.15 instead (on interface enp0s3)\n",
      "24/07/30 14:39:07 WARN Utils: Set SPARK_LOCAL_IP if you need to bind to another address\n",
      "Setting default log level to \"WARN\".\n",
      "To adjust logging level use sc.setLogLevel(newLevel). For SparkR, use setLogLevel(newLevel).\n",
      "24/07/30 14:39:09 WARN NativeCodeLoader: Unable to load native-hadoop library for your platform... using builtin-java classes where applicable\n"
     ]
    }
   ],
   "source": [
    "spark = SparkSession. \\\n",
    "builder. \\\n",
    "appName(\"SparkCaching1\"). \\\n",
    "enableHiveSupport(). \\\n",
    "getOrCreate()"
   ]
  },
  {
   "cell_type": "code",
   "execution_count": 5,
   "id": "8ea697ea-0777-4b24-a86f-884008dc0b8f",
   "metadata": {},
   "outputs": [
    {
     "data": {
      "text/html": [
       "\n",
       "            <div>\n",
       "                <p><b>SparkSession - hive</b></p>\n",
       "                \n",
       "        <div>\n",
       "            <p><b>SparkContext</b></p>\n",
       "\n",
       "            <p><a href=\"http://10.0.2.15:4040\">Spark UI</a></p>\n",
       "\n",
       "            <dl>\n",
       "              <dt>Version</dt>\n",
       "                <dd><code>v3.5.1</code></dd>\n",
       "              <dt>Master</dt>\n",
       "                <dd><code>local[*]</code></dd>\n",
       "              <dt>AppName</dt>\n",
       "                <dd><code>SparkCaching1</code></dd>\n",
       "            </dl>\n",
       "        </div>\n",
       "        \n",
       "            </div>\n",
       "        "
      ],
      "text/plain": [
       "<pyspark.sql.session.SparkSession at 0x7f10172dce80>"
      ]
     },
     "execution_count": 5,
     "metadata": {},
     "output_type": "execute_result"
    }
   ],
   "source": [
    "spark"
   ]
  },
  {
   "cell_type": "code",
   "execution_count": 7,
   "id": "33b4682c-a354-4c50-861f-2b674faaf9ee",
   "metadata": {},
   "outputs": [
    {
     "name": "stdout",
     "output_type": "stream",
     "text": [
      "1001,2023-05-15,1001,49.99\n",
      "1002,2023-05-16,1002,29.99\n",
      "1003,2023-05-17,1003,39.99\n",
      "1004,2023-05-18,1004,19.99\n",
      "1005,2023-05-19,1005,24.99\n",
      "1001,2023-05-20,1002,29.99\n",
      "1002,2023-05-21,1003,39.99\n",
      "1003,2023-05-22,1004,19.99\n",
      "1004,2023-05-23,1005,24.99\n",
      "1005,2023-05-24,1001,49.99\n"
     ]
    }
   ],
   "source": [
    "! head /home/vboxuser/jupyter_notebooks/Data/cust_transf.csv"
   ]
  },
  {
   "cell_type": "code",
   "execution_count": 8,
   "id": "bfd55036-fbdb-4a2e-8fef-28b4a4957ef2",
   "metadata": {},
   "outputs": [],
   "source": [
    "cust_trans_schema = \"cust_id long, purchase_date date, prod_id long, amount double\""
   ]
  },
  {
   "cell_type": "code",
   "execution_count": 10,
   "id": "adb5a399-7419-468a-815d-3cab179b153e",
   "metadata": {},
   "outputs": [],
   "source": [
    "cust_trans_df = spark.read.csv(\"/home/vboxuser/jupyter_notebooks/Data/cust_transf.csv\", schema = cust_trans_schema)"
   ]
  },
  {
   "cell_type": "code",
   "execution_count": 11,
   "id": "bec83c61-24f0-47cb-9b21-8f96373604e3",
   "metadata": {},
   "outputs": [
    {
     "name": "stderr",
     "output_type": "stream",
     "text": [
      "                                                                                \r"
     ]
    },
    {
     "name": "stdout",
     "output_type": "stream",
     "text": [
      "+-------+-------------+-------+------+\n",
      "|cust_id|purchase_date|prod_id|amount|\n",
      "+-------+-------------+-------+------+\n",
      "|   1001|   2023-05-15|   1001| 49.99|\n",
      "|   1002|   2023-05-16|   1002| 29.99|\n",
      "|   1003|   2023-05-17|   1003| 39.99|\n",
      "|   1004|   2023-05-18|   1004| 19.99|\n",
      "|   1005|   2023-05-19|   1005| 24.99|\n",
      "|   1001|   2023-05-20|   1002| 29.99|\n",
      "|   1002|   2023-05-21|   1003| 39.99|\n",
      "|   1003|   2023-05-22|   1004| 19.99|\n",
      "|   1004|   2023-05-23|   1005| 24.99|\n",
      "|   1005|   2023-05-24|   1001| 49.99|\n",
      "|   1001|   2023-05-25|   1003| 39.99|\n",
      "|   1002|   2023-05-26|   1004| 19.99|\n",
      "|   1003|   2023-05-27|   1005| 24.99|\n",
      "|   1004|   2023-05-28|   1001| 49.99|\n",
      "|   1005|   2023-05-29|   1002| 29.99|\n",
      "|   1001|   2023-05-30|   1003| 39.99|\n",
      "|   1002|   2023-05-31|   1004| 19.99|\n",
      "|   1003|   2023-06-01|   1005| 24.99|\n",
      "|   1004|   2023-06-02|   1001| 49.99|\n",
      "|   1005|   2023-06-03|   1002| 29.99|\n",
      "+-------+-------------+-------+------+\n",
      "only showing top 20 rows\n",
      "\n"
     ]
    }
   ],
   "source": [
    "cust_trans_df.show()"
   ]
  },
  {
   "cell_type": "code",
   "execution_count": 12,
   "id": "380cc90f-3247-4a86-ba09-a6a83e9a4961",
   "metadata": {},
   "outputs": [
    {
     "name": "stdout",
     "output_type": "stream",
     "text": [
      "root\n",
      " |-- cust_id: long (nullable = true)\n",
      " |-- purchase_date: date (nullable = true)\n",
      " |-- prod_id: long (nullable = true)\n",
      " |-- amount: double (nullable = true)\n",
      "\n"
     ]
    }
   ],
   "source": [
    "cust_trans_df.printSchema()"
   ]
  },
  {
   "cell_type": "code",
   "execution_count": 13,
   "id": "74bb55ba-5d93-4b75-bec7-756736b48ed8",
   "metadata": {},
   "outputs": [],
   "source": [
    "start_date = \"2023-05-01\"\n",
    "end_date = \"2023-06-30\""
   ]
  },
  {
   "cell_type": "code",
   "execution_count": 14,
   "id": "e47941bf-2091-4841-b6e5-7734de82e10f",
   "metadata": {},
   "outputs": [],
   "source": [
    "filtered_df = cust_trans_df. \\\n",
    "                filter( \\\n",
    "                       (cust_trans_df.purchase_date >= start_date) & \\\n",
    "                       (cust_trans_df.purchase_date <= end_date) \\\n",
    "                      )"
   ]
  },
  {
   "cell_type": "code",
   "execution_count": 15,
   "id": "31a1e581-b03d-4153-9766-61aee2b66ffc",
   "metadata": {},
   "outputs": [
    {
     "name": "stdout",
     "output_type": "stream",
     "text": [
      "+-------+-------------+-------+------+\n",
      "|cust_id|purchase_date|prod_id|amount|\n",
      "+-------+-------------+-------+------+\n",
      "|   1001|   2023-05-15|   1001| 49.99|\n",
      "|   1002|   2023-05-16|   1002| 29.99|\n",
      "|   1003|   2023-05-17|   1003| 39.99|\n",
      "|   1004|   2023-05-18|   1004| 19.99|\n",
      "|   1005|   2023-05-19|   1005| 24.99|\n",
      "|   1001|   2023-05-20|   1002| 29.99|\n",
      "|   1002|   2023-05-21|   1003| 39.99|\n",
      "|   1003|   2023-05-22|   1004| 19.99|\n",
      "|   1004|   2023-05-23|   1005| 24.99|\n",
      "|   1005|   2023-05-24|   1001| 49.99|\n",
      "|   1001|   2023-05-25|   1003| 39.99|\n",
      "|   1002|   2023-05-26|   1004| 19.99|\n",
      "|   1003|   2023-05-27|   1005| 24.99|\n",
      "|   1004|   2023-05-28|   1001| 49.99|\n",
      "|   1005|   2023-05-29|   1002| 29.99|\n",
      "|   1001|   2023-05-30|   1003| 39.99|\n",
      "|   1002|   2023-05-31|   1004| 19.99|\n",
      "|   1003|   2023-06-01|   1005| 24.99|\n",
      "|   1004|   2023-06-02|   1001| 49.99|\n",
      "|   1005|   2023-06-03|   1002| 29.99|\n",
      "+-------+-------------+-------+------+\n",
      "only showing top 20 rows\n",
      "\n"
     ]
    }
   ],
   "source": [
    "filtered_df.show()"
   ]
  },
  {
   "cell_type": "code",
   "execution_count": 16,
   "id": "82e780e7-308e-4e2c-875a-4644603e507d",
   "metadata": {},
   "outputs": [],
   "source": [
    "revenue_df = filtered_df. \\\n",
    "                groupBy(\"prod_id\"). \\\n",
    "                sum(\"amount\"). \\\n",
    "                withColumnRenamed(\"sum(amount)\",\"revenue\")"
   ]
  },
  {
   "cell_type": "code",
   "execution_count": 17,
   "id": "22423b6b-640a-4a6c-a8ac-9fd70e4ca984",
   "metadata": {},
   "outputs": [
    {
     "name": "stderr",
     "output_type": "stream",
     "text": [
      "[Stage 2:=====================================================>   (17 + 1) / 18]\r"
     ]
    },
    {
     "name": "stdout",
     "output_type": "stream",
     "text": [
      "+-------+--------------------+\n",
      "|prod_id|             revenue|\n",
      "+-------+--------------------+\n",
      "|   1001| 8.747870076028482E8|\n",
      "|   1003| 6.997946075949881E8|\n",
      "|   1002| 5.248022075897805E8|\n",
      "|   1005|4.3730600759333795E8|\n",
      "|   1004| 3.498098075985674E8|\n",
      "|   1015|  12537.909999999963|\n",
      "|   1014|  11492.909999999963|\n",
      "|   1013|  10447.909999999963|\n",
      "|   1012|   9402.909999999965|\n",
      "|   1011|   8357.909999999967|\n",
      "+-------+--------------------+\n",
      "\n"
     ]
    },
    {
     "name": "stderr",
     "output_type": "stream",
     "text": [
      "                                                                                \r"
     ]
    }
   ],
   "source": [
    "top_products_no_cache = revenue_df.sort(\"revenue\",ascending=False).limit(10).show()\n",
    "\n",
    "# Took 86 secs"
   ]
  },
  {
   "cell_type": "code",
   "execution_count": 18,
   "id": "dc17a969-a47c-4d56-b88e-bd3753374044",
   "metadata": {},
   "outputs": [],
   "source": [
    "cached_filtered_df = cust_trans_df. \\\n",
    "                filter( \\\n",
    "                       (cust_trans_df.purchase_date >= start_date) & \\\n",
    "                       (cust_trans_df.purchase_date <= end_date) \\\n",
    "                      ). \\\n",
    "                cache()"
   ]
  },
  {
   "cell_type": "code",
   "execution_count": 19,
   "id": "c96bb9ec-c8e1-4e68-b1e5-281dd55cab4e",
   "metadata": {},
   "outputs": [],
   "source": [
    "revenue_df_with_cache = cached_filtered_df. \\\n",
    "                groupBy(\"prod_id\"). \\\n",
    "                sum(\"amount\"). \\\n",
    "                withColumnRenamed(\"sum(amount)\",\"revenue\")"
   ]
  },
  {
   "cell_type": "code",
   "execution_count": 21,
   "id": "be00761d-6d0e-47b1-abbb-9c50783838cb",
   "metadata": {},
   "outputs": [
    {
     "name": "stderr",
     "output_type": "stream",
     "text": [
      "24/07/30 14:53:57 WARN MemoryStore: Not enough space to cache rdd_20_9 in memory! (computed 18.7 MiB so far)\n",
      "24/07/30 14:53:57 WARN BlockManager: Persisting block rdd_20_9 to disk instead.\n",
      "24/07/30 14:54:05 WARN MemoryStore: Not enough space to cache rdd_20_8 in memory! (computed 28.8 MiB so far)\n",
      "24/07/30 14:54:05 WARN BlockManager: Persisting block rdd_20_8 to disk instead.\n",
      "24/07/30 14:54:15 WARN MemoryStore: Not enough space to cache rdd_20_11 in memory! (computed 44.2 MiB so far)\n",
      "24/07/30 14:54:15 WARN BlockManager: Persisting block rdd_20_11 to disk instead.\n",
      "24/07/30 14:54:19 WARN MemoryStore: Not enough space to cache rdd_20_8 in memory! (computed 28.8 MiB so far)\n",
      "24/07/30 14:54:20 WARN MemoryStore: Not enough space to cache rdd_20_11 in memory! (computed 28.8 MiB so far)\n",
      "24/07/30 14:54:20 WARN MemoryStore: Not enough space to cache rdd_20_9 in memory! (computed 28.8 MiB so far)\n",
      "24/07/30 14:54:27 WARN MemoryStore: Not enough space to cache rdd_20_14 in memory! (computed 11.9 MiB so far)\n",
      "24/07/30 14:54:27 WARN BlockManager: Persisting block rdd_20_14 to disk instead.\n",
      "24/07/30 14:54:31 WARN MemoryStore: Not enough space to cache rdd_20_12 in memory! (computed 18.7 MiB so far)\n",
      "24/07/30 14:54:31 WARN BlockManager: Persisting block rdd_20_12 to disk instead.\n",
      "24/07/30 14:54:40 WARN MemoryStore: Not enough space to cache rdd_20_13 in memory! (computed 28.8 MiB so far)\n",
      "24/07/30 14:54:40 WARN BlockManager: Persisting block rdd_20_13 to disk instead.\n",
      "24/07/30 14:54:49 WARN MemoryStore: Not enough space to cache rdd_20_15 in memory! (computed 44.2 MiB so far)\n",
      "24/07/30 14:54:49 WARN BlockManager: Persisting block rdd_20_15 to disk instead.\n",
      "24/07/30 14:54:52 WARN MemoryStore: Not enough space to cache rdd_20_12 in memory! (computed 44.2 MiB so far)\n",
      "24/07/30 14:54:54 WARN MemoryStore: Not enough space to cache rdd_20_16 in memory! (computed 1837.0 KiB so far)\n",
      "24/07/30 14:54:54 WARN MemoryStore: Not enough space to cache rdd_20_13 in memory! (computed 28.8 MiB so far)\n",
      "24/07/30 14:54:54 WARN BlockManager: Persisting block rdd_20_16 to disk instead.\n",
      "24/07/30 14:54:54 WARN MemoryStore: Failed to reserve initial memory threshold of 1024.0 KiB for computing block rdd_20_15 in memory.\n",
      "24/07/30 14:54:54 WARN MemoryStore: Not enough space to cache rdd_20_15 in memory! (computed 384.0 B so far)\n",
      "24/07/30 14:54:54 WARN MemoryStore: Not enough space to cache rdd_20_14 in memory! (computed 44.2 MiB so far)\n",
      "24/07/30 14:54:54 WARN MemoryStore: Not enough space to cache rdd_20_9 in memory! (computed 28.8 MiB so far)\n",
      "24/07/30 14:54:54 WARN MemoryStore: Not enough space to cache rdd_20_11 in memory! (computed 11.9 MiB so far)\n",
      "24/07/30 14:54:54 WARN MemoryStore: Not enough space to cache rdd_20_8 in memory! (computed 44.2 MiB so far)\n",
      "24/07/30 14:54:54 WARN MemoryStore: Not enough space to cache rdd_20_12 in memory! (computed 28.8 MiB so far)\n",
      "24/07/30 14:54:54 WARN MemoryStore: Not enough space to cache rdd_20_13 in memory! (computed 28.8 MiB so far)\n",
      "24/07/30 14:54:55 WARN MemoryStore: Not enough space to cache rdd_20_14 in memory! (computed 28.8 MiB so far)\n",
      "24/07/30 14:54:55 WARN MemoryStore: Not enough space to cache rdd_20_15 in memory! (computed 44.2 MiB so far)\n",
      "24/07/30 14:55:15 WARN MemoryStore: Not enough space to cache rdd_20_16 in memory! (computed 18.7 MiB so far)\n",
      "24/07/30 14:55:15 WARN MemoryStore: Not enough space to cache rdd_20_16 in memory! (computed 18.7 MiB so far)\n",
      "24/07/30 14:55:17 WARN MemoryStore: Not enough space to cache rdd_20_8 in memory! (computed 11.9 MiB so far)\n",
      "24/07/30 14:55:17 WARN MemoryStore: Not enough space to cache rdd_20_11 in memory! (computed 18.7 MiB so far)\n",
      "24/07/30 14:55:18 WARN MemoryStore: Not enough space to cache rdd_20_13 in memory! (computed 3.5 MiB so far)\n",
      "24/07/30 14:55:19 WARN MemoryStore: Not enough space to cache rdd_20_14 in memory! (computed 28.8 MiB so far)\n",
      "24/07/30 14:55:19 WARN MemoryStore: Not enough space to cache rdd_20_15 in memory! (computed 28.8 MiB so far)\n",
      "24/07/30 14:55:19 WARN MemoryStore: Not enough space to cache rdd_20_17 in memory! (computed 18.7 MiB so far)\n",
      "24/07/30 14:55:19 WARN MemoryStore: Not enough space to cache rdd_20_16 in memory! (computed 44.2 MiB so far)\n",
      "24/07/30 14:55:20 WARN MemoryStore: Not enough space to cache rdd_20_0 in memory! (computed 44.2 MiB so far)\n",
      "24/07/30 14:55:20 WARN MemoryStore: Not enough space to cache rdd_20_3 in memory! (computed 3.5 MiB so far)\n",
      "24/07/30 14:55:20 WARN MemoryStore: Not enough space to cache rdd_20_2 in memory! (computed 28.8 MiB so far)\n",
      "24/07/30 14:55:22 WARN MemoryStore: Not enough space to cache rdd_20_11 in memory! (computed 18.7 MiB so far)\n",
      "24/07/30 14:55:22 WARN MemoryStore: Not enough space to cache rdd_20_15 in memory! (computed 11.9 MiB so far)\n",
      "24/07/30 14:55:22 WARN MemoryStore: Not enough space to cache rdd_20_13 in memory! (computed 18.7 MiB so far)\n",
      "24/07/30 14:55:23 WARN MemoryStore: Not enough space to cache rdd_20_16 in memory! (computed 44.2 MiB so far)\n"
     ]
    },
    {
     "name": "stdout",
     "output_type": "stream",
     "text": [
      "+-------+--------------------+\n",
      "|prod_id|             revenue|\n",
      "+-------+--------------------+\n",
      "|   1001| 8.747870076028482E8|\n",
      "|   1003| 6.997946075949881E8|\n",
      "|   1002| 5.248022075897805E8|\n",
      "|   1005|4.3730600759333795E8|\n",
      "|   1004| 3.498098075985674E8|\n",
      "|   1015|  12537.909999999963|\n",
      "|   1014|  11492.909999999963|\n",
      "|   1013|  10447.909999999963|\n",
      "|   1012|   9402.909999999965|\n",
      "|   1011|   8357.909999999967|\n",
      "+-------+--------------------+\n",
      "\n"
     ]
    },
    {
     "name": "stderr",
     "output_type": "stream",
     "text": [
      "                                                                                \r"
     ]
    }
   ],
   "source": [
    "top_products_with_cache = revenue_df_with_cache.sort(\"revenue\",ascending=False).limit(10).show()"
   ]
  },
  {
   "cell_type": "code",
   "execution_count": 22,
   "id": "01ba1d92-5767-4652-9fc1-dce9d0473226",
   "metadata": {},
   "outputs": [
    {
     "data": {
      "text/plain": [
       "DataFrame[cust_id: bigint, purchase_date: date, prod_id: bigint, amount: double]"
      ]
     },
     "execution_count": 22,
     "metadata": {},
     "output_type": "execute_result"
    }
   ],
   "source": [
    "cached_filtered_df.unpersist()"
   ]
  },
  {
   "cell_type": "code",
   "execution_count": 23,
   "id": "cbb38756-c4ee-4ca1-b7e6-c4a4e1756144",
   "metadata": {},
   "outputs": [],
   "source": [
    "spark.stop()"
   ]
  },
  {
   "cell_type": "code",
   "execution_count": null,
   "id": "46ccd055-251f-4bd5-aaa3-96af515f8c86",
   "metadata": {},
   "outputs": [],
   "source": []
  }
 ],
 "metadata": {
  "kernelspec": {
   "display_name": "Python 3 (ipykernel)",
   "language": "python",
   "name": "python3"
  },
  "language_info": {
   "codemirror_mode": {
    "name": "ipython",
    "version": 3
   },
   "file_extension": ".py",
   "mimetype": "text/x-python",
   "name": "python",
   "nbconvert_exporter": "python",
   "pygments_lexer": "ipython3",
   "version": "3.10.12"
  }
 },
 "nbformat": 4,
 "nbformat_minor": 5
}
