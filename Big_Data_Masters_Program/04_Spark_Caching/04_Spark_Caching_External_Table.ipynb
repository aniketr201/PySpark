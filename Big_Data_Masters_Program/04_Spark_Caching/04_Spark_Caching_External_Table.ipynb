{
 "cells": [
  {
   "cell_type": "code",
   "execution_count": 1,
   "id": "b54eaaac",
   "metadata": {},
   "outputs": [],
   "source": [
    "from pyspark.sql import SparkSession"
   ]
  },
  {
   "cell_type": "code",
   "execution_count": 2,
   "id": "1c80d197",
   "metadata": {},
   "outputs": [],
   "source": [
    "spark = SparkSession.builder.appName(\"SparkCaching2\"). \\\n",
    "          config(\"spark.sql.warehouse.dir\",\"/user/itv012857/warehouse\"). \\\n",
    "          enableHiveSupport(). \\\n",
    "          master(\"yarn\"). \\\n",
    "          getOrCreate()"
   ]
  },
  {
   "cell_type": "code",
   "execution_count": 3,
   "id": "ef06f5c2",
   "metadata": {},
   "outputs": [
    {
     "name": "stdout",
     "output_type": "stream",
     "text": [
      "1,John Doe,2023-05-01,2023-05-05,Standard,400.0\n",
      "2,Jane Smith,2023-05-02,2023-05-06,Deluxe,600.0\n",
      "3,Mark Johnson,2023-05-03,2023-05-08,Standard,450.0\n",
      "4,Sarah Wilson,2023-05-04,2023-05-07,Executive,750.0\n",
      "5,Emily Brown,2023-05-06,2023-05-09,Deluxe,550.0\n",
      "6,Michael Davis,2023-05-07,2023-05-10,Standard,400.0\n",
      "7,Samantha Thompson,2023-05-08,2023-05-12,Deluxe,600.0\n",
      "8,William Lee,2023-05-10,2023-05-13,Standard,450.0\n",
      "9,Amanda Harris,2023-05-11,2023-05-16,Executive,750.0\n",
      "10,David Rodriguez,2023-05-12,2023-05-15,Deluxe,550.0\n",
      "11,Linda Wilson,2023-05-14,2023-05-18,Standard,400.0\n",
      "12,Robert Johnson,2023-05-15,2023-05-20,Deluxe,600.0\n",
      "13,Sophia Anderson,2023-05-16,2023-05-21,Standard,450.0\n",
      "14,James Smith,2023-05-17,2023-05-23,Executive,750.0\n",
      "15,Olivia Brown,2023-05-19,2023-05-24,Deluxe,550.0\n",
      "16,Michael Davis,2023-05-20,2023-05-25,Standard,400.0\n",
      "17,Emily Thompson,2023-05-21,2023-05-27,Deluxe,600.0\n",
      "18,William Lee,2023-05-23,2023-05-28,Standard,450.0\n",
      "19,Ava Harris,2023-05-24,2023-05-30,Executive,750.0\n",
      "20,Daniel Rodriguez,2023-05-25"
     ]
    }
   ],
   "source": [
    "! hadoop fs -head /public/trendytech/datasets/hotel_data.csv"
   ]
  },
  {
   "cell_type": "code",
   "execution_count": 4,
   "id": "a0f32112",
   "metadata": {},
   "outputs": [
    {
     "name": "stdout",
     "output_type": "stream",
     "text": [
      "-rw-r--r--   3 itv005857 supergroup      5.6 K 2023-06-05 02:31 /public/trendytech/datasets/hotel_data.csv\n"
     ]
    }
   ],
   "source": [
    "! hadoop fs -ls -h /public/trendytech/datasets/hotel_data.csv"
   ]
  },
  {
   "cell_type": "markdown",
   "id": "ca358d88",
   "metadata": {},
   "source": [
    "### A. Testing the impact of caching using Data Frame"
   ]
  },
  {
   "cell_type": "code",
   "execution_count": 5,
   "id": "acc86fda",
   "metadata": {},
   "outputs": [],
   "source": [
    "hotel_bookings_schema = \"booking_id int, guest_name string, checkin_date date, checkout_date date, room_type string, total_price double\""
   ]
  },
  {
   "cell_type": "code",
   "execution_count": 6,
   "id": "698f39bf",
   "metadata": {},
   "outputs": [],
   "source": [
    "hotel_bookings = spark.read.csv(\"/public/trendytech/datasets/hotel_data.csv\", schema = hotel_bookings_schema)"
   ]
  },
  {
   "cell_type": "code",
   "execution_count": 7,
   "id": "c6689a48",
   "metadata": {},
   "outputs": [
    {
     "name": "stdout",
     "output_type": "stream",
     "text": [
      "+----------+-----------------+------------+-------------+---------+-----------+\n",
      "|booking_id|       guest_name|checkin_date|checkout_date|room_type|total_price|\n",
      "+----------+-----------------+------------+-------------+---------+-----------+\n",
      "|         1|         John Doe|  2023-05-01|   2023-05-05| Standard|      400.0|\n",
      "|         2|       Jane Smith|  2023-05-02|   2023-05-06|   Deluxe|      600.0|\n",
      "|         3|     Mark Johnson|  2023-05-03|   2023-05-08| Standard|      450.0|\n",
      "|         4|     Sarah Wilson|  2023-05-04|   2023-05-07|Executive|      750.0|\n",
      "|         5|      Emily Brown|  2023-05-06|   2023-05-09|   Deluxe|      550.0|\n",
      "|         6|    Michael Davis|  2023-05-07|   2023-05-10| Standard|      400.0|\n",
      "|         7|Samantha Thompson|  2023-05-08|   2023-05-12|   Deluxe|      600.0|\n",
      "|         8|      William Lee|  2023-05-10|   2023-05-13| Standard|      450.0|\n",
      "|         9|    Amanda Harris|  2023-05-11|   2023-05-16|Executive|      750.0|\n",
      "|        10|  David Rodriguez|  2023-05-12|   2023-05-15|   Deluxe|      550.0|\n",
      "|        11|     Linda Wilson|  2023-05-14|   2023-05-18| Standard|      400.0|\n",
      "|        12|   Robert Johnson|  2023-05-15|   2023-05-20|   Deluxe|      600.0|\n",
      "|        13|  Sophia Anderson|  2023-05-16|   2023-05-21| Standard|      450.0|\n",
      "|        14|      James Smith|  2023-05-17|   2023-05-23|Executive|      750.0|\n",
      "|        15|     Olivia Brown|  2023-05-19|   2023-05-24|   Deluxe|      550.0|\n",
      "|        16|    Michael Davis|  2023-05-20|   2023-05-25| Standard|      400.0|\n",
      "|        17|   Emily Thompson|  2023-05-21|   2023-05-27|   Deluxe|      600.0|\n",
      "|        18|      William Lee|  2023-05-23|   2023-05-28| Standard|      450.0|\n",
      "|        19|       Ava Harris|  2023-05-24|   2023-05-30|Executive|      750.0|\n",
      "|        20| Daniel Rodriguez|  2023-05-25|   2023-05-29|   Deluxe|      550.0|\n",
      "+----------+-----------------+------------+-------------+---------+-----------+\n",
      "only showing top 20 rows\n",
      "\n"
     ]
    }
   ],
   "source": [
    "hotel_bookings.show()"
   ]
  },
  {
   "cell_type": "code",
   "execution_count": 8,
   "id": "96e69c79",
   "metadata": {},
   "outputs": [
    {
     "name": "stdout",
     "output_type": "stream",
     "text": [
      "root\n",
      " |-- booking_id: integer (nullable = true)\n",
      " |-- guest_name: string (nullable = true)\n",
      " |-- checkin_date: date (nullable = true)\n",
      " |-- checkout_date: date (nullable = true)\n",
      " |-- room_type: string (nullable = true)\n",
      " |-- total_price: double (nullable = true)\n",
      "\n"
     ]
    }
   ],
   "source": [
    "hotel_bookings.printSchema()"
   ]
  },
  {
   "cell_type": "markdown",
   "id": "212a7bb9",
   "metadata": {},
   "source": [
    "#### 1. Total number of bookings"
   ]
  },
  {
   "cell_type": "code",
   "execution_count": 9,
   "id": "33254b36",
   "metadata": {},
   "outputs": [
    {
     "data": {
      "text/plain": [
       "107"
      ]
     },
     "execution_count": 9,
     "metadata": {},
     "output_type": "execute_result"
    }
   ],
   "source": [
    "hotel_bookings.count()\n",
    "\n",
    "# Took 1 sec"
   ]
  },
  {
   "cell_type": "code",
   "execution_count": 10,
   "id": "c70a3b6c",
   "metadata": {},
   "outputs": [],
   "source": [
    "hotel_bookings_cached = hotel_bookings.cache()"
   ]
  },
  {
   "cell_type": "code",
   "execution_count": 11,
   "id": "b13f938b",
   "metadata": {},
   "outputs": [
    {
     "data": {
      "text/plain": [
       "107"
      ]
     },
     "execution_count": 11,
     "metadata": {},
     "output_type": "execute_result"
    }
   ],
   "source": [
    "hotel_bookings_cached.count()\n",
    "\n",
    "# First time - took 0.2 secs to cache and count"
   ]
  },
  {
   "cell_type": "code",
   "execution_count": 12,
   "id": "7b634805",
   "metadata": {},
   "outputs": [
    {
     "data": {
      "text/plain": [
       "107"
      ]
     },
     "execution_count": 12,
     "metadata": {},
     "output_type": "execute_result"
    }
   ],
   "source": [
    "hotel_bookings_cached.count()\n",
    "\n",
    "# Second time - took only 41 msecs to read from cache and count"
   ]
  },
  {
   "cell_type": "markdown",
   "id": "5d72f159",
   "metadata": {},
   "source": [
    "#### 2. Average Price by room type"
   ]
  },
  {
   "cell_type": "code",
   "execution_count": 17,
   "id": "036e9e2f",
   "metadata": {},
   "outputs": [
    {
     "name": "stdout",
     "output_type": "stream",
     "text": [
      "+---------+-----------------+\n",
      "|room_type| avg(total_price)|\n",
      "+---------+-----------------+\n",
      "|Executive|            750.0|\n",
      "|   Deluxe|575.5813953488372|\n",
      "| Standard|            425.0|\n",
      "+---------+-----------------+\n",
      "\n"
     ]
    }
   ],
   "source": [
    "hotel_bookings.groupBy(\"room_type\").avg(\"total_price\").show()\n",
    "\n",
    "# Took 0.4 secs"
   ]
  },
  {
   "cell_type": "markdown",
   "id": "54c7d511",
   "metadata": {},
   "source": [
    "### B. Caching Spark External table"
   ]
  },
  {
   "cell_type": "code",
   "execution_count": 25,
   "id": "2da9c1ac",
   "metadata": {},
   "outputs": [
    {
     "data": {
      "text/html": [
       "<table border='1'>\n",
       "<tr><th>namespace</th></tr>\n",
       "<tr><td>itv012857_db</td></tr>\n",
       "</table>\n"
      ],
      "text/plain": [
       "+------------+\n",
       "|   namespace|\n",
       "+------------+\n",
       "|itv012857_db|\n",
       "+------------+"
      ]
     },
     "execution_count": 25,
     "metadata": {},
     "output_type": "execute_result"
    }
   ],
   "source": [
    "spark.sql(\"show databases\").filter(\"namespace like '%12857%'\")"
   ]
  },
  {
   "cell_type": "code",
   "execution_count": 27,
   "id": "dd2dce23",
   "metadata": {},
   "outputs": [
    {
     "data": {
      "text/html": [
       "<table border='1'>\n",
       "<tr><th></th></tr>\n",
       "</table>\n"
      ],
      "text/plain": [
       "++\n",
       "||\n",
       "++\n",
       "++"
      ]
     },
     "execution_count": 27,
     "metadata": {},
     "output_type": "execute_result"
    }
   ],
   "source": [
    "spark.sql(\"use itv012857_db\")"
   ]
  },
  {
   "cell_type": "code",
   "execution_count": 29,
   "id": "8d50542c",
   "metadata": {},
   "outputs": [
    {
     "data": {
      "text/html": [
       "<table border='1'>\n",
       "<tr><th></th></tr>\n",
       "</table>\n"
      ],
      "text/plain": [
       "++\n",
       "||\n",
       "++\n",
       "++"
      ]
     },
     "execution_count": 29,
     "metadata": {},
     "output_type": "execute_result"
    }
   ],
   "source": [
    "spark.sql(\"\"\"CREATE TABLE hotel_bookings(booking_id int, guest_name string, checkin_date date,\n",
    "                checkout_date date, room_type string, total_price double)\n",
    "                USING CSV\n",
    "                LOCATION '/public/trendytech/datasets/hotel_data.csv'\n",
    "                \"\"\")"
   ]
  },
  {
   "cell_type": "code",
   "execution_count": 30,
   "id": "622bfcac",
   "metadata": {},
   "outputs": [
    {
     "data": {
      "text/html": [
       "<table border='1'>\n",
       "<tr><th>booking_id</th><th>guest_name</th><th>checkin_date</th><th>checkout_date</th><th>room_type</th><th>total_price</th></tr>\n",
       "<tr><td>1</td><td>John Doe</td><td>2023-05-01</td><td>2023-05-05</td><td>Standard</td><td>400.0</td></tr>\n",
       "<tr><td>2</td><td>Jane Smith</td><td>2023-05-02</td><td>2023-05-06</td><td>Deluxe</td><td>600.0</td></tr>\n",
       "<tr><td>3</td><td>Mark Johnson</td><td>2023-05-03</td><td>2023-05-08</td><td>Standard</td><td>450.0</td></tr>\n",
       "<tr><td>4</td><td>Sarah Wilson</td><td>2023-05-04</td><td>2023-05-07</td><td>Executive</td><td>750.0</td></tr>\n",
       "<tr><td>5</td><td>Emily Brown</td><td>2023-05-06</td><td>2023-05-09</td><td>Deluxe</td><td>550.0</td></tr>\n",
       "<tr><td>6</td><td>Michael Davis</td><td>2023-05-07</td><td>2023-05-10</td><td>Standard</td><td>400.0</td></tr>\n",
       "<tr><td>7</td><td>Samantha Thompson</td><td>2023-05-08</td><td>2023-05-12</td><td>Deluxe</td><td>600.0</td></tr>\n",
       "<tr><td>8</td><td>William Lee</td><td>2023-05-10</td><td>2023-05-13</td><td>Standard</td><td>450.0</td></tr>\n",
       "<tr><td>9</td><td>Amanda Harris</td><td>2023-05-11</td><td>2023-05-16</td><td>Executive</td><td>750.0</td></tr>\n",
       "<tr><td>10</td><td>David Rodriguez</td><td>2023-05-12</td><td>2023-05-15</td><td>Deluxe</td><td>550.0</td></tr>\n",
       "<tr><td>11</td><td>Linda Wilson</td><td>2023-05-14</td><td>2023-05-18</td><td>Standard</td><td>400.0</td></tr>\n",
       "<tr><td>12</td><td>Robert Johnson</td><td>2023-05-15</td><td>2023-05-20</td><td>Deluxe</td><td>600.0</td></tr>\n",
       "<tr><td>13</td><td>Sophia Anderson</td><td>2023-05-16</td><td>2023-05-21</td><td>Standard</td><td>450.0</td></tr>\n",
       "<tr><td>14</td><td>James Smith</td><td>2023-05-17</td><td>2023-05-23</td><td>Executive</td><td>750.0</td></tr>\n",
       "<tr><td>15</td><td>Olivia Brown</td><td>2023-05-19</td><td>2023-05-24</td><td>Deluxe</td><td>550.0</td></tr>\n",
       "<tr><td>16</td><td>Michael Davis</td><td>2023-05-20</td><td>2023-05-25</td><td>Standard</td><td>400.0</td></tr>\n",
       "<tr><td>17</td><td>Emily Thompson</td><td>2023-05-21</td><td>2023-05-27</td><td>Deluxe</td><td>600.0</td></tr>\n",
       "<tr><td>18</td><td>William Lee</td><td>2023-05-23</td><td>2023-05-28</td><td>Standard</td><td>450.0</td></tr>\n",
       "<tr><td>19</td><td>Ava Harris</td><td>2023-05-24</td><td>2023-05-30</td><td>Executive</td><td>750.0</td></tr>\n",
       "<tr><td>20</td><td>Daniel Rodriguez</td><td>2023-05-25</td><td>2023-05-29</td><td>Deluxe</td><td>550.0</td></tr>\n",
       "</table>\n",
       "only showing top 20 rows\n"
      ],
      "text/plain": [
       "+----------+-----------------+------------+-------------+---------+-----------+\n",
       "|booking_id|       guest_name|checkin_date|checkout_date|room_type|total_price|\n",
       "+----------+-----------------+------------+-------------+---------+-----------+\n",
       "|         1|         John Doe|  2023-05-01|   2023-05-05| Standard|      400.0|\n",
       "|         2|       Jane Smith|  2023-05-02|   2023-05-06|   Deluxe|      600.0|\n",
       "|         3|     Mark Johnson|  2023-05-03|   2023-05-08| Standard|      450.0|\n",
       "|         4|     Sarah Wilson|  2023-05-04|   2023-05-07|Executive|      750.0|\n",
       "|         5|      Emily Brown|  2023-05-06|   2023-05-09|   Deluxe|      550.0|\n",
       "|         6|    Michael Davis|  2023-05-07|   2023-05-10| Standard|      400.0|\n",
       "|         7|Samantha Thompson|  2023-05-08|   2023-05-12|   Deluxe|      600.0|\n",
       "|         8|      William Lee|  2023-05-10|   2023-05-13| Standard|      450.0|\n",
       "|         9|    Amanda Harris|  2023-05-11|   2023-05-16|Executive|      750.0|\n",
       "|        10|  David Rodriguez|  2023-05-12|   2023-05-15|   Deluxe|      550.0|\n",
       "|        11|     Linda Wilson|  2023-05-14|   2023-05-18| Standard|      400.0|\n",
       "|        12|   Robert Johnson|  2023-05-15|   2023-05-20|   Deluxe|      600.0|\n",
       "|        13|  Sophia Anderson|  2023-05-16|   2023-05-21| Standard|      450.0|\n",
       "|        14|      James Smith|  2023-05-17|   2023-05-23|Executive|      750.0|\n",
       "|        15|     Olivia Brown|  2023-05-19|   2023-05-24|   Deluxe|      550.0|\n",
       "|        16|    Michael Davis|  2023-05-20|   2023-05-25| Standard|      400.0|\n",
       "|        17|   Emily Thompson|  2023-05-21|   2023-05-27|   Deluxe|      600.0|\n",
       "|        18|      William Lee|  2023-05-23|   2023-05-28| Standard|      450.0|\n",
       "|        19|       Ava Harris|  2023-05-24|   2023-05-30|Executive|      750.0|\n",
       "|        20| Daniel Rodriguez|  2023-05-25|   2023-05-29|   Deluxe|      550.0|\n",
       "+----------+-----------------+------------+-------------+---------+-----------+\n",
       "only showing top 20 rows"
      ]
     },
     "execution_count": 30,
     "metadata": {},
     "output_type": "execute_result"
    }
   ],
   "source": [
    "spark.sql(\"\"\"SELECT * FROM hotel_bookings\"\"\")"
   ]
  },
  {
   "cell_type": "code",
   "execution_count": 31,
   "id": "83067e95",
   "metadata": {},
   "outputs": [
    {
     "data": {
      "text/html": [
       "<table border='1'>\n",
       "<tr><th>count(1)</th></tr>\n",
       "<tr><td>107</td></tr>\n",
       "</table>\n"
      ],
      "text/plain": [
       "+--------+\n",
       "|count(1)|\n",
       "+--------+\n",
       "|     107|\n",
       "+--------+"
      ]
     },
     "execution_count": 31,
     "metadata": {},
     "output_type": "execute_result"
    }
   ],
   "source": [
    "spark.sql(\"\"\"SELECT count(1) FROM hotel_bookings\"\"\")\n",
    "\n",
    "# 74ms"
   ]
  },
  {
   "cell_type": "code",
   "execution_count": 32,
   "id": "2b5cd91f",
   "metadata": {},
   "outputs": [
    {
     "data": {
      "text/html": [
       "<table border='1'>\n",
       "<tr><th>room_type</th><th>avg(total_price)</th></tr>\n",
       "<tr><td>Executive</td><td>750.0</td></tr>\n",
       "<tr><td>Deluxe</td><td>575.5813953488372</td></tr>\n",
       "<tr><td>Standard</td><td>425.0</td></tr>\n",
       "</table>\n"
      ],
      "text/plain": [
       "+---------+-----------------+\n",
       "|room_type| avg(total_price)|\n",
       "+---------+-----------------+\n",
       "|Executive|            750.0|\n",
       "|   Deluxe|575.5813953488372|\n",
       "| Standard|            425.0|\n",
       "+---------+-----------------+"
      ]
     },
     "execution_count": 32,
     "metadata": {},
     "output_type": "execute_result"
    }
   ],
   "source": [
    "spark.sql(\"\"\"SELECT room_type, avg(total_price) \n",
    "                FROM hotel_bookings\n",
    "                GROUP BY room_type\n",
    "                \"\"\")\n",
    "\n",
    "# 1.7 sec"
   ]
  },
  {
   "cell_type": "code",
   "execution_count": 33,
   "id": "78ec2f87",
   "metadata": {},
   "outputs": [
    {
     "data": {
      "text/html": [
       "<table border='1'>\n",
       "<tr><th></th></tr>\n",
       "</table>\n"
      ],
      "text/plain": [
       "++\n",
       "||\n",
       "++\n",
       "++"
      ]
     },
     "execution_count": 33,
     "metadata": {},
     "output_type": "execute_result"
    }
   ],
   "source": [
    "spark.sql(\"cache table hotel_bookings\")\n",
    "# 0.3 secs"
   ]
  },
  {
   "cell_type": "code",
   "execution_count": 34,
   "id": "42f5db62",
   "metadata": {},
   "outputs": [
    {
     "data": {
      "text/html": [
       "<table border='1'>\n",
       "<tr><th>count(1)</th></tr>\n",
       "<tr><td>107</td></tr>\n",
       "</table>\n"
      ],
      "text/plain": [
       "+--------+\n",
       "|count(1)|\n",
       "+--------+\n",
       "|     107|\n",
       "+--------+"
      ]
     },
     "execution_count": 34,
     "metadata": {},
     "output_type": "execute_result"
    }
   ],
   "source": [
    "spark.sql(\"\"\"SELECT count(1) FROM hotel_bookings\"\"\")\n",
    "# 48ms"
   ]
  },
  {
   "cell_type": "code",
   "execution_count": 35,
   "id": "c63b1b36",
   "metadata": {},
   "outputs": [
    {
     "data": {
      "text/html": [
       "<table border='1'>\n",
       "<tr><th>room_type</th><th>avg(total_price)</th></tr>\n",
       "<tr><td>Executive</td><td>750.0</td></tr>\n",
       "<tr><td>Deluxe</td><td>575.5813953488372</td></tr>\n",
       "<tr><td>Standard</td><td>425.0</td></tr>\n",
       "</table>\n"
      ],
      "text/plain": [
       "+---------+-----------------+\n",
       "|room_type| avg(total_price)|\n",
       "+---------+-----------------+\n",
       "|Executive|            750.0|\n",
       "|   Deluxe|575.5813953488372|\n",
       "| Standard|            425.0|\n",
       "+---------+-----------------+"
      ]
     },
     "execution_count": 35,
     "metadata": {},
     "output_type": "execute_result"
    }
   ],
   "source": [
    "spark.sql(\"\"\"SELECT room_type, avg(total_price) \n",
    "                FROM hotel_bookings\n",
    "                GROUP BY room_type\n",
    "                \"\"\")\n",
    "\n",
    "# 1.1 secs"
   ]
  },
  {
   "cell_type": "code",
   "execution_count": 36,
   "id": "7963d36b",
   "metadata": {},
   "outputs": [
    {
     "data": {
      "text/html": [
       "<table border='1'>\n",
       "<tr><th></th></tr>\n",
       "</table>\n"
      ],
      "text/plain": [
       "++\n",
       "||\n",
       "++\n",
       "++"
      ]
     },
     "execution_count": 36,
     "metadata": {},
     "output_type": "execute_result"
    }
   ],
   "source": [
    "spark.sql(\"uncache table hotel_bookings \")"
   ]
  },
  {
   "cell_type": "code",
   "execution_count": 37,
   "id": "b869a594",
   "metadata": {},
   "outputs": [],
   "source": [
    "spark.stop()"
   ]
  },
  {
   "cell_type": "code",
   "execution_count": null,
   "id": "869f93c5",
   "metadata": {},
   "outputs": [],
   "source": []
  }
 ],
 "metadata": {
  "kernelspec": {
   "display_name": "Pyspark 3",
   "language": "python",
   "name": "pyspark3"
  },
  "language_info": {
   "codemirror_mode": {
    "name": "ipython",
    "version": 3
   },
   "file_extension": ".py",
   "mimetype": "text/x-python",
   "name": "python",
   "nbconvert_exporter": "python",
   "pygments_lexer": "ipython3",
   "version": "3.6.12"
  }
 },
 "nbformat": 4,
 "nbformat_minor": 5
}
