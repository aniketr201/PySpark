{
 "cells": [
  {
   "cell_type": "markdown",
   "id": "c344bb5e",
   "metadata": {},
   "source": [
    "<H2 align = 'center'> Student Reviews: Word Count </H2>\n",
    "\n",
    "<H3> Given a text file containing student review for a course, write a program to count the number of words in the reviews. </H3>\n",
    "<ol> <li> Exclude Boring Words listed in /data/trendytech/boringwords.txt </li> \n",
    "     <li> Note that some words may appear in different case; treat them as the same </li>\n",
    "</ol>\n"
   ]
  },
  {
   "cell_type": "code",
   "execution_count": 1,
   "id": "cb9e8927",
   "metadata": {},
   "outputs": [],
   "source": [
    "from pyspark.sql import SparkSession"
   ]
  },
  {
   "cell_type": "code",
   "execution_count": 2,
   "id": "11d82a1b",
   "metadata": {},
   "outputs": [],
   "source": [
    "spark = SparkSession.builder.appName(\"RDDAssignment3\").getOrCreate()"
   ]
  },
  {
   "cell_type": "code",
   "execution_count": 3,
   "id": "cea5f6bc",
   "metadata": {},
   "outputs": [],
   "source": [
    "student_reviews = spark.sparkContext.textFile(\"/public/trendytech/reviews/trendytech-student-reviews.csv\")"
   ]
  },
  {
   "cell_type": "code",
   "execution_count": 38,
   "id": "903d751e",
   "metadata": {},
   "outputs": [],
   "source": [
    "student_review_all_words = student_reviews.flatMap(lambda x:x.split(\" \")).map(lambda x: x.lower())"
   ]
  },
  {
   "cell_type": "code",
   "execution_count": 39,
   "id": "3e00550e",
   "metadata": {},
   "outputs": [
    {
     "data": {
      "text/plain": [
       "['i',\n",
       " 'got',\n",
       " 'to',\n",
       " 'know',\n",
       " 'about',\n",
       " 'this',\n",
       " 'course',\n",
       " 'by',\n",
       " 'recommendation',\n",
       " 'from']"
      ]
     },
     "execution_count": 39,
     "metadata": {},
     "output_type": "execute_result"
    }
   ],
   "source": [
    "student_review_all_words.take(10)"
   ]
  },
  {
   "cell_type": "code",
   "execution_count": 40,
   "id": "f235f3d2",
   "metadata": {},
   "outputs": [
    {
     "data": {
      "text/plain": [
       "9014"
      ]
     },
     "execution_count": 40,
     "metadata": {},
     "output_type": "execute_result"
    }
   ],
   "source": [
    "student_review_all_words.count()"
   ]
  },
  {
   "cell_type": "code",
   "execution_count": 41,
   "id": "40d0f85c",
   "metadata": {},
   "outputs": [
    {
     "name": "stdout",
     "output_type": "stream",
     "text": [
      "put: `/user/itv012857/data/boringwords.txt': File exists\n"
     ]
    }
   ],
   "source": [
    "! hadoop fs -put /data/trendytech/boringwords.txt /user/itv012857/data/"
   ]
  },
  {
   "cell_type": "code",
   "execution_count": 42,
   "id": "fa0b3c08",
   "metadata": {},
   "outputs": [],
   "source": [
    "boringwords_rdd = spark.sparkContext.textFile(\"/user/itv012857/data/boringwords.txt\")"
   ]
  },
  {
   "cell_type": "code",
   "execution_count": 43,
   "id": "57525b97",
   "metadata": {},
   "outputs": [
    {
     "data": {
      "text/plain": [
       "10461"
      ]
     },
     "execution_count": 43,
     "metadata": {},
     "output_type": "execute_result"
    }
   ],
   "source": [
    "boringwords_rdd.count()"
   ]
  },
  {
   "cell_type": "code",
   "execution_count": 44,
   "id": "e7007f29",
   "metadata": {},
   "outputs": [],
   "source": [
    "boring_words_broadcast = spark.sparkContext.broadcast(boringwords_rdd.collect())"
   ]
  },
  {
   "cell_type": "code",
   "execution_count": 45,
   "id": "376d0d13",
   "metadata": {},
   "outputs": [
    {
     "data": {
      "text/plain": [
       "['shouldnt', 'worrying', 'simplify', 'tidy', 'shouldnt']"
      ]
     },
     "execution_count": 45,
     "metadata": {},
     "output_type": "execute_result"
    }
   ],
   "source": [
    "boring_words_broadcast.value[0:5]"
   ]
  },
  {
   "cell_type": "code",
   "execution_count": 46,
   "id": "8639b03a",
   "metadata": {},
   "outputs": [],
   "source": [
    "filtered_words = student_review_all_words.filter(lambda x: x not in boring_words_broadcast.value)"
   ]
  },
  {
   "cell_type": "code",
   "execution_count": 47,
   "id": "33582630",
   "metadata": {},
   "outputs": [
    {
     "data": {
      "text/plain": [
       "['lectures(content)', 'explored', 'mind.', 'sumit', 'passionate']"
      ]
     },
     "execution_count": 47,
     "metadata": {},
     "output_type": "execute_result"
    }
   ],
   "source": [
    "filtered_words.take(5)"
   ]
  },
  {
   "cell_type": "code",
   "execution_count": 48,
   "id": "c3414e39",
   "metadata": {},
   "outputs": [],
   "source": [
    "filtered_words_with_count = filtered_words.map(lambda x : (x,1))"
   ]
  },
  {
   "cell_type": "code",
   "execution_count": 49,
   "id": "d130b9a4",
   "metadata": {},
   "outputs": [
    {
     "data": {
      "text/plain": [
       "[('lectures(content)', 1),\n",
       " ('explored', 1),\n",
       " ('mind.', 1),\n",
       " ('sumit', 1),\n",
       " ('passionate', 1),\n",
       " ('data', 1),\n",
       " ('content.', 1),\n",
       " ('wonders', 1),\n",
       " ('.i', 1),\n",
       " ('data', 1)]"
      ]
     },
     "execution_count": 49,
     "metadata": {},
     "output_type": "execute_result"
    }
   ],
   "source": [
    "filtered_words_with_count.take(10)"
   ]
  },
  {
   "cell_type": "code",
   "execution_count": 50,
   "id": "029d1c9f",
   "metadata": {},
   "outputs": [],
   "source": [
    "word_count = filtered_words_with_count.reduceByKey(lambda x,y: x+y)"
   ]
  },
  {
   "cell_type": "code",
   "execution_count": 51,
   "id": "daf4ca81",
   "metadata": {},
   "outputs": [
    {
     "data": {
      "text/plain": [
       "[('lectures(content)', 1),\n",
       " ('explored', 1),\n",
       " ('sumit', 109),\n",
       " ('passionate', 6),\n",
       " ('wonders', 1),\n",
       " ('domain.', 12),\n",
       " ('benifitted', 1),\n",
       " ('career.', 7),\n",
       " ('', 64),\n",
       " ('trendytech', 67)]"
      ]
     },
     "execution_count": 51,
     "metadata": {},
     "output_type": "execute_result"
    }
   ],
   "source": [
    "word_count.take(10)"
   ]
  },
  {
   "cell_type": "code",
   "execution_count": 52,
   "id": "3c680f1f",
   "metadata": {},
   "outputs": [
    {
     "data": {
      "text/plain": [
       "[('data', 201),\n",
       " ('sumit', 109),\n",
       " ('trendytech', 67),\n",
       " ('', 64),\n",
       " ('data.', 34),\n",
       " ('course.', 33),\n",
       " (\"sir's\", 23),\n",
       " ('trendy', 14),\n",
       " ('course,', 13),\n",
       " (\"master's\", 13),\n",
       " ('domain.', 12),\n",
       " (\"trendytech's\", 12),\n",
       " ('sir.', 11),\n",
       " ('program.', 9),\n",
       " ('field.', 9),\n",
       " ('concepts.', 9),\n",
       " ('hands-on', 8),\n",
       " ('fresher', 8),\n",
       " ('amazing.', 8),\n",
       " ('career.', 7)]"
      ]
     },
     "execution_count": 52,
     "metadata": {},
     "output_type": "execute_result"
    }
   ],
   "source": [
    "word_count.sortBy(lambda x: x[1], ascending = False).take(20)"
   ]
  },
  {
   "cell_type": "code",
   "execution_count": null,
   "id": "3f4c0623",
   "metadata": {},
   "outputs": [],
   "source": []
  }
 ],
 "metadata": {
  "kernelspec": {
   "display_name": "Pyspark 3",
   "language": "python",
   "name": "pyspark3"
  },
  "language_info": {
   "codemirror_mode": {
    "name": "ipython",
    "version": 3
   },
   "file_extension": ".py",
   "mimetype": "text/x-python",
   "name": "python",
   "nbconvert_exporter": "python",
   "pygments_lexer": "ipython3",
   "version": "3.6.12"
  }
 },
 "nbformat": 4,
 "nbformat_minor": 5
}
