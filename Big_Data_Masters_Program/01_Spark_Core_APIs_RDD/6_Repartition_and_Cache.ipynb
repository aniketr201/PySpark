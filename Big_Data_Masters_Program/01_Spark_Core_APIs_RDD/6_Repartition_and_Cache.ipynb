{
 "cells": [
  {
   "cell_type": "code",
   "execution_count": 17,
   "id": "ba4a4ea2",
   "metadata": {},
   "outputs": [],
   "source": [
    "from pyspark.sql import SparkSession"
   ]
  },
  {
   "cell_type": "code",
   "execution_count": 18,
   "id": "e702db7a",
   "metadata": {},
   "outputs": [],
   "source": [
    "spark = SparkSession. \\\n",
    "builder. \\\n",
    "config(\"spark.ui.port\",\"0\"). \\\n",
    "config(\"spark.sql.warehouse.dir\", \"/user/itv012857/warehouse/\"). \\\n",
    "enableHiveSupport(). \\\n",
    "master(\"yarn\"). \\\n",
    "getOrCreate()"
   ]
  },
  {
   "cell_type": "code",
   "execution_count": 19,
   "id": "422fc8e2",
   "metadata": {},
   "outputs": [
    {
     "data": {
      "text/html": [
       "\n",
       "            <div>\n",
       "                <p><b>SparkSession - hive</b></p>\n",
       "                \n",
       "        <div>\n",
       "            <p><b>SparkContext</b></p>\n",
       "\n",
       "            <p><a href=\"http://g02.itversity.com:36711\">Spark UI</a></p>\n",
       "\n",
       "            <dl>\n",
       "              <dt>Version</dt>\n",
       "                <dd><code>v3.1.2</code></dd>\n",
       "              <dt>Master</dt>\n",
       "                <dd><code>yarn</code></dd>\n",
       "              <dt>AppName</dt>\n",
       "                <dd><code>pyspark-shell</code></dd>\n",
       "            </dl>\n",
       "        </div>\n",
       "        \n",
       "            </div>\n",
       "        "
      ],
      "text/plain": [
       "<pyspark.sql.session.SparkSession at 0x7f08d9fcbfd0>"
      ]
     },
     "execution_count": 19,
     "metadata": {},
     "output_type": "execute_result"
    }
   ],
   "source": [
    "spark"
   ]
  },
  {
   "cell_type": "code",
   "execution_count": 20,
   "id": "ef22c914",
   "metadata": {},
   "outputs": [],
   "source": [
    "orders_rdd = spark.sparkContext.textFile(\"/public/trendytech/orders/orders_1gb.csv\")"
   ]
  },
  {
   "cell_type": "code",
   "execution_count": 21,
   "id": "93a7f068",
   "metadata": {},
   "outputs": [
    {
     "data": {
      "text/plain": [
       "9"
      ]
     },
     "execution_count": 21,
     "metadata": {},
     "output_type": "execute_result"
    }
   ],
   "source": [
    "orders_rdd.getNumPartitions()"
   ]
  },
  {
   "cell_type": "code",
   "execution_count": 22,
   "id": "3919dfa0",
   "metadata": {},
   "outputs": [],
   "source": [
    "repartition_rdd = orders_rdd.repartition(15)"
   ]
  },
  {
   "cell_type": "code",
   "execution_count": 24,
   "id": "0a0c722e",
   "metadata": {},
   "outputs": [
    {
     "data": {
      "text/plain": [
       "15"
      ]
     },
     "execution_count": 24,
     "metadata": {},
     "output_type": "execute_result"
    }
   ],
   "source": [
    "repartition_rdd.getNumPartitions()"
   ]
  },
  {
   "cell_type": "code",
   "execution_count": 23,
   "id": "a7f7e1fc",
   "metadata": {},
   "outputs": [],
   "source": [
    "decrease_partition = orders_rdd.repartition(4)"
   ]
  },
  {
   "cell_type": "code",
   "execution_count": 25,
   "id": "dd5fbd54",
   "metadata": {},
   "outputs": [
    {
     "data": {
      "text/plain": [
       "4"
      ]
     },
     "execution_count": 25,
     "metadata": {},
     "output_type": "execute_result"
    }
   ],
   "source": [
    "decrease_partition.getNumPartitions()"
   ]
  },
  {
   "cell_type": "code",
   "execution_count": 26,
   "id": "79ed3aee",
   "metadata": {},
   "outputs": [
    {
     "data": {
      "text/plain": [
       "MapPartitionsRDD[11] at coalesce at NativeMethodAccessorImpl.java:0"
      ]
     },
     "execution_count": 26,
     "metadata": {},
     "output_type": "execute_result"
    }
   ],
   "source": [
    "decrease_partition.cache()"
   ]
  },
  {
   "cell_type": "code",
   "execution_count": 11,
   "id": "4590b2d2",
   "metadata": {},
   "outputs": [
    {
     "data": {
      "text/plain": [
       "['33204,2014-02-15 00:00:00.0,4512,CLOSED',\n",
       " '33205,2014-02-15 00:00:00.0,9436,PENDING_PAYMENT',\n",
       " '33206,2014-02-15 00:00:00.0,2351,COMPLETE',\n",
       " '33207,2014-02-15 00:00:00.0,6009,COMPLETE',\n",
       " '33208,2014-02-15 00:00:00.0,2595,COMPLETE',\n",
       " '33209,2014-02-15 00:00:00.0,913,PENDING_PAYMENT',\n",
       " '33210,2014-02-15 00:00:00.0,9204,CLOSED',\n",
       " '33211,2014-02-15 00:00:00.0,113,PENDING_PAYMENT',\n",
       " '33212,2014-02-15 00:00:00.0,7686,PENDING_PAYMENT',\n",
       " '33213,2014-02-15 00:00:00.0,8638,COMPLETE']"
      ]
     },
     "execution_count": 11,
     "metadata": {},
     "output_type": "execute_result"
    }
   ],
   "source": [
    "decrease_partition.take(10)\n",
    "# When an action is run on a cached partition for the first time the caching takes place.\n",
    "# This steps takes 13 secs"
   ]
  },
  {
   "cell_type": "code",
   "execution_count": 12,
   "id": "018e2c81",
   "metadata": {},
   "outputs": [
    {
     "data": {
      "text/plain": [
       "['33204,2014-02-15 00:00:00.0,4512,CLOSED',\n",
       " '33205,2014-02-15 00:00:00.0,9436,PENDING_PAYMENT',\n",
       " '33206,2014-02-15 00:00:00.0,2351,COMPLETE',\n",
       " '33207,2014-02-15 00:00:00.0,6009,COMPLETE',\n",
       " '33208,2014-02-15 00:00:00.0,2595,COMPLETE',\n",
       " '33209,2014-02-15 00:00:00.0,913,PENDING_PAYMENT',\n",
       " '33210,2014-02-15 00:00:00.0,9204,CLOSED',\n",
       " '33211,2014-02-15 00:00:00.0,113,PENDING_PAYMENT',\n",
       " '33212,2014-02-15 00:00:00.0,7686,PENDING_PAYMENT',\n",
       " '33213,2014-02-15 00:00:00.0,8638,COMPLETE']"
      ]
     },
     "execution_count": 12,
     "metadata": {},
     "output_type": "execute_result"
    }
   ],
   "source": [
    "decrease_partition.take(10)\n",
    "# Whereas when the same action is run the second time, the result is read directly from the cache.\n",
    "# Hence, this step take only 32 milliseconds."
   ]
  },
  {
   "cell_type": "code",
   "execution_count": 27,
   "id": "d38aedb7",
   "metadata": {},
   "outputs": [],
   "source": [
    "coalesce_increase = orders_rdd.coalesce(15)"
   ]
  },
  {
   "cell_type": "code",
   "execution_count": 28,
   "id": "d4bc9c39",
   "metadata": {},
   "outputs": [
    {
     "data": {
      "text/plain": [
       "9"
      ]
     },
     "execution_count": 28,
     "metadata": {},
     "output_type": "execute_result"
    }
   ],
   "source": [
    "coalesce_increase.getNumPartitions()\n",
    "# Coalesce cannot increase partitions"
   ]
  },
  {
   "cell_type": "code",
   "execution_count": 29,
   "id": "e85970ce",
   "metadata": {},
   "outputs": [],
   "source": [
    "coalesce_descrease = orders_rdd.coalesce(4)"
   ]
  },
  {
   "cell_type": "code",
   "execution_count": 30,
   "id": "f988d8aa",
   "metadata": {},
   "outputs": [
    {
     "data": {
      "text/plain": [
       "4"
      ]
     },
     "execution_count": 30,
     "metadata": {},
     "output_type": "execute_result"
    }
   ],
   "source": [
    "coalesce_descrease.getNumPartitions()\n",
    "# Coalesce can decrease the number of partitions by merging the partitions present on the same machine."
   ]
  },
  {
   "cell_type": "code",
   "execution_count": null,
   "id": "284fda6a",
   "metadata": {},
   "outputs": [],
   "source": [
    "spark.stop()"
   ]
  }
 ],
 "metadata": {
  "kernelspec": {
   "display_name": "Pyspark 3",
   "language": "python",
   "name": "pyspark3"
  },
  "language_info": {
   "codemirror_mode": {
    "name": "ipython",
    "version": 3
   },
   "file_extension": ".py",
   "mimetype": "text/x-python",
   "name": "python",
   "nbconvert_exporter": "python",
   "pygments_lexer": "ipython3",
   "version": "3.6.12"
  }
 },
 "nbformat": 4,
 "nbformat_minor": 5
}
