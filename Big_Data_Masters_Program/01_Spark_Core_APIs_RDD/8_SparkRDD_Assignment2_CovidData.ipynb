{
 "cells": [
  {
   "cell_type": "code",
   "execution_count": 1,
   "id": "e8c5641e",
   "metadata": {},
   "outputs": [],
   "source": [
    "from pyspark.sql import SparkSession"
   ]
  },
  {
   "cell_type": "code",
   "execution_count": 2,
   "id": "a571067c",
   "metadata": {},
   "outputs": [],
   "source": [
    "spark = SparkSession.builder.appName(\"RDDAssignment2\").getOrCreate()"
   ]
  },
  {
   "cell_type": "code",
   "execution_count": 3,
   "id": "80cd6b3e",
   "metadata": {},
   "outputs": [],
   "source": [
    "cases_rdd = spark.sparkContext.textFile(\"/public/trendytech/covid19/cases/covid_dataset_cases.csv\")"
   ]
  },
  {
   "cell_type": "markdown",
   "id": "37cbea4a",
   "metadata": {},
   "source": [
    "<H3> Cases Header: </H3>\n",
    "      date|state|positive|negative|pending|hospitalizedCurrently|hospitalizedCumulative|inIcuCurrently|inIcuCumulative|onVentilatorCurrently|onVentilatorCumulative|recovered|dataQualityGrade|lastUpdateEt|dateModified|checkTimeEt|death|hospitalized|dateChecked|totalTestsViral|positiveTestsViral|negativeTestsViral|positiveCasesViral|deathConfirmed|deathProbable|fips|positiveIncrease|negativeIncrease|total|totalTestResults|totalTestResultsIncrease|posNeg|deathIncrease|hospitalizedIncrease|hash|commercialScore|negativeRegularScore|negativeScore|positiveScore|score|grade"
   ]
  },
  {
   "cell_type": "code",
   "execution_count": 4,
   "id": "78cdb5d0",
   "metadata": {},
   "outputs": [],
   "source": [
    "states_rdd = spark.sparkContext.textFile(\"/public/trendytech/covid19/states/covid_dataset_states.csv\")"
   ]
  },
  {
   "cell_type": "markdown",
   "id": "6014384a",
   "metadata": {},
   "source": [
    "<H3> States Header:</H3>\n",
    "    \n",
    "    state|notes|covid19Site|covid19SiteSecondary|covid19SiteTertiary|twitter|covid19SiteOld|name|fips|pui|pum"
   ]
  },
  {
   "cell_type": "code",
   "execution_count": 5,
   "id": "0959ea2c",
   "metadata": {},
   "outputs": [
    {
     "data": {
      "text/plain": [
       "['20200122,AP,2,0,48,26,15,18,2,38,10,34,B,18,19/05/2022,23,24,29,34,19,45,5,44,42,49,53,0,0,2,2,0,2,0,0,8f8db794931706272489cddd51e917a4a69c8c9b,0,0,0,0,0',\n",
       " '20200123,AP,2,0,48,41,2,20,30,40,5,50,B,1,08/11/2022,14,7,33,36,14,18,36,37,45,8,53,0,0,2,2,0,2,0,0,e16af2a6a8f060355ff5ba499a28309a262c0b1e,0,0,0,0,0',\n",
       " '20200124,HP,2,0,16,14,5,29,43,22,11,11,D,31,17/05/2022,10,37,11,25,45,25,2,32,30,41,53,0,0,2,2,0,2,0,0,094154f68e74bfc30b977cdee888f9c07be4360e,0,0,0,0,0',\n",
       " '20200125,HP,2,0,10,13,41,50,26,19,34,8,D,40,07/10/2022,32,5,33,9,50,31,18,38,7,16,53,0,0,2,2,0,2,0,0,9b52ca94dd2a996822542ea5f17a7363e7ad91cf,0,0,0,0,0',\n",
       " '20200126,AS,2,0,15,43,23,45,20,46,15,30,D,31,28/12/2022,22,14,1,29,2,24,15,12,9,10,53,0,0,2,2,0,2,0,0,7acb526e14f20a29cc74a0b32a37328bc6eac6c2,0,0,0,0,0']"
      ]
     },
     "execution_count": 5,
     "metadata": {},
     "output_type": "execute_result"
    }
   ],
   "source": [
    "cases_rdd.take(5)"
   ]
  },
  {
   "cell_type": "code",
   "execution_count": 6,
   "id": "e49e865c",
   "metadata": {},
   "outputs": [
    {
     "data": {
      "text/plain": [
       "['HP,null,https://covid19.hp.gov.in/ ,https://covid-19archive.org/,https://www.azdhs.gov,@HPCovid,https://arcg.is/0brSGj,null,53,,',\n",
       " 'AS,null,https://covid19.hp.gov.in/ ,https://covid-19archive.org/,https://www.azdhs.gov,@ASCovid,null,null,6,null,null',\n",
       " 'HR,null,https://covid19.hp.gov.in/ ,https://covid-19archive.org/,https://www.azdhs.gov,@HRCovid,null,null,9,null,null',\n",
       " 'KA,null,https://covid19.hp.gov.in/ ,https://covid-19archive.org/,https://www.azdhs.gov,@KACovid,null,null,53,null,null',\n",
       " 'WA,null,https://covid19.hp.gov.in/ ,https://covid-19archive.org/,https://www.azdhs.gov,@WACovid,null,null,44,null,null']"
      ]
     },
     "execution_count": 6,
     "metadata": {},
     "output_type": "execute_result"
    }
   ],
   "source": [
    "states_rdd.take(5)"
   ]
  },
  {
   "cell_type": "markdown",
   "id": "30094ca0",
   "metadata": {},
   "source": [
    "<H3> 1. Top 10 States with Highest No. of Positive Cases"
   ]
  },
  {
   "cell_type": "code",
   "execution_count": 7,
   "id": "b0976a81",
   "metadata": {},
   "outputs": [],
   "source": [
    "statewise_positive_cases = cases_rdd.map(lambda x: (x.split(\",\")[1],int(x.split(\",\")[2])))"
   ]
  },
  {
   "cell_type": "code",
   "execution_count": 8,
   "id": "a0936e6e",
   "metadata": {},
   "outputs": [],
   "source": [
    "agg_pos_cases = statewise_positive_cases.reduceByKey(lambda x,y: x+y)"
   ]
  },
  {
   "cell_type": "code",
   "execution_count": 9,
   "id": "ee9b2bdc",
   "metadata": {},
   "outputs": [
    {
     "data": {
      "text/plain": [
       "[('WA', 1701),\n",
       " ('GA', 1017),\n",
       " ('MH', 730),\n",
       " ('MI', 61),\n",
       " ('CA', 53),\n",
       " ('GJ', 35),\n",
       " ('BR', 23),\n",
       " ('JH', 13),\n",
       " ('CG', 8),\n",
       " ('RI', 6)]"
      ]
     },
     "execution_count": 9,
     "metadata": {},
     "output_type": "execute_result"
    }
   ],
   "source": [
    "agg_pos_cases.sortBy(lambda x: x[1], ascending = False).take(10)"
   ]
  },
  {
   "cell_type": "markdown",
   "id": "b52cd3f7",
   "metadata": {},
   "source": [
    "### 2. Total count of people in ICU currently"
   ]
  },
  {
   "cell_type": "code",
   "execution_count": 10,
   "id": "c5ee1a30",
   "metadata": {},
   "outputs": [],
   "source": [
    "patient_in_icu = cases_rdd.map(lambda x: int(x.split(\",\")[7])).sum()"
   ]
  },
  {
   "cell_type": "code",
   "execution_count": 11,
   "id": "6e6c5f6c",
   "metadata": {},
   "outputs": [
    {
     "name": "stdout",
     "output_type": "stream",
     "text": [
      "Patient in ICU: 1344\n"
     ]
    }
   ],
   "source": [
    "print(\"Patient in ICU: {}\".format(patient_in_icu))"
   ]
  },
  {
   "cell_type": "markdown",
   "id": "3238921a",
   "metadata": {},
   "source": [
    "### 3. Top 15 States having maximum no. of recovered patients"
   ]
  },
  {
   "cell_type": "code",
   "execution_count": 12,
   "id": "13ecd27b",
   "metadata": {},
   "outputs": [],
   "source": [
    "statewise_recovered_patients = cases_rdd.map(lambda x: (x.split(\",\")[1],int(x.split(\",\")[11])))"
   ]
  },
  {
   "cell_type": "code",
   "execution_count": 13,
   "id": "c1ef36d5",
   "metadata": {},
   "outputs": [
    {
     "data": {
      "text/plain": [
       "[('WA', 451),\n",
       " ('MH', 165),\n",
       " ('MI', 101),\n",
       " ('GA', 87),\n",
       " ('AP', 84),\n",
       " ('RI', 72),\n",
       " ('BR', 68),\n",
       " ('JH', 50),\n",
       " ('KA', 43),\n",
       " ('AZ', 38),\n",
       " ('AS', 30),\n",
       " ('GJ', 27),\n",
       " ('CA', 23),\n",
       " ('HR', 20),\n",
       " ('HP', 19)]"
      ]
     },
     "execution_count": 13,
     "metadata": {},
     "output_type": "execute_result"
    }
   ],
   "source": [
    "statewise_recovered_patients.reduceByKey(lambda x,y: x+y). \\\n",
    "                                sortBy(lambda x: x[1],ascending = False). \\\n",
    "                                take(15)"
   ]
  },
  {
   "cell_type": "markdown",
   "id": "c77ccb5f",
   "metadata": {},
   "source": [
    "### 4. Three States with least no. of confirmed deaths"
   ]
  },
  {
   "cell_type": "code",
   "execution_count": 14,
   "id": "0a93e15a",
   "metadata": {},
   "outputs": [],
   "source": [
    "statewise_deaths = cases_rdd.map(lambda x: (x.split(\",\")[1],int(x.split(\",\")[23])))"
   ]
  },
  {
   "cell_type": "code",
   "execution_count": 15,
   "id": "e7360fc0",
   "metadata": {},
   "outputs": [
    {
     "data": {
      "text/plain": [
       "[('AS', 9), ('JH', 10), ('CG', 31)]"
      ]
     },
     "execution_count": 15,
     "metadata": {},
     "output_type": "execute_result"
    }
   ],
   "source": [
    "statewise_deaths.reduceByKey(lambda x,y: x+y).sortBy(lambda x: x[1], ascending = True).take(3)"
   ]
  },
  {
   "cell_type": "markdown",
   "id": "33ed298d",
   "metadata": {},
   "source": [
    "### 5. Total No. of people hospitalized currently"
   ]
  },
  {
   "cell_type": "code",
   "execution_count": 16,
   "id": "469748e1",
   "metadata": {},
   "outputs": [
    {
     "data": {
      "text/plain": [
       "1319"
      ]
     },
     "execution_count": 16,
     "metadata": {},
     "output_type": "execute_result"
    }
   ],
   "source": [
    "cases_rdd.map(lambda x: int(x.split(\",\")[5])).sum()"
   ]
  },
  {
   "cell_type": "markdown",
   "id": "85a288e8",
   "metadata": {},
   "source": [
    "### 6. Print the Twitter handle and fips code of the top 15 states with highest no. of total cases"
   ]
  },
  {
   "cell_type": "code",
   "execution_count": 17,
   "id": "280f6e4b",
   "metadata": {},
   "outputs": [],
   "source": [
    "statewise_total_patients = cases_rdd.map(lambda x: (x.split(\",\")[1],int(x.split(\",\")[28])))"
   ]
  },
  {
   "cell_type": "code",
   "execution_count": 20,
   "id": "54e6dc3c",
   "metadata": {},
   "outputs": [],
   "source": [
    "top15_by_total_count = statewise_total_patients.reduceByKey(lambda x,y: x+y). \\\n",
    "                          sortBy(lambda x: x[1],ascending = False)"
   ]
  },
  {
   "cell_type": "code",
   "execution_count": 32,
   "id": "84011bc0",
   "metadata": {},
   "outputs": [
    {
     "data": {
      "text/plain": [
       "[('WA', 2100),\n",
       " ('GA', 1034),\n",
       " ('MH', 730),\n",
       " ('CA', 515),\n",
       " ('MI', 61),\n",
       " ('GJ', 35),\n",
       " ('AZ', 34),\n",
       " ('BR', 23),\n",
       " ('RI', 16),\n",
       " ('JH', 13),\n",
       " ('CG', 8),\n",
       " ('KA', 5),\n",
       " ('AP', 4),\n",
       " ('HP', 4),\n",
       " ('AS', 2)]"
      ]
     },
     "execution_count": 32,
     "metadata": {},
     "output_type": "execute_result"
    }
   ],
   "source": [
    "top15_by_total_count.take(15)"
   ]
  },
  {
   "cell_type": "code",
   "execution_count": 33,
   "id": "f756cf36",
   "metadata": {},
   "outputs": [],
   "source": [
    "# Getting the twitter handle and fips code of states\n",
    "\n",
    "twitter_fips = states_rdd.map(lambda x: (x.split(\",\")[0],(x.split(\",\")[5],x.split(\",\")[8])))"
   ]
  },
  {
   "cell_type": "code",
   "execution_count": 34,
   "id": "db556ee0",
   "metadata": {},
   "outputs": [
    {
     "data": {
      "text/plain": [
       "[('HP', ('@HPCovid', '53')),\n",
       " ('AS', ('@ASCovid', '6')),\n",
       " ('HR', ('@HRCovid', '9')),\n",
       " ('KA', ('@KACovid', '53')),\n",
       " ('WA', ('@WACovid', '44')),\n",
       " ('CG', ('@CGCovid', '53')),\n",
       " ('BR', ('@BRCovid', '53')),\n",
       " ('JH', ('@JHCovid', '53')),\n",
       " ('GJ', ('@GJCovid', '44')),\n",
       " ('MH', ('@MHCovid', '26'))]"
      ]
     },
     "execution_count": 34,
     "metadata": {},
     "output_type": "execute_result"
    }
   ],
   "source": [
    "states_rdd.map(lambda x: (x.split(\",\")[0],(x.split(\",\")[5],x.split(\",\")[8]))).take(10)"
   ]
  },
  {
   "cell_type": "code",
   "execution_count": 36,
   "id": "1fd4dc54",
   "metadata": {},
   "outputs": [
    {
     "data": {
      "text/plain": [
       "[('WA', (2100, ('@WACovid', '44'))),\n",
       " ('GA', (1034, ('@GACovid', '44'))),\n",
       " ('MH', (730, ('@MHCovid', '26'))),\n",
       " ('CA', (515, ('@CACovid', '4'))),\n",
       " ('MI', (61, ('@MICovid', '53'))),\n",
       " ('GJ', (35, ('@GJCovid', '44'))),\n",
       " ('AZ', (34, ('@AZCovid', '53'))),\n",
       " ('BR', (23, ('@BRCovid', '53'))),\n",
       " ('RI', (16, ('@RICovid', '26'))),\n",
       " ('JH', (13, ('@JHCovid', '53'))),\n",
       " ('CG', (8, ('@CGCovid', '53'))),\n",
       " ('KA', (5, ('@KACovid', '53'))),\n",
       " ('HP', (4, ('@HPCovid', '53'))),\n",
       " ('AS', (2, ('@ASCovid', '6'))),\n",
       " ('HR', (2, ('@HRCovid', '9')))]"
      ]
     },
     "execution_count": 36,
     "metadata": {},
     "output_type": "execute_result"
    }
   ],
   "source": [
    "top15_by_total_count.join(twitter_fips).sortBy(lambda x: x[1][0], False).collect()"
   ]
  },
  {
   "cell_type": "code",
   "execution_count": null,
   "id": "839ca196",
   "metadata": {},
   "outputs": [],
   "source": []
  }
 ],
 "metadata": {
  "kernelspec": {
   "display_name": "Pyspark 3",
   "language": "python",
   "name": "pyspark3"
  },
  "language_info": {
   "codemirror_mode": {
    "name": "ipython",
    "version": 3
   },
   "file_extension": ".py",
   "mimetype": "text/x-python",
   "name": "python",
   "nbconvert_exporter": "python",
   "pygments_lexer": "ipython3",
   "version": "3.6.12"
  }
 },
 "nbformat": 4,
 "nbformat_minor": 5
}
